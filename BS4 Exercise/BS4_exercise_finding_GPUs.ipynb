{
  "nbformat": 4,
  "nbformat_minor": 0,
  "metadata": {
    "colab": {
      "name": "BS4 exercise finding GPUs.ipynb",
      "provenance": []
    },
    "kernelspec": {
      "name": "python3",
      "display_name": "Python 3"
    },
    "language_info": {
      "name": "python"
    }
  },
  "cells": [
    {
      "cell_type": "code",
      "execution_count": null,
      "metadata": {
        "colab": {
          "base_uri": "https://localhost:8080/"
        },
        "id": "45WFZdK16HaJ",
        "outputId": "8bd043f2-c9b1-43ef-df5d-5c3989bb0836"
      },
      "outputs": [
        {
          "output_type": "stream",
          "name": "stdout",
          "text": [
            "Requirement already satisfied: beautifulsoup4 in /usr/local/lib/python3.7/dist-packages (4.6.3)\n"
          ]
        }
      ],
      "source": [
        "pip install beautifulsoup4"
      ]
    },
    {
      "cell_type": "code",
      "source": [
        "from bs4 import BeautifulSoup"
      ],
      "metadata": {
        "id": "a643Gq0m6I-w"
      },
      "execution_count": 3,
      "outputs": []
    },
    {
      "cell_type": "code",
      "source": [
        "from google.colab import files\n",
        "uploaded = files.upload()"
      ],
      "metadata": {
        "colab": {
          "resources": {
            "http://localhost:8080/nbextensions/google.colab/files.js": {
              "data": "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",
              "ok": true,
              "headers": [
                [
                  "content-type",
                  "application/javascript"
                ]
              ],
              "status": 200,
              "status_text": ""
            }
          },
          "base_uri": "https://localhost:8080/",
          "height": 78
        },
        "id": "0pPZAsW46N_C",
        "outputId": "76f80c4f-babf-4a81-9d40-a9f540bbfea6"
      },
      "execution_count": null,
      "outputs": [
        {
          "output_type": "display_data",
          "data": {
            "text/html": [
              "\n",
              "     <input type=\"file\" id=\"files-e86960e4-bbcb-4fa0-b69b-4a2f7004af62\" name=\"files[]\" multiple disabled\n",
              "        style=\"border:none\" />\n",
              "     <output id=\"result-e86960e4-bbcb-4fa0-b69b-4a2f7004af62\">\n",
              "      Upload widget is only available when the cell has been executed in the\n",
              "      current browser session. Please rerun this cell to enable.\n",
              "      </output>\n",
              "      <script src=\"/nbextensions/google.colab/files.js\"></script> "
            ],
            "text/plain": [
              "<IPython.core.display.HTML object>"
            ]
          },
          "metadata": {}
        },
        {
          "output_type": "stream",
          "name": "stdout",
          "text": [
            "Saving index.html to index (1).html\n"
          ]
        }
      ]
    },
    {
      "cell_type": "code",
      "source": [
        "with open(\"index.html\", \"r\") as f:\n",
        "  doc = BeautifulSoup(f, \"html.parser\")"
      ],
      "metadata": {
        "id": "evNQSSDR6ntg"
      },
      "execution_count": null,
      "outputs": []
    },
    {
      "cell_type": "code",
      "source": [
        "print(doc.prettify())"
      ],
      "metadata": {
        "id": "lK35N1oFH9Ew"
      },
      "execution_count": null,
      "outputs": []
    },
    {
      "cell_type": "code",
      "source": [
        "tag = doc.title"
      ],
      "metadata": {
        "id": "XS-3y_ZGI0r6"
      },
      "execution_count": null,
      "outputs": []
    },
    {
      "cell_type": "code",
      "source": [
        "print(tag)"
      ],
      "metadata": {
        "colab": {
          "base_uri": "https://localhost:8080/"
        },
        "id": "dxUNuzIBJFHf",
        "outputId": "e4f8a650-9095-4b99-a655-a3628d224dad"
      },
      "execution_count": null,
      "outputs": [
        {
          "output_type": "stream",
          "name": "stdout",
          "text": [
            "<title>Your Title Here</title>\n"
          ]
        }
      ]
    },
    {
      "cell_type": "code",
      "source": [
        "print(tag.string)"
      ],
      "metadata": {
        "colab": {
          "base_uri": "https://localhost:8080/"
        },
        "id": "-zMox-RFJGAv",
        "outputId": "49f37c2e-43c4-4ff0-d8cf-7e0d25601986"
      },
      "execution_count": null,
      "outputs": [
        {
          "output_type": "stream",
          "name": "stdout",
          "text": [
            "Your Title Here\n"
          ]
        }
      ]
    },
    {
      "cell_type": "code",
      "source": [
        "tag.string = \"hello\"\n",
        "print(tag)\n",
        "print(doc)"
      ],
      "metadata": {
        "colab": {
          "base_uri": "https://localhost:8080/"
        },
        "id": "bIeEMiyEJI1C",
        "outputId": "8631fcc1-6d56-4109-f04c-4289379562c0"
      },
      "execution_count": null,
      "outputs": [
        {
          "output_type": "stream",
          "name": "stdout",
          "text": [
            "<title>hello</title>\n",
            "<html>\n",
            "<head>\n",
            "<title>hello</title>\n",
            "</head>\n",
            "<body bgcolor=\"FFFFFF\">\n",
            "<center><img align=\"BOTTOM\" src=\"clouds.jpg\"/> </center>\n",
            "<hr/>\n",
            "<a href=\"http://somegreatsite.com\">Link Name</a>\n",
            "\n",
            "is a link to another nifty site\n",
            "\n",
            "<h1>This is a Header</h1>\n",
            "<h2>This is a Medium Header</h2>\n",
            "\n",
            "Send me mail at <a href=\"mailto:support@yourcompany.com\">\n",
            "\n",
            "support@yourcompany.com</a>.\n",
            "\n",
            "<p> This is a new paragraph!\n",
            "\n",
            "<p> <b color=\"red\">This is a new paragraph!</b>\n",
            "<br/> <b><i>This is a new sentence without a paragraph break, in bold italics.</i></b>\n",
            "<hr/>\n",
            "</p></p></body>\n",
            "</html>\n",
            "\n"
          ]
        }
      ]
    },
    {
      "cell_type": "code",
      "source": [
        "tags = doc.find_all(\"p\")"
      ],
      "metadata": {
        "id": "wqHKieX6JMM2"
      },
      "execution_count": null,
      "outputs": []
    },
    {
      "cell_type": "code",
      "source": [
        "print(tags)"
      ],
      "metadata": {
        "colab": {
          "base_uri": "https://localhost:8080/"
        },
        "id": "fqMYm_OHJUTj",
        "outputId": "4e504842-2d82-4b8c-d0ec-5a7fc55f11cb"
      },
      "execution_count": null,
      "outputs": [
        {
          "output_type": "stream",
          "name": "stdout",
          "text": [
            "[<p> This is a new paragraph!\n",
            "\n",
            "<p> <b color=\"red\">This is a new paragraph!</b>\n",
            "<br/> <b><i>This is a new sentence without a paragraph break, in bold italics.</i></b>\n",
            "<hr/>\n",
            "</p></p>, <p> <b color=\"red\">This is a new paragraph!</b>\n",
            "<br/> <b><i>This is a new sentence without a paragraph break, in bold italics.</i></b>\n",
            "<hr/>\n",
            "</p>]\n"
          ]
        }
      ]
    },
    {
      "cell_type": "code",
      "source": [
        "tagzero = doc.find_all(\"p\")[0]"
      ],
      "metadata": {
        "id": "OJhQvlUPJVWy"
      },
      "execution_count": null,
      "outputs": []
    },
    {
      "cell_type": "code",
      "source": [
        "print(tagzero)"
      ],
      "metadata": {
        "colab": {
          "base_uri": "https://localhost:8080/"
        },
        "id": "klRRpLkNJeMc",
        "outputId": "2c1f78c8-34c6-4945-8f2e-b79c9320e6ff"
      },
      "execution_count": null,
      "outputs": [
        {
          "output_type": "stream",
          "name": "stdout",
          "text": [
            "<p> This is a new paragraph!\n",
            "\n",
            "<p> <b color=\"red\">This is a new paragraph!</b>\n",
            "<br/> <b><i>This is a new sentence without a paragraph break, in bold italics.</i></b>\n",
            "<hr/>\n",
            "</p></p>\n"
          ]
        }
      ]
    },
    {
      "cell_type": "code",
      "source": [
        "print(tagzero.find_all(\"b\"))"
      ],
      "metadata": {
        "colab": {
          "base_uri": "https://localhost:8080/"
        },
        "id": "bpEUYRFVJfLV",
        "outputId": "e7ba6335-b703-4482-f588-b120320202cc"
      },
      "execution_count": null,
      "outputs": [
        {
          "output_type": "stream",
          "name": "stdout",
          "text": [
            "[<b color=\"red\">This is a new paragraph!</b>, <b><i>This is a new sentence without a paragraph break, in bold italics.</i></b>]\n"
          ]
        }
      ]
    },
    {
      "cell_type": "code",
      "source": [
        "import requests"
      ],
      "metadata": {
        "id": "Y7912PhdJh6d"
      },
      "execution_count": 2,
      "outputs": []
    },
    {
      "cell_type": "code",
      "source": [
        "# # this url doesn't work anymore b/c of bot protection builtin\n",
        "# url = \"https://www.newegg.ca/gigabyte-geforce-rtx-3080-ti-gv-n308tgaming-oc-12gd/p/N82E16814932436?Description=3080&cm_re=3080-_-14-932-436-_-Product\"\n",
        "\n",
        "# result = requests.get(url)\n",
        "# doc = BeautifulSoup(result.text, \"html.parser\")\n",
        "# print(doc.prettify())\n",
        "\n",
        "## find price of gpu\n",
        "# prices = doc.find_all(text = \"$\")\n",
        "# print(prices)\n",
        "# parent = prices[0].parent\n",
        "# print(parent)\n",
        "# strong = parent.find(\"strong\")\n",
        "# print(strong)\n",
        "# print(strong.string)"
      ],
      "metadata": {
        "id": "YyV83E41JnAx"
      },
      "execution_count": null,
      "outputs": []
    },
    {
      "cell_type": "markdown",
      "source": [
        "### Searching and Filtering\n"
      ],
      "metadata": {
        "id": "9N-y3rYWKsYF"
      }
    },
    {
      "cell_type": "code",
      "source": [
        "from google.colab import files\n",
        "uploaded = files.upload()"
      ],
      "metadata": {
        "colab": {
          "resources": {
            "http://localhost:8080/nbextensions/google.colab/files.js": {
              "data": "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",
              "ok": true,
              "headers": [
                [
                  "content-type",
                  "application/javascript"
                ]
              ],
              "status": 200,
              "status_text": ""
            }
          },
          "base_uri": "https://localhost:8080/",
          "height": 78
        },
        "id": "y-k6xptlKvqA",
        "outputId": "72b5b649-17de-4085-ba5f-22cb1e857ffc"
      },
      "execution_count": 1,
      "outputs": [
        {
          "output_type": "display_data",
          "data": {
            "text/html": [
              "\n",
              "     <input type=\"file\" id=\"files-2de1d06f-a33d-4cb2-a65c-75024881f728\" name=\"files[]\" multiple disabled\n",
              "        style=\"border:none\" />\n",
              "     <output id=\"result-2de1d06f-a33d-4cb2-a65c-75024881f728\">\n",
              "      Upload widget is only available when the cell has been executed in the\n",
              "      current browser session. Please rerun this cell to enable.\n",
              "      </output>\n",
              "      <script src=\"/nbextensions/google.colab/files.js\"></script> "
            ],
            "text/plain": [
              "<IPython.core.display.HTML object>"
            ]
          },
          "metadata": {}
        },
        {
          "output_type": "stream",
          "name": "stdout",
          "text": [
            "Saving index2.html to index2.html\n"
          ]
        }
      ]
    },
    {
      "cell_type": "code",
      "source": [
        "with open(\"index2.html\", \"r\") as f:\n",
        "  doc = BeautifulSoup(f, \"html.parser\")\n",
        "\n"
      ],
      "metadata": {
        "id": "YlU6Z2qEK114"
      },
      "execution_count": 4,
      "outputs": []
    },
    {
      "cell_type": "code",
      "source": [
        "result = doc.find_all(\"option\")\n",
        "print(result)"
      ],
      "metadata": {
        "colab": {
          "base_uri": "https://localhost:8080/"
        },
        "id": "a_MkGaodK8Vf",
        "outputId": "19d80fe4-20b3-4144-bf8c-b97e067fc88d"
      },
      "execution_count": 5,
      "outputs": [
        {
          "output_type": "stream",
          "name": "stdout",
          "text": [
            "[<option selected=\"\" value=\"course-type\">Course type*</option>, <option value=\"short-courses\">Short courses</option>, <option value=\"featured-courses\">Featured courses</option>, <option value=\"undergraduate\">Undergraduate</option>, <option value=\"diploma\">Diploma</option>, <option value=\"certificate\">Certificate</option>, <option value=\"masters-degree\">Masters degree</option>, <option value=\"postgraduate\">Postgraduate</option>]\n"
          ]
        }
      ]
    },
    {
      "cell_type": "code",
      "source": [
        "# how to change selected, how to change value\n",
        "tag = doc.find(\"option\")\n",
        "# access like dictionary\n",
        "tag['value'] = 'new value'"
      ],
      "metadata": {
        "id": "loa0NRE4K-7p"
      },
      "execution_count": 6,
      "outputs": []
    },
    {
      "cell_type": "code",
      "source": [
        "print(tag)"
      ],
      "metadata": {
        "colab": {
          "base_uri": "https://localhost:8080/"
        },
        "id": "fqQhYxRlNRp-",
        "outputId": "30ed94ac-40a1-4e20-8237-4da3cd980af3"
      },
      "execution_count": 7,
      "outputs": [
        {
          "output_type": "stream",
          "name": "stdout",
          "text": [
            "<option selected=\"\" value=\"new value\">Course type*</option>\n"
          ]
        }
      ]
    },
    {
      "cell_type": "code",
      "source": [
        "tag['selected'] = 'false'"
      ],
      "metadata": {
        "id": "biIHMMajNYrA"
      },
      "execution_count": 8,
      "outputs": []
    },
    {
      "cell_type": "code",
      "source": [
        "# add attributes\n",
        "tag['color'] = 'blue'\n",
        "# if we save the html document, it would aactually modify the doc"
      ],
      "metadata": {
        "id": "hmZO16yjNejE"
      },
      "execution_count": 9,
      "outputs": []
    },
    {
      "cell_type": "code",
      "source": [
        "print(tag)"
      ],
      "metadata": {
        "colab": {
          "base_uri": "https://localhost:8080/"
        },
        "id": "WhSs3ZA9NnFx",
        "outputId": "5351b633-8f6d-4b80-c5d5-22689de3d768"
      },
      "execution_count": 10,
      "outputs": [
        {
          "output_type": "stream",
          "name": "stdout",
          "text": [
            "<option color=\"blue\" selected=\"false\" value=\"new value\">Course type*</option>\n"
          ]
        }
      ]
    },
    {
      "cell_type": "code",
      "source": [
        "# if want to see what attributes are\n",
        "print(tag.attrs)"
      ],
      "metadata": {
        "colab": {
          "base_uri": "https://localhost:8080/"
        },
        "id": "RH32UPbUNn7M",
        "outputId": "ad2003a6-3cfb-4d8f-9c87-aaa65f38061a"
      },
      "execution_count": 11,
      "outputs": [
        {
          "output_type": "stream",
          "name": "stdout",
          "text": [
            "{'value': 'new value', 'selected': 'false', 'color': 'blue'}\n"
          ]
        }
      ]
    },
    {
      "cell_type": "code",
      "source": [
        "# search for multiple tag names at same time\n",
        "tags = doc.find_all([\"p\", \"div\", \"li\"])"
      ],
      "metadata": {
        "id": "gB4gJU09NrI6"
      },
      "execution_count": 12,
      "outputs": []
    },
    {
      "cell_type": "code",
      "source": [
        "print(tags)"
      ],
      "metadata": {
        "id": "WUXzI-MLN2Nz"
      },
      "execution_count": null,
      "outputs": []
    },
    {
      "cell_type": "code",
      "source": [
        "# can search for combination of things at same time\n",
        "# search for option tag and any tag that has Undergraduate as text for it\n",
        "tags = doc.find_all([\"option\"], text = \"Undergraduate\")\n",
        "print(tags)"
      ],
      "metadata": {
        "colab": {
          "base_uri": "https://localhost:8080/"
        },
        "id": "wve-MaoIN240",
        "outputId": "30c4fcab-3d58-4044-c9bd-0e636ea50c80"
      },
      "execution_count": 14,
      "outputs": [
        {
          "output_type": "stream",
          "name": "stdout",
          "text": [
            "[<option value=\"undergraduate\">Undergraduate</option>]\n"
          ]
        }
      ]
    },
    {
      "cell_type": "code",
      "source": [
        "# specific values\n",
        "tags = doc.find_all([\"option\"], text = \"Undergraduate\", value = \"undergraduate\")\n",
        "print(tags)\n",
        "#tags = doc.find_all([\"option\"], text = \"Undergraduate\", value = \"undergraduat\")\n",
        "# wouldn't work b/c value doesn't match"
      ],
      "metadata": {
        "colab": {
          "base_uri": "https://localhost:8080/"
        },
        "id": "VOdLLmENONrQ",
        "outputId": "cc93d3e6-ff14-4a8a-88b0-24d15eab9870"
      },
      "execution_count": 15,
      "outputs": [
        {
          "output_type": "stream",
          "name": "stdout",
          "text": [
            "[<option value=\"undergraduate\">Undergraduate</option>]\n"
          ]
        }
      ]
    },
    {
      "cell_type": "markdown",
      "source": [
        "Search for Class Name\n"
      ],
      "metadata": {
        "id": "f8wMMd8IoUFF"
      }
    },
    {
      "cell_type": "code",
      "source": [
        "# would think\n",
        "# #tags = doc.find_all([\"option\"], text = \"Undergraduate\", value = \"undergraduate\", class = \"\")\n",
        "# but class is reserved word in python\n",
        "# instead of class, use class_ = \"\"\n",
        "tags = doc.find_all(class_ = \"btn-item\")\n",
        "print(tags)"
      ],
      "metadata": {
        "id": "KsYE1yh_ORyJ",
        "colab": {
          "base_uri": "https://localhost:8080/"
        },
        "outputId": "2b325e2c-5893-4f52-cc05-1bff2a7776d2"
      },
      "execution_count": 16,
      "outputs": [
        {
          "output_type": "stream",
          "name": "stdout",
          "text": [
            "[<a class=\"btn-item\" href=\"https://www.w3docs.com/learn-html.html\">Learn HTML</a>, <a class=\"btn-item\" href=\"https://www.w3docs.com/quiz/#\">Select Quiz</a>]\n"
          ]
        }
      ]
    },
    {
      "cell_type": "markdown",
      "source": [
        "Use regular expression re"
      ],
      "metadata": {
        "id": "UE4AV0xAonR7"
      }
    },
    {
      "cell_type": "code",
      "source": [
        "import re"
      ],
      "metadata": {
        "id": "htxtLBYWomEL"
      },
      "execution_count": 17,
      "outputs": []
    },
    {
      "cell_type": "code",
      "source": [
        "# use regex that will give all text left or right of $\n",
        "# use re.compile to use regex\n",
        "tags = doc.find_all(text = re.compile(\"\\$.*\"))\n",
        "for tag in tags:\n",
        "  print(tag.strip())"
      ],
      "metadata": {
        "colab": {
          "base_uri": "https://localhost:8080/"
        },
        "id": "ikS9a0m8opuF",
        "outputId": "986de591-8051-41f0-a45a-3d946adac54a"
      },
      "execution_count": 19,
      "outputs": [
        {
          "output_type": "stream",
          "name": "stdout",
          "text": [
            "$2345\n",
            "$123\n"
          ]
        }
      ]
    },
    {
      "cell_type": "markdown",
      "source": [
        "Find limit\n",
        "\n",
        "limit the number of results "
      ],
      "metadata": {
        "id": "bunaUzX4qlyp"
      }
    },
    {
      "cell_type": "code",
      "source": [
        "# first n results\n",
        "tags = doc.find_all(text = re.compile(\"\\$.*\"), limit = 1)\n",
        "for tag in tags:\n",
        "  print(tag.strip())"
      ],
      "metadata": {
        "colab": {
          "base_uri": "https://localhost:8080/"
        },
        "id": "-XfRKfyDqauw",
        "outputId": "f2f4f1bc-aeba-46f6-e658-3709c275ec01"
      },
      "execution_count": 20,
      "outputs": [
        {
          "output_type": "stream",
          "name": "stdout",
          "text": [
            "$2345\n"
          ]
        }
      ]
    },
    {
      "cell_type": "markdown",
      "source": [
        "Save modifications to document"
      ],
      "metadata": {
        "id": "BPI14oxSqwtc"
      }
    },
    {
      "cell_type": "code",
      "source": [
        "# find all input tags that have type = text\n",
        "tags = doc.find_all(\"input\", type = \"text\")\n",
        "for tag in tags:\n",
        "  tag['placeholder'] = \"I changed you!\"\n",
        "\n",
        "# now save modifications to new file\n",
        "with open(\"changed.html\", \"w\") as file:\n",
        "  # str(doc), when take str() of doc, it gives you all the html\n",
        "  # and write that into the file\n",
        "  file.write(str(doc))"
      ],
      "metadata": {
        "id": "_HIGXfC-qvr8"
      },
      "execution_count": 21,
      "outputs": []
    },
    {
      "cell_type": "markdown",
      "source": [
        "### Navigating the HTML Tree\n",
        "\n",
        "- crypto name and price"
      ],
      "metadata": {
        "id": "HqLxJugjrkbd"
      }
    },
    {
      "cell_type": "code",
      "source": [
        "# coinmarketcap.com\n",
        "import requests\n",
        "url = \"https://coinmarketcap.com/\"\n",
        "result = requests.get(url).text\n",
        "doc = BeautifulSoup(result, \"html.parser\")\n",
        "\n",
        "#look for tbody tag\n",
        "tbody = doc.tbody\n",
        "print(tbody)"
      ],
      "metadata": {
        "id": "x7994I5MrYpj"
      },
      "execution_count": null,
      "outputs": []
    },
    {
      "cell_type": "markdown",
      "source": [
        "Navigate by looking at same level on the tree\n",
        "* look at siblings of same level, sibling to sibling"
      ],
      "metadata": {
        "id": "j_p7_lcasKSp"
      }
    },
    {
      "cell_type": "code",
      "source": [
        "# gives list of all tags inside of tbody, giving all trs\n",
        "trs = tbody.contents\n",
        "print(trs)"
      ],
      "metadata": {
        "id": "h_dQSFogsGsc"
      },
      "execution_count": null,
      "outputs": []
    },
    {
      "cell_type": "code",
      "source": [
        "print(trs[0])"
      ],
      "metadata": {
        "id": "oFb5BgUWsdDd"
      },
      "execution_count": null,
      "outputs": []
    },
    {
      "cell_type": "code",
      "source": [
        "print(trs[0].next_sibling)"
      ],
      "metadata": {
        "id": "vZmOL1QhsfVR"
      },
      "execution_count": null,
      "outputs": []
    },
    {
      "cell_type": "code",
      "source": [
        "print(trs[1].previous_sibling)"
      ],
      "metadata": {
        "id": "AQ48TSRXsher"
      },
      "execution_count": null,
      "outputs": []
    },
    {
      "cell_type": "code",
      "source": [
        "# gives generator object\n",
        "print(trs[0].next_siblings)"
      ],
      "metadata": {
        "id": "-nsd9yzJsomI"
      },
      "execution_count": null,
      "outputs": []
    },
    {
      "cell_type": "code",
      "source": [
        "print(list(trs[0].next_siblings))"
      ],
      "metadata": {
        "id": "Nt4GSek3svc0"
      },
      "execution_count": null,
      "outputs": []
    },
    {
      "cell_type": "markdown",
      "source": [
        "Tree Parents and descendants"
      ],
      "metadata": {
        "id": "o40CXdv4s7d_"
      }
    },
    {
      "cell_type": "code",
      "source": [
        "# returns tbody tag\n",
        "print(trs[0].parent)\n",
        "print(trs[0].parent.name)"
      ],
      "metadata": {
        "id": "NTRC-K51s1nw"
      },
      "execution_count": null,
      "outputs": []
    },
    {
      "cell_type": "code",
      "source": [
        "# descendants returns everything after or inside of tag\n",
        "# returns all table data\n",
        "# descendents give you everything, even \n",
        "print(list(trs[0].descendants))\n",
        "# print(list(trs[0].content)) \n",
        "# print(list(trs[0].children))\n",
        "# children will only give tags inside of tr tag"
      ],
      "metadata": {
        "id": "u7VAOHgztAhR"
      },
      "execution_count": null,
      "outputs": []
    },
    {
      "cell_type": "code",
      "source": [
        "print(list(trs[0].children))"
      ],
      "metadata": {
        "id": "ASDEP0mYtLac"
      },
      "execution_count": null,
      "outputs": []
    },
    {
      "cell_type": "markdown",
      "source": [
        "Traversing different levels, finding crypto prices"
      ],
      "metadata": {
        "id": "haFgWCrMtrmr"
      }
    },
    {
      "cell_type": "code",
      "source": [
        "tbody = doc.tbody\n",
        "trs = tbody.contents\n",
        "\n",
        "# loop through all trs\n",
        "prices = {}\n",
        "\n",
        "for tr in trs:\n",
        "  # look through td in tr\n",
        "  # [2:4] returns name and price, 2nd and 3rd piece of info\n",
        "  for td in tr.contents[2:4]:\n",
        "    print(td)\n",
        "    print()"
      ],
      "metadata": {
        "id": "OPnWEdsjtitS"
      },
      "execution_count": null,
      "outputs": []
    },
    {
      "cell_type": "code",
      "source": [
        "for tr in trs:\n",
        "  # look through td in tr\n",
        "  # [2:4] returns name and price, 2nd and 3rd piece of info\n",
        "  name, price = tr.contents[2:4]\n",
        "  print(name)\n",
        "  print()"
      ],
      "metadata": {
        "id": "zRFAnhL_t-CI"
      },
      "execution_count": null,
      "outputs": []
    },
    {
      "cell_type": "code",
      "source": [
        "for tr in trs:\n",
        "  # look through td in tr\n",
        "  # [2:4] returns name and price, 2nd and 3rd piece of info\n",
        "  name, price = tr.contents[2:4]\n",
        "  print(name.p)\n",
        "  print()"
      ],
      "metadata": {
        "id": "om0SySlFujtc"
      },
      "execution_count": null,
      "outputs": []
    },
    {
      "cell_type": "code",
      "source": [
        "# look for top 10 coins\n",
        "# after 10 is nonetype so will return error\n",
        "for tr in trs[:10]:\n",
        "  # look through td in tr\n",
        "  # [2:4] returns name and price, 2nd and 3rd piece of info\n",
        "  name, price = tr.contents[2:4]\n",
        "  print(name.p.string)\n",
        "  print()"
      ],
      "metadata": {
        "colab": {
          "base_uri": "https://localhost:8080/"
        },
        "id": "_DTW1RCcuxHF",
        "outputId": "f0bb338c-480c-4337-8993-6bdc5ddf870b"
      },
      "execution_count": 42,
      "outputs": [
        {
          "output_type": "stream",
          "name": "stdout",
          "text": [
            "Bitcoin\n",
            "\n",
            "Ethereum\n",
            "\n",
            "Tether\n",
            "\n",
            "BNB\n",
            "\n",
            "USD Coin\n",
            "\n",
            "Terra\n",
            "\n",
            "XRP\n",
            "\n",
            "Cardano\n",
            "\n",
            "Solana\n",
            "\n",
            "Avalanche\n",
            "\n"
          ]
        }
      ]
    },
    {
      "cell_type": "code",
      "source": [
        "for tr in trs[:10]:\n",
        "  # look through td in tr\n",
        "  # [2:4] returns name and price, 2nd and 3rd piece of info\n",
        "  name, price = tr.contents[2:4]\n",
        "  fixed_name = name.p.string\n",
        "  # price seems to be in a tag\n",
        "  print(price)"
      ],
      "metadata": {
        "colab": {
          "base_uri": "https://localhost:8080/"
        },
        "id": "C3dci0D2u2V9",
        "outputId": "b14d6fab-73ac-471f-d6ef-a3c6cce4a115"
      },
      "execution_count": 43,
      "outputs": [
        {
          "output_type": "stream",
          "name": "stdout",
          "text": [
            "<td><div class=\"sc-131di3y-0 cLgOOr\"><a class=\"cmc-link\" href=\"/currencies/bitcoin/markets/\"><span>$38,864.06</span></a></div></td>\n",
            "<td><div class=\"sc-131di3y-0 cLgOOr\"><a class=\"cmc-link\" href=\"/currencies/ethereum/markets/\"><span>$2,573.93</span></a></div></td>\n",
            "<td><div class=\"sc-131di3y-0 cLgOOr\"><a class=\"cmc-link\" href=\"/currencies/tether/markets/\"><span>$1.00</span></a></div></td>\n",
            "<td><div class=\"sc-131di3y-0 cLgOOr\"><a class=\"cmc-link\" href=\"/currencies/bnb/markets/\"><span>$368.52</span></a></div></td>\n",
            "<td><div class=\"sc-131di3y-0 cLgOOr\"><a class=\"cmc-link\" href=\"/currencies/usd-coin/markets/\"><span>$0.9999</span></a></div></td>\n",
            "<td><div class=\"sc-131di3y-0 cLgOOr\"><a class=\"cmc-link\" href=\"/currencies/terra-luna/markets/\"><span>$99.24</span></a></div></td>\n",
            "<td><div class=\"sc-131di3y-0 cLgOOr\"><a class=\"cmc-link\" href=\"/currencies/xrp/markets/\"><span>$0.7321</span></a></div></td>\n",
            "<td><div class=\"sc-131di3y-0 cLgOOr\"><a class=\"cmc-link\" href=\"/currencies/cardano/markets/\"><span>$0.7969</span></a></div></td>\n",
            "<td><div class=\"sc-131di3y-0 cLgOOr\"><a class=\"cmc-link\" href=\"/currencies/solana/markets/\"><span>$81.87</span></a></div></td>\n",
            "<td><div class=\"sc-131di3y-0 cLgOOr\"><a class=\"cmc-link\" href=\"/currencies/avalanche/markets/\"><span>$73.70</span></a></div></td>\n"
          ]
        }
      ]
    },
    {
      "cell_type": "code",
      "source": [
        "for tr in trs[:10]:\n",
        "  # look through td in tr\n",
        "  # [2:4] returns name and price, 2nd and 3rd piece of info\n",
        "  name, price = tr.contents[2:4]\n",
        "  fixed_name = name.p.string\n",
        "  # price seems to be in a tag\n",
        "  print(price.a.string)"
      ],
      "metadata": {
        "colab": {
          "base_uri": "https://localhost:8080/"
        },
        "id": "3nStLhJOvMPo",
        "outputId": "4ab6ef62-6a6e-40f4-e405-8f7692d9b238"
      },
      "execution_count": 44,
      "outputs": [
        {
          "output_type": "stream",
          "name": "stdout",
          "text": [
            "$38,864.06\n",
            "$2,573.93\n",
            "$1.00\n",
            "$368.52\n",
            "$0.9999\n",
            "$99.24\n",
            "$0.7321\n",
            "$0.7969\n",
            "$81.87\n",
            "$73.70\n"
          ]
        }
      ]
    },
    {
      "cell_type": "code",
      "source": [
        "for tr in trs[:10]:\n",
        "  # look through td in tr\n",
        "  # [2:4] returns name and price, 2nd and 3rd piece of info\n",
        "  name, price = tr.contents[2:4]\n",
        "  fixed_name = name.p.string\n",
        "  # price seems to be in a tag\n",
        "  fixed_price = price.a.string\n",
        "\n",
        "  prices[fixed_name] = fixed_price\n",
        "\n",
        "print(prices)"
      ],
      "metadata": {
        "colab": {
          "base_uri": "https://localhost:8080/"
        },
        "id": "YQSnbZJsvSeb",
        "outputId": "0d2b638e-baf7-44d2-862d-3212b05886b2"
      },
      "execution_count": 45,
      "outputs": [
        {
          "output_type": "stream",
          "name": "stdout",
          "text": [
            "{'Bitcoin': '$38,864.06', 'Ethereum': '$2,573.93', 'Tether': '$1.00', 'BNB': '$368.52', 'USD Coin': '$0.9999', 'Terra': '$99.24', 'XRP': '$0.7321', 'Cardano': '$0.7969', 'Solana': '$81.87', 'Avalanche': '$73.70'}\n"
          ]
        }
      ]
    },
    {
      "cell_type": "markdown",
      "source": [
        "If we want to apply to all other trs, \n",
        "* find what happens after 10\n",
        "* find rest in a different way?\n",
        "* different strategy that doesn't just look for the p tag and look for specific amount of text or a $"
      ],
      "metadata": {
        "id": "Q-1xOGUKvpfE"
      }
    },
    {
      "cell_type": "code",
      "source": [
        "# fix for nonetype after 10\n",
        "\n",
        "for tr in trs:\n",
        "  name, price = tr.contents[2:4]\n",
        "  if name.p is None:\n",
        "    pass\n",
        "  else:\n",
        "    fixed_name = name.p.string\n",
        "\n",
        "  if price.a is None:\n",
        "    pass\n",
        "  else:\n",
        "    fixed_price = price.a.string\n",
        "  \n",
        "  prices[fixed_name] = fixed_price\n",
        "\n",
        "print(prices)"
      ],
      "metadata": {
        "colab": {
          "base_uri": "https://localhost:8080/"
        },
        "id": "FlGs5AyuvZBO",
        "outputId": "4fb98c93-fbd4-4149-973f-ce213b8b2644"
      },
      "execution_count": 61,
      "outputs": [
        {
          "output_type": "stream",
          "name": "stdout",
          "text": [
            "{'Bitcoin': '$38,864.06', 'Ethereum': '$2,573.93', 'Tether': '$1.00', 'BNB': '$368.52', 'USD Coin': '$0.9999', 'Terra': '$99.24', 'XRP': '$0.7321', 'Cardano': '$0.7969', 'Solana': '$81.87', 'Avalanche': '$73.70'}\n"
          ]
        }
      ]
    },
    {
      "cell_type": "markdown",
      "source": [
        "### Finding GPU prices from multiple websites"
      ],
      "metadata": {
        "id": "7PZ77OM-zOdZ"
      }
    },
    {
      "cell_type": "code",
      "source": [
        "from bs4 import BeautifulSoup\n",
        "import requests\n",
        "import re\n",
        "\n",
        "#user inputs what product they want to search for\n",
        "search_term = input(\"What product(GPU) do you want to search for? \")\n",
        "\n",
        "# d = search, N = 4131 means available in stock\n",
        "url = f\"https://www.newegg.ca/p/pl?d={search_term}&N=4131\"\n",
        "page = requests.get(url).text\n",
        "doc = BeautifulSoup(page, \"html.parser\")\n",
        "page_text = doc.find(class_ = \"list-tool-pagination-text\").strong\n",
        "pages = int(str(page_text).split(\"/\")[-2].split(\">\")[-1][:-1])\n",
        "print(pages)\n"
      ],
      "metadata": {
        "colab": {
          "base_uri": "https://localhost:8080/"
        },
        "id": "z1-6HifKwehQ",
        "outputId": "e2686b3a-6c50-476b-8e76-db6ac7153cbc"
      },
      "execution_count": 67,
      "outputs": [
        {
          "output_type": "stream",
          "name": "stdout",
          "text": [
            "What product(GPU) do you want to search for? 3070\n",
            "7\n"
          ]
        }
      ]
    },
    {
      "cell_type": "markdown",
      "source": [
        "How many pages do we have?\n",
        "* want to look on all of the pages\n",
        "* find text on the bottom, find number and loop through all pages\n",
        "* span class = \"list-tool-pagination-text\"\n",
        "* strong\n",
        "* turn doc.find(class_ = \"list-tool-pagination-text\").strong into a string\n",
        "* split string at / and get 2nd last element\n",
        "  * returns '<!-- -->4<'\n",
        "  * don't know if page number is more than 1 digit or not\n",
        "  * can't just grab index, need to split string again at '>', and remove very last character"
      ],
      "metadata": {
        "id": "V_6BWiCo30KC"
      }
    },
    {
      "cell_type": "markdown",
      "source": [
        "Now that we have the pages, "
      ],
      "metadata": {
        "id": "DwG5MVWq5Vvi"
      }
    },
    {
      "cell_type": "code",
      "source": [
        "items_found = {}\n",
        "# don't want to start at page 0 in a for loop and range(n) it starts at 0\n",
        "# start at 1 and go up to last page b/c last number is exclusive\n",
        "for page in range(1, pages + 1):\n",
        "  # send another request by adding page={page}\n",
        "  url = f\"https://www.newegg.ca/p/pl?d={search_term}&N=4131&page={page}\"\n",
        "  page = requests.get(url).text \n",
        "  doc = BeautifulSoup(page, \"html.parser\")\n",
        "  div = doc.find(class_ = \"item-cells-wrap border-cells items-grid-view four-cells expulsion-one-cell\")\n",
        "  #grab every single item that says input(text)\n",
        "  # change from doc.find_all to div.find_all, so that we're searching within the div and not the doc\n",
        "  # getting more concentrated/filtered results\n",
        "  items = div.find_all(text = re.compile(search_term))\n",
        "  for item in items:\n",
        "    # what we want to grab is the href\n",
        "    parent = item.parent\n",
        "    link = None\n",
        "    if parent.name != \"a\":\n",
        "      continue\n",
        "\n",
        "    link = parent['href']\n",
        "    next_parent = item.find_parent(class_ = \"item-container\")\n",
        "    try:\n",
        "      price = next_parent.find(class_ = \"price-current\").find(\"strong\").string\n",
        "      items_found[item] = {\"price\": int(price.replace(\",\", \"\")), \"link\": link}\n",
        "    except:\n",
        "      pass\n",
        "  \n",
        "# .items() returns a tuple that has keys and then the value\n",
        "# sort with following function lambda x: x[1]['price']\n",
        "# create all tuples that contain key and value, value being the dict having price and link inside\n",
        "# passing function that we want to sort this\n",
        "# x will be all of these items, x[1] gives 2nd item which will be the dictionary, access the price\n",
        "sorted_items = sorted(items_found.items(), key = lambda x: x[1]['price'])\n",
        "\n",
        "# loop through sorted_items and print them out\n",
        "for item in sorted_items:\n",
        "  # name, the key\n",
        "  print(item[0])\n",
        "  # returns price, returns link\n",
        "  print(f\"${item[1]['price']}\")\n",
        "  print(item[1]['link'])\n",
        "  print('------------------------------------------')"
      ],
      "metadata": {
        "colab": {
          "base_uri": "https://localhost:8080/"
        },
        "id": "GzSul3_s3z0J",
        "outputId": "b708334d-c522-42b6-a76b-db18caf9fb35"
      },
      "execution_count": 70,
      "outputs": [
        {
          "output_type": "stream",
          "name": "stdout",
          "text": [
            "ASUS TUF Gaming GeForce RTX 3070 Ti 8GB GDDR6X PCI Express 4.0 Video Card TUF-RTX3070TI-O8G-GAMING\n",
            "$1149\n",
            "https://www.newegg.ca/asus-geforce-rtx-3070-ti-tuf-rtx3070ti-o8g-gaming/p/N82E16814126512?Description=3070&cm_re=3070-_-14-126-512-_-Product\n",
            "------------------------------------------\n",
            "MSI Gaming GeForce RTX 3070 8GB GDRR6 Graphics Card, Black\n",
            "$1184\n",
            "https://www.newegg.ca/msi-nvidia-geforce-rtx-3070-ti/p/1FT-0009-008S2?Description=3070&cm_re=3070-_-9SIAPBWH669622-_-Product\n",
            "------------------------------------------\n",
            "GIGABYTE Gaming OC GeForce RTX 3070 8GB GDDR6 PCI Express 4.0 ATX Video Card GV-N3070GAMING OC-8GD (rev. 2.0) (LHR) and GIGABYTE B550 GAMING X AM4 AMD B550 ATX Motherboard with Dual M.2 SATA 6Gb/s USB 3.2 Gen 2 PCIe 4.0\n",
            "$1194\n",
            "https://www.newegg.ca/Product/ComboDealDetails?ItemList=Combo.4476753\n",
            "------------------------------------------\n",
            "GIGABYTE Gaming GeForce RTX 3070 Ti 8GB GDDR6X PCI Express 4.0 ATX Video Card GV-N307TGAMING OC-8GD\n",
            "$1219\n",
            "https://www.newegg.ca/gigabyte-geforce-rtx-3070-ti-gv-n307tgaming-oc-8g/p/N82E16814932443?Description=3070&cm_re=3070-_-14-932-443-_-Product\n",
            "------------------------------------------\n",
            "GIGABYTE Vision OC GeForce RTX 3070 8GB GDDR6 PCI Express 4.0 ATX Video Card GV-N3070VISION OC-8GD (rev. 2.0) (LHR)\n",
            "$1228\n",
            "https://www.newegg.ca/gigabyte-geforce-rtx-3070-gv-n3070vision-oc-8gd/p/N82E16814932450?Description=3070&cm_re=3070-_-14-932-450-_-Product\n",
            "------------------------------------------\n",
            "GIGABYTE Gaming OC GeForce RTX 3070 8GB GDDR6 PCI Express 4.0 ATX Video Card GV-N3070GAMING OC-8GD (rev. 2.0) (LHR) and GIGABYTE Z590 UD LGA 1200 Intel Z590 ATX Motherboard with Triple M.2 PCIe 4.0 USB 3.2 Gen 2 2.5GbE LAN\n",
            "$1233\n",
            "https://www.newegg.ca/Product/ComboDealDetails?ItemList=Combo.4476755\n",
            "------------------------------------------\n",
            "ASUS TUF Gaming GeForce RTX 3070 Ti 8GB GDDR6X PCI Express 4.0 Video Card TUF-RTX3070TI-O8G-GAMING and Rosewill Hive Series 750W Modular Gaming Power Supply 80 PLUS Bronze Certified Single +12V Rail SLI CrossFire Ready - Hive-750\n",
            "$1238\n",
            "https://www.newegg.ca/Product/ComboDealDetails?ItemList=Combo.4482182\n",
            "------------------------------------------\n",
            "ASUS TUF Gaming GeForce RTX 3070 Ti 8GB GDDR6X PCI Express 4.0 Video Card TUF-RTX3070TI-O8G-GAMING and Rosewill Hive Series 850W Full Modular Gaming Power Supply 80 PLUS Bronze Certified Single +12V Rail SLI CrossFire Ready - Hive-850s\n",
            "$1253\n",
            "https://www.newegg.ca/Product/ComboDealDetails?ItemList=Combo.4482186\n",
            "------------------------------------------\n",
            "ASUS TUF Gaming GeForce RTX 3070 Ti 8GB GDDR6X PCI Express 4.0 Video Card TUF-RTX3070TI-O8G-GAMING and Rosewill - BRONZE Series - 1000-Watt Active PFC Power Supply - Continuous 104 Deg. F (40C) 80 PLUS Bronze Semi-Modular Cable Design ATX 1\n",
            "$1268\n",
            "https://www.newegg.ca/Product/ComboDealDetails?ItemList=Combo.4482184\n",
            "------------------------------------------\n",
            "ASUS TUF Gaming GeForce RTX 3070 Ti 8GB GDDR6X PCI Express 4.0 Video Card TUF-RTX3070TI-O8G-GAMING and Rosewill SMG850 80 Plus Gold Certified 850W Fully Modular Power Supply | ATX 12V v2.31 EPS 12V v2.92 | 135mm Quiet Fan | Japanese Capacit\n",
            "$1283\n",
            "https://www.newegg.ca/Product/ComboDealDetails?ItemList=Combo.4482188\n",
            "------------------------------------------\n",
            "EVGA GeForce RTX 3070 Ti FTW3 ULTRA GAMING Video Card 08G-P5-3797-KL 8GB GDDR6X iCX3 Technology ARGB LED Metal Backplate and EVGA SuperNOVA 1000 G5 80 Plus Gold 1000W Fully Modular Eco Mode with FDB Fan 10 Year Warranty Includes Power ON Se\n",
            "$1294\n",
            "https://www.newegg.ca/Product/ComboDealDetails?ItemList=Combo.4474985\n",
            "------------------------------------------\n",
            "MSI Ventus GeForce RTX 3070 8GB GDDR6 PCI Express 4.0 Video Card RTX 3070 Ventus 3X 8G OC LHR\n",
            "$1299\n",
            "https://www.newegg.ca/msi-geforce-rtx-3070-rtx-3070-ventus-3x-8g-oc-lhr/p/N82E16814137669?Description=3070&cm_re=3070-_-14-137-669-_-Product\n",
            "------------------------------------------\n",
            "GIGABYTE Vision GeForce RTX 3070 Ti 8GB GDDR6X PCI Express 4.0 ATX Video Card GV-N307TVISION OC-8GD\n",
            "$1316\n",
            "https://www.newegg.ca/gigabyte-geforce-rtx-3070-ti-gv-n307tvision-oc-8g/p/N82E16814932442?Description=3070&cm_re=3070-_-14-932-442-_-Product\n",
            "------------------------------------------\n",
            "ZOTAC GAMING GeForce RTX 3070 Ti AMP Holo 8GB GDDR6X 256-bit 19 Gbps PCIE 4.0 Gaming Graphics Card, HoloBlack, IceStorm 2.0 Advanced Cooling, SPECTRA 2.0 RGB Lighting, ZT-A30710F-10P\n",
            "$1319\n",
            "https://www.newegg.ca/zotac-geforce-rtx-3070-ti-zt-a30710f-10p/p/N82E16814500517?Description=3070&cm_re=3070-_-14-500-517-_-Product\n",
            "------------------------------------------\n",
            "GIGABYTE AORUS GeForce RTX 3070 MASTER 8G (LHR) Video Card,8GB 256-bit GDDR6 PCI Express 4.0 x16,1845MHz Core Frequency,DisplayPort 1.4a *3,HDMI 2.1*2, HDMI 2.0*1\n",
            "$1323\n",
            "https://www.newegg.ca/gigabyte-geforce-rtx-3070-gv-n3070aorus-m-8gd/p/1FT-000A-00370?Description=3070&cm_re=3070-_-9SIAPBWH6D9339-_-Product\n",
            "------------------------------------------\n",
            "GIGABYTE AORUS GeForce RTX 3070 MASTER 8GB Video Card, GV-N3070AORUS M-8GD (REV2.0)\n",
            "$1323\n",
            "https://www.newegg.ca/p/1FT-000A-002K1?Description=3070&cm_re=3070-_-9SIAPBWH6D9359-_-Product\n",
            "------------------------------------------\n",
            "GIGABYTE AORUS GeForce RTX 3070 MASTER 8GB GDDR6 PCI Express 4.0 ATX Video Card GV-N3070AORUS M-8GD (rev. 2.0) (LHR)\n",
            "$1327\n",
            "https://www.newegg.ca/gigabyte-geforce-rtx-3070-gv-n3070aorus-m-8gd/p/N82E16814932466?Item=9SIAPBWFVU1082&Description=3070&cm_re=3070-_-9SIAPBWFVU1082-_-Product&cm_sp=SP-_-768987-_-0-_-2-_-9SIAPBWFVU1082-_-3070-_-3070-_-3\n",
            "------------------------------------------\n",
            "ASUS Dual GeForce RTX 3070 8GB GDDR6 PCI Express 4.0 Video Card DUAL-RTX3070-O8G\n",
            "$1339\n",
            "https://www.newegg.ca/p/1FT-000Y-00621?Description=3070&cm_re=3070-_-9SIA9U1FK45171-_-Product\n",
            "------------------------------------------\n",
            "MSI GeForce RTX 3070 GAMING Z TRIO 8G (LHR) Graphics Card, 8GB 256-bit GDDR6, PCI Express 4.0, 1×HDMI 2.1 Interface, 3×DisplayPort 1.4a Interface\n",
            "$1342\n",
            "https://www.newegg.ca/msi-geforce-rtx-3070-rtx-3070-gaming-z-trio-8g-lhr/p/1FT-0009-008A3?Description=3070&cm_re=3070-_-9SIAPBWH6D9351-_-Product\n",
            "------------------------------------------\n",
            "GIGABYTE Vision GeForce RTX 3070 Ti 8GB GDDR6X PCI Express 4.0 ATX Video Card GV-N307TVISION OC-8GD and GIGABYTE B550 GAMING X AM4 AMD B550 ATX Motherboard with Dual M.2 SATA 6Gb/s USB 3.2 Gen 2 PCIe 4.0\n",
            "$1344\n",
            "https://www.newegg.ca/Product/ComboDealDetails?ItemList=Combo.4476751\n",
            "------------------------------------------\n",
            "ASUS TUF-RTX3070-O8G-V2-GAMING (LHR) Video Card,8GB 256-bit GDDR6 PCI Express 4.0 x16,1845MHz Core Frequency,DisplayPort 1.4a *3,HDMI 2.1*2\n",
            "$1367\n",
            "https://www.newegg.ca/asus-geforce-rtx-3070-tuf-rtx3070-o8g-v2-gaming/p/1FT-000Y-006D8?Description=3070&cm_re=3070-_-1FT-000Y-006D8-_-Product\n",
            "------------------------------------------\n",
            "GIGABYTE AORUS GeForce RTX 3070 Ti 8GB GDDR6X PCI Express 4.0 x16 ATX Video Card GV-N307TAORUS M-8GD\n",
            "$1372\n",
            "https://www.newegg.ca/p/27N-0022-000E1?Description=3070&cm_re=3070-_-27N-0022-000E1-_-Product\n",
            "------------------------------------------\n",
            "GIGABYTE Vision GeForce RTX 3070 8GB GDDR6 PCI Express 4.0 ATX Video Card GV-N3070VISION OC-8GD (rev. 2.0)\n",
            "$1379\n",
            "https://www.newegg.ca/p/1FT-000A-002M2?Description=3070&cm_re=3070-_-1FT-000A-002M2-_-Product\n",
            "------------------------------------------\n",
            "MSI Ventus GeForce RTX 3070 Ti 8GB GDDR6X PCI Express 4.0 Video Card RTX 3070 Ti Ventus 3X 8G OC\n",
            "$1381\n",
            "https://www.newegg.ca/msi-rtx-3070-ti-ventus-3x-8g-oc/p/1FT-0009-008V0?Description=3070&cm_re=3070-_-1FT-0009-008V0-_-Product\n",
            "------------------------------------------\n",
            "MSI Ventus GeForce RTX 3070 Ti 8GB GDDR6X PCI Express 4.0 x16 Video Card RTX 3070 Ti Ventus 3X 8G OC\n",
            "$1381\n",
            "https://www.newegg.ca/p/1FT-0009-00600?Description=3070&cm_re=3070-_-9SIAPBWH6D9602-_-Product\n",
            "------------------------------------------\n",
            "GIGABYTE Vision GeForce RTX 3070 Ti 8GB GDDR6X PCI Express 4.0 ATX Video Card GV-N307TVISION OC-8GD and GIGABYTE Z590 UD LGA 1200 Intel Z590 ATX Motherboard with Triple M.2 PCIe 4.0 USB 3.2 Gen 2 2.5GbE LAN\n",
            "$1383\n",
            "https://www.newegg.ca/Product/ComboDealDetails?ItemList=Combo.4476749\n",
            "------------------------------------------\n",
            "GIGABYTE Gaming GeForce RTX 3070 8GB GDDR6 PCI Express 4.0 ATX Video Card GV-N3070GAMING OC-8GD (rev. 2.0)\n",
            "$1399\n",
            "https://www.newegg.ca/p/1FT-000A-002M0?Description=3070&cm_re=3070-_-1FT-000A-002M0-_-Product\n",
            "------------------------------------------\n",
            "MSI Ventus GeForce RTX 3070 8GB GDDR6 PCI Express 4.0 Video Card RTX 3070 Ventus 2X 8G OC LHR\n",
            "$1402\n",
            "https://www.newegg.ca/p/1FT-0009-006M4?Description=3070&cm_re=3070-_-1FT-0009-006M4-_-Product\n",
            "------------------------------------------\n",
            "MSI Gaming GeForce RTX 3070 8GB GDDR6 PCI Express 4.0 Video Card RTX 3070 GAMING TRIO PLUS 8G LHR\n",
            "$1407\n",
            "https://www.newegg.ca/msi-geforce-rtx-3070-rtx-3070-gaming-trio-plus-8g-lhr/p/N82E16814137700?Description=3070&cm_re=3070-_-9SIAPBWH6D9336-_-Product\n",
            "------------------------------------------\n",
            "GIGABYTE Gaming GeForce RTX 3070 8GB GDDR6 PCI Express 4.0 x16 ATX Video Card GV-N3070GAMING OC-8GD (REV 2.0)\n",
            "$1414\n",
            "https://www.newegg.ca/p/1FT-000A-002N2?Description=3070&cm_re=3070-_-1FT-000A-002N2-_-Product\n",
            "------------------------------------------\n",
            "MSI GeForce RTX 3070 SUPRIM X 8G (LHR) Graphics Card, 8GB 256-bit GDDR6, PCI Express 4.0, 1×HDMI 2.1 Interface, 3×DisplayPort 1.4a Interface\n",
            "$1426\n",
            "https://www.newegg.ca/msi-geforce-rtx-3070-rtx-3070-suprim-x-8g-lhr/p/1FT-0009-008A2?Description=3070&cm_re=3070-_-1FT-0009-008A2-_-Product\n",
            "------------------------------------------\n",
            "EVGA GeForce RTX 3070 XC3 ULTRA GAMING Video Card, 08G-P5-3755-KL, 8GB GDDR6, iCX3 Cooling, ARGB LED, Metal Backplate, LHR\n",
            "$1437\n",
            "https://www.newegg.ca/evga-geforce-rtx-3070-08g-p5-3755-kl/p/N82E16814487545?Description=3070&cm_re=3070-_-9SIA7BBFCH9622-_-Product\n",
            "------------------------------------------\n",
            "GIGABYTE Eagle GeForce RTX 3070 8GB GDDR6 PCI Express 4.0 ATX Video Card GV-N3070EAGLE-8GD (rev. 2.0) (LHR)\n",
            "$1439\n",
            "https://www.newegg.ca/gigabyte-geforce-rtx-3070-gv-n3070eagle-8gd/p/N82E16814932452?Description=3070&cm_re=3070-_-14-932-452-_-Product\n",
            "------------------------------------------\n",
            "ASUS Dual GeForce RTX 3070 8GB GDDR6 PCI Express 4.0 Video Card DUAL-RTX3070-8G\n",
            "$1449\n",
            "https://www.newegg.ca/asus-geforce-rtx-3070-dual-rtx3070-8g/p/N82E16814126460?Description=3070&cm_re=3070-_-9SIA9U1F3R6761-_-Product\n",
            "------------------------------------------\n",
            "MSI Gaming GeForce RTX 3070 Ti 8GB GDDR6X PCI Express 4.0 Video Card RTX 3070 Ti Gaming X Trio 8G and MSI MAG B550 TOMAHAWK AM4 AMD B550 SATA 6Gb/s ATX AMD Motherboard and MSI MPG GUNGNIR 110M Black Steel / Plastic / Tempered Glass ATX Mid\n",
            "$1449\n",
            "https://www.newegg.ca/Product/ComboDealDetails?ItemList=Combo.4471324\n",
            "------------------------------------------\n",
            "GIGABYTE Eagle OC GeForce RTX 3070 8GB GDDR6 PCI Express 4.0 ATX Video Card GV-N3070EAGLE OC-8GD (rev. 2.0) (LHR)\n",
            "$1452\n",
            "https://www.newegg.ca/gigabyte-geforce-rtx-3070-gv-n3070eagle-oc-8gd/p/N82E16814932451?Description=3070&cm_re=3070-_-14-932-451-_-Product\n",
            "------------------------------------------\n",
            "ASUS RTX3070-O8G-GAMING Graphics Card 256-Bit GeForce RTX 3070\n",
            "$1478\n",
            "https://www.newegg.ca/p/1FT-000Y-006U7?Description=3070&cm_re=3070-_-9SIB517HD44730-_-Product\n",
            "------------------------------------------\n",
            "ASUS TUF Gaming GeForce RTX 3070 8GB GDDR6 PCI Express 4.0 x16 Video Card TUF-RTX3070-O8G-V2-GAMING LHR\n",
            "$1492\n",
            "https://www.newegg.ca/p/1FT-000Y-00653?Description=3070&cm_re=3070-_-1FT-000Y-00653-_-Product\n",
            "------------------------------------------\n",
            "GIGABYTE GeForce RTX 3070 EAGLE 8GB Video Card, GV-N3070EAGLE-8GD\n",
            "$1493\n",
            "https://www.newegg.ca/gigabyte-geforce-rtx-3070-gv-n3070eagle-8gd/p/N82E16814932344?Description=3070&cm_re=3070-_-14-932-344-_-Product\n",
            "------------------------------------------\n",
            "MSI Suprim GeForce RTX 3070 8GB GDDR6 PCI Express 4.0 ATX Video Card RTX 3070 SUPRIM 8G LHR and MSI MPG X570 GAMING PLUS Gaming Motherboard AMD AM4 SATA 6Gb/s M.2 USB 3.2 Gen 2 HDMI ATX and MSI MPG A850GF 850 W ATX 80 PLUS GOLD Certified Fu\n",
            "$1493\n",
            "https://www.newegg.ca/Product/ComboDealDetails?ItemList=Combo.4466606\n",
            "------------------------------------------\n",
            "GIGABYTE Gaming GeForce RTX 3070 Ti 8GB GDDR6X PCI Express 4.0 x16 ATX Video Card GV-N307TGAMING OC-8GD\n",
            "$1499\n",
            "https://www.newegg.ca/p/1FT-000A-002B4?Description=3070&cm_re=3070-_-1FT-000A-002B4-_-Product\n",
            "------------------------------------------\n",
            "ASUS TUF GeForce RTX 3070 OC 8GB 256-Bit GDDR6 GamING\n",
            "$1512\n",
            "https://www.newegg.ca/p/1FT-000Y-006T3?Description=3070&cm_re=3070-_-9SIB517HD44045-_-Product\n",
            "------------------------------------------\n",
            "MSI Suprim GeForce RTX 3070 8GB GDDR6 PCI Express 4.0 ATX Video Card RTX 3070 SUPRIM 8G LHR and MSI MPG Z490 GAMING PLUS LGA 1200 Intel Z490 SATA 6Gb/s ATX Intel Motherboard and MSI MPG GUNGNIR 110R ATX Mid Tower Computer Case\n",
            "$1514\n",
            "https://www.newegg.ca/Product/ComboDealDetails?ItemList=Combo.4466610\n",
            "------------------------------------------\n",
            "ASUS TUF Gaming GeForce RTX 3070 Ti 8GB GDDR6X PCI Express 4.0 Video Card TUF-RTX3070TI-O8G-GAMING and ASUS AM4 TUF Gaming X570-Plus (Wi-Fi) ATX Motherboard with PCIe 4.0 Dual M.2 12+2 with Dr. MOS Power Stage HDMI DP SATA 6Gb/s USB 3.2 Gen\n",
            "$1533\n",
            "https://www.newegg.ca/Product/ComboDealDetails?ItemList=Combo.4471322\n",
            "------------------------------------------\n",
            "GIGABYTE Gaming GeForce RTX 3070 Ti 8GB GDDR6X PCI Express 4.0 ATX Video Card GV-N307TGAMING OC-8GD and GIGABYTE X570 AORUS ELITE WIFI AM4 AMD X570 SATA 6Gb/s ATX AMD Motherboard and Rosewill SMG850 80 Plus Gold Certified 850W Fully Modular\n",
            "$1534\n",
            "https://www.newegg.ca/Product/ComboDealDetails?ItemList=Combo.4472093\n",
            "------------------------------------------\n",
            "GIGABYTE AORUS GeForce RTX 3070 8GB GDDR6 PCI Express 4.0 ATX Video Card GV-N3070AORUS M-8GD (rev. 2.0)LHR\n",
            "$1539\n",
            "https://www.newegg.ca/p/1FT-000A-002K9?Description=3070&cm_re=3070-_-1FT-000A-002K9-_-Product\n",
            "------------------------------------------\n",
            "GIGABYTE GeForce RTX 3070 VISION OC 8GB Video Card, GV-N3070VISION OC-8GD\n",
            "$1543\n",
            "https://www.newegg.ca/gigabyte-geforce-rtx-3070-gv-n3070vision-oc-8gd/p/N82E16814932360?Description=3070&cm_re=3070-_-9SIAVT9H3M8336-_-Product\n",
            "------------------------------------------\n",
            "GDDR6 Gigabyte GeForce RTX 3070 GAMING OC 8G LHR Video Card 8GB 256bit 6pin+8pin GeForce RTX 3070\n",
            "$1545\n",
            "https://www.newegg.ca/p/1FT-000A-003S0?Description=3070&cm_re=3070-_-9SIB42GHD95138-_-Product\n",
            "------------------------------------------\n",
            "MIS GeForce RTX 3070 Ti SUPRIM X 8G  (LHR) Video Card,8GB 256-bit GDDR6X PCI Express 4.0 x16,1860MHz Core Frequency,1×HDMI2.1 interface, 3×DisplayPort1.4a interface\n",
            "$1546\n",
            "https://www.newegg.ca/mis-geforce-rtx-3070-ti-rtx-3070-ti-suprim-x-8g/p/1FT-00BC-00009?Description=3070&cm_re=3070-_-1FT-00BC-00009-_-Product\n",
            "------------------------------------------\n",
            "GIGABYTE Gaming GeForce RTX 3070 Ti 8GB GDDR6X PCI Express 4.0 ATX Video Card GV-N307TGAMING OC-8GD and GIGABYTE Z590 AORUS ELITE AX LGA 1200 Intel Z590 ATX Motherboard with Triple M.2 PCIe 4.0 USB 3.2 Gen2X2 Type-C Intel WIFI 6 2.5GbE LAN\n",
            "$1554\n",
            "https://www.newegg.ca/Product/ComboDealDetails?ItemList=Combo.4472091\n",
            "------------------------------------------\n",
            "GIGABYTE GeForce RTX 3070 Ti Vision OC 8G Graphics Card, WINDFORCE 3X Cooling System, 8GB 256-bit\n",
            "$1577\n",
            "https://www.newegg.ca/p/1FT-000A-003J6?Description=3070&cm_re=3070-_-9SIB42GHCD1982-_-Product\n",
            "------------------------------------------\n",
            "GIGABYTE AORUS RTX 3070 MASTER 8G Gaming Graphics Card Support OverClock\n",
            "$1588\n",
            "https://www.newegg.ca/p/1FT-000A-003T1?Description=3070&cm_re=3070-_-9SIB42GHD95290-_-Product\n",
            "------------------------------------------\n",
            "GIGABYTE AORUS GeForce RTX 3070 MASTER 8GB Video Card, GV-N3070AORUS M-8GD\n",
            "$1591\n",
            "https://www.newegg.ca/gigabyte-geforce-rtx-3070-gv-n3070aorus-m-8gd/p/N82E16814932359?Description=3070&cm_re=3070-_-14-932-359-_-Product\n",
            "------------------------------------------\n",
            "ASUS TUF Gaming GeForce RTX 3070 Ti 8GB GDDR6X PCI Express 4.0 x16 Video Card TUF-RTX3070TI-8G-GAMING\n",
            "$1597\n",
            "https://www.newegg.ca/p/1FT-000Y-00627?Description=3070&cm_re=3070-_-1FT-000Y-00627-_-Product\n",
            "------------------------------------------\n",
            "ZOTAC GAMING GeForce RTX 3070 Twin Edge OC White Edition LHR ZT-A30700J-10PLHR 8GB GDDR6X 384 Bit 1755 MHz 14 Gbps 3DP HDMI Graphic Card\n",
            "$1599\n",
            "https://www.newegg.ca/zotac-geforce-rtx-3070-zt-a30700j-10plhr/p/1FT-000M-00327?Description=3070&cm_re=3070-_-9SIA9U1H939969-_-Product\n",
            "------------------------------------------\n",
            "Video Card ASUS TUF Gaming GeForce RTX 3070 Ti 8GB GDDR6X TUF-RTX3070TI-O8G-GAMING\n",
            "$1599\n",
            "https://www.newegg.ca/asus-geforce-rtx-3070-ti-tuf-rtx3070ti-o8g-gaming/p/1FT-000Y-00698?Description=3070&cm_re=3070-_-9SIAG9DGYB2931-_-Product\n",
            "------------------------------------------\n",
            "ASUS Noctua OC Edition GeForce RTX 3070 8GB GDDR6 PCI Express 4.0 Video Card RTX3070-O8G-NOCTUA (LHR)\n",
            "$1599\n",
            "https://www.newegg.ca/asus-geforce-rtx-3070-rtx3070-o8g-noctua/p/N82E16814126545?Description=3070&cm_re=3070-_-9SIAPBWGZW7683-_-Product\n",
            "------------------------------------------\n",
            "GIGABYTE GeForce RTX 3070 GAMING OC 8G (LHR) Video Card,8GB 256-bit GDDR6,PCI Express 4.0,2×HDMI 2.1 Interface, 2×DisplayPort 1.4a Interface\n",
            "$1599\n",
            "https://www.newegg.ca/gigabyte-geforce-rtx-3070-gv-n3070gaming-oc-8gd/p/1FT-000A-003F9?Description=3070&cm_re=3070-_-9SIADDZGPR0989-_-Product\n",
            "------------------------------------------\n",
            "MSI Ventus GeForce RTX 3070 Ti 8GB PCI Express 4.0 x16 Video Card RTX 3070 Ti VENTUS 3X 8G\n",
            "$1599\n",
            "https://www.newegg.ca/p/1FT-0009-006E2?Description=3070&cm_re=3070-_-1FT-0009-006E2-_-Product\n",
            "------------------------------------------\n",
            "GDDR6 GeForce RTX™ 3070 VENTUS 2X 8G OC LHR Graphics Card 14000MHz GDDR6 8GB PCI Express 4.0 16X RTX\n",
            "$1599\n",
            "https://www.newegg.ca/p/1FT-0009-008G0?Description=3070&cm_re=3070-_-9SIB518HCJ0259-_-Product\n",
            "------------------------------------------\n",
            "GIGABYTE RTX 3070 8G NVIDIA Graphics\n",
            "$1599\n",
            "https://www.newegg.ca/p/1FT-000A-003S4?Description=3070&cm_re=3070-_-9SIB42GHD95139-_-Product\n",
            "------------------------------------------\n",
            "MSI Gaming GeForce RTX 3070 LHR 8GB GDRR6 256-Bit HDMI/DP Nvlink Triple Torx Fan 3 Ampere\n",
            "$1620\n",
            "https://www.newegg.ca/p/1FT-0009-008D0?Description=3070&cm_re=3070-_-9SIB518HCJ4999-_-Product\n",
            "------------------------------------------\n",
            "ASUS ROG Strix GeForce RTX 3070 8GB GDDR6 PCI Express 4.0 x16 Video Card ROG-STRIX-RTX3070-O8G-V2-GAMING LHR\n",
            "$1620\n",
            "https://www.newegg.ca/p/1FT-000Y-00670?Description=3070&cm_re=3070-_-1FT-000Y-00670-_-Product\n",
            "------------------------------------------\n",
            "MSI Suprim GeForce RTX 3070 8GB GDDR6 PCI Express 4.0 Video Card RTX 3070 SUPRIM 8G\n",
            "$1628\n",
            "https://www.newegg.ca/msi-geforce-rtx-3070-rtx-3070-suprim-8g/p/N82E16814137623?Description=3070&cm_re=3070-_-14-137-623-_-Product\n",
            "------------------------------------------\n",
            "ASUS ROG Strix GeForce RTX 3070 8GB GDDR6 PCI Express 4.0 Video Card ROG-STRIX-RTX3070-O8G-V2-GAMING\n",
            "$1628\n",
            "https://www.newegg.ca/p/1FT-000Y-00689?Description=3070&cm_re=3070-_-1FT-000Y-00689-_-Product\n",
            "------------------------------------------\n",
            "Colorful iGame GeForce RTX 3070 Advanced OC 8G 1725-1815Mhz GDDR6 256bit Video Gaming Computer Graphics Card Support PCI-E 4.0, DirectX 12 Ultimate/OpenGL4.6, Display Ports HDMI/DP\n",
            "$1629\n",
            "https://www.newegg.ca/colorful-model-geforce-rtx-3070-advanced-oc-8g/p/1DW-005D-00010?Description=3070&cm_re=3070-_-1DW-005D-00010-_-Product\n",
            "------------------------------------------\n",
            "COLORFUL iGame GeForce RTX 3070 Ti 8GB GDDR6X PCI Express 4.0 x16 Video Card RTX 3070 Ti Ultra W OC 8G\n",
            "$1639\n",
            "https://www.newegg.ca/p/1FT-00D0-00039?Description=3070&cm_re=3070-_-9SIAX76HU65576-_-Product\n",
            "------------------------------------------\n",
            "Colorful iGame GeForce RTX 3070 Ultra W OC 8G 1725-1770Mhz GDDR6 256bit Video Gaming Computer Graphics Card Support DirectX 12 Ultimate/OpenGL4.6, Display Ports HDMI/DP (White)\n",
            "$1639\n",
            "https://www.newegg.ca/p/1FT-00D0-00038?Description=3070&cm_re=3070-_-9SIAX76HU66125-_-Product\n",
            "------------------------------------------\n",
            "ASUS TUF Gaming GeForce RTX 3070 Ti 8GB GDDR6X PCI Express 4.0 Video Card TUF-RTX3070TI-O8G-GAMING and ASUS ROG STRIX Z590-A GAMING WIFI LGA 1200 Intel Z590 SATA 6Gb/s ATX Intel Motherboard and Rosewill Hive Series 850W Full Modular Gaming\n",
            "$1643\n",
            "https://www.newegg.ca/Product/ComboDealDetails?ItemList=Combo.4452326\n",
            "------------------------------------------\n",
            "Colorful iGame GeForce RTX 3070 Ultra OC 8G 1725-1770Mhz GDDR6 256bit Video Gaming Computer Graphics Card Support DirectX 12 Ultimate/OpenGL4.6, Display Ports HDMI/DP\n",
            "$1649\n",
            "https://www.newegg.ca/colorful-model-igame-geforce-rtx-3070-ultra-oc/p/1DW-005D-00013?Description=3070&cm_re=3070-_-1DW-005D-00013-_-Product\n",
            "------------------------------------------\n",
            "ASUS ROG Strix GeForce RTX 3070 8GB GDDR6 PCI Express 4.0 Video Card ROG-STRIX-RTX3070-8G-GAMING\n",
            "$1649\n",
            "https://www.newegg.ca/asus-rog-strix-rtx3070-8g-gaming/p/1FT-000Y-00637?Description=3070&cm_re=3070-_-9SIA9U1FGC2211-_-Product\n",
            "------------------------------------------\n",
            "Asus ATS-RTX3070-O8G-GAMING Graphics OC Edition NVIDIA® GeForce RTX 3070 8GB GDDR6 LHR Version Video\n",
            "$1695\n",
            "https://www.newegg.ca/p/1FT-000Y-006V1?Description=3070&cm_re=3070-_-9SIB517HD44733-_-Product\n",
            "------------------------------------------\n",
            "Asus ATS-RTX3070-O8G-GAMING OC Edition NVIDIA® GeForce RTX 3070 8GB GDDR6 LHR Version Graphics Video\n",
            "$1695\n",
            "https://www.newegg.ca/p/1FT-000Y-006Y1?Description=3070&cm_re=3070-_-9SIB517HD89891-_-Product\n",
            "------------------------------------------\n",
            "ASUS ROG Strix GeForce RTX 3070 8GB GDDR6 PCI Express 4.0 Video Card ROG-STRIX-RTX3070-O8G-GAMING\n",
            "$1699\n",
            "https://www.newegg.ca/asus-geforce-rtx-3070-rog-strix-rtx3070-o8g-gaming/p/N82E16814126458?Description=3070&cm_re=3070-_-14-126-458-_-Product\n",
            "------------------------------------------\n",
            "COLORFUL iGame GeForce RTX 3070 Ti 8GB GDDR6X PCI Express 4.0 x16 Video Card RTX 3070 Ti Advanced OC 8G\n",
            "$1699\n",
            "https://www.newegg.ca/p/1FT-00D0-00041?Description=3070&cm_re=3070-_-9SIAX76HU66018-_-Product\n",
            "------------------------------------------\n",
            "GIGABYTE AORUS RTX 3070 MASTER 8G Gaming Graphics Card with 8GB GDDR6 Memory Support OverClock\n",
            "$1699\n",
            "https://www.newegg.ca/p/1FT-000A-003R6?Description=3070&cm_re=3070-_-9SIB42GHD95143-_-Product\n",
            "------------------------------------------\n",
            "GIGABYTE AORUS RTX 3070 LHR Version MASTER 8G Gaming Graphics Card with 8GB GDDR6 Memory Support\n",
            "$1699\n",
            "https://www.newegg.ca/p/1FT-000A-003R9?Description=3070&cm_re=3070-_-9SIB42GHD95135-_-Product\n",
            "------------------------------------------\n",
            "ASUS ROG Strix GeForce RTX 3070 Ti 8GB GDDR6X PCI Express 4.0 Video Card ROG-STRIX-RTX3070TI-O8G-GAMING and ASUS TUF Gaming X570-PRO (WiFi 6) AMD AM4 (3rd Gen Ryzen ATX Gaming Motherboard (PCIe 4.0 2.5Gb LAN BIOS Flashback HDMI USB 3.2 Gen\n",
            "$1704\n",
            "https://www.newegg.ca/Product/ComboDealDetails?ItemList=Combo.4466628\n",
            "------------------------------------------\n",
            "MSI Gaming GeForce RTX 3070 Ti 8GB GDDR6X PCI Express 4.0 x16 Video Card RTX 3070 Ti Gaming X Trio 8G\n",
            "$1708\n",
            "https://www.newegg.ca/p/1FT-0009-006C3?Description=3070&cm_re=3070-_-1FT-0009-006C3-_-Product\n",
            "------------------------------------------\n",
            "ASUS ROG Strix GeForce RTX 3070 Ti 8GB GDDR6X PCI Express 4.0 x16 Video Card ROG-STRIX-RTX3070TI-O8G-GAMING\n",
            "$1727\n",
            "https://www.newegg.ca/p/1FT-000Y-00695?Description=3070&cm_re=3070-_-1FT-000Y-00695-_-Product\n",
            "------------------------------------------\n",
            "MSI Suprim GeForce RTX 3070 Ti 8GB GDDR6X PCI Express 4.0 x16 Video Card RTX 3070 Ti SUPRIM X 8G\n",
            "$1728\n",
            "https://www.newegg.ca/p/1FT-0009-00688?Description=3070&cm_re=3070-_-1FT-0009-00688-_-Product\n",
            "------------------------------------------\n",
            "ASUS ROG Strix GeForce RTX 3070 Ti 8GB GDDR6X PCI Express 4.0 Video Card ROG-STRIX-RTX3070TI-O8G-GAMING and ASUS PRIME Z590-A LGA 1200 Intel Z590 SATA 6Gb/s ATX Intel Motherboard and Rosewill SMG750 80 Plus Gold Certified 750W Fully Modular\n",
            "$1733\n",
            "https://www.newegg.ca/Product/ComboDealDetails?ItemList=Combo.4466614\n",
            "------------------------------------------\n",
            "MSI Suprim GeForce RTX 3070 8GB GDDR6 PCI Express 4.0 ATX Video Card RTX 3070 SUPRIM 8G LHR and MSI MPG Z490 GAMING PLUS LGA 1200 Intel Z490 SATA 6Gb/s ATX Intel Motherboard and Intel Core i7-11700K - Core i7 11th Gen Rocket Lake 8-Core 3.6\n",
            "$1734\n",
            "https://www.newegg.ca/Product/ComboDealDetails?ItemList=Combo.4466608\n",
            "------------------------------------------\n",
            "MSI Gaming GeForce RTX 3070 Ti 8GB GDDR6X PCI Express 4.0 Video Card RTX 3070 Ti Gaming X Trio 8G and AMD Ryzen 7 5800X - Ryzen 7 5000 Series Vermeer (Zen 3) 8-Core 3.8 GHz Socket AM4 105W Desktop Processor - 100-100000063WOF and MSI MPG X5\n",
            "$1742\n",
            "https://www.newegg.ca/Product/ComboDealDetails?ItemList=Combo.4466596\n",
            "------------------------------------------\n",
            "ASUS ROG Strix GeForce RTX 3070 8GB GDDR6 PCI Express 4.0 x16 Video Card ROG-STRIX-RTX3070-O8G-WHITE-V2\n",
            "$1744\n",
            "https://www.newegg.ca/asus-geforce-rtx-3070-rog-strix-rtx3070-o8g-white-v2/p/N82E16814126535?Description=3070&cm_re=3070-_-14-126-535-_-Product\n",
            "------------------------------------------\n",
            "MSI Gaming GeForce RTX 3070 8GB GDDR6 PCI Express 4.0 x16 ATX Video Card RTX 3070 Gaming Z Trio LHR\n",
            "$1748\n",
            "https://www.newegg.ca/p/1FT-0009-008D1?Description=3070&cm_re=3070-_-9SIB518HCJ4061-_-Product\n",
            "------------------------------------------\n",
            "GDDR6 Gigabyte GeForce RTX 3070 VISION OC 8G Graphics Card 1?4000MHz 6pin+8pin RTX 3070 Gaming Video\n",
            "$1752\n",
            "https://www.newegg.ca/p/1FT-000A-003W2?Description=3070&cm_re=3070-_-9SIB42GHD96378-_-Product\n",
            "------------------------------------------\n",
            "GDDR6 Gigabyte GeForce RTX 3070 VISION OC 8G 256bit PCI Express 4.0 16X Gaming Graphics Card LHR RTX\n",
            "$1752\n",
            "https://www.newegg.ca/p/1FT-000A-003X3?Description=3070&cm_re=3070-_-9SIB42GHD96718-_-Product\n",
            "------------------------------------------\n",
            "MSI Gaming GeForce RTX 3070 LHR 8GB GDRR6 256-Bit HDMI/DP Nvlink Torx Fan 4 RGB Ampere Architecture\n",
            "$1753\n",
            "https://www.newegg.ca/p/1FT-0009-008B8?Description=3070&cm_re=3070-_-9SIB518HCJ5247-_-Product\n",
            "------------------------------------------\n",
            "ASUS KO NVIDIA GeForce RTX 3070 V2 OC Edition 8GB GDDR6 Gaming Graphics Card (PCIe 4.0 8GB GDDR6 LHR HDMI 2.1 DisplayPort 1.4a Axial-tech Fan Design 0dB Technology Enduring Capacitors) and Intel Core i5-11600K - Core i5 11th Gen Rocket Lake\n",
            "$1759\n",
            "https://www.newegg.ca/Product/ComboDealDetails?ItemList=Combo.4452332\n",
            "------------------------------------------\n",
            "Colorful iGame GeForce RTX 3070 Ti Vulcan OC 8G (LHR) Video Card,8GB 256-bit GDDR6X,PCI Express 4.0,1×HDMI Interface, 3×DisplayPort Interface\n",
            "$1789\n",
            "https://www.newegg.ca/p/1FT-00D0-00040?Description=3070&cm_re=3070-_-9SIAX76HU65816-_-Product\n",
            "------------------------------------------\n",
            "ASUS ROG Strix GeForce RTX 3070 Ti 8GB GDDR6X PCI Express 4.0 Video Card ROG-STRIX-RTX3070TI-O8G-GAMING and ASUS ROG STRIX Z590-A GAMING WIFI LGA 1200 Intel Z590 SATA 6Gb/s ATX Intel Motherboard and Rosewill SMG750 80 Plus Gold Certified 75\n",
            "$1793\n",
            "https://www.newegg.ca/Product/ComboDealDetails?ItemList=Combo.4466616\n",
            "------------------------------------------\n",
            "MIS GeForce RTX 3070 GAMING Z TRIO 8G (LHR) Video Card,8GB 256-bit GDDR6 PCI Express 4.0 x16,1845MHz Core Frequency,1×HDMI interface, 3×DisplayPort interface\n",
            "$1796\n",
            "https://www.newegg.ca/mis-geforce-rtx-3070-rtx-3070-gaming-x-trio-lhr/p/1FT-00BC-00006?Description=3070&cm_re=3070-_-9SIAVH1H8M8690-_-Product\n",
            "------------------------------------------\n",
            "Colorful GeForce RTX 3070 Ti 8G Graphics Card GDDR6X 8GB 256bit PCI Express 4.0 16X DisplayPort RTX\n",
            "$1796\n",
            "https://www.newegg.ca/p/1FT-000Y-006U8?Description=3070&cm_re=3070-_-9SIB517HD44732-_-Product\n",
            "------------------------------------------\n",
            "MSI GeForce RTX 3070 Ti SUPRIM X 8G  (LHR) Video Card,8GB 256-bit GDDR6X PCI Express 4.0 x16,1860MHz Core Frequency,1×HDMI2.1 interface, 3×DisplayPort1.4a interface\n",
            "$1797\n",
            "https://www.newegg.ca/msi-geforce-rtx-3070-ti-rtx-3070-ti-suprim-x-8g/p/1FT-0009-00855?Description=3070&cm_re=3070-_-9SIAVH1HG36735-_-Product\n",
            "------------------------------------------\n",
            "ASUS GAMING GeForce RTX™ 3070 OC 8GB GDDR6 RTX3070-O8G-GAMING\n",
            "$1802\n",
            "https://www.newegg.ca/asus-rtx3060-o12g-gaming/p/1FT-000Y-00636?Description=3070&cm_re=3070-_-9SIB6R3H0R3522-_-Product\n",
            "------------------------------------------\n",
            "Colorful GeForce RTX 3070 8G V2 LHR Video Card PCI Express 4.0 Nvidia Graphics Card GPU Video Cards for Desktop Graphics Cards\n",
            "$1846\n",
            "https://www.newegg.ca/p/1FT-00G2-00001?Description=3070&cm_re=3070-_-9SIB8CFH0N0140-_-Product\n",
            "------------------------------------------\n",
            "ASUS TUF Gaming GeForce RTX 3070 Ti 8GB GDDR6X PCI Express 4.0 Video Card TUF-RTX3070TI-8G-GAMING\n",
            "$1849\n",
            "https://www.newegg.ca/asus-geforce-rtx-3070-ti-tuf-rtx3070ti-8g-gaming/p/N82E16814126513?Description=3070&cm_re=3070-_-14-126-513-_-Product\n",
            "------------------------------------------\n",
            "ASUS ROG Strix GeForce RTX 3070 8GB GDDR6 PCI Express 4.0 Video Card ROG-STRIX-RTX3070-O8G-WHITE\n",
            "$1850\n",
            "https://www.newegg.ca/asus-geforce-rtx-3070-rog-strix-rtx3070-o8g-white/p/N82E16814126484?Description=3070&cm_re=3070-_-14-126-484-_-Product\n",
            "------------------------------------------\n",
            "GIGABYTE Gaming OC GeForce RTX 3070 8GB GDDR6 PCI Express 4.0 ATX Video Card GV-N3070GAMING OC-8GD (rev. 2.0) (LHR) and AMD Ryzen 7 5800X - Ryzen 7 5000 Series Vermeer (Zen 3) 8-Core 3.8 GHz Socket AM4 105W Desktop Processor - 100-100000063\n",
            "$1858\n",
            "https://www.newegg.ca/Product/ComboDealDetails?ItemList=Combo.4452624\n",
            "------------------------------------------\n",
            "INNO3D Geforce RTX 3070 Black Gold Extreme Edition (LHR) Graphics Card, 8GB 256-bit GDDR6, PCI Express 4.0, 1×HDMI2.1 Interface, 3×DisplayPort1.4a Interface\n",
            "$1859\n",
            "https://www.newegg.ca/inno3d-geforce-rtx-3070-black-gold-extreme-edition-lhr/p/1FT-000N-001G3?Description=3070&cm_re=3070-_-9SIB8CFH0N3219-_-Product\n",
            "------------------------------------------\n",
            "MSI Gaming GeForce RTX 3070 Ti 8GB GDDR6X PCI Express 4.0 Video Card RTX 3070 Ti Gaming X Trio 8G and AMD Ryzen 7 5800X - Ryzen 7 5000 Series Vermeer (Zen 3) 8-Core 3.8 GHz Socket AM4 105W Desktop Processor - 100-100000063WOF and MSI MAG X5\n",
            "$1873\n",
            "https://www.newegg.ca/Product/ComboDealDetails?ItemList=Combo.4466600\n",
            "------------------------------------------\n",
            "MSI Gaming GeForce RTX 3070 Ti 8GB GDDR6X PCI Express 4.0 Video Card RTX 3070 Ti Gaming X Trio 8G and AMD Ryzen 9 5900X - Ryzen 9 5000 Series Vermeer (Zen 3) 12-Core 3.7 GHz Socket AM4 105W Desktop Processor - 100-100000061WOF and MSI MPG X\n",
            "$1880\n",
            "https://www.newegg.ca/Product/ComboDealDetails?ItemList=Combo.4471326\n",
            "------------------------------------------\n",
            "MSI Suprim GeForce RTX 3070 8GB GDDR6 PCI Express 4.0 ATX Video Card RTX 3070 SUPRIM 8G LHR and AMD Ryzen 9 5900X - Ryzen 9 5000 Series Vermeer (Zen 3) 12-Core 3.7 GHz Socket AM4 105W Desktop Processor - 100-100000061WOF and MSI MPG X570 GA\n",
            "$1880\n",
            "https://www.newegg.ca/Product/ComboDealDetails?ItemList=Combo.4471328\n",
            "------------------------------------------\n",
            "GIGABYTE Vision GeForce RTX 3070 Ti 8GB GDDR6X PCI Express 4.0 x16 ATX Video Card GV-N307TVISION OC-8GD\n",
            "$1889\n",
            "https://www.newegg.ca/p/1FT-000A-002B7?Description=3070&cm_re=3070-_-1FT-000A-002B7-_-Product\n",
            "------------------------------------------\n",
            "Colorful iGame GeForce RTX 3070 Ti Vulcan OC 8G GDDR6X PCI Express 4.0 x16 Video Card,RTX 3070 Ti Vulcan OC 8G\n",
            "$1899\n",
            "https://www.newegg.ca/p/1FT-005B-000C1?Description=3070&cm_re=3070-_-1FT-005B-000C1-_-Product\n",
            "------------------------------------------\n",
            "ASUS ROG Strix GeForce RTX 3070 V2 OC Edition 8GB GDDR6 PCI Express 4.0 Video Card ROG-STRIX-RTX3070-O8G-V2-GAMING (LHR) and Intel Core i7-11700K - Core i7 11th Gen Rocket Lake 8-Core 3.6 GHz LGA 1200 125W Intel UHD Graphics 750 Desktop Pro\n",
            "$1899\n",
            "https://www.newegg.ca/Product/ComboDealDetails?ItemList=Combo.4452616\n",
            "------------------------------------------\n",
            "MSI Gaming GeForce RTX 3070 Ti 8GB GDDR6X PCI Express 4.0 Video Card RTX 3070 Ti Gaming X Trio 8G and Intel Core i7-11700K - Core i7 11th Gen Rocket Lake 8-Core 3.6 GHz LGA 1200 125W Intel UHD Graphics 750 Desktop Processor - BX8070811700K\n",
            "$1914\n",
            "https://www.newegg.ca/Product/ComboDealDetails?ItemList=Combo.4452845\n",
            "------------------------------------------\n",
            "MSI Gaming GeForce RTX 3070 Ti 8GB GDRR6X 256-Bit HDMI/DP Nvlink Tri-Frozr 2 Ampere Architecture OC\n",
            "$1936\n",
            "https://www.newegg.ca/p/1FT-0009-008C9?Description=3070&cm_re=3070-_-9SIB518HCJ5001-_-Product\n",
            "------------------------------------------\n",
            "MSI Ventus GeForce RTX 3070 Ti 8GB GDDR6X PCI Express 4.0 Video Card RTX 3070 Ti Ventus 3X 8G OC and Intel Core i9-11900K - Core i9 11th Gen Rocket Lake 8-Core 3.5 GHz LGA 1200 125W Intel UHD Graphics 750 Desktop Processor - BX8070811900K a\n",
            "$1944\n",
            "https://www.newegg.ca/Product/ComboDealDetails?ItemList=Combo.4441695\n",
            "------------------------------------------\n",
            "ZOTAC GAMING GeForce RTX 3070 Ti Trinity OC 8GB GDDR6X 256-bit 19 Gbps PCIE 4.0 Gaming Graphics Card IceStorm 2.0 Advanced Cooling SPECTRA 2.0 RGB Lighting ZT-A30710J-10P and Intel Core i7-11700K - Core i7 11th Gen Rocket Lake 8-Core 3.6 GH\n",
            "$1993\n",
            "https://www.newegg.ca/Product/ComboDealDetails?ItemList=Combo.4452747\n",
            "------------------------------------------\n",
            "ASUS KO NVIDIA GeForce RTX 3070 V2 OC Edition 8GB GDDR6 Gaming Graphics Card (PCIe 4.0 8GB GDDR6 LHR HDMI 2.1 DisplayPort 1.4a Axial-tech Fan Design 0dB Technology Enduring Capacitors) and Intel Core i9-11900K - Core i9 11th Gen Rocket Lake\n",
            "$1993\n",
            "https://www.newegg.ca/Product/ComboDealDetails?ItemList=Combo.4433985\n",
            "------------------------------------------\n",
            "MSI Ventus GeForce RTX 3070 Ti 8GB PCI Express 4.0 Video Card RTX 3070 Ti VENTUS 3X 8G\n",
            "$1995\n",
            "https://www.newegg.ca/msi-geforce-rtx-3070-ti-rtx-3070-ti-ventus-3x-8g/p/N82E16814137657?Description=3070&cm_re=3070-_-9SIAZYPGUS1106-_-Product\n",
            "------------------------------------------\n",
            "ASUS TUF Gaming GeForce RTX 3070 Ti 8GB GDDR6X PCI Express 4.0 x16 Video Card TUF-RTX3070TI-O8G-GAMING\n",
            "$2029\n",
            "https://www.newegg.ca/p/1FT-000Y-00619?Description=3070&cm_re=3070-_-1FT-000Y-00619-_-Product\n",
            "------------------------------------------\n",
            "Colorful iGame GeForce RTX 3070 Ti Advanced OC 8G GDDR6X PCI Express 4.0 x16 Video Card,RTX 3070 Ti Advanced OC 8G\n",
            "$2062\n",
            "https://www.newegg.ca/p/1FT-005B-000C0?Description=3070&cm_re=3070-_-1FT-005B-000C0-_-Product\n",
            "------------------------------------------\n",
            "GDDR6X MSI GeForce RTX 3070 Ti GAMING X TRIO RTX3070 Video Card 256bit 8pin+8pin RTX 3070Ti Card\n",
            "$2067\n",
            "https://www.newegg.ca/p/1FT-0009-008H6?Description=3070&cm_re=3070-_-9SIB518HCJ0703-_-Product\n",
            "------------------------------------------\n",
            "MSI Suprim GeForce RTX 3070 8GB GDDR6 PCI Express 4.0 Video Card RTX 3070 SUPRIM X 8G\n",
            "$2067\n",
            "https://www.newegg.ca/p/1FT-0009-00830?Description=3070&cm_re=3070-_-9SIB9SAH475804-_-Product\n",
            "------------------------------------------\n",
            "ASUS ROG Strix GeForce RTX 3070 V2 OC Edition 8GB GDDR6 PCI Express 4.0 Video Card ROG-STRIX-RTX3070-O8G-V2-GAMING (LHR) and Intel Core i9-11900K - Core i9 11th Gen Rocket Lake 8-Core 3.5 GHz LGA 1200 125W Intel UHD Graphics 750 Desktop Pro\n",
            "$2093\n",
            "https://www.newegg.ca/Product/ComboDealDetails?ItemList=Combo.4433981\n",
            "------------------------------------------\n",
            "3070 TI 3070 TI 3070 TI\n",
            "$2122\n",
            "https://www.newegg.ca/p/1FT-0009-00682?Description=3070&cm_re=3070-_-9SIAVF2G3F0584-_-Product\n",
            "------------------------------------------\n",
            "ASUS Dual NVIDIA GeForce RTX 3070 V2 OC Edition Gaming Graphics Card (PCIe 4.0 8GB GDDR6 LHR HDMI 2.1 DisplayPort 1.4a Axial-tech Fan Design Dual BIOS Protective Backplate) and Intel Core i9-11900K - Core i9 11th Gen Rocket Lake 8-Core 3.5\n",
            "$2133\n",
            "https://www.newegg.ca/Product/ComboDealDetails?ItemList=Combo.4433987\n",
            "------------------------------------------\n",
            "2021 Newst GeForce RTX 3070 Founders Edition Graphics Card 8GB GDDR6 PCI Express 4.0 Graphics Card -\n",
            "$2135\n",
            "https://www.newegg.ca/p/1FT-000Y-006P9?Description=3070&cm_re=3070-_-9SIB517HCK3656-_-Product\n",
            "------------------------------------------\n",
            "2021 Newst ASUS ROG Strix NVIDIA GeForce RTX 3070 Gaming Graphics Card (PCIe 4.0, 8GB GDDR6, HDMI\n",
            "$2154\n",
            "https://www.newegg.ca/p/1FT-000Y-006S5?Description=3070&cm_re=3070-_-9SIB517HCK3951-_-Product\n",
            "------------------------------------------\n",
            "ASUS TUF Gaming GeForce RTX 3070 V2 OC Edition 8GB GDDR6 PCI Express 4.0 Video Card TUF-RTX3070-O8G-V2-GAMING (LHR) and Intel Core i9-11900K - Core i9 11th Gen Rocket Lake 8-Core 3.5 GHz LGA 1200 125W Intel UHD Graphics 750 Desktop Processo\n",
            "$2164\n",
            "https://www.newegg.ca/Product/ComboDealDetails?ItemList=Combo.4433969\n",
            "------------------------------------------\n",
            "MSI GeForce RTX 3070 Ti SUPRIM X 8G\n",
            "$2211\n",
            "https://www.newegg.ca/p/1FT-0009-00679?Description=3070&cm_re=3070-_-9SIB9SAH475807-_-Product\n",
            "------------------------------------------\n",
            "INNO3D Geforce RTX 3070 TI Ice Dragon Super Edition (LHR) Graphics Card, 8GB 256-bit GDDR6X, PCI Express 4.0, 1×HDMI2.1 Interface, 3×DisplayPort1.4a Interface\n",
            "$2257\n",
            "https://www.newegg.ca/inno3d-geforce-rtx-3070-ti-ice-dragon-super-edition/p/1FT-000N-001G4?Description=3070&cm_re=3070-_-9SIB8CFH0N3099-_-Product\n",
            "------------------------------------------\n",
            "GIGABYTE Vision GeForce RTX 3070 Ti 8GB GDDR6X PCI Express 4.0 ATX Video Card GV-N307TVISION OC-8GD and AMD Ryzen 9 5900X - Ryzen 9 5000 Series Vermeer (Zen 3) 12-Core 3.7 GHz Socket AM4 105W Desktop Processor - 100-100000061WOF and GIGABYT\n",
            "$2271\n",
            "https://www.newegg.ca/Product/ComboDealDetails?ItemList=Combo.4452442\n",
            "------------------------------------------\n",
            "GDDR6X MSI GeForce RTX 3070 Ti GAMING X TRIO 8G Graphics Card 19000MHz GDDR6X\tPCI Express 4.0 16X\n",
            "$2282\n",
            "https://www.newegg.ca/p/1FT-0009-008M4?Description=3070&cm_re=3070-_-1FT-0009-008M4-_-Product\n",
            "------------------------------------------\n",
            "ASUS TUF Gaming GeForce RTX 3070 Ti 8GB GDDR6X PCI Express 4.0 Video Card TUF-RTX3070TI-O8G-GAMING and Intel Core i9-11900K - Core i9 11th Gen Rocket Lake 8-Core 3.5 GHz LGA 1200 125W Intel UHD Graphics 750 Desktop Processor - BX8070811900K\n",
            "$2283\n",
            "https://www.newegg.ca/Product/ComboDealDetails?ItemList=Combo.4433989\n",
            "------------------------------------------\n",
            "Acer Gaming Desktop Predator Orion, Nvidia  RTX 3070, Intel Core I7-11700F 8Cores, 16GB RAM, 1TB SSD, VR Ready, Dual Frost Blade, 3x Display Port, HDMI, 1 Year Manufacturer warranty\n",
            "$2289\n",
            "https://www.newegg.ca/acer-po3-630-eb12-predator-orion-3000/p/3D5-000H-000E5?Description=3070&cm_re=3070-_-9SIAJWPHU79232-_-Product\n",
            "------------------------------------------\n",
            "ASUS TUF Gaming GeForce RTX 3070 8GB GDDR6 PCI Express 4.0 Video Card TUF-RTX3070-O8G-GAMING\n",
            "$2300\n",
            "https://www.newegg.ca/p/1FT-000Y-00631?Description=3070&cm_re=3070-_-9SIB2K2GPN8675-_-Product\n",
            "------------------------------------------\n",
            "ASUS TUF Gaming NVIDIA GeForce RTX 3070 Ti OC Edition Graphics Card (PCIe 4.0, 8GB GDDR6X, HDMI 2.1,\n",
            "$2324\n",
            "https://www.newegg.ca/p/1FT-000Y-006N5?Description=3070&cm_re=3070-_-9SIB517HBX0459-_-Product\n",
            "------------------------------------------\n",
            "ASUS ROG Strix NVIDIA GeForce RTX 3070 Ti OC Edition Gaming Graphics Card (PCIe 4.0, 8GB GDDR6X,\n",
            "$2324\n",
            "https://www.newegg.ca/p/1FT-000Y-006N2?Description=3070&cm_re=3070-_-9SIB517HBX0466-_-Product\n",
            "------------------------------------------\n",
            "INNO3D GeForce RTX 3070 TI Black Gold Extreme Edition OC (LHR) Graphics Card, 8GB 256-bit GDDR6X, PCI Express 4.0, 1×HDMI 2.1 Interface, 3×DisplayPort 1.4a Interface\n",
            "$2333\n",
            "https://www.newegg.ca/inno3d-geforce-rtx-3070-ti-rtx3070-ti-black-gold-extreme-oc/p/1FT-000N-001G1?Description=3070&cm_re=3070-_-9SIB8CFH0M5320-_-Product\n",
            "------------------------------------------\n",
            "MSI Suprim GeForce RTX 3070 TI 8GB GDDR6 PCI Express 4.0 Video Card RTX 3070 TI SUPRIM 8G\n",
            "$2380\n",
            "https://www.newegg.ca/p/1FT-0009-00683?Description=3070&cm_re=3070-_-9SIB9SAH475836-_-Product\n",
            "------------------------------------------\n",
            "ABS Gladiator Gaming PC - Windows 10 Home - Intel i5 10600K - GeForce RTX 3070 Ti - G.Skill TridentZ RGB 16GB DDR4 3200MHz - 1TB Intel M.2 NVMe SSD\n",
            "$2399\n",
            "https://www.newegg.ca/abs-ali545/p/N82E16883360165?Description=3070&cm_re=3070-_-83-360-165-_-Product\n",
            "------------------------------------------\n",
            "ABS Gladiator Gaming PC - Windows 11 Pro - Intel i7 11700F - GeForce RTX 3070 - 16GB DDR4 3000MHz - 1TB M.2 NVMe SSD\n",
            "$2399\n",
            "https://www.newegg.ca/abs-ali581/p/N82E16883360216?Description=3070&cm_re=3070-_-83-360-216-_-Product\n",
            "------------------------------------------\n",
            "ASUS ROG Strix GeForce RTX 3070 Ti 8GB GDDR6X PCI Express 4.0 Video Card ROG-STRIX-RTX3070TI-O8G-GAMING and Intel Core i9-11900K - Core i9 11th Gen Rocket Lake 8-Core 3.5 GHz LGA 1200 125W Intel UHD Graphics 750 Desktop Processor - BX807081\n",
            "$2433\n",
            "https://www.newegg.ca/Product/ComboDealDetails?ItemList=Combo.4433979\n",
            "------------------------------------------\n",
            "ABS Gladiator Gaming PC - Windows 11 Pro - Intel i7 11700KF - GeForce RTX 3070 - 16GB RGB DDR4 3200MHz - 1TB M.2 NVMe SSD\n",
            "$2449\n",
            "https://www.newegg.ca/abs-ali612/p/N82E16883360277?Description=3070&cm_re=3070-_-83-360-277-_-Product\n",
            "------------------------------------------\n",
            "MSI Gaming GeForce RTX 3070 Ti 8GB GDDR6X PCI Express 4.0 Video Card RTX 3070 Ti Gaming X Trio 8G\n",
            "$2527\n",
            "https://www.newegg.ca/msi-gaming-geforce-rtx-3070-ti-8gb-gddr6x-pci-express-4-0-video-card-rtx-3070-ti-gaming-x-trio-8g/p/1FT-0009-00709?Description=3070&cm_re=3070-_-9SIB9SAH475825-_-Product\n",
            "------------------------------------------\n",
            "2021 Newst ASUS TUF Gaming GeForce RTX 3070 OC Edition Graphics Card- PCIe 4.0, 8GB GDDR6, HDMI 2.1\n",
            "$2534\n",
            "https://www.newegg.ca/p/1FT-000Y-006R7?Description=3070&cm_re=3070-_-9SIB517HCK3941-_-Product\n",
            "------------------------------------------\n",
            "ABS Gladiator Gaming PC - Windows 10 Home - Intel i7 12700KF - GeForce RTX 3070 - G.Skill TridentZ RGB 16GB DDR4 3200 MHz - 1TB Intel M.2 NVMe SSD\n",
            "$2549\n",
            "https://www.newegg.ca/abs-ali590/p/N82E16883360225?Description=3070&cm_re=3070-_-83-360-225-_-Product\n",
            "------------------------------------------\n",
            "Colorful GeForce RTX 3070 NB 8G GDDR6 256bit Video Gaming Computer Graphics Card Support DirectX 12 Ultimate/OpenGL4.6, Display Ports HDMI/DP\n",
            "$2579\n",
            "https://www.newegg.ca/colorful-geforce-rtx-3070-rtx-3070-nb-8g/p/1FT-0040-00090?Description=3070&cm_re=3070-_-1FT-0040-00090-_-Product\n",
            "------------------------------------------\n",
            "ABS Gladiator Gaming PC - Windows 10 Home - Intel i7 11700F - GeForce RTX 3070 Ti - G.Skill TridentZ RGB 16GB DDR4 3200MHz - 1TB Intel M.2 NVMe SSD\n",
            "$2599\n",
            "https://www.newegg.ca/abs-ali575/p/N82E16883360210?Description=3070&cm_re=3070-_-83-360-210-_-Product\n",
            "------------------------------------------\n",
            "ABS Gladiator Gaming PC - Windows 11 Pro - Intel i7 11700F - GeForce RTX 3070 - 16GB DDR4 3200MHz - 1TB M.2 NVMe SSD\n",
            "$2599\n",
            "https://www.newegg.ca/abs-ali624/p/N82E16883360289?Description=3070&cm_re=3070-_-83-360-289-_-Product\n",
            "------------------------------------------\n",
            "CLX SET Gaming Desktop - AMD Ryzen 5 3600 3.6GHz 6-Core Processor, 16GB DDR4 Memory, GeForce RTX 3070 8GB GDDR6 Graphics, 480GB SSD, 2TB HDD, WiFi, Windows 11 Home 64-bit\n",
            "$2708\n",
            "https://www.newegg.ca/clx-tgmsetrtm0c14bm/p/3D5-000B-00223?Description=3070&cm_re=3070-_-9SIACY7GAX2075-_-Product\n",
            "------------------------------------------\n",
            "CLX SET Gaming Desktop - AMD Ryzen 5 5600X 3.7Ghz 6-Core Processor, 16GB DDR4 Memory, GeForce RTX 3070 8GB GDDR6 Graphics, 240GB SSD, 2TB HDD, WiFi, Windows 11 Home 64-bit\n",
            "$2891\n",
            "https://www.newegg.ca/clx-tgmsetrtm0b00bm/p/3D5-000B-001S3?Description=3070&cm_re=3070-_-9SIACY7FH99037-_-Product\n",
            "------------------------------------------\n",
            "ABS Gladiator Gaming PC - Windows 10 Home - Intel i7 11700KF - GeForce RTX 3070 - G.Skill TridentZ RGB 16 GB DDR4 3200MHz - 1TB Intel M.2 NVMe SSD\n",
            "$2899\n",
            "https://www.newegg.ca/abs-ali576/p/N82E16883360211?Description=3070&cm_re=3070-_-83-360-211-_-Product\n",
            "------------------------------------------\n",
            "CLX SET VR-Ready Gaming Desktop - AMD Ryzen 7 3800X 3.9GHz 8-Core Processor, 16GB DDR4 Memory, GeForce RTX 3070 8GB GDDR6 Graphics, 240GB SSD, 2TB HDD, WiFi, Windows 11 Home 64-bit\n",
            "$2917\n",
            "https://www.newegg.ca/clx-tgmsetrth0c05bm/p/3D5-000B-001Y9?Description=3070&cm_re=3070-_-9SIACY7FH99026-_-Product\n",
            "------------------------------------------\n",
            "CLX SET VR-Ready Gaming Desktop - Liquid Cooled Intel Core i7 10700 2.9Ghz 8-Core Processor, 16GB DDR4 Memory, GeForce RTX 3070 8GB GDDR6 Graphics, 240GB SSD, 2TB HDD, WiFi, Windows 11 Home 64-bit\n",
            "$2955\n",
            "https://www.newegg.ca/clx-tgmsetrth0a08bm/p/3D5-000B-001F5?Description=3070&cm_re=3070-_-9SIACY7GAX2058-_-Product\n",
            "------------------------------------------\n",
            "IPASON - Gaming PC - AMD Ryzen 7 5800X 3.80GHz - NVIDIA GeForce RTX 3070 Ti - 32GB(16*2) DDR4 3200MHz - 1TB NVMe - 800W Gold PSU - 240MM AIO - 11AC WiFi - Windows 10 pro 64-bit - Gaming desktop\n",
            "$2989\n",
            "https://www.newegg.ca/p/3D5-001U-00104?Description=3070&cm_re=3070-_-3D5-001U-00104-_-Product\n",
            "------------------------------------------\n",
            "ABS Gladiator Gaming PC - Intel i7 12700KF - GeForce RTX 3070 Ti - 16GB DDR4 3000MHz - 1TB M.2 NVMe SSD\n",
            "$2999\n",
            "https://www.newegg.ca/abs-ali603/p/N82E16883360268?Description=3070&cm_re=3070-_-83-360-268-_-Product\n",
            "------------------------------------------\n",
            "CLX SET VR-Ready Gaming Desktop - AMD Ryzen 9 3900X 3.8GHz 12-Core Processor, 16GB DDR4 Memory, GeForce RTX 3070 8GB GDDR6 Graphics, 240GB SSD, 2TB HDD, WiFi, Windows 11 Home 64-bit\n",
            "$3058\n",
            "https://www.newegg.ca/clx-tgmsetrth0c06bm/p/3D5-000B-001Z4?Description=3070&cm_re=3070-_-9SIACY7FH99032-_-Product\n",
            "------------------------------------------\n",
            "CLX SET Gaming Desktop - AMD Ryzen 5 5600X 3.7Ghz 6-Core Processor, 32GB DDR4 Memory, GeForce RTX 3070 8GB GDDR6 Graphics, 480GB SSD, 3TB HDD, WiFi, Windows 11 Home 64-bit\n",
            "$3085\n",
            "https://www.newegg.ca/clx-tgmsetrtm0b06bm/p/3D5-000B-001N7?Description=3070&cm_re=3070-_-9SIACY7FH99020-_-Product\n",
            "------------------------------------------\n",
            "CyberpowerPC Gaming Desktop Gamer Supreme SLC10760CPGV2 Intel Core i7 12th Gen 12700KF (3.60GHz) 16GB DDR4 1 TB PCIe SSD NVIDIA GeForce RTX 3070 Ti Windows 11 Home 64-bit\n",
            "$3089\n",
            "https://www.newegg.ca/cyberpowerpc-slc10760cpgv2-gamer-supreme/p/N82E16883230674?Description=3070&cm_re=3070-_-83-230-674-_-Product\n",
            "------------------------------------------\n",
            "CLX SET VR-Ready Gaming Desktop - AMD Ryzen 9 3900X 3.8GHz 12-Core Processor, 16GB DDR4 Memory, GeForce RTX 3070 8GB GDDR6 Graphics, 480GB SSD, 2TB HDD, WiFi, Windows 11 Home 64-bit\n",
            "$3109\n",
            "https://www.newegg.ca/clx-tgmsetrth0c17bm/p/3D5-000B-00204?Description=3070&cm_re=3070-_-9SIACY7FH99043-_-Product\n",
            "------------------------------------------\n",
            "CLX SET VR-Ready Gaming Desktop - Liquid Cooled Intel Core i7 10700 2.9Ghz 8-Core Processor, 32GB DDR4 Memory, GeForce RTX 3070 8GB GDDR6 Graphics, 480GB SSD, 3TB HDD, WiFi, Windows 11 Home 64-bit\n",
            "$3161\n",
            "https://www.newegg.ca/clx-tgmsetrth0a11bm/p/3D5-000B-001G0?Description=3070&cm_re=3070-_-9SIACY7FH99025-_-Product\n",
            "------------------------------------------\n",
            "CLX SET VR-Ready Gaming Desktop - Liquid Cooled AMD Ryzen 7 5800X 3.8Ghz 8-Core Processor, 16GB DDR4 Memory, GeForce RTX 3070 8GB GDDR6 Graphics, 240GB SSD, 2TB HDD, WiFi, Windows 11 Home 64-bit\n",
            "$3162\n",
            "https://www.newegg.ca/clx-tgmsetrtm0b01bm/p/3D5-000B-001S7?Description=3070&cm_re=3070-_-9SIACY7FH99042-_-Product\n",
            "------------------------------------------\n",
            "CyberpowerPC Gaming Desktop Gamer Supreme SLC10200CPGV6 Intel Core i9 12th Gen 12900KF (3.20GHz) 16GB DDR4 2TB HDD 1 TB PCIe SSD NVIDIA GeForce RTX 3070 Windows 11 Home 64-bit\n",
            "$3179\n",
            "https://www.newegg.ca/cyberpowerpc-slc10200cpgv6-gamer-supreme/p/N82E16883230675?Description=3070&cm_re=3070-_-83-230-675-_-Product\n",
            "------------------------------------------\n",
            "IPASON - GAMING PC - Ryzen 5 3600 6 Core up to 4.2GHz - RTX 3070 8GB - 16GB DDR4 3200MHZ - 1TB SSD NVME - B550M - 750W Power supply - Windows 10 home\n",
            "$3199\n",
            "https://www.newegg.ca/p/3D5-001U-00011?Description=3070&cm_re=3070-_-9SIAU20DD38054-_-Product\n",
            "------------------------------------------\n",
            "SFT Claymore Gaming Computer, RYZEN 5 5600X, 16G RAM, RTX 3070, 500 GB NVME SSD, Win 10 Home, WiFi Ready\n",
            "$3249\n",
            "https://www.newegg.ca/p/3D5-001S-00018?Description=3070&cm_re=3070-_-9SIASUAGJ68056-_-Product\n",
            "------------------------------------------\n",
            "CLX SET VR-Ready Gaming Desktop - Liquid Cooled Intel Core i7 10700KF 3.8GHz 8-Core Processor, 16GB DDR4 Memory, GeForce RTX 3070 8GB GDDR6 Graphics, 480GB SSD, 2TB HDD, WiFi, Windows 11 Home\n",
            "$3303\n",
            "https://www.newegg.ca/clx-tgmsetrth0a21bm/p/3D5-000B-001K6?Description=3070&cm_re=3070-_-9SIACY7FH99015-_-Product\n",
            "------------------------------------------\n",
            "CLX SET VR-Ready Gaming Desktop - Liquid Cooled AMD Ryzen 7 5800X 3.8Ghz 8-Core Processor, 32GB DDR4 Memory, GeForce RTX 3070 8GB GDDR6 Graphics, 480GB SSD, 3TB HDD, WiFi, Windows 11 Home 64-bit\n",
            "$3367\n",
            "https://www.newegg.ca/clx-tgmsetrtm0b07bm/p/3D5-000B-001P1?Description=3070&cm_re=3070-_-9SIACY7EJ19492-_-Product\n",
            "------------------------------------------\n",
            "CLX SET VR-Ready Gaming Desktop - Liquid Cooled AMD Ryzen 9 5900X 3.7Ghz 12-Core Processor, 16GB DDR4 Memory, GeForce RTX 3070 8GB GDDR6 Graphics, 240GB SSD, 2TB HDD, WiFi, Windows 11 Home 64-bit\n",
            "$3380\n",
            "https://www.newegg.ca/clx-tgmsetrth0b02bm/p/3D5-000B-001T2?Description=3070&cm_re=3070-_-9SIACY7FH99016-_-Product\n",
            "------------------------------------------\n",
            "CLX SET Gaming Desktop - Liquid Cooled AMD Ryzen 7 5800X 3.8GHz 8-Core Processor, 16GB DDR4 Memory, GeForce RTX 3070 Ti 8GB GDDR6X Graphics, 500GB NVMe M.2 SSD, 3TB HDD, WiFi, Win 11 Home 64-bit\n",
            "$3394\n",
            "https://www.newegg.ca/clx-tgmsetrth1652bm/p/3D5-000B-002D7?Description=3070&cm_re=3070-_-9SIACY7FFU7595-_-Product\n",
            "------------------------------------------\n",
            "CLX SET Gaming Desktop - Liquid Cooled AMD Ryzen 5 5600X 3.7Ghz 6-Core Processor, 32GB DDR4 Memory, GeForce RTX 3070 8GB GDDR6 Graphics, 960GB SSD, 4TB HDD, WiFi, Windows 11 Home 64-bit\n",
            "$3394\n",
            "https://www.newegg.ca/clx-tgmsetrtm0b12br/p/3D5-000B-001S1?Description=3070&cm_re=3070-_-9SIACY7FH99023-_-Product\n",
            "------------------------------------------\n",
            "CLX SET - Liquid Cooled Intel Core i9 10850K 3.6Ghz 10-Core Processor, 16GB DDR4 Memory, GeForce RTX 3070 8GB GDDR6 Graphics, 480GB SSD, 2TB HDD, WiFi, Windows 11 Home 64-bit\n",
            "$3407\n",
            "https://www.newegg.ca/clx-tgmsetrth0a23bm/p/3D5-000B-001M2?Description=3070&cm_re=3070-_-9SIACY7FH99022-_-Product\n",
            "------------------------------------------\n",
            "CLX SET - Liquid Cooled Intel Core i9 10900KF3.7GHz 10-Core Processor, 16GB DDR4 Memory, GeForce RTX 3070 8GB GDDR6 Graphics, 480GB SSD, 2TB HDD, WiFi, Windows 11 Home\n",
            "$3472\n",
            "https://www.newegg.ca/clx-tgmsetrth0a24bm/p/3D5-000B-001M4?Description=3070&cm_re=3070-_-9SIACY7FH99027-_-Product\n",
            "------------------------------------------\n",
            "MSI Gaming Desktop Aegis RS 12TE-258US Intel Core i7 12th Gen 12700K (3.60GHz) 16GB DDR5 1 TB M.2 NVMe SSD NVIDIA GeForce RTX 3070 Ti Windows 11 Home 64-bit\n",
            "$3499\n",
            "https://www.newegg.ca/msi-aegis-rs-12te-258us/p/N82E16883152940?Description=3070&cm_re=3070-_-9SIAATCH3B8689-_-Product\n",
            "------------------------------------------\n",
            "IPASON - Gaming Desktop - Ryzen5 5600X (6 Core up to 4.7GHz 7nm) - NVIDIA GeForce RTX3070 - 1TB SSD NVMe - 16GB 3200MHz - B550 - 750W Gold Power Supply - Windows 10 home - RGB Fans - Gaming PC\n",
            "$3499\n",
            "https://www.newegg.ca/p/3D5-001U-00012?Description=3070&cm_re=3070-_-9SIAU20DD38063-_-Product\n",
            "------------------------------------------\n",
            "IPASON - Gaming Desktop - intel 12th i7 12700KF (12 Core up to 4.9GHz) -GeForce RTX 3070 8GB - 1TB SSD NVMe - 32GB(16GB*2) 3200MHz - Z690 Motherboard - WIFI - Windows 10 home - Gaming PC\n",
            "$3509\n",
            "https://www.newegg.ca/p/3D5-001U-00105?Description=3070&cm_re=3070-_-9SIAU20H439707-_-Product\n",
            "------------------------------------------\n",
            "MSI NVIDIA GeForce RTX 3070 Ventus 3X LHR Overclocked Triple Torx Fan Graphics Card 8GB GDDR6 PCIe 4.0 x 16 OpenGL Ampere Architecture OC DirectX 12 HDMI 3 x DisplayPort 1.4a Mazepoly Accessory\n",
            "$3520\n",
            "https://www.newegg.ca/p/1FT-0009-00739?Description=3070&cm_re=3070-_-9SIB8CFH0N2364-_-Product\n",
            "------------------------------------------\n",
            "CLX SET VR-Ready Gaming Desktop - Liquid Cooled Intel Core i9 9900KF 3.6Ghz 8-Core Processor, 32GB DDR4 Memory, GeForce RTX 3070 8GB GDDR6 Graphics, 960GB SSD, 4TB HDD, WiFi, Windows 11 Home 64-bit\n",
            "$3535\n",
            "https://www.newegg.ca/clx-tgmsetrth0a15br/p/3D5-000B-001H6?Description=3070&cm_re=3070-_-9SIACY7FH99038-_-Product\n",
            "------------------------------------------\n",
            "CLX SET Gaming Desktop - Liquid Cooled Intel Core i7 11700KF 3.6GHz 8-Core Processor, 16GB DDR4 Memory, GeForce RTX 3070 Ti 8GB GDDR6X Graphics, 500GB NVMe M.2 SSD, 3TB HDD, WiFi, Win 11 Home 64-bit\n",
            "$3561\n",
            "https://www.newegg.ca/clx-tgmsetrth1648bm/p/3D5-000B-002H5?Description=3070&cm_re=3070-_-9SIACY7FFU7596-_-Product\n",
            "------------------------------------------\n",
            "CLX SET VR-Ready Gaming Desktop - Liquid Cooled AMD Ryzen 7 3800X 3.9GHz 8-Core Processor, 32GB DDR4 Memory, GeForce RTX 3070 8GB GDDR6 Graphics, 960GB SSD, 4TB HDD, WiFi, Windows 11 Home 64-bit\n",
            "$3561\n",
            "https://www.newegg.ca/clx-tgmsetrth0c28br/p/3D5-000B-00215?Description=3070&cm_re=3070-_-9SIACY7FH99046-_-Product\n",
            "------------------------------------------\n",
            "CLX SET VR-Ready Gaming Desktop - Liquid Cooled Intel Core i7 10700KF 3.8GHz 8-Core Processor, 32GB DDR4 Memory, GeForce RTX 3070 8GB GDDR6 Graphics, 960GB SSD, 4TB HDD, WiFi, Windows 11 Home\n",
            "$3563\n",
            "https://www.newegg.ca/clx-tgmsetrth0a14br/p/3D5-000B-001H2?Description=3070&cm_re=3070-_-9SIACY7FH99034-_-Product\n",
            "------------------------------------------\n",
            "CLX SET VR-Ready Gaming Desktop - Liquid Cooled AMD Ryzen 9 5900X 3.7Ghz 12-Core Processor, 32GB DDR4 Memory, GeForce RTX 3070 8GB GDDR6 Graphics, 480GB SSD, 3TB HDD, WiFi, Windows 11 Home 64-bit\n",
            "$3576\n",
            "https://www.newegg.ca/clx-tgmsetrth0b08bm/p/3D5-000B-001P5?Description=3070&cm_re=3070-_-9SIACY7EJ19490-_-Product\n",
            "------------------------------------------\n",
            "CLX SET VR-Ready Gaming Desktop - Liquid Cooled AMD Ryzen 7 5800X 3.8Ghz 8-Core Processor, 32GB DDR4 Memory, GeForce RTX 3070 8GB GDDR6 Graphics, 960GB SSD, 4TB HDD, WiFi, Windows 11 Home 64-bit\n",
            "$3588\n",
            "https://www.newegg.ca/clx-tgmsetrtm0b13br/p/3D5-000B-001S5?Description=3070&cm_re=3070-_-9SIACY7EJ19493-_-Product\n",
            "------------------------------------------\n",
            "Antec P82 Systems - I9 11900KF - 32Gb RAM - 1TB SSD - 8GB NVIDIA GeForce RTX 3070 - Windows 11 Professional - 3 Years Warranty\n",
            "$3606\n",
            "https://www.newegg.ca/p/3D5-001J-00057?Description=3070&cm_re=3070-_-9SIAKP7H6B4607-_-Product\n",
            "------------------------------------------\n",
            "CLX SET Gaming Desktop - Liquid Cooled AMD Ryzen 9 5900X 3.7GHz 12-Core Processor, 16GB DDR4 Memory, GeForce RTX 3070 Ti 8GB GDDR6X Graphics, 500GB NVMe M.2 SSD, 3TB HDD, WiFi, Win 11 Home 64-bit\n",
            "$3612\n",
            "https://www.newegg.ca/clx-tgmsetrth1653bm/p/3D5-000B-002E1?Description=3070&cm_re=3070-_-9SIACY7FFU7568-_-Product\n",
            "------------------------------------------\n",
            "IPASON - Gaming Desktop - intel 12th i7 12700KF (12 Core up to 4.9GHz) -GeForce RTX 3070 Ti 8GB - 1TB SSD NVMe - 32GB(16GB*2) 3200MHz - Z690 Motherboard - WIFI - Windows 10 home - Gaming PC\n",
            "$3639\n",
            "https://www.newegg.ca/p/3D5-001U-00108?Description=3070&cm_re=3070-_-9SIAU20H439719-_-Product\n",
            "------------------------------------------\n",
            "CLX SET Gaming Desktop - Liquid Cooled Intel Core i9 10850K 3.6GHz 10-Core Processor, 16GB DDR4 Memory, GeForce RTX 3070 Ti 8GB GDDR6X Graphics, 500GB NVMe M.2 SSD, 3TB HDD, WiFi, Win 11 Home 64-bit\n",
            "$3651\n",
            "https://www.newegg.ca/clx-tgmsetrth1660bm/p/3D5-000B-002E6?Description=3070&cm_re=3070-_-9SIACY7FFU7597-_-Product\n",
            "------------------------------------------\n",
            "CLX SET - Liquid Cooled Intel Core i9 10850K 3.6Ghz 10-Core Processor, 32GB DDR4 Memory, GeForce RTX 3070 8GB GDDR6 Graphics, 960GB SSD, 4TB HDD, WiFi, Windows 11 Home 64-bit\n",
            "$3691\n",
            "https://www.newegg.ca/clx-tgmsetrth0a16br/p/3D5-000B-001J0?Description=3070&cm_re=3070-_-9SIACY7FH99041-_-Product\n",
            "------------------------------------------\n",
            "Cobratype Cascabel Gaming Desktop PC - Ryzen 5800X, RTX 3070, 32GB DDR4, 2TB NVMe - Free AIO Liquid Cooler While Supplies Last\n",
            "$3719\n",
            "https://www.newegg.ca/cobratype-cascabel/p/3D5-000D-000H7?Description=3070&cm_re=3070-_-9SIAS4NDP09703-_-Product\n",
            "------------------------------------------\n",
            "Antec P82 Systems - I9 11900KF - 64Gb RAM - 1TB SSD - 8GB NVIDIA GeForce RTX 3070 - Windows 11 Professional - 3 Years Warranty\n",
            "$3719\n",
            "https://www.newegg.ca/p/3D5-001J-00058?Description=3070&cm_re=3070-_-9SIAKP7H6B5383-_-Product\n",
            "------------------------------------------\n",
            "CLX SET Gaming Desktop - Liquid Cooled Intel Core i7 11700KF 3.6GHz 8-Core Processor, 32GB DDR4 Memory, GeForce RTX 3070 Ti 8GB GDDR6X Graphics, 500GB SSD, 4TB HDD, WiFi, Windows 11 Home 64-bit\n",
            "$3742\n",
            "https://www.newegg.ca/clx-tgmsetrth1656bm/p/3D5-000B-002C8?Description=3070&cm_re=3070-_-9SIACY7FAT1246-_-Product\n",
            "------------------------------------------\n",
            "CLX SET Gaming Desktop - Liquid Cooled AMD Ryzen 7 5800X 3.8GHz 8-Core Processor, 32GB DDR4 Memory, GeForce RTX 3070 Ti 8GB GDDR6X Graphics, 500GB SSD, 4TB HDD, WiFi, Windows 11 Home 64-bit\n",
            "$3755\n",
            "https://www.newegg.ca/clx-tgmsetrth1654bm/p/3D5-000B-002C0?Description=3070&cm_re=3070-_-9SIACY7FAT1230-_-Product\n",
            "------------------------------------------\n",
            "CLX SET Gaming Desktop - Liquid Cooled Intel Core i9 11900KF 3.5GHz 8-Core Processor, 16GB DDR4 Memory, GeForce RTX 3070 Ti 8GB GDDR6X Graphics, 500GB NVMe M.2 SSD, 3TB HDD, WiFi, Win 11 Home 64-bit\n",
            "$3756\n",
            "https://www.newegg.ca/clx-tgmsetrth1661bm/p/3D5-000B-002F0?Description=3070&cm_re=3070-_-9SIACY7FFU7594-_-Product\n",
            "------------------------------------------\n",
            "CLX SET VR-Ready Gaming Desktop - Liquid Cooled Intel Core i9 10900KF 3.7Ghz 10-Core Processor, 32GB DDR4 Memory, GeForce RTX 3070 8GB GDDR6 Graphics, 960GB SSD, 4TB HDD, WiFi, Windows 11 Home 64-bit\n",
            "$3781\n",
            "https://www.newegg.ca/clx-set/p/3D5-000B-001J4?Description=3070&cm_re=3070-_-9SIACY7FH99045-_-Product\n",
            "------------------------------------------\n",
            "CLX SET VR-Ready Gaming Desktop - Liquid Cooled AMD Ryzen 9 5900X 3.7Ghz 12-Core Processor, 32GB DDR4 Memory, GeForce RTX 3070 8GB GDDR6 Graphics, 960GB SSD, 4TB HDD, WiFi, Windows 11 Home 64-bit\n",
            "$3796\n",
            "https://www.newegg.ca/clx-tgmsetrth0b14br/p/3D5-000B-001S9?Description=3070&cm_re=3070-_-9SIACY7EJ19487-_-Product\n",
            "------------------------------------------\n",
            "CLX SET Gaming Desktop - Liquid Cooled Intel Core i9 10850K 3.6GHz 10-Core Processor, 32GB DDR4 Memory, GeForce RTX 3070 Ti 8GB GDDR6X Graphics, 500GB SSD, 4TB HDD, WiFi, Windows 11 Home 64-bit\n",
            "$3820\n",
            "https://www.newegg.ca/clx-tgmsetrth1657bm/p/3D5-000B-002A1?Description=3070&cm_re=3070-_-9SIACY7FAT1232-_-Product\n",
            "------------------------------------------\n",
            "CLX SET - Liquid Cooled Intel Core i7 10700KF 3.8GHz 8-Core Processor, 64GB DDR4 Memory, GeForce RTX 3070 8GB GDDR6 Graphics, 1TB SSD, 6TB HDD, WiFi, Windows 11 Home\n",
            "$3873\n",
            "https://www.newegg.ca/clx-tgmsetrth0a27bm/p/3D5-000B-001M6?Description=3070&cm_re=3070-_-9SIACY7FH99030-_-Product\n",
            "------------------------------------------\n",
            "IPASON - Gaming Desktop - intel 12th i9 12900KF (16 Core up to 5.1GHz) -GeForce RTX 3070 Ti 8GB - 1TB SSD NVMe - 32GB(16GB*2) 3200MHz - Z690 Motherboard - WIFI - Windows 10 home - Gaming PC\n",
            "$3899\n",
            "https://www.newegg.ca/p/3D5-001U-00106?Description=3070&cm_re=3070-_-9SIAU20H439711-_-Product\n",
            "------------------------------------------\n",
            "CLX SET Gaming Desktop - Liquid Cooled Intel Core i9 11900KF 3.5GHz 8-Core Processor, 32GB DDR4 Memory, GeForce RTX 3070 Ti 8GB GDDR6X Graphics, 500GB SSD, 4TB HDD, WiFi, Windows 11 Home 64-bit\n",
            "$3938\n",
            "https://www.newegg.ca/clx-tgmsetrth1659bm/p/3D5-000B-002A9?Description=3070&cm_re=3070-_-9SIACY7FAT1235-_-Product\n",
            "------------------------------------------\n",
            "CLX SET VR-Ready Gaming Desktop - Liquid Cooled AMD Ryzen 7 5800X 3.8Ghz 8-Core Processor, 64GB DDR4 Memory, GeForce RTX 3070 8GB GDDR6 Graphics, 1TB SSD, 6TB HDD, WiFi, Windows 11 Home 64-bit\n",
            "$3949\n",
            "https://www.newegg.ca/clx-tgmsetrtm0b21bm/p/3D5-000B-001U1?Description=3070&cm_re=3070-_-9SIACY7EUU1440-_-Product\n",
            "------------------------------------------\n",
            "CLX SET Gaming Desktop - Liquid Cooled AMD Ryzen 9 5900X 3.7GHz 12-Core Processor, 32GB DDR4 Memory, GeForce RTX 3070 Ti 8GB GDDR6X Graphics, 500GB SSD, 4TB HDD, WiFi, Windows 11 Home 64-bit\n",
            "$3950\n",
            "https://www.newegg.ca/clx-tgmsetrth1643bm/p/3D5-000B-002C6?Description=3070&cm_re=3070-_-9SIACY7FAT1251-_-Product\n",
            "------------------------------------------\n",
            "Antec P82 Systems - I9 11900KF - 128Gb RAM - 1TB SSD - 8GB NVIDIA GeForce RTX 3070 - Windows 11 Professional - 3 Years Warranty\n",
            "$4127\n",
            "https://www.newegg.ca/p/3D5-001J-00059?Description=3070&cm_re=3070-_-9SIAKP7H6B6106-_-Product\n",
            "------------------------------------------\n",
            "CLX SET VR-Ready Gaming Desktop - Liquid Cooled AMD Ryzen 9 5900X 3.7Ghz 12-Core Processor, 64GB DDR4 Memory, GeForce RTX 3070 8GB GDDR6 Graphics, 1TB SSD, 6TB HDD, WiFi, Windows 11 Home 64-bit\n",
            "$4157\n",
            "https://www.newegg.ca/clx-tgmsetrth0b22bm/p/3D5-000B-001U3?Description=3070&cm_re=3070-_-9SIACY7ETR5062-_-Product\n",
            "------------------------------------------\n",
            "IPASON - Gaming Desktop - Ryzen7 5800X 8 Core up to 4.7GHz - RTX3070 8GB - 1TB NVMe SSD - LPX 32GB(16*2) DDR4 3200MHz - Windows 10 home - Gaming PC\n",
            "$4199\n",
            "https://www.newegg.ca/p/3D5-001U-00025?Description=3070&cm_re=3070-_-9SIAU20DD38077-_-Product\n",
            "------------------------------------------\n",
            "CLX SET VR-Ready Gaming Desktop - Liquid Cooled AMD Ryzen 9 5950X 3.4Ghz 16-Core Processor, 32GB DDR4 Memory, GeForce RTX 3070 8GB GDDR6 Graphics, 960GB SSD, 4TB HDD, WiFi, Windows 11 Home 64-bit\n",
            "$4273\n",
            "https://www.newegg.ca/clx-tgmsetrth0b15br/p/3D5-000B-001T3?Description=3070&cm_re=3070-_-9SIACY7EJ19491-_-Product\n",
            "------------------------------------------\n",
            "EVGA GeForce RTX 3070 FTW3 Ultra Gaming Video Card, Black\n",
            "$4352\n",
            "https://www.newegg.ca/p/1FT-001K-00DT6?Description=3070&cm_re=3070-_-9SIB8CFH0N2366-_-Product\n",
            "------------------------------------------\n",
            "CLX SET VR-Ready Gaming Desktop - Liquid Cooled Intel Core i9 10940X 3.3Ghz 14-Core Processor, 32GB DDR4 Memory, GeForce RTX 3070 8GB GDDR6 Graphics, 480GB SSD, 3TB HDD, WiFi, Windows 11 Home 64-bit\n",
            "$4426\n",
            "https://www.newegg.ca/clx-tgmsetrth0a02br/p/3D5-000B-001H8?Description=3070&cm_re=3070-_-9SIACY7HS77252-_-Product\n",
            "------------------------------------------\n",
            "CLX SET VR-Ready Gaming Desktop - Liquid Cooled Intel Core i9 10900X 3.7Ghz 10-Core Processor, 64GB DDR4 Memory, GeForce RTX 3070 8GB GDDR6 Graphics, 1TB SSD, 6TB HDD, WiFi, Windows 11 Home 64-bit\n",
            "$4478\n",
            "https://www.newegg.ca/clx-tgmsetrth0a03bm/p/3D5-000B-001J3?Description=3070&cm_re=3070-_-9SIACY7FH99044-_-Product\n",
            "------------------------------------------\n",
            "CLX SET VR-Ready Gaming Desktop - Liquid Cooled AMD Ryzen 9 5950X 3.4Ghz 16-Core Processor, 64GB DDR4 Memory, GeForce RTX 3070 8GB GDDR6 Graphics, 1TB SSD, 6TB HDD, WiFi, Windows 11 Home 64-bit\n",
            "$4558\n",
            "https://www.newegg.ca/clx-tgmsetrth0b23bm/p/3D5-000B-001U7?Description=3070&cm_re=3070-_-9SIACY7EUU1441-_-Product\n",
            "------------------------------------------\n",
            "CLX SET VR-Ready Gaming Desktop - Liquid Cooled Intel Core i9 10920X 3.5Ghz 12-Core Processor, 64GB DDR4 Memory, GeForce RTX 3070 8GB GDDR6 Graphics, 1TB SSD, 6TB HDD, WiFi, Windows 11 Home 64-bit\n",
            "$4661\n",
            "https://www.newegg.ca/clx-tgmsetrth0a04bm/p/3D5-000B-001J6?Description=3070&cm_re=3070-_-9SIACY7FH99017-_-Product\n",
            "------------------------------------------\n",
            "CLX SET VR-Ready Gaming Desktop - Liquid Cooled Intel Core i9 10940X 3.3Ghz 14-Core Processor, 64GB DDR4 Memory, GeForce RTX 3070 8GB GDDR6 Graphics, 1TB SSD, 6TB HDD, WiFi, Windows 11 Home 64-bit\n",
            "$4803\n",
            "https://www.newegg.ca/clx-tgmsetrth0a05bm/p/3D5-000B-001K0?Description=3070&cm_re=3070-_-9SIACY7FH99021-_-Product\n",
            "------------------------------------------\n"
          ]
        }
      ]
    },
    {
      "cell_type": "markdown",
      "source": [
        "Only want items inside a specific div class\n",
        "* because we only want actual items, instead of random text that also matches the re.compile\n",
        "* returns only text and not random text/stuff that we don't need\n",
        "* now look at parent of this text, is a link href\n",
        "* some results won't have parent tag, \"a\" tag, giving an error\n",
        "* make sure parent is an a tag before we try to return stuff\n",
        "* potentially getting none in return b/c 3080 or the input is an attribute of some tag\n",
        "* if parent tag is not \"a\" tag, don't bother adding it in, skip it\n",
        "* now need price: item-container -> item-action -> price-current"
      ],
      "metadata": {
        "id": "DhgtBKlS8icG"
      }
    },
    {
      "cell_type": "markdown",
      "source": [
        "Sort all items by price, and have nicer output\n",
        "* sort dictionary: \n",
        "  * convert to list of some sort\n",
        "  * sort list\n",
        "  * convert back to dictionary\n",
        "\n",
        "* items_found.items() returns a list of tuples\n",
        "* [(\"3080 FTW\", {'price': 2999, \"link\": \"https://...\"})]\n",
        "* few entries don't have strong field\n",
        "  * to fix this, use try and except? if can't find string from strong"
      ],
      "metadata": {
        "id": "1jgIoeMZAiIU"
      }
    }
  ]
}