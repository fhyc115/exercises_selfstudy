{
  "nbformat": 4,
  "nbformat_minor": 0,
  "metadata": {
    "colab": {
      "name": "XGBoost.ipynb",
      "provenance": []
    },
    "kernelspec": {
      "name": "python3",
      "display_name": "Python 3"
    },
    "language_info": {
      "name": "python"
    }
  },
  "cells": [
    {
      "cell_type": "markdown",
      "source": [
        "Statquest with Josh Starmer\n",
        "- XGBoost\n",
        "\n",
        "Exceptionally useful ML method when you don't want to sacrifice ability to correctly classify observations but still want a model that is fairly easy to understand and interpret"
      ],
      "metadata": {
        "id": "QULxr7a5lb_l"
      }
    },
    {
      "cell_type": "code",
      "execution_count": null,
      "metadata": {
        "colab": {
          "base_uri": "https://localhost:8080/"
        },
        "id": "lpk5w1UflZZz",
        "outputId": "536c84a8-9200-4478-98d7-c6f7c6795632"
      },
      "outputs": [
        {
          "output_type": "stream",
          "name": "stdout",
          "text": [
            "Requirement already satisfied: xgboost in /usr/local/lib/python3.7/dist-packages (0.90)\n",
            "Requirement already satisfied: numpy in /usr/local/lib/python3.7/dist-packages (from xgboost) (1.21.5)\n",
            "Requirement already satisfied: scipy in /usr/local/lib/python3.7/dist-packages (from xgboost) (1.4.1)\n"
          ]
        }
      ],
      "source": [
        "pip install xgboost"
      ]
    },
    {
      "cell_type": "code",
      "source": [
        "import pandas as pd # load and manipulate dat and for one-hot encoding\n",
        "import numpy as np # calc mean and std dev\n",
        "import xgboost as xgb # xgb\n",
        "from sklearn.model_selection import train_test_split #split data into train and test set\n",
        "from sklearn.metrics import balanced_accuracy_score, roc_auc_score, make_scorer #for scoring during\n",
        "from sklearn.model_selection import GridSearchCV # cross validation\n",
        "from sklearn.metrics import confusion_matrix #creates confusion matrix\n",
        "from sklearn.metrics import plot_confusion_matrix #draws confusion matrix"
      ],
      "metadata": {
        "id": "G-W692JNl1kX"
      },
      "execution_count": null,
      "outputs": []
    },
    {
      "cell_type": "markdown",
      "source": [
        "Load dataset from IBM Base Samples (Telco Churn Dataset)."
      ],
      "metadata": {
        "id": "eqwGckIxmZbK"
      }
    },
    {
      "cell_type": "code",
      "source": [
        "from google.colab import files\n",
        "uploaded = files.upload()"
      ],
      "metadata": {
        "colab": {
          "resources": {
            "http://localhost:8080/nbextensions/google.colab/files.js": {
              "data": "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",
              "ok": true,
              "headers": [
                [
                  "content-type",
                  "application/javascript"
                ]
              ],
              "status": 200,
              "status_text": ""
            }
          },
          "base_uri": "https://localhost:8080/",
          "height": 78
        },
        "id": "Y2-KnNbzmViz",
        "outputId": "352507d1-60cb-4c75-aebf-6a1bb1e3e817"
      },
      "execution_count": null,
      "outputs": [
        {
          "output_type": "display_data",
          "data": {
            "text/plain": [
              "<IPython.core.display.HTML object>"
            ],
            "text/html": [
              "\n",
              "     <input type=\"file\" id=\"files-71c7def1-5397-4f79-96cc-451ed09ba6da\" name=\"files[]\" multiple disabled\n",
              "        style=\"border:none\" />\n",
              "     <output id=\"result-71c7def1-5397-4f79-96cc-451ed09ba6da\">\n",
              "      Upload widget is only available when the cell has been executed in the\n",
              "      current browser session. Please rerun this cell to enable.\n",
              "      </output>\n",
              "      <script src=\"/nbextensions/google.colab/files.js\"></script> "
            ]
          },
          "metadata": {}
        },
        {
          "output_type": "stream",
          "name": "stdout",
          "text": [
            "Saving Telco_customer_churn.csv to Telco_customer_churn.csv\n"
          ]
        }
      ]
    },
    {
      "cell_type": "code",
      "source": [
        "df = pd.read_csv('Telco_customer_churn.csv')"
      ],
      "metadata": {
        "id": "xw1xeMl-nnZL"
      },
      "execution_count": null,
      "outputs": []
    },
    {
      "cell_type": "code",
      "source": [
        "df.head()"
      ],
      "metadata": {
        "colab": {
          "base_uri": "https://localhost:8080/",
          "height": 438
        },
        "id": "gfnErZZmnsdS",
        "outputId": "42caa612-a011-49ec-875b-362b4b76b03d"
      },
      "execution_count": null,
      "outputs": [
        {
          "output_type": "execute_result",
          "data": {
            "text/plain": [
              "   CustomerID  Count        Country       State         City  Zip Code  \\\n",
              "0  3668-QPYBK      1  United States  California  Los Angeles     90003   \n",
              "1  9237-HQITU      1  United States  California  Los Angeles     90005   \n",
              "2  9305-CDSKC      1  United States  California  Los Angeles     90006   \n",
              "3  7892-POOKP      1  United States  California  Los Angeles     90010   \n",
              "4  0280-XJGEX      1  United States  California  Los Angeles     90015   \n",
              "\n",
              "                 Lat Long   Latitude   Longitude  Gender  ...        Contract  \\\n",
              "0  33.964131, -118.272783  33.964131 -118.272783    Male  ...  Month-to-month   \n",
              "1   34.059281, -118.30742  34.059281 -118.307420  Female  ...  Month-to-month   \n",
              "2  34.048013, -118.293953  34.048013 -118.293953  Female  ...  Month-to-month   \n",
              "3  34.062125, -118.315709  34.062125 -118.315709  Female  ...  Month-to-month   \n",
              "4  34.039224, -118.266293  34.039224 -118.266293    Male  ...  Month-to-month   \n",
              "\n",
              "  Paperless Billing             Payment Method  Monthly Charges Total Charges  \\\n",
              "0               Yes               Mailed check            53.85        108.15   \n",
              "1               Yes           Electronic check            70.70        151.65   \n",
              "2               Yes           Electronic check            99.65         820.5   \n",
              "3               Yes           Electronic check           104.80       3046.05   \n",
              "4               Yes  Bank transfer (automatic)           103.70        5036.3   \n",
              "\n",
              "  Churn Label Churn Value Churn Score  CLTV                   Churn Reason  \n",
              "0         Yes           1          86  3239   Competitor made better offer  \n",
              "1         Yes           1          67  2701                          Moved  \n",
              "2         Yes           1          86  5372                          Moved  \n",
              "3         Yes           1          84  5003                          Moved  \n",
              "4         Yes           1          89  5340  Competitor had better devices  \n",
              "\n",
              "[5 rows x 33 columns]"
            ],
            "text/html": [
              "\n",
              "  <div id=\"df-14608932-6422-4492-bf8c-e2ba3419f1f0\">\n",
              "    <div class=\"colab-df-container\">\n",
              "      <div>\n",
              "<style scoped>\n",
              "    .dataframe tbody tr th:only-of-type {\n",
              "        vertical-align: middle;\n",
              "    }\n",
              "\n",
              "    .dataframe tbody tr th {\n",
              "        vertical-align: top;\n",
              "    }\n",
              "\n",
              "    .dataframe thead th {\n",
              "        text-align: right;\n",
              "    }\n",
              "</style>\n",
              "<table border=\"1\" class=\"dataframe\">\n",
              "  <thead>\n",
              "    <tr style=\"text-align: right;\">\n",
              "      <th></th>\n",
              "      <th>CustomerID</th>\n",
              "      <th>Count</th>\n",
              "      <th>Country</th>\n",
              "      <th>State</th>\n",
              "      <th>City</th>\n",
              "      <th>Zip Code</th>\n",
              "      <th>Lat Long</th>\n",
              "      <th>Latitude</th>\n",
              "      <th>Longitude</th>\n",
              "      <th>Gender</th>\n",
              "      <th>...</th>\n",
              "      <th>Contract</th>\n",
              "      <th>Paperless Billing</th>\n",
              "      <th>Payment Method</th>\n",
              "      <th>Monthly Charges</th>\n",
              "      <th>Total Charges</th>\n",
              "      <th>Churn Label</th>\n",
              "      <th>Churn Value</th>\n",
              "      <th>Churn Score</th>\n",
              "      <th>CLTV</th>\n",
              "      <th>Churn Reason</th>\n",
              "    </tr>\n",
              "  </thead>\n",
              "  <tbody>\n",
              "    <tr>\n",
              "      <th>0</th>\n",
              "      <td>3668-QPYBK</td>\n",
              "      <td>1</td>\n",
              "      <td>United States</td>\n",
              "      <td>California</td>\n",
              "      <td>Los Angeles</td>\n",
              "      <td>90003</td>\n",
              "      <td>33.964131, -118.272783</td>\n",
              "      <td>33.964131</td>\n",
              "      <td>-118.272783</td>\n",
              "      <td>Male</td>\n",
              "      <td>...</td>\n",
              "      <td>Month-to-month</td>\n",
              "      <td>Yes</td>\n",
              "      <td>Mailed check</td>\n",
              "      <td>53.85</td>\n",
              "      <td>108.15</td>\n",
              "      <td>Yes</td>\n",
              "      <td>1</td>\n",
              "      <td>86</td>\n",
              "      <td>3239</td>\n",
              "      <td>Competitor made better offer</td>\n",
              "    </tr>\n",
              "    <tr>\n",
              "      <th>1</th>\n",
              "      <td>9237-HQITU</td>\n",
              "      <td>1</td>\n",
              "      <td>United States</td>\n",
              "      <td>California</td>\n",
              "      <td>Los Angeles</td>\n",
              "      <td>90005</td>\n",
              "      <td>34.059281, -118.30742</td>\n",
              "      <td>34.059281</td>\n",
              "      <td>-118.307420</td>\n",
              "      <td>Female</td>\n",
              "      <td>...</td>\n",
              "      <td>Month-to-month</td>\n",
              "      <td>Yes</td>\n",
              "      <td>Electronic check</td>\n",
              "      <td>70.70</td>\n",
              "      <td>151.65</td>\n",
              "      <td>Yes</td>\n",
              "      <td>1</td>\n",
              "      <td>67</td>\n",
              "      <td>2701</td>\n",
              "      <td>Moved</td>\n",
              "    </tr>\n",
              "    <tr>\n",
              "      <th>2</th>\n",
              "      <td>9305-CDSKC</td>\n",
              "      <td>1</td>\n",
              "      <td>United States</td>\n",
              "      <td>California</td>\n",
              "      <td>Los Angeles</td>\n",
              "      <td>90006</td>\n",
              "      <td>34.048013, -118.293953</td>\n",
              "      <td>34.048013</td>\n",
              "      <td>-118.293953</td>\n",
              "      <td>Female</td>\n",
              "      <td>...</td>\n",
              "      <td>Month-to-month</td>\n",
              "      <td>Yes</td>\n",
              "      <td>Electronic check</td>\n",
              "      <td>99.65</td>\n",
              "      <td>820.5</td>\n",
              "      <td>Yes</td>\n",
              "      <td>1</td>\n",
              "      <td>86</td>\n",
              "      <td>5372</td>\n",
              "      <td>Moved</td>\n",
              "    </tr>\n",
              "    <tr>\n",
              "      <th>3</th>\n",
              "      <td>7892-POOKP</td>\n",
              "      <td>1</td>\n",
              "      <td>United States</td>\n",
              "      <td>California</td>\n",
              "      <td>Los Angeles</td>\n",
              "      <td>90010</td>\n",
              "      <td>34.062125, -118.315709</td>\n",
              "      <td>34.062125</td>\n",
              "      <td>-118.315709</td>\n",
              "      <td>Female</td>\n",
              "      <td>...</td>\n",
              "      <td>Month-to-month</td>\n",
              "      <td>Yes</td>\n",
              "      <td>Electronic check</td>\n",
              "      <td>104.80</td>\n",
              "      <td>3046.05</td>\n",
              "      <td>Yes</td>\n",
              "      <td>1</td>\n",
              "      <td>84</td>\n",
              "      <td>5003</td>\n",
              "      <td>Moved</td>\n",
              "    </tr>\n",
              "    <tr>\n",
              "      <th>4</th>\n",
              "      <td>0280-XJGEX</td>\n",
              "      <td>1</td>\n",
              "      <td>United States</td>\n",
              "      <td>California</td>\n",
              "      <td>Los Angeles</td>\n",
              "      <td>90015</td>\n",
              "      <td>34.039224, -118.266293</td>\n",
              "      <td>34.039224</td>\n",
              "      <td>-118.266293</td>\n",
              "      <td>Male</td>\n",
              "      <td>...</td>\n",
              "      <td>Month-to-month</td>\n",
              "      <td>Yes</td>\n",
              "      <td>Bank transfer (automatic)</td>\n",
              "      <td>103.70</td>\n",
              "      <td>5036.3</td>\n",
              "      <td>Yes</td>\n",
              "      <td>1</td>\n",
              "      <td>89</td>\n",
              "      <td>5340</td>\n",
              "      <td>Competitor had better devices</td>\n",
              "    </tr>\n",
              "  </tbody>\n",
              "</table>\n",
              "<p>5 rows × 33 columns</p>\n",
              "</div>\n",
              "      <button class=\"colab-df-convert\" onclick=\"convertToInteractive('df-14608932-6422-4492-bf8c-e2ba3419f1f0')\"\n",
              "              title=\"Convert this dataframe to an interactive table.\"\n",
              "              style=\"display:none;\">\n",
              "        \n",
              "  <svg xmlns=\"http://www.w3.org/2000/svg\" height=\"24px\"viewBox=\"0 0 24 24\"\n",
              "       width=\"24px\">\n",
              "    <path d=\"M0 0h24v24H0V0z\" fill=\"none\"/>\n",
              "    <path d=\"M18.56 5.44l.94 2.06.94-2.06 2.06-.94-2.06-.94-.94-2.06-.94 2.06-2.06.94zm-11 1L8.5 8.5l.94-2.06 2.06-.94-2.06-.94L8.5 2.5l-.94 2.06-2.06.94zm10 10l.94 2.06.94-2.06 2.06-.94-2.06-.94-.94-2.06-.94 2.06-2.06.94z\"/><path d=\"M17.41 7.96l-1.37-1.37c-.4-.4-.92-.59-1.43-.59-.52 0-1.04.2-1.43.59L10.3 9.45l-7.72 7.72c-.78.78-.78 2.05 0 2.83L4 21.41c.39.39.9.59 1.41.59.51 0 1.02-.2 1.41-.59l7.78-7.78 2.81-2.81c.8-.78.8-2.07 0-2.86zM5.41 20L4 18.59l7.72-7.72 1.47 1.35L5.41 20z\"/>\n",
              "  </svg>\n",
              "      </button>\n",
              "      \n",
              "  <style>\n",
              "    .colab-df-container {\n",
              "      display:flex;\n",
              "      flex-wrap:wrap;\n",
              "      gap: 12px;\n",
              "    }\n",
              "\n",
              "    .colab-df-convert {\n",
              "      background-color: #E8F0FE;\n",
              "      border: none;\n",
              "      border-radius: 50%;\n",
              "      cursor: pointer;\n",
              "      display: none;\n",
              "      fill: #1967D2;\n",
              "      height: 32px;\n",
              "      padding: 0 0 0 0;\n",
              "      width: 32px;\n",
              "    }\n",
              "\n",
              "    .colab-df-convert:hover {\n",
              "      background-color: #E2EBFA;\n",
              "      box-shadow: 0px 1px 2px rgba(60, 64, 67, 0.3), 0px 1px 3px 1px rgba(60, 64, 67, 0.15);\n",
              "      fill: #174EA6;\n",
              "    }\n",
              "\n",
              "    [theme=dark] .colab-df-convert {\n",
              "      background-color: #3B4455;\n",
              "      fill: #D2E3FC;\n",
              "    }\n",
              "\n",
              "    [theme=dark] .colab-df-convert:hover {\n",
              "      background-color: #434B5C;\n",
              "      box-shadow: 0px 1px 3px 1px rgba(0, 0, 0, 0.15);\n",
              "      filter: drop-shadow(0px 1px 2px rgba(0, 0, 0, 0.3));\n",
              "      fill: #FFFFFF;\n",
              "    }\n",
              "  </style>\n",
              "\n",
              "      <script>\n",
              "        const buttonEl =\n",
              "          document.querySelector('#df-14608932-6422-4492-bf8c-e2ba3419f1f0 button.colab-df-convert');\n",
              "        buttonEl.style.display =\n",
              "          google.colab.kernel.accessAllowed ? 'block' : 'none';\n",
              "\n",
              "        async function convertToInteractive(key) {\n",
              "          const element = document.querySelector('#df-14608932-6422-4492-bf8c-e2ba3419f1f0');\n",
              "          const dataTable =\n",
              "            await google.colab.kernel.invokeFunction('convertToInteractive',\n",
              "                                                     [key], {});\n",
              "          if (!dataTable) return;\n",
              "\n",
              "          const docLinkHtml = 'Like what you see? Visit the ' +\n",
              "            '<a target=\"_blank\" href=https://colab.research.google.com/notebooks/data_table.ipynb>data table notebook</a>'\n",
              "            + ' to learn more about interactive tables.';\n",
              "          element.innerHTML = '';\n",
              "          dataTable['output_type'] = 'display_data';\n",
              "          await google.colab.output.renderOutput(dataTable, element);\n",
              "          const docLink = document.createElement('div');\n",
              "          docLink.innerHTML = docLinkHtml;\n",
              "          element.appendChild(docLink);\n",
              "        }\n",
              "      </script>\n",
              "    </div>\n",
              "  </div>\n",
              "  "
            ]
          },
          "metadata": {},
          "execution_count": 12
        }
      ]
    },
    {
      "cell_type": "markdown",
      "source": [
        "Last few columns regarding churn are from people that left Telco, don't want to use this data in our prediction.\n",
        "- no one's going to do the exit interview before leaving the company\n",
        "- these columns will give us perfect predictive ability, so drop them"
      ],
      "metadata": {
        "id": "F1_CJR7Sp9cw"
      }
    },
    {
      "cell_type": "code",
      "source": [
        "df.drop(['Churn Label', 'Churn Score', 'CLTV', 'Churn Reason'], axis = 1, inplace = True) #axis = 0 to remove rows, 1 to remove columns\n",
        "df.head()"
      ],
      "metadata": {
        "colab": {
          "base_uri": "https://localhost:8080/",
          "height": 421
        },
        "id": "L2NIZZqpntkU",
        "outputId": "c9c75088-3ed5-4793-ff85-82cd0c9c0949"
      },
      "execution_count": null,
      "outputs": [
        {
          "output_type": "execute_result",
          "data": {
            "text/plain": [
              "   CustomerID  Count        Country       State         City  Zip Code  \\\n",
              "0  3668-QPYBK      1  United States  California  Los Angeles     90003   \n",
              "1  9237-HQITU      1  United States  California  Los Angeles     90005   \n",
              "2  9305-CDSKC      1  United States  California  Los Angeles     90006   \n",
              "3  7892-POOKP      1  United States  California  Los Angeles     90010   \n",
              "4  0280-XJGEX      1  United States  California  Los Angeles     90015   \n",
              "\n",
              "                 Lat Long   Latitude   Longitude  Gender  ...  \\\n",
              "0  33.964131, -118.272783  33.964131 -118.272783    Male  ...   \n",
              "1   34.059281, -118.30742  34.059281 -118.307420  Female  ...   \n",
              "2  34.048013, -118.293953  34.048013 -118.293953  Female  ...   \n",
              "3  34.062125, -118.315709  34.062125 -118.315709  Female  ...   \n",
              "4  34.039224, -118.266293  34.039224 -118.266293    Male  ...   \n",
              "\n",
              "  Device Protection Tech Support Streaming TV  Streaming Movies  \\\n",
              "0                No           No           No                No   \n",
              "1                No           No           No                No   \n",
              "2               Yes           No          Yes               Yes   \n",
              "3               Yes          Yes          Yes               Yes   \n",
              "4               Yes           No          Yes               Yes   \n",
              "\n",
              "         Contract Paperless Billing             Payment Method  \\\n",
              "0  Month-to-month               Yes               Mailed check   \n",
              "1  Month-to-month               Yes           Electronic check   \n",
              "2  Month-to-month               Yes           Electronic check   \n",
              "3  Month-to-month               Yes           Electronic check   \n",
              "4  Month-to-month               Yes  Bank transfer (automatic)   \n",
              "\n",
              "  Monthly Charges Total Charges Churn Value  \n",
              "0           53.85        108.15           1  \n",
              "1           70.70        151.65           1  \n",
              "2           99.65         820.5           1  \n",
              "3          104.80       3046.05           1  \n",
              "4          103.70        5036.3           1  \n",
              "\n",
              "[5 rows x 29 columns]"
            ],
            "text/html": [
              "\n",
              "  <div id=\"df-15320026-b747-46f7-bc74-920aae8f3429\">\n",
              "    <div class=\"colab-df-container\">\n",
              "      <div>\n",
              "<style scoped>\n",
              "    .dataframe tbody tr th:only-of-type {\n",
              "        vertical-align: middle;\n",
              "    }\n",
              "\n",
              "    .dataframe tbody tr th {\n",
              "        vertical-align: top;\n",
              "    }\n",
              "\n",
              "    .dataframe thead th {\n",
              "        text-align: right;\n",
              "    }\n",
              "</style>\n",
              "<table border=\"1\" class=\"dataframe\">\n",
              "  <thead>\n",
              "    <tr style=\"text-align: right;\">\n",
              "      <th></th>\n",
              "      <th>CustomerID</th>\n",
              "      <th>Count</th>\n",
              "      <th>Country</th>\n",
              "      <th>State</th>\n",
              "      <th>City</th>\n",
              "      <th>Zip Code</th>\n",
              "      <th>Lat Long</th>\n",
              "      <th>Latitude</th>\n",
              "      <th>Longitude</th>\n",
              "      <th>Gender</th>\n",
              "      <th>...</th>\n",
              "      <th>Device Protection</th>\n",
              "      <th>Tech Support</th>\n",
              "      <th>Streaming TV</th>\n",
              "      <th>Streaming Movies</th>\n",
              "      <th>Contract</th>\n",
              "      <th>Paperless Billing</th>\n",
              "      <th>Payment Method</th>\n",
              "      <th>Monthly Charges</th>\n",
              "      <th>Total Charges</th>\n",
              "      <th>Churn Value</th>\n",
              "    </tr>\n",
              "  </thead>\n",
              "  <tbody>\n",
              "    <tr>\n",
              "      <th>0</th>\n",
              "      <td>3668-QPYBK</td>\n",
              "      <td>1</td>\n",
              "      <td>United States</td>\n",
              "      <td>California</td>\n",
              "      <td>Los Angeles</td>\n",
              "      <td>90003</td>\n",
              "      <td>33.964131, -118.272783</td>\n",
              "      <td>33.964131</td>\n",
              "      <td>-118.272783</td>\n",
              "      <td>Male</td>\n",
              "      <td>...</td>\n",
              "      <td>No</td>\n",
              "      <td>No</td>\n",
              "      <td>No</td>\n",
              "      <td>No</td>\n",
              "      <td>Month-to-month</td>\n",
              "      <td>Yes</td>\n",
              "      <td>Mailed check</td>\n",
              "      <td>53.85</td>\n",
              "      <td>108.15</td>\n",
              "      <td>1</td>\n",
              "    </tr>\n",
              "    <tr>\n",
              "      <th>1</th>\n",
              "      <td>9237-HQITU</td>\n",
              "      <td>1</td>\n",
              "      <td>United States</td>\n",
              "      <td>California</td>\n",
              "      <td>Los Angeles</td>\n",
              "      <td>90005</td>\n",
              "      <td>34.059281, -118.30742</td>\n",
              "      <td>34.059281</td>\n",
              "      <td>-118.307420</td>\n",
              "      <td>Female</td>\n",
              "      <td>...</td>\n",
              "      <td>No</td>\n",
              "      <td>No</td>\n",
              "      <td>No</td>\n",
              "      <td>No</td>\n",
              "      <td>Month-to-month</td>\n",
              "      <td>Yes</td>\n",
              "      <td>Electronic check</td>\n",
              "      <td>70.70</td>\n",
              "      <td>151.65</td>\n",
              "      <td>1</td>\n",
              "    </tr>\n",
              "    <tr>\n",
              "      <th>2</th>\n",
              "      <td>9305-CDSKC</td>\n",
              "      <td>1</td>\n",
              "      <td>United States</td>\n",
              "      <td>California</td>\n",
              "      <td>Los Angeles</td>\n",
              "      <td>90006</td>\n",
              "      <td>34.048013, -118.293953</td>\n",
              "      <td>34.048013</td>\n",
              "      <td>-118.293953</td>\n",
              "      <td>Female</td>\n",
              "      <td>...</td>\n",
              "      <td>Yes</td>\n",
              "      <td>No</td>\n",
              "      <td>Yes</td>\n",
              "      <td>Yes</td>\n",
              "      <td>Month-to-month</td>\n",
              "      <td>Yes</td>\n",
              "      <td>Electronic check</td>\n",
              "      <td>99.65</td>\n",
              "      <td>820.5</td>\n",
              "      <td>1</td>\n",
              "    </tr>\n",
              "    <tr>\n",
              "      <th>3</th>\n",
              "      <td>7892-POOKP</td>\n",
              "      <td>1</td>\n",
              "      <td>United States</td>\n",
              "      <td>California</td>\n",
              "      <td>Los Angeles</td>\n",
              "      <td>90010</td>\n",
              "      <td>34.062125, -118.315709</td>\n",
              "      <td>34.062125</td>\n",
              "      <td>-118.315709</td>\n",
              "      <td>Female</td>\n",
              "      <td>...</td>\n",
              "      <td>Yes</td>\n",
              "      <td>Yes</td>\n",
              "      <td>Yes</td>\n",
              "      <td>Yes</td>\n",
              "      <td>Month-to-month</td>\n",
              "      <td>Yes</td>\n",
              "      <td>Electronic check</td>\n",
              "      <td>104.80</td>\n",
              "      <td>3046.05</td>\n",
              "      <td>1</td>\n",
              "    </tr>\n",
              "    <tr>\n",
              "      <th>4</th>\n",
              "      <td>0280-XJGEX</td>\n",
              "      <td>1</td>\n",
              "      <td>United States</td>\n",
              "      <td>California</td>\n",
              "      <td>Los Angeles</td>\n",
              "      <td>90015</td>\n",
              "      <td>34.039224, -118.266293</td>\n",
              "      <td>34.039224</td>\n",
              "      <td>-118.266293</td>\n",
              "      <td>Male</td>\n",
              "      <td>...</td>\n",
              "      <td>Yes</td>\n",
              "      <td>No</td>\n",
              "      <td>Yes</td>\n",
              "      <td>Yes</td>\n",
              "      <td>Month-to-month</td>\n",
              "      <td>Yes</td>\n",
              "      <td>Bank transfer (automatic)</td>\n",
              "      <td>103.70</td>\n",
              "      <td>5036.3</td>\n",
              "      <td>1</td>\n",
              "    </tr>\n",
              "  </tbody>\n",
              "</table>\n",
              "<p>5 rows × 29 columns</p>\n",
              "</div>\n",
              "      <button class=\"colab-df-convert\" onclick=\"convertToInteractive('df-15320026-b747-46f7-bc74-920aae8f3429')\"\n",
              "              title=\"Convert this dataframe to an interactive table.\"\n",
              "              style=\"display:none;\">\n",
              "        \n",
              "  <svg xmlns=\"http://www.w3.org/2000/svg\" height=\"24px\"viewBox=\"0 0 24 24\"\n",
              "       width=\"24px\">\n",
              "    <path d=\"M0 0h24v24H0V0z\" fill=\"none\"/>\n",
              "    <path d=\"M18.56 5.44l.94 2.06.94-2.06 2.06-.94-2.06-.94-.94-2.06-.94 2.06-2.06.94zm-11 1L8.5 8.5l.94-2.06 2.06-.94-2.06-.94L8.5 2.5l-.94 2.06-2.06.94zm10 10l.94 2.06.94-2.06 2.06-.94-2.06-.94-.94-2.06-.94 2.06-2.06.94z\"/><path d=\"M17.41 7.96l-1.37-1.37c-.4-.4-.92-.59-1.43-.59-.52 0-1.04.2-1.43.59L10.3 9.45l-7.72 7.72c-.78.78-.78 2.05 0 2.83L4 21.41c.39.39.9.59 1.41.59.51 0 1.02-.2 1.41-.59l7.78-7.78 2.81-2.81c.8-.78.8-2.07 0-2.86zM5.41 20L4 18.59l7.72-7.72 1.47 1.35L5.41 20z\"/>\n",
              "  </svg>\n",
              "      </button>\n",
              "      \n",
              "  <style>\n",
              "    .colab-df-container {\n",
              "      display:flex;\n",
              "      flex-wrap:wrap;\n",
              "      gap: 12px;\n",
              "    }\n",
              "\n",
              "    .colab-df-convert {\n",
              "      background-color: #E8F0FE;\n",
              "      border: none;\n",
              "      border-radius: 50%;\n",
              "      cursor: pointer;\n",
              "      display: none;\n",
              "      fill: #1967D2;\n",
              "      height: 32px;\n",
              "      padding: 0 0 0 0;\n",
              "      width: 32px;\n",
              "    }\n",
              "\n",
              "    .colab-df-convert:hover {\n",
              "      background-color: #E2EBFA;\n",
              "      box-shadow: 0px 1px 2px rgba(60, 64, 67, 0.3), 0px 1px 3px 1px rgba(60, 64, 67, 0.15);\n",
              "      fill: #174EA6;\n",
              "    }\n",
              "\n",
              "    [theme=dark] .colab-df-convert {\n",
              "      background-color: #3B4455;\n",
              "      fill: #D2E3FC;\n",
              "    }\n",
              "\n",
              "    [theme=dark] .colab-df-convert:hover {\n",
              "      background-color: #434B5C;\n",
              "      box-shadow: 0px 1px 3px 1px rgba(0, 0, 0, 0.15);\n",
              "      filter: drop-shadow(0px 1px 2px rgba(0, 0, 0, 0.3));\n",
              "      fill: #FFFFFF;\n",
              "    }\n",
              "  </style>\n",
              "\n",
              "      <script>\n",
              "        const buttonEl =\n",
              "          document.querySelector('#df-15320026-b747-46f7-bc74-920aae8f3429 button.colab-df-convert');\n",
              "        buttonEl.style.display =\n",
              "          google.colab.kernel.accessAllowed ? 'block' : 'none';\n",
              "\n",
              "        async function convertToInteractive(key) {\n",
              "          const element = document.querySelector('#df-15320026-b747-46f7-bc74-920aae8f3429');\n",
              "          const dataTable =\n",
              "            await google.colab.kernel.invokeFunction('convertToInteractive',\n",
              "                                                     [key], {});\n",
              "          if (!dataTable) return;\n",
              "\n",
              "          const docLinkHtml = 'Like what you see? Visit the ' +\n",
              "            '<a target=\"_blank\" href=https://colab.research.google.com/notebooks/data_table.ipynb>data table notebook</a>'\n",
              "            + ' to learn more about interactive tables.';\n",
              "          element.innerHTML = '';\n",
              "          dataTable['output_type'] = 'display_data';\n",
              "          await google.colab.output.renderOutput(dataTable, element);\n",
              "          const docLink = document.createElement('div');\n",
              "          docLink.innerHTML = docLinkHtml;\n",
              "          element.appendChild(docLink);\n",
              "        }\n",
              "      </script>\n",
              "    </div>\n",
              "  </div>\n",
              "  "
            ]
          },
          "metadata": {},
          "execution_count": 13
        }
      ]
    },
    {
      "cell_type": "markdown",
      "source": [
        "Some columns only contain a single value, and will not be useful for classification"
      ],
      "metadata": {
        "id": "DkDDbhNHz6El"
      }
    },
    {
      "cell_type": "code",
      "source": [
        "df['Count'].unique()"
      ],
      "metadata": {
        "colab": {
          "base_uri": "https://localhost:8080/"
        },
        "id": "XIPGYGwGqRHh",
        "outputId": "cb8fc105-741a-4393-ba95-d2ee24cdaa9b"
      },
      "execution_count": null,
      "outputs": [
        {
          "output_type": "execute_result",
          "data": {
            "text/plain": [
              "array([1])"
            ]
          },
          "metadata": {},
          "execution_count": 14
        }
      ]
    },
    {
      "cell_type": "code",
      "source": [
        "df['Country'].unique()"
      ],
      "metadata": {
        "colab": {
          "base_uri": "https://localhost:8080/"
        },
        "id": "7z6vKxYMz5Pg",
        "outputId": "8ad5ba3c-b18a-41f3-ce9f-a5c93aa07b2b"
      },
      "execution_count": null,
      "outputs": [
        {
          "output_type": "execute_result",
          "data": {
            "text/plain": [
              "array(['United States'], dtype=object)"
            ]
          },
          "metadata": {},
          "execution_count": 15
        }
      ]
    },
    {
      "cell_type": "code",
      "source": [
        "df['State'].unique()"
      ],
      "metadata": {
        "colab": {
          "base_uri": "https://localhost:8080/"
        },
        "id": "FeS6udo4z_Nr",
        "outputId": "dcef5a71-a9fd-4ff9-f51d-ec97de770542"
      },
      "execution_count": null,
      "outputs": [
        {
          "output_type": "execute_result",
          "data": {
            "text/plain": [
              "array(['California'], dtype=object)"
            ]
          },
          "metadata": {},
          "execution_count": 16
        }
      ]
    },
    {
      "cell_type": "markdown",
      "source": [
        "City contains abunch of city names, so will leave it in"
      ],
      "metadata": {
        "id": "3RPjBmcB0EIR"
      }
    },
    {
      "cell_type": "code",
      "source": [
        "df['City'].unique()"
      ],
      "metadata": {
        "colab": {
          "base_uri": "https://localhost:8080/"
        },
        "id": "XoYg6kFW0BNB",
        "outputId": "a50f822a-19c8-445e-b107-f5b87a19d0c3"
      },
      "execution_count": null,
      "outputs": [
        {
          "output_type": "execute_result",
          "data": {
            "text/plain": [
              "array(['Los Angeles', 'Beverly Hills', 'Huntington Park', ..., 'Standish',\n",
              "       'Tulelake', 'Olympic Valley'], dtype=object)"
            ]
          },
          "metadata": {},
          "execution_count": 17
        }
      ]
    },
    {
      "cell_type": "markdown",
      "source": [
        "Will also remove `CustomerID` b/c diff value for every single person. \n",
        "- Also remove Lat Long b/c already ahve latitude and longitude"
      ],
      "metadata": {
        "id": "Ks_QinNi0IM0"
      }
    },
    {
      "cell_type": "code",
      "source": [
        "df.drop(['CustomerID', 'Count', 'Country', 'State', 'Lat Long'], axis = 1, inplace = True)\n",
        "df.head()"
      ],
      "metadata": {
        "colab": {
          "base_uri": "https://localhost:8080/",
          "height": 421
        },
        "id": "fOnOd1h80Deu",
        "outputId": "6a6b2d84-4d61-4b2d-dffd-922acb60595b"
      },
      "execution_count": null,
      "outputs": [
        {
          "output_type": "execute_result",
          "data": {
            "text/plain": [
              "          City  Zip Code   Latitude   Longitude  Gender Senior Citizen  \\\n",
              "0  Los Angeles     90003  33.964131 -118.272783    Male             No   \n",
              "1  Los Angeles     90005  34.059281 -118.307420  Female             No   \n",
              "2  Los Angeles     90006  34.048013 -118.293953  Female             No   \n",
              "3  Los Angeles     90010  34.062125 -118.315709  Female             No   \n",
              "4  Los Angeles     90015  34.039224 -118.266293    Male             No   \n",
              "\n",
              "  Partner Dependents  Tenure Months Phone Service  ... Device Protection  \\\n",
              "0      No         No              2           Yes  ...                No   \n",
              "1      No        Yes              2           Yes  ...                No   \n",
              "2      No        Yes              8           Yes  ...               Yes   \n",
              "3     Yes        Yes             28           Yes  ...               Yes   \n",
              "4      No        Yes             49           Yes  ...               Yes   \n",
              "\n",
              "  Tech Support Streaming TV Streaming Movies        Contract  \\\n",
              "0           No           No               No  Month-to-month   \n",
              "1           No           No               No  Month-to-month   \n",
              "2           No          Yes              Yes  Month-to-month   \n",
              "3          Yes          Yes              Yes  Month-to-month   \n",
              "4           No          Yes              Yes  Month-to-month   \n",
              "\n",
              "  Paperless Billing             Payment Method Monthly Charges Total Charges  \\\n",
              "0               Yes               Mailed check           53.85        108.15   \n",
              "1               Yes           Electronic check           70.70        151.65   \n",
              "2               Yes           Electronic check           99.65         820.5   \n",
              "3               Yes           Electronic check          104.80       3046.05   \n",
              "4               Yes  Bank transfer (automatic)          103.70        5036.3   \n",
              "\n",
              "  Churn Value  \n",
              "0           1  \n",
              "1           1  \n",
              "2           1  \n",
              "3           1  \n",
              "4           1  \n",
              "\n",
              "[5 rows x 24 columns]"
            ],
            "text/html": [
              "\n",
              "  <div id=\"df-2db72c60-6352-41c3-801e-d2da6476e235\">\n",
              "    <div class=\"colab-df-container\">\n",
              "      <div>\n",
              "<style scoped>\n",
              "    .dataframe tbody tr th:only-of-type {\n",
              "        vertical-align: middle;\n",
              "    }\n",
              "\n",
              "    .dataframe tbody tr th {\n",
              "        vertical-align: top;\n",
              "    }\n",
              "\n",
              "    .dataframe thead th {\n",
              "        text-align: right;\n",
              "    }\n",
              "</style>\n",
              "<table border=\"1\" class=\"dataframe\">\n",
              "  <thead>\n",
              "    <tr style=\"text-align: right;\">\n",
              "      <th></th>\n",
              "      <th>City</th>\n",
              "      <th>Zip Code</th>\n",
              "      <th>Latitude</th>\n",
              "      <th>Longitude</th>\n",
              "      <th>Gender</th>\n",
              "      <th>Senior Citizen</th>\n",
              "      <th>Partner</th>\n",
              "      <th>Dependents</th>\n",
              "      <th>Tenure Months</th>\n",
              "      <th>Phone Service</th>\n",
              "      <th>...</th>\n",
              "      <th>Device Protection</th>\n",
              "      <th>Tech Support</th>\n",
              "      <th>Streaming TV</th>\n",
              "      <th>Streaming Movies</th>\n",
              "      <th>Contract</th>\n",
              "      <th>Paperless Billing</th>\n",
              "      <th>Payment Method</th>\n",
              "      <th>Monthly Charges</th>\n",
              "      <th>Total Charges</th>\n",
              "      <th>Churn Value</th>\n",
              "    </tr>\n",
              "  </thead>\n",
              "  <tbody>\n",
              "    <tr>\n",
              "      <th>0</th>\n",
              "      <td>Los Angeles</td>\n",
              "      <td>90003</td>\n",
              "      <td>33.964131</td>\n",
              "      <td>-118.272783</td>\n",
              "      <td>Male</td>\n",
              "      <td>No</td>\n",
              "      <td>No</td>\n",
              "      <td>No</td>\n",
              "      <td>2</td>\n",
              "      <td>Yes</td>\n",
              "      <td>...</td>\n",
              "      <td>No</td>\n",
              "      <td>No</td>\n",
              "      <td>No</td>\n",
              "      <td>No</td>\n",
              "      <td>Month-to-month</td>\n",
              "      <td>Yes</td>\n",
              "      <td>Mailed check</td>\n",
              "      <td>53.85</td>\n",
              "      <td>108.15</td>\n",
              "      <td>1</td>\n",
              "    </tr>\n",
              "    <tr>\n",
              "      <th>1</th>\n",
              "      <td>Los Angeles</td>\n",
              "      <td>90005</td>\n",
              "      <td>34.059281</td>\n",
              "      <td>-118.307420</td>\n",
              "      <td>Female</td>\n",
              "      <td>No</td>\n",
              "      <td>No</td>\n",
              "      <td>Yes</td>\n",
              "      <td>2</td>\n",
              "      <td>Yes</td>\n",
              "      <td>...</td>\n",
              "      <td>No</td>\n",
              "      <td>No</td>\n",
              "      <td>No</td>\n",
              "      <td>No</td>\n",
              "      <td>Month-to-month</td>\n",
              "      <td>Yes</td>\n",
              "      <td>Electronic check</td>\n",
              "      <td>70.70</td>\n",
              "      <td>151.65</td>\n",
              "      <td>1</td>\n",
              "    </tr>\n",
              "    <tr>\n",
              "      <th>2</th>\n",
              "      <td>Los Angeles</td>\n",
              "      <td>90006</td>\n",
              "      <td>34.048013</td>\n",
              "      <td>-118.293953</td>\n",
              "      <td>Female</td>\n",
              "      <td>No</td>\n",
              "      <td>No</td>\n",
              "      <td>Yes</td>\n",
              "      <td>8</td>\n",
              "      <td>Yes</td>\n",
              "      <td>...</td>\n",
              "      <td>Yes</td>\n",
              "      <td>No</td>\n",
              "      <td>Yes</td>\n",
              "      <td>Yes</td>\n",
              "      <td>Month-to-month</td>\n",
              "      <td>Yes</td>\n",
              "      <td>Electronic check</td>\n",
              "      <td>99.65</td>\n",
              "      <td>820.5</td>\n",
              "      <td>1</td>\n",
              "    </tr>\n",
              "    <tr>\n",
              "      <th>3</th>\n",
              "      <td>Los Angeles</td>\n",
              "      <td>90010</td>\n",
              "      <td>34.062125</td>\n",
              "      <td>-118.315709</td>\n",
              "      <td>Female</td>\n",
              "      <td>No</td>\n",
              "      <td>Yes</td>\n",
              "      <td>Yes</td>\n",
              "      <td>28</td>\n",
              "      <td>Yes</td>\n",
              "      <td>...</td>\n",
              "      <td>Yes</td>\n",
              "      <td>Yes</td>\n",
              "      <td>Yes</td>\n",
              "      <td>Yes</td>\n",
              "      <td>Month-to-month</td>\n",
              "      <td>Yes</td>\n",
              "      <td>Electronic check</td>\n",
              "      <td>104.80</td>\n",
              "      <td>3046.05</td>\n",
              "      <td>1</td>\n",
              "    </tr>\n",
              "    <tr>\n",
              "      <th>4</th>\n",
              "      <td>Los Angeles</td>\n",
              "      <td>90015</td>\n",
              "      <td>34.039224</td>\n",
              "      <td>-118.266293</td>\n",
              "      <td>Male</td>\n",
              "      <td>No</td>\n",
              "      <td>No</td>\n",
              "      <td>Yes</td>\n",
              "      <td>49</td>\n",
              "      <td>Yes</td>\n",
              "      <td>...</td>\n",
              "      <td>Yes</td>\n",
              "      <td>No</td>\n",
              "      <td>Yes</td>\n",
              "      <td>Yes</td>\n",
              "      <td>Month-to-month</td>\n",
              "      <td>Yes</td>\n",
              "      <td>Bank transfer (automatic)</td>\n",
              "      <td>103.70</td>\n",
              "      <td>5036.3</td>\n",
              "      <td>1</td>\n",
              "    </tr>\n",
              "  </tbody>\n",
              "</table>\n",
              "<p>5 rows × 24 columns</p>\n",
              "</div>\n",
              "      <button class=\"colab-df-convert\" onclick=\"convertToInteractive('df-2db72c60-6352-41c3-801e-d2da6476e235')\"\n",
              "              title=\"Convert this dataframe to an interactive table.\"\n",
              "              style=\"display:none;\">\n",
              "        \n",
              "  <svg xmlns=\"http://www.w3.org/2000/svg\" height=\"24px\"viewBox=\"0 0 24 24\"\n",
              "       width=\"24px\">\n",
              "    <path d=\"M0 0h24v24H0V0z\" fill=\"none\"/>\n",
              "    <path d=\"M18.56 5.44l.94 2.06.94-2.06 2.06-.94-2.06-.94-.94-2.06-.94 2.06-2.06.94zm-11 1L8.5 8.5l.94-2.06 2.06-.94-2.06-.94L8.5 2.5l-.94 2.06-2.06.94zm10 10l.94 2.06.94-2.06 2.06-.94-2.06-.94-.94-2.06-.94 2.06-2.06.94z\"/><path d=\"M17.41 7.96l-1.37-1.37c-.4-.4-.92-.59-1.43-.59-.52 0-1.04.2-1.43.59L10.3 9.45l-7.72 7.72c-.78.78-.78 2.05 0 2.83L4 21.41c.39.39.9.59 1.41.59.51 0 1.02-.2 1.41-.59l7.78-7.78 2.81-2.81c.8-.78.8-2.07 0-2.86zM5.41 20L4 18.59l7.72-7.72 1.47 1.35L5.41 20z\"/>\n",
              "  </svg>\n",
              "      </button>\n",
              "      \n",
              "  <style>\n",
              "    .colab-df-container {\n",
              "      display:flex;\n",
              "      flex-wrap:wrap;\n",
              "      gap: 12px;\n",
              "    }\n",
              "\n",
              "    .colab-df-convert {\n",
              "      background-color: #E8F0FE;\n",
              "      border: none;\n",
              "      border-radius: 50%;\n",
              "      cursor: pointer;\n",
              "      display: none;\n",
              "      fill: #1967D2;\n",
              "      height: 32px;\n",
              "      padding: 0 0 0 0;\n",
              "      width: 32px;\n",
              "    }\n",
              "\n",
              "    .colab-df-convert:hover {\n",
              "      background-color: #E2EBFA;\n",
              "      box-shadow: 0px 1px 2px rgba(60, 64, 67, 0.3), 0px 1px 3px 1px rgba(60, 64, 67, 0.15);\n",
              "      fill: #174EA6;\n",
              "    }\n",
              "\n",
              "    [theme=dark] .colab-df-convert {\n",
              "      background-color: #3B4455;\n",
              "      fill: #D2E3FC;\n",
              "    }\n",
              "\n",
              "    [theme=dark] .colab-df-convert:hover {\n",
              "      background-color: #434B5C;\n",
              "      box-shadow: 0px 1px 3px 1px rgba(0, 0, 0, 0.15);\n",
              "      filter: drop-shadow(0px 1px 2px rgba(0, 0, 0, 0.3));\n",
              "      fill: #FFFFFF;\n",
              "    }\n",
              "  </style>\n",
              "\n",
              "      <script>\n",
              "        const buttonEl =\n",
              "          document.querySelector('#df-2db72c60-6352-41c3-801e-d2da6476e235 button.colab-df-convert');\n",
              "        buttonEl.style.display =\n",
              "          google.colab.kernel.accessAllowed ? 'block' : 'none';\n",
              "\n",
              "        async function convertToInteractive(key) {\n",
              "          const element = document.querySelector('#df-2db72c60-6352-41c3-801e-d2da6476e235');\n",
              "          const dataTable =\n",
              "            await google.colab.kernel.invokeFunction('convertToInteractive',\n",
              "                                                     [key], {});\n",
              "          if (!dataTable) return;\n",
              "\n",
              "          const docLinkHtml = 'Like what you see? Visit the ' +\n",
              "            '<a target=\"_blank\" href=https://colab.research.google.com/notebooks/data_table.ipynb>data table notebook</a>'\n",
              "            + ' to learn more about interactive tables.';\n",
              "          element.innerHTML = '';\n",
              "          dataTable['output_type'] = 'display_data';\n",
              "          await google.colab.output.renderOutput(dataTable, element);\n",
              "          const docLink = document.createElement('div');\n",
              "          docLink.innerHTML = docLinkHtml;\n",
              "          element.appendChild(docLink);\n",
              "        }\n",
              "      </script>\n",
              "    </div>\n",
              "  </div>\n",
              "  "
            ]
          },
          "metadata": {},
          "execution_count": 18
        }
      ]
    },
    {
      "cell_type": "markdown",
      "source": [
        "Although Ok to have whitespace in city names for XGBoost and classification, we can't have whitespace if we want to draw a tree. So take care of it by replacing whitespace with underscore.\n",
        "- can easily remove whitespaces from all values, not just city names, but will wait until we have identified missing values"
      ],
      "metadata": {
        "id": "fOyrOk690XCn"
      }
    },
    {
      "cell_type": "code",
      "source": [
        "df['City'].replace(' ', '_', regex = True, inplace = True)\n",
        "df.head()"
      ],
      "metadata": {
        "colab": {
          "base_uri": "https://localhost:8080/",
          "height": 421
        },
        "id": "fBYDUVO60WRC",
        "outputId": "ed0072b1-c383-44b1-d826-57490757ee2e"
      },
      "execution_count": null,
      "outputs": [
        {
          "output_type": "execute_result",
          "data": {
            "text/plain": [
              "          City  Zip Code   Latitude   Longitude  Gender Senior Citizen  \\\n",
              "0  Los_Angeles     90003  33.964131 -118.272783    Male             No   \n",
              "1  Los_Angeles     90005  34.059281 -118.307420  Female             No   \n",
              "2  Los_Angeles     90006  34.048013 -118.293953  Female             No   \n",
              "3  Los_Angeles     90010  34.062125 -118.315709  Female             No   \n",
              "4  Los_Angeles     90015  34.039224 -118.266293    Male             No   \n",
              "\n",
              "  Partner Dependents  Tenure Months Phone Service  ... Device Protection  \\\n",
              "0      No         No              2           Yes  ...                No   \n",
              "1      No        Yes              2           Yes  ...                No   \n",
              "2      No        Yes              8           Yes  ...               Yes   \n",
              "3     Yes        Yes             28           Yes  ...               Yes   \n",
              "4      No        Yes             49           Yes  ...               Yes   \n",
              "\n",
              "  Tech Support Streaming TV Streaming Movies        Contract  \\\n",
              "0           No           No               No  Month-to-month   \n",
              "1           No           No               No  Month-to-month   \n",
              "2           No          Yes              Yes  Month-to-month   \n",
              "3          Yes          Yes              Yes  Month-to-month   \n",
              "4           No          Yes              Yes  Month-to-month   \n",
              "\n",
              "  Paperless Billing             Payment Method Monthly Charges Total Charges  \\\n",
              "0               Yes               Mailed check           53.85        108.15   \n",
              "1               Yes           Electronic check           70.70        151.65   \n",
              "2               Yes           Electronic check           99.65         820.5   \n",
              "3               Yes           Electronic check          104.80       3046.05   \n",
              "4               Yes  Bank transfer (automatic)          103.70        5036.3   \n",
              "\n",
              "  Churn Value  \n",
              "0           1  \n",
              "1           1  \n",
              "2           1  \n",
              "3           1  \n",
              "4           1  \n",
              "\n",
              "[5 rows x 24 columns]"
            ],
            "text/html": [
              "\n",
              "  <div id=\"df-7ba00622-d74b-4c8e-9a95-589716a97b33\">\n",
              "    <div class=\"colab-df-container\">\n",
              "      <div>\n",
              "<style scoped>\n",
              "    .dataframe tbody tr th:only-of-type {\n",
              "        vertical-align: middle;\n",
              "    }\n",
              "\n",
              "    .dataframe tbody tr th {\n",
              "        vertical-align: top;\n",
              "    }\n",
              "\n",
              "    .dataframe thead th {\n",
              "        text-align: right;\n",
              "    }\n",
              "</style>\n",
              "<table border=\"1\" class=\"dataframe\">\n",
              "  <thead>\n",
              "    <tr style=\"text-align: right;\">\n",
              "      <th></th>\n",
              "      <th>City</th>\n",
              "      <th>Zip Code</th>\n",
              "      <th>Latitude</th>\n",
              "      <th>Longitude</th>\n",
              "      <th>Gender</th>\n",
              "      <th>Senior Citizen</th>\n",
              "      <th>Partner</th>\n",
              "      <th>Dependents</th>\n",
              "      <th>Tenure Months</th>\n",
              "      <th>Phone Service</th>\n",
              "      <th>...</th>\n",
              "      <th>Device Protection</th>\n",
              "      <th>Tech Support</th>\n",
              "      <th>Streaming TV</th>\n",
              "      <th>Streaming Movies</th>\n",
              "      <th>Contract</th>\n",
              "      <th>Paperless Billing</th>\n",
              "      <th>Payment Method</th>\n",
              "      <th>Monthly Charges</th>\n",
              "      <th>Total Charges</th>\n",
              "      <th>Churn Value</th>\n",
              "    </tr>\n",
              "  </thead>\n",
              "  <tbody>\n",
              "    <tr>\n",
              "      <th>0</th>\n",
              "      <td>Los_Angeles</td>\n",
              "      <td>90003</td>\n",
              "      <td>33.964131</td>\n",
              "      <td>-118.272783</td>\n",
              "      <td>Male</td>\n",
              "      <td>No</td>\n",
              "      <td>No</td>\n",
              "      <td>No</td>\n",
              "      <td>2</td>\n",
              "      <td>Yes</td>\n",
              "      <td>...</td>\n",
              "      <td>No</td>\n",
              "      <td>No</td>\n",
              "      <td>No</td>\n",
              "      <td>No</td>\n",
              "      <td>Month-to-month</td>\n",
              "      <td>Yes</td>\n",
              "      <td>Mailed check</td>\n",
              "      <td>53.85</td>\n",
              "      <td>108.15</td>\n",
              "      <td>1</td>\n",
              "    </tr>\n",
              "    <tr>\n",
              "      <th>1</th>\n",
              "      <td>Los_Angeles</td>\n",
              "      <td>90005</td>\n",
              "      <td>34.059281</td>\n",
              "      <td>-118.307420</td>\n",
              "      <td>Female</td>\n",
              "      <td>No</td>\n",
              "      <td>No</td>\n",
              "      <td>Yes</td>\n",
              "      <td>2</td>\n",
              "      <td>Yes</td>\n",
              "      <td>...</td>\n",
              "      <td>No</td>\n",
              "      <td>No</td>\n",
              "      <td>No</td>\n",
              "      <td>No</td>\n",
              "      <td>Month-to-month</td>\n",
              "      <td>Yes</td>\n",
              "      <td>Electronic check</td>\n",
              "      <td>70.70</td>\n",
              "      <td>151.65</td>\n",
              "      <td>1</td>\n",
              "    </tr>\n",
              "    <tr>\n",
              "      <th>2</th>\n",
              "      <td>Los_Angeles</td>\n",
              "      <td>90006</td>\n",
              "      <td>34.048013</td>\n",
              "      <td>-118.293953</td>\n",
              "      <td>Female</td>\n",
              "      <td>No</td>\n",
              "      <td>No</td>\n",
              "      <td>Yes</td>\n",
              "      <td>8</td>\n",
              "      <td>Yes</td>\n",
              "      <td>...</td>\n",
              "      <td>Yes</td>\n",
              "      <td>No</td>\n",
              "      <td>Yes</td>\n",
              "      <td>Yes</td>\n",
              "      <td>Month-to-month</td>\n",
              "      <td>Yes</td>\n",
              "      <td>Electronic check</td>\n",
              "      <td>99.65</td>\n",
              "      <td>820.5</td>\n",
              "      <td>1</td>\n",
              "    </tr>\n",
              "    <tr>\n",
              "      <th>3</th>\n",
              "      <td>Los_Angeles</td>\n",
              "      <td>90010</td>\n",
              "      <td>34.062125</td>\n",
              "      <td>-118.315709</td>\n",
              "      <td>Female</td>\n",
              "      <td>No</td>\n",
              "      <td>Yes</td>\n",
              "      <td>Yes</td>\n",
              "      <td>28</td>\n",
              "      <td>Yes</td>\n",
              "      <td>...</td>\n",
              "      <td>Yes</td>\n",
              "      <td>Yes</td>\n",
              "      <td>Yes</td>\n",
              "      <td>Yes</td>\n",
              "      <td>Month-to-month</td>\n",
              "      <td>Yes</td>\n",
              "      <td>Electronic check</td>\n",
              "      <td>104.80</td>\n",
              "      <td>3046.05</td>\n",
              "      <td>1</td>\n",
              "    </tr>\n",
              "    <tr>\n",
              "      <th>4</th>\n",
              "      <td>Los_Angeles</td>\n",
              "      <td>90015</td>\n",
              "      <td>34.039224</td>\n",
              "      <td>-118.266293</td>\n",
              "      <td>Male</td>\n",
              "      <td>No</td>\n",
              "      <td>No</td>\n",
              "      <td>Yes</td>\n",
              "      <td>49</td>\n",
              "      <td>Yes</td>\n",
              "      <td>...</td>\n",
              "      <td>Yes</td>\n",
              "      <td>No</td>\n",
              "      <td>Yes</td>\n",
              "      <td>Yes</td>\n",
              "      <td>Month-to-month</td>\n",
              "      <td>Yes</td>\n",
              "      <td>Bank transfer (automatic)</td>\n",
              "      <td>103.70</td>\n",
              "      <td>5036.3</td>\n",
              "      <td>1</td>\n",
              "    </tr>\n",
              "  </tbody>\n",
              "</table>\n",
              "<p>5 rows × 24 columns</p>\n",
              "</div>\n",
              "      <button class=\"colab-df-convert\" onclick=\"convertToInteractive('df-7ba00622-d74b-4c8e-9a95-589716a97b33')\"\n",
              "              title=\"Convert this dataframe to an interactive table.\"\n",
              "              style=\"display:none;\">\n",
              "        \n",
              "  <svg xmlns=\"http://www.w3.org/2000/svg\" height=\"24px\"viewBox=\"0 0 24 24\"\n",
              "       width=\"24px\">\n",
              "    <path d=\"M0 0h24v24H0V0z\" fill=\"none\"/>\n",
              "    <path d=\"M18.56 5.44l.94 2.06.94-2.06 2.06-.94-2.06-.94-.94-2.06-.94 2.06-2.06.94zm-11 1L8.5 8.5l.94-2.06 2.06-.94-2.06-.94L8.5 2.5l-.94 2.06-2.06.94zm10 10l.94 2.06.94-2.06 2.06-.94-2.06-.94-.94-2.06-.94 2.06-2.06.94z\"/><path d=\"M17.41 7.96l-1.37-1.37c-.4-.4-.92-.59-1.43-.59-.52 0-1.04.2-1.43.59L10.3 9.45l-7.72 7.72c-.78.78-.78 2.05 0 2.83L4 21.41c.39.39.9.59 1.41.59.51 0 1.02-.2 1.41-.59l7.78-7.78 2.81-2.81c.8-.78.8-2.07 0-2.86zM5.41 20L4 18.59l7.72-7.72 1.47 1.35L5.41 20z\"/>\n",
              "  </svg>\n",
              "      </button>\n",
              "      \n",
              "  <style>\n",
              "    .colab-df-container {\n",
              "      display:flex;\n",
              "      flex-wrap:wrap;\n",
              "      gap: 12px;\n",
              "    }\n",
              "\n",
              "    .colab-df-convert {\n",
              "      background-color: #E8F0FE;\n",
              "      border: none;\n",
              "      border-radius: 50%;\n",
              "      cursor: pointer;\n",
              "      display: none;\n",
              "      fill: #1967D2;\n",
              "      height: 32px;\n",
              "      padding: 0 0 0 0;\n",
              "      width: 32px;\n",
              "    }\n",
              "\n",
              "    .colab-df-convert:hover {\n",
              "      background-color: #E2EBFA;\n",
              "      box-shadow: 0px 1px 2px rgba(60, 64, 67, 0.3), 0px 1px 3px 1px rgba(60, 64, 67, 0.15);\n",
              "      fill: #174EA6;\n",
              "    }\n",
              "\n",
              "    [theme=dark] .colab-df-convert {\n",
              "      background-color: #3B4455;\n",
              "      fill: #D2E3FC;\n",
              "    }\n",
              "\n",
              "    [theme=dark] .colab-df-convert:hover {\n",
              "      background-color: #434B5C;\n",
              "      box-shadow: 0px 1px 3px 1px rgba(0, 0, 0, 0.15);\n",
              "      filter: drop-shadow(0px 1px 2px rgba(0, 0, 0, 0.3));\n",
              "      fill: #FFFFFF;\n",
              "    }\n",
              "  </style>\n",
              "\n",
              "      <script>\n",
              "        const buttonEl =\n",
              "          document.querySelector('#df-7ba00622-d74b-4c8e-9a95-589716a97b33 button.colab-df-convert');\n",
              "        buttonEl.style.display =\n",
              "          google.colab.kernel.accessAllowed ? 'block' : 'none';\n",
              "\n",
              "        async function convertToInteractive(key) {\n",
              "          const element = document.querySelector('#df-7ba00622-d74b-4c8e-9a95-589716a97b33');\n",
              "          const dataTable =\n",
              "            await google.colab.kernel.invokeFunction('convertToInteractive',\n",
              "                                                     [key], {});\n",
              "          if (!dataTable) return;\n",
              "\n",
              "          const docLinkHtml = 'Like what you see? Visit the ' +\n",
              "            '<a target=\"_blank\" href=https://colab.research.google.com/notebooks/data_table.ipynb>data table notebook</a>'\n",
              "            + ' to learn more about interactive tables.';\n",
              "          element.innerHTML = '';\n",
              "          dataTable['output_type'] = 'display_data';\n",
              "          await google.colab.output.renderOutput(dataTable, element);\n",
              "          const docLink = document.createElement('div');\n",
              "          docLink.innerHTML = docLinkHtml;\n",
              "          element.appendChild(docLink);\n",
              "        }\n",
              "      </script>\n",
              "    </div>\n",
              "  </div>\n",
              "  "
            ]
          },
          "metadata": {},
          "execution_count": 20
        }
      ]
    },
    {
      "cell_type": "code",
      "source": [
        "df['City'].unique()[0:10]"
      ],
      "metadata": {
        "colab": {
          "base_uri": "https://localhost:8080/"
        },
        "id": "X3rsiKi70rVP",
        "outputId": "ad501aca-3d2c-4ea8-bc62-a3edd4e9031d"
      },
      "execution_count": null,
      "outputs": [
        {
          "output_type": "execute_result",
          "data": {
            "text/plain": [
              "array(['Los_Angeles', 'Beverly_Hills', 'Huntington_Park', 'Lynwood',\n",
              "       'Marina_Del_Rey', 'Inglewood', 'Santa_Monica', 'Torrance',\n",
              "       'Whittier', 'La_Habra'], dtype=object)"
            ]
          },
          "metadata": {},
          "execution_count": 21
        }
      ]
    },
    {
      "cell_type": "markdown",
      "source": [
        "Eliminate whitespace in the column names, so replace it with underscores"
      ],
      "metadata": {
        "id": "dAQNJ9QI0yKn"
      }
    },
    {
      "cell_type": "code",
      "source": [
        "df.columns = df.columns.str.replace(' ', '_')\n",
        "df.head()"
      ],
      "metadata": {
        "colab": {
          "base_uri": "https://localhost:8080/",
          "height": 386
        },
        "id": "aKjZBODw0xKc",
        "outputId": "e8d880f7-2b3f-46c8-e79e-52c76521dbf9"
      },
      "execution_count": null,
      "outputs": [
        {
          "output_type": "execute_result",
          "data": {
            "text/plain": [
              "          City  Zip_Code   Latitude   Longitude  Gender Senior_Citizen  \\\n",
              "0  Los_Angeles     90003  33.964131 -118.272783    Male             No   \n",
              "1  Los_Angeles     90005  34.059281 -118.307420  Female             No   \n",
              "2  Los_Angeles     90006  34.048013 -118.293953  Female             No   \n",
              "3  Los_Angeles     90010  34.062125 -118.315709  Female             No   \n",
              "4  Los_Angeles     90015  34.039224 -118.266293    Male             No   \n",
              "\n",
              "  Partner Dependents  Tenure_Months Phone_Service  ... Device_Protection  \\\n",
              "0      No         No              2           Yes  ...                No   \n",
              "1      No        Yes              2           Yes  ...                No   \n",
              "2      No        Yes              8           Yes  ...               Yes   \n",
              "3     Yes        Yes             28           Yes  ...               Yes   \n",
              "4      No        Yes             49           Yes  ...               Yes   \n",
              "\n",
              "  Tech_Support Streaming_TV Streaming_Movies        Contract  \\\n",
              "0           No           No               No  Month-to-month   \n",
              "1           No           No               No  Month-to-month   \n",
              "2           No          Yes              Yes  Month-to-month   \n",
              "3          Yes          Yes              Yes  Month-to-month   \n",
              "4           No          Yes              Yes  Month-to-month   \n",
              "\n",
              "  Paperless_Billing             Payment_Method Monthly_Charges Total_Charges  \\\n",
              "0               Yes               Mailed check           53.85        108.15   \n",
              "1               Yes           Electronic check           70.70        151.65   \n",
              "2               Yes           Electronic check           99.65         820.5   \n",
              "3               Yes           Electronic check          104.80       3046.05   \n",
              "4               Yes  Bank transfer (automatic)          103.70        5036.3   \n",
              "\n",
              "  Churn_Value  \n",
              "0           1  \n",
              "1           1  \n",
              "2           1  \n",
              "3           1  \n",
              "4           1  \n",
              "\n",
              "[5 rows x 24 columns]"
            ],
            "text/html": [
              "\n",
              "  <div id=\"df-4040b6e8-4ee4-48fa-8d31-8e911cdcf2c6\">\n",
              "    <div class=\"colab-df-container\">\n",
              "      <div>\n",
              "<style scoped>\n",
              "    .dataframe tbody tr th:only-of-type {\n",
              "        vertical-align: middle;\n",
              "    }\n",
              "\n",
              "    .dataframe tbody tr th {\n",
              "        vertical-align: top;\n",
              "    }\n",
              "\n",
              "    .dataframe thead th {\n",
              "        text-align: right;\n",
              "    }\n",
              "</style>\n",
              "<table border=\"1\" class=\"dataframe\">\n",
              "  <thead>\n",
              "    <tr style=\"text-align: right;\">\n",
              "      <th></th>\n",
              "      <th>City</th>\n",
              "      <th>Zip_Code</th>\n",
              "      <th>Latitude</th>\n",
              "      <th>Longitude</th>\n",
              "      <th>Gender</th>\n",
              "      <th>Senior_Citizen</th>\n",
              "      <th>Partner</th>\n",
              "      <th>Dependents</th>\n",
              "      <th>Tenure_Months</th>\n",
              "      <th>Phone_Service</th>\n",
              "      <th>...</th>\n",
              "      <th>Device_Protection</th>\n",
              "      <th>Tech_Support</th>\n",
              "      <th>Streaming_TV</th>\n",
              "      <th>Streaming_Movies</th>\n",
              "      <th>Contract</th>\n",
              "      <th>Paperless_Billing</th>\n",
              "      <th>Payment_Method</th>\n",
              "      <th>Monthly_Charges</th>\n",
              "      <th>Total_Charges</th>\n",
              "      <th>Churn_Value</th>\n",
              "    </tr>\n",
              "  </thead>\n",
              "  <tbody>\n",
              "    <tr>\n",
              "      <th>0</th>\n",
              "      <td>Los_Angeles</td>\n",
              "      <td>90003</td>\n",
              "      <td>33.964131</td>\n",
              "      <td>-118.272783</td>\n",
              "      <td>Male</td>\n",
              "      <td>No</td>\n",
              "      <td>No</td>\n",
              "      <td>No</td>\n",
              "      <td>2</td>\n",
              "      <td>Yes</td>\n",
              "      <td>...</td>\n",
              "      <td>No</td>\n",
              "      <td>No</td>\n",
              "      <td>No</td>\n",
              "      <td>No</td>\n",
              "      <td>Month-to-month</td>\n",
              "      <td>Yes</td>\n",
              "      <td>Mailed check</td>\n",
              "      <td>53.85</td>\n",
              "      <td>108.15</td>\n",
              "      <td>1</td>\n",
              "    </tr>\n",
              "    <tr>\n",
              "      <th>1</th>\n",
              "      <td>Los_Angeles</td>\n",
              "      <td>90005</td>\n",
              "      <td>34.059281</td>\n",
              "      <td>-118.307420</td>\n",
              "      <td>Female</td>\n",
              "      <td>No</td>\n",
              "      <td>No</td>\n",
              "      <td>Yes</td>\n",
              "      <td>2</td>\n",
              "      <td>Yes</td>\n",
              "      <td>...</td>\n",
              "      <td>No</td>\n",
              "      <td>No</td>\n",
              "      <td>No</td>\n",
              "      <td>No</td>\n",
              "      <td>Month-to-month</td>\n",
              "      <td>Yes</td>\n",
              "      <td>Electronic check</td>\n",
              "      <td>70.70</td>\n",
              "      <td>151.65</td>\n",
              "      <td>1</td>\n",
              "    </tr>\n",
              "    <tr>\n",
              "      <th>2</th>\n",
              "      <td>Los_Angeles</td>\n",
              "      <td>90006</td>\n",
              "      <td>34.048013</td>\n",
              "      <td>-118.293953</td>\n",
              "      <td>Female</td>\n",
              "      <td>No</td>\n",
              "      <td>No</td>\n",
              "      <td>Yes</td>\n",
              "      <td>8</td>\n",
              "      <td>Yes</td>\n",
              "      <td>...</td>\n",
              "      <td>Yes</td>\n",
              "      <td>No</td>\n",
              "      <td>Yes</td>\n",
              "      <td>Yes</td>\n",
              "      <td>Month-to-month</td>\n",
              "      <td>Yes</td>\n",
              "      <td>Electronic check</td>\n",
              "      <td>99.65</td>\n",
              "      <td>820.5</td>\n",
              "      <td>1</td>\n",
              "    </tr>\n",
              "    <tr>\n",
              "      <th>3</th>\n",
              "      <td>Los_Angeles</td>\n",
              "      <td>90010</td>\n",
              "      <td>34.062125</td>\n",
              "      <td>-118.315709</td>\n",
              "      <td>Female</td>\n",
              "      <td>No</td>\n",
              "      <td>Yes</td>\n",
              "      <td>Yes</td>\n",
              "      <td>28</td>\n",
              "      <td>Yes</td>\n",
              "      <td>...</td>\n",
              "      <td>Yes</td>\n",
              "      <td>Yes</td>\n",
              "      <td>Yes</td>\n",
              "      <td>Yes</td>\n",
              "      <td>Month-to-month</td>\n",
              "      <td>Yes</td>\n",
              "      <td>Electronic check</td>\n",
              "      <td>104.80</td>\n",
              "      <td>3046.05</td>\n",
              "      <td>1</td>\n",
              "    </tr>\n",
              "    <tr>\n",
              "      <th>4</th>\n",
              "      <td>Los_Angeles</td>\n",
              "      <td>90015</td>\n",
              "      <td>34.039224</td>\n",
              "      <td>-118.266293</td>\n",
              "      <td>Male</td>\n",
              "      <td>No</td>\n",
              "      <td>No</td>\n",
              "      <td>Yes</td>\n",
              "      <td>49</td>\n",
              "      <td>Yes</td>\n",
              "      <td>...</td>\n",
              "      <td>Yes</td>\n",
              "      <td>No</td>\n",
              "      <td>Yes</td>\n",
              "      <td>Yes</td>\n",
              "      <td>Month-to-month</td>\n",
              "      <td>Yes</td>\n",
              "      <td>Bank transfer (automatic)</td>\n",
              "      <td>103.70</td>\n",
              "      <td>5036.3</td>\n",
              "      <td>1</td>\n",
              "    </tr>\n",
              "  </tbody>\n",
              "</table>\n",
              "<p>5 rows × 24 columns</p>\n",
              "</div>\n",
              "      <button class=\"colab-df-convert\" onclick=\"convertToInteractive('df-4040b6e8-4ee4-48fa-8d31-8e911cdcf2c6')\"\n",
              "              title=\"Convert this dataframe to an interactive table.\"\n",
              "              style=\"display:none;\">\n",
              "        \n",
              "  <svg xmlns=\"http://www.w3.org/2000/svg\" height=\"24px\"viewBox=\"0 0 24 24\"\n",
              "       width=\"24px\">\n",
              "    <path d=\"M0 0h24v24H0V0z\" fill=\"none\"/>\n",
              "    <path d=\"M18.56 5.44l.94 2.06.94-2.06 2.06-.94-2.06-.94-.94-2.06-.94 2.06-2.06.94zm-11 1L8.5 8.5l.94-2.06 2.06-.94-2.06-.94L8.5 2.5l-.94 2.06-2.06.94zm10 10l.94 2.06.94-2.06 2.06-.94-2.06-.94-.94-2.06-.94 2.06-2.06.94z\"/><path d=\"M17.41 7.96l-1.37-1.37c-.4-.4-.92-.59-1.43-.59-.52 0-1.04.2-1.43.59L10.3 9.45l-7.72 7.72c-.78.78-.78 2.05 0 2.83L4 21.41c.39.39.9.59 1.41.59.51 0 1.02-.2 1.41-.59l7.78-7.78 2.81-2.81c.8-.78.8-2.07 0-2.86zM5.41 20L4 18.59l7.72-7.72 1.47 1.35L5.41 20z\"/>\n",
              "  </svg>\n",
              "      </button>\n",
              "      \n",
              "  <style>\n",
              "    .colab-df-container {\n",
              "      display:flex;\n",
              "      flex-wrap:wrap;\n",
              "      gap: 12px;\n",
              "    }\n",
              "\n",
              "    .colab-df-convert {\n",
              "      background-color: #E8F0FE;\n",
              "      border: none;\n",
              "      border-radius: 50%;\n",
              "      cursor: pointer;\n",
              "      display: none;\n",
              "      fill: #1967D2;\n",
              "      height: 32px;\n",
              "      padding: 0 0 0 0;\n",
              "      width: 32px;\n",
              "    }\n",
              "\n",
              "    .colab-df-convert:hover {\n",
              "      background-color: #E2EBFA;\n",
              "      box-shadow: 0px 1px 2px rgba(60, 64, 67, 0.3), 0px 1px 3px 1px rgba(60, 64, 67, 0.15);\n",
              "      fill: #174EA6;\n",
              "    }\n",
              "\n",
              "    [theme=dark] .colab-df-convert {\n",
              "      background-color: #3B4455;\n",
              "      fill: #D2E3FC;\n",
              "    }\n",
              "\n",
              "    [theme=dark] .colab-df-convert:hover {\n",
              "      background-color: #434B5C;\n",
              "      box-shadow: 0px 1px 3px 1px rgba(0, 0, 0, 0.15);\n",
              "      filter: drop-shadow(0px 1px 2px rgba(0, 0, 0, 0.3));\n",
              "      fill: #FFFFFF;\n",
              "    }\n",
              "  </style>\n",
              "\n",
              "      <script>\n",
              "        const buttonEl =\n",
              "          document.querySelector('#df-4040b6e8-4ee4-48fa-8d31-8e911cdcf2c6 button.colab-df-convert');\n",
              "        buttonEl.style.display =\n",
              "          google.colab.kernel.accessAllowed ? 'block' : 'none';\n",
              "\n",
              "        async function convertToInteractive(key) {\n",
              "          const element = document.querySelector('#df-4040b6e8-4ee4-48fa-8d31-8e911cdcf2c6');\n",
              "          const dataTable =\n",
              "            await google.colab.kernel.invokeFunction('convertToInteractive',\n",
              "                                                     [key], {});\n",
              "          if (!dataTable) return;\n",
              "\n",
              "          const docLinkHtml = 'Like what you see? Visit the ' +\n",
              "            '<a target=\"_blank\" href=https://colab.research.google.com/notebooks/data_table.ipynb>data table notebook</a>'\n",
              "            + ' to learn more about interactive tables.';\n",
              "          element.innerHTML = '';\n",
              "          dataTable['output_type'] = 'display_data';\n",
              "          await google.colab.output.renderOutput(dataTable, element);\n",
              "          const docLink = document.createElement('div');\n",
              "          docLink.innerHTML = docLinkHtml;\n",
              "          element.appendChild(docLink);\n",
              "        }\n",
              "      </script>\n",
              "    </div>\n",
              "  </div>\n",
              "  "
            ]
          },
          "metadata": {},
          "execution_count": 22
        }
      ]
    },
    {
      "cell_type": "markdown",
      "source": [
        "Removed all model that won't help us create an effective XGB model and reformatted the column name and city names so we can draw a tree. Now ready to identify and deal with Missing Data\n",
        "\n",
        "# Missing Data Part 1: Identifying Missing data\n",
        "unfortunately, biggest part of any data analysis project is making sure that the data are correctly formatted and fixing it when it's not. First part of process is identifying Missing data.\n",
        "\n",
        "Missing data is simply blank space, or a surrogate value like NA, that indicates we failed to collect data for one of the features. \n",
        "\n",
        "One thing that is relatively unique about XGBoost is that it has default behavior for missing data. SO all we have to do is identify missing values and make sure they are set to 0.\n",
        "- author of XGBoost has said even when you code something with 0 and use 0 to mean missing data, XGBoost still does a great job. It doesn't interfere with how it performs\n",
        "\n",
        "First see what type of data is in each column"
      ],
      "metadata": {
        "id": "oHw9antL3mrU"
      }
    },
    {
      "cell_type": "code",
      "source": [
        "df.dtypes"
      ],
      "metadata": {
        "colab": {
          "base_uri": "https://localhost:8080/"
        },
        "id": "3N1j8phi038m",
        "outputId": "6331c698-cff1-47b0-f809-d5257760cbd9"
      },
      "execution_count": null,
      "outputs": [
        {
          "output_type": "execute_result",
          "data": {
            "text/plain": [
              "City                  object\n",
              "Zip_Code               int64\n",
              "Latitude             float64\n",
              "Longitude            float64\n",
              "Gender                object\n",
              "Senior_Citizen        object\n",
              "Partner               object\n",
              "Dependents            object\n",
              "Tenure_Months          int64\n",
              "Phone_Service         object\n",
              "Multiple_Lines        object\n",
              "Internet_Service      object\n",
              "Online_Security       object\n",
              "Online_Backup         object\n",
              "Device_Protection     object\n",
              "Tech_Support          object\n",
              "Streaming_TV          object\n",
              "Streaming_Movies      object\n",
              "Contract              object\n",
              "Paperless_Billing     object\n",
              "Payment_Method        object\n",
              "Monthly_Charges      float64\n",
              "Total_Charges         object\n",
              "Churn_Value            int64\n",
              "dtype: object"
            ]
          },
          "metadata": {},
          "execution_count": 23
        }
      ]
    },
    {
      "cell_type": "markdown",
      "source": [
        "A lot of object columns, is ok, b/c saw a lot of text responses. Verify we are getting what we expect"
      ],
      "metadata": {
        "id": "rNaoWNOt5t3b"
      }
    },
    {
      "cell_type": "code",
      "source": [
        "df['Phone_Service'].unique()"
      ],
      "metadata": {
        "colab": {
          "base_uri": "https://localhost:8080/"
        },
        "id": "XN1QGTh44GZy",
        "outputId": "59bd7067-8689-4ba5-b6bc-ad8a1d789f96"
      },
      "execution_count": null,
      "outputs": [
        {
          "output_type": "execute_result",
          "data": {
            "text/plain": [
              "array(['Yes', 'No'], dtype=object)"
            ]
          },
          "metadata": {},
          "execution_count": 24
        }
      ]
    },
    {
      "cell_type": "markdown",
      "source": [
        "So `Phone_Service` only contains `Yes` and `No`. In practice, check every other column. Here we focus on 1 column that could be a problem: `Total_Charges`"
      ],
      "metadata": {
        "id": "s9vHLqmg54ke"
      }
    },
    {
      "cell_type": "code",
      "source": [
        "df['City'].unique()"
      ],
      "metadata": {
        "colab": {
          "base_uri": "https://localhost:8080/"
        },
        "id": "Y38RbbIJ50zM",
        "outputId": "f71e574a-351c-4d5b-d7d6-0312802955ea"
      },
      "execution_count": null,
      "outputs": [
        {
          "output_type": "execute_result",
          "data": {
            "text/plain": [
              "array(['Los_Angeles', 'Beverly_Hills', 'Huntington_Park', ..., 'Standish',\n",
              "       'Tulelake', 'Olympic_Valley'], dtype=object)"
            ]
          },
          "metadata": {},
          "execution_count": 25
        }
      ]
    },
    {
      "cell_type": "code",
      "source": [
        "df['Zip_Code'].unique()"
      ],
      "metadata": {
        "colab": {
          "base_uri": "https://localhost:8080/"
        },
        "id": "x-Ndz7AP6T3a",
        "outputId": "371d73d0-ce0d-47dd-dd18-b8f6e9741947"
      },
      "execution_count": null,
      "outputs": [
        {
          "output_type": "execute_result",
          "data": {
            "text/plain": [
              "array([90003, 90005, 90006, ..., 96128, 96134, 96146])"
            ]
          },
          "metadata": {},
          "execution_count": 26
        }
      ]
    },
    {
      "cell_type": "code",
      "source": [
        "df['Latitude'].unique()"
      ],
      "metadata": {
        "colab": {
          "base_uri": "https://localhost:8080/"
        },
        "id": "K9-zZcJP6VQY",
        "outputId": "abd9e5c6-8909-4ade-b6e5-44f73d05379b"
      },
      "execution_count": null,
      "outputs": [
        {
          "output_type": "execute_result",
          "data": {
            "text/plain": [
              "array([33.964131, 34.059281, 34.048013, ..., 40.346634, 41.813521,\n",
              "       39.191797])"
            ]
          },
          "metadata": {},
          "execution_count": 27
        }
      ]
    },
    {
      "cell_type": "code",
      "source": [
        "df['Longitude'].unique()"
      ],
      "metadata": {
        "colab": {
          "base_uri": "https://localhost:8080/"
        },
        "id": "brWg3maR6ZRF",
        "outputId": "40587c64-9ede-46e3-d0b2-ad9919ab8133"
      },
      "execution_count": null,
      "outputs": [
        {
          "output_type": "execute_result",
          "data": {
            "text/plain": [
              "array([-118.272783, -118.30742 , -118.293953, ..., -120.386422,\n",
              "       -121.492666, -120.212401])"
            ]
          },
          "metadata": {},
          "execution_count": 28
        }
      ]
    },
    {
      "cell_type": "code",
      "source": [
        "df['Gender'].unique()"
      ],
      "metadata": {
        "colab": {
          "base_uri": "https://localhost:8080/"
        },
        "id": "OZW4tHuf6awK",
        "outputId": "6162bf52-ad39-4f7f-f74a-5eb62639c3ea"
      },
      "execution_count": null,
      "outputs": [
        {
          "output_type": "execute_result",
          "data": {
            "text/plain": [
              "array(['Male', 'Female'], dtype=object)"
            ]
          },
          "metadata": {},
          "execution_count": 29
        }
      ]
    },
    {
      "cell_type": "code",
      "source": [
        "df['Senior_Citizen'].unique()"
      ],
      "metadata": {
        "colab": {
          "base_uri": "https://localhost:8080/"
        },
        "id": "86NhwyXu6g0r",
        "outputId": "6b361fb2-81a1-4ddf-d552-925eedf0dda0"
      },
      "execution_count": null,
      "outputs": [
        {
          "output_type": "execute_result",
          "data": {
            "text/plain": [
              "array(['No', 'Yes'], dtype=object)"
            ]
          },
          "metadata": {},
          "execution_count": 30
        }
      ]
    },
    {
      "cell_type": "code",
      "source": [
        "df['Partner'].unique()"
      ],
      "metadata": {
        "colab": {
          "base_uri": "https://localhost:8080/"
        },
        "id": "GRSC9YM96iwL",
        "outputId": "9e14db57-9b10-4e5a-cd31-886e3378eae2"
      },
      "execution_count": null,
      "outputs": [
        {
          "output_type": "execute_result",
          "data": {
            "text/plain": [
              "array(['No', 'Yes'], dtype=object)"
            ]
          },
          "metadata": {},
          "execution_count": 31
        }
      ]
    },
    {
      "cell_type": "code",
      "source": [
        "df['Dependents'].unique()"
      ],
      "metadata": {
        "colab": {
          "base_uri": "https://localhost:8080/"
        },
        "id": "TqZJ5SXA6lwW",
        "outputId": "748e3fff-ddcb-432a-e076-3a7fd4668bbe"
      },
      "execution_count": null,
      "outputs": [
        {
          "output_type": "execute_result",
          "data": {
            "text/plain": [
              "array(['No', 'Yes'], dtype=object)"
            ]
          },
          "metadata": {},
          "execution_count": 32
        }
      ]
    },
    {
      "cell_type": "code",
      "source": [
        "df['Tenure_Months'].unique()"
      ],
      "metadata": {
        "colab": {
          "base_uri": "https://localhost:8080/"
        },
        "id": "0bIP0vZE6nfA",
        "outputId": "50d69a41-a67a-4d8f-a9e5-6a21a4cf729f"
      },
      "execution_count": null,
      "outputs": [
        {
          "output_type": "execute_result",
          "data": {
            "text/plain": [
              "array([ 2,  8, 28, 49, 10,  1, 47, 17,  5, 34, 11, 15, 18,  9,  7, 12, 25,\n",
              "       68, 55, 37,  3, 27, 20,  4, 58, 53, 13,  6, 19, 59, 16, 52, 24, 32,\n",
              "       38, 54, 43, 63, 21, 69, 22, 61, 60, 48, 40, 23, 39, 35, 56, 65, 33,\n",
              "       30, 45, 46, 62, 70, 50, 44, 71, 26, 14, 41, 66, 64, 29, 42, 67, 51,\n",
              "       31, 57, 36, 72,  0])"
            ]
          },
          "metadata": {},
          "execution_count": 33
        }
      ]
    },
    {
      "cell_type": "code",
      "source": [
        "df['Multiple_Lines'].unique()"
      ],
      "metadata": {
        "colab": {
          "base_uri": "https://localhost:8080/"
        },
        "id": "gQYhxjR96q2Y",
        "outputId": "7bb757b1-b879-40e5-89be-649f823fcb1f"
      },
      "execution_count": null,
      "outputs": [
        {
          "output_type": "execute_result",
          "data": {
            "text/plain": [
              "array(['No', 'Yes', 'No phone service'], dtype=object)"
            ]
          },
          "metadata": {},
          "execution_count": 34
        }
      ]
    },
    {
      "cell_type": "code",
      "source": [
        "df['Internet_Service'].unique()"
      ],
      "metadata": {
        "colab": {
          "base_uri": "https://localhost:8080/"
        },
        "id": "MM5ifsdv6tu4",
        "outputId": "63d71e72-d489-4c8f-97b4-37732b713d3f"
      },
      "execution_count": null,
      "outputs": [
        {
          "output_type": "execute_result",
          "data": {
            "text/plain": [
              "array(['DSL', 'Fiber optic', 'No'], dtype=object)"
            ]
          },
          "metadata": {},
          "execution_count": 35
        }
      ]
    },
    {
      "cell_type": "code",
      "source": [
        "df['Online_Security'].unique()"
      ],
      "metadata": {
        "colab": {
          "base_uri": "https://localhost:8080/"
        },
        "id": "B3L6hlyG6vtq",
        "outputId": "503070b3-67df-4b07-9a29-236597db2666"
      },
      "execution_count": null,
      "outputs": [
        {
          "output_type": "execute_result",
          "data": {
            "text/plain": [
              "array(['Yes', 'No', 'No internet service'], dtype=object)"
            ]
          },
          "metadata": {},
          "execution_count": 36
        }
      ]
    },
    {
      "cell_type": "code",
      "source": [
        "df['Online_Backup'].unique()"
      ],
      "metadata": {
        "colab": {
          "base_uri": "https://localhost:8080/"
        },
        "id": "PzIjO6F-6zp1",
        "outputId": "f63417c5-b30c-4b5e-ffd1-3b44ec29158d"
      },
      "execution_count": null,
      "outputs": [
        {
          "output_type": "execute_result",
          "data": {
            "text/plain": [
              "array(['Yes', 'No', 'No internet service'], dtype=object)"
            ]
          },
          "metadata": {},
          "execution_count": 37
        }
      ]
    },
    {
      "cell_type": "code",
      "source": [
        "df['Device_Protection'].unique()"
      ],
      "metadata": {
        "colab": {
          "base_uri": "https://localhost:8080/"
        },
        "id": "87WODahD7Fou",
        "outputId": "266c5ab5-d4ea-4b75-cafa-562f398e9311"
      },
      "execution_count": null,
      "outputs": [
        {
          "output_type": "execute_result",
          "data": {
            "text/plain": [
              "array(['No', 'Yes', 'No internet service'], dtype=object)"
            ]
          },
          "metadata": {},
          "execution_count": 38
        }
      ]
    },
    {
      "cell_type": "code",
      "source": [
        "df['Tech_Support'].unique()"
      ],
      "metadata": {
        "colab": {
          "base_uri": "https://localhost:8080/"
        },
        "id": "40CsAMH27HtK",
        "outputId": "424921dd-3f34-4d90-a48b-fe327f04ce61"
      },
      "execution_count": null,
      "outputs": [
        {
          "output_type": "execute_result",
          "data": {
            "text/plain": [
              "array(['No', 'Yes', 'No internet service'], dtype=object)"
            ]
          },
          "metadata": {},
          "execution_count": 39
        }
      ]
    },
    {
      "cell_type": "code",
      "source": [
        "df['Streaming_TV'].unique()"
      ],
      "metadata": {
        "colab": {
          "base_uri": "https://localhost:8080/"
        },
        "id": "5Ak_vu-x7J_r",
        "outputId": "6a6f3038-1a79-4550-d289-a1af81627ae5"
      },
      "execution_count": null,
      "outputs": [
        {
          "output_type": "execute_result",
          "data": {
            "text/plain": [
              "array(['No', 'Yes', 'No internet service'], dtype=object)"
            ]
          },
          "metadata": {},
          "execution_count": 40
        }
      ]
    },
    {
      "cell_type": "code",
      "source": [
        "df['Streaming_Movies'].unique()"
      ],
      "metadata": {
        "colab": {
          "base_uri": "https://localhost:8080/"
        },
        "id": "Mym8EiIz7M1S",
        "outputId": "298c14a6-4a15-4a90-97db-fc8c64158af7"
      },
      "execution_count": null,
      "outputs": [
        {
          "output_type": "execute_result",
          "data": {
            "text/plain": [
              "array(['No', 'Yes', 'No internet service'], dtype=object)"
            ]
          },
          "metadata": {},
          "execution_count": 41
        }
      ]
    },
    {
      "cell_type": "code",
      "source": [
        "df['Contract'].unique()"
      ],
      "metadata": {
        "colab": {
          "base_uri": "https://localhost:8080/"
        },
        "id": "alfBEEPz7PRN",
        "outputId": "ba02a216-11f5-4202-bb9e-7fd36d4120f9"
      },
      "execution_count": null,
      "outputs": [
        {
          "output_type": "execute_result",
          "data": {
            "text/plain": [
              "array(['Month-to-month', 'Two year', 'One year'], dtype=object)"
            ]
          },
          "metadata": {},
          "execution_count": 43
        }
      ]
    },
    {
      "cell_type": "code",
      "source": [
        "df['Paperless_Billing'].unique()"
      ],
      "metadata": {
        "colab": {
          "base_uri": "https://localhost:8080/"
        },
        "id": "OLK9eB1d7Q5X",
        "outputId": "7c4842d8-1e87-4cb5-ae21-d2d8d3554055"
      },
      "execution_count": null,
      "outputs": [
        {
          "output_type": "execute_result",
          "data": {
            "text/plain": [
              "array(['Yes', 'No'], dtype=object)"
            ]
          },
          "metadata": {},
          "execution_count": 44
        }
      ]
    },
    {
      "cell_type": "code",
      "source": [
        "df['Payment_Method'].unique()"
      ],
      "metadata": {
        "colab": {
          "base_uri": "https://localhost:8080/"
        },
        "id": "7gDy_SXO7Udp",
        "outputId": "73ea1527-93ea-42d4-8498-5b8915002a95"
      },
      "execution_count": null,
      "outputs": [
        {
          "output_type": "execute_result",
          "data": {
            "text/plain": [
              "array(['Mailed check', 'Electronic check', 'Bank transfer (automatic)',\n",
              "       'Credit card (automatic)'], dtype=object)"
            ]
          },
          "metadata": {},
          "execution_count": 45
        }
      ]
    },
    {
      "cell_type": "code",
      "source": [
        "df['Monthly_Charges'].unique()"
      ],
      "metadata": {
        "colab": {
          "base_uri": "https://localhost:8080/"
        },
        "id": "EfOhxxYz7WyI",
        "outputId": "04eca321-7059-4852-acd2-b5ca8d4a6d6c"
      },
      "execution_count": null,
      "outputs": [
        {
          "output_type": "execute_result",
          "data": {
            "text/plain": [
              "array([ 53.85,  70.7 ,  99.65, ..., 108.35,  63.1 ,  78.7 ])"
            ]
          },
          "metadata": {},
          "execution_count": 46
        }
      ]
    },
    {
      "cell_type": "code",
      "source": [
        "df['Churn_Value'].unique()"
      ],
      "metadata": {
        "colab": {
          "base_uri": "https://localhost:8080/"
        },
        "id": "yx6mRJNV7eYS",
        "outputId": "2b1e936a-a33f-4347-9c4b-e05b4007e217"
      },
      "execution_count": null,
      "outputs": [
        {
          "output_type": "execute_result",
          "data": {
            "text/plain": [
              "array([1, 0])"
            ]
          },
          "metadata": {},
          "execution_count": 49
        }
      ]
    },
    {
      "cell_type": "markdown",
      "source": [
        " Here we focus on 1 column that could be a problem: Total_Charges"
      ],
      "metadata": {
        "id": "TaVJ98VY7k_w"
      }
    },
    {
      "cell_type": "code",
      "source": [
        "df['Total_Charges'].unique()"
      ],
      "metadata": {
        "colab": {
          "base_uri": "https://localhost:8080/"
        },
        "id": "D7cPcQH-7ZVK",
        "outputId": "0307aba3-b199-4f82-9807-85ebefe4aaf8"
      },
      "execution_count": null,
      "outputs": [
        {
          "output_type": "execute_result",
          "data": {
            "text/plain": [
              "array(['108.15', '151.65', '820.5', ..., '7362.9', '346.45', '6844.5'],\n",
              "      dtype=object)"
            ]
          },
          "metadata": {},
          "execution_count": 47
        }
      ]
    },
    {
      "cell_type": "markdown",
      "source": [
        "Too many values to print \"...\". Try to convert to numeric, we get error.\n",
        "- unable to parse string \" \" at position 2234\n",
        "- tells us there are blank spaces in this column\n",
        "\n",
        "# Missing Data Part 2: Dealing with Missing Data, XGBoost Style\n",
        "One thing that is relatively unique about XGBoost is that it determines default behavior for missing data. So all we have to do is identify missing values and make sure they are set to 0.\n",
        "\n",
        "However before we do that, let's see how many rows are missing data. If it's a lot, then we might have a problem on our hands that is bigger than XGBoost can deal with on its own. If it's not many then we can just set them to 0"
      ],
      "metadata": {
        "id": "QPvWOZvo7rAI"
      }
    },
    {
      "cell_type": "code",
      "source": [
        "len(df.loc[df['Total_Charges'] == ' '])"
      ],
      "metadata": {
        "colab": {
          "base_uri": "https://localhost:8080/"
        },
        "id": "Zo3oxRo27b2z",
        "outputId": "13ba79db-9875-4d48-f6dc-48e59c9df0f7"
      },
      "execution_count": null,
      "outputs": [
        {
          "output_type": "execute_result",
          "data": {
            "text/plain": [
              "11"
            ]
          },
          "metadata": {},
          "execution_count": 50
        }
      ]
    },
    {
      "cell_type": "markdown",
      "source": [
        "Only 11 rows having missing data, let's look at them"
      ],
      "metadata": {
        "id": "c2VMi1Ly8STE"
      }
    },
    {
      "cell_type": "code",
      "source": [
        "df.loc[df['Total_Charges'] == ' ']"
      ],
      "metadata": {
        "colab": {
          "base_uri": "https://localhost:8080/",
          "height": 644
        },
        "id": "qVxRBlZv8RIA",
        "outputId": "0ec23153-67af-45dc-ae89-f6bd70dcbc57"
      },
      "execution_count": null,
      "outputs": [
        {
          "output_type": "execute_result",
          "data": {
            "text/plain": [
              "                City  Zip_Code   Latitude   Longitude  Gender Senior_Citizen  \\\n",
              "2234  San_Bernardino     92408  34.084909 -117.258107  Female             No   \n",
              "2438    Independence     93526  36.869584 -118.189241    Male             No   \n",
              "2568       San_Mateo     94401  37.590421 -122.306467  Female             No   \n",
              "2667       Cupertino     95014  37.306612 -122.080621    Male             No   \n",
              "2856        Redcrest     95569  40.363446 -123.835041  Female             No   \n",
              "4331     Los_Angeles     90029  34.089953 -118.294824    Male             No   \n",
              "4687        Sun_City     92585  33.739412 -117.173334    Male             No   \n",
              "5104      Ben_Lomond     95005  37.078873 -122.090386  Female             No   \n",
              "5719        La_Verne     91750  34.144703 -117.770299    Male             No   \n",
              "6772            Bell     90201  33.970343 -118.171368  Female             No   \n",
              "6840      Wilmington     90744  33.782068 -118.262263    Male             No   \n",
              "\n",
              "     Partner Dependents  Tenure_Months Phone_Service  ...  \\\n",
              "2234     Yes         No              0            No  ...   \n",
              "2438      No         No              0           Yes  ...   \n",
              "2568     Yes         No              0           Yes  ...   \n",
              "2667     Yes        Yes              0           Yes  ...   \n",
              "2856     Yes         No              0            No  ...   \n",
              "4331     Yes        Yes              0           Yes  ...   \n",
              "4687     Yes        Yes              0           Yes  ...   \n",
              "5104     Yes        Yes              0           Yes  ...   \n",
              "5719     Yes        Yes              0           Yes  ...   \n",
              "6772     Yes        Yes              0           Yes  ...   \n",
              "6840      No        Yes              0           Yes  ...   \n",
              "\n",
              "        Device_Protection         Tech_Support         Streaming_TV  \\\n",
              "2234                  Yes                  Yes                  Yes   \n",
              "2438  No internet service  No internet service  No internet service   \n",
              "2568                  Yes                   No                  Yes   \n",
              "2667  No internet service  No internet service  No internet service   \n",
              "2856                  Yes                  Yes                  Yes   \n",
              "4331  No internet service  No internet service  No internet service   \n",
              "4687  No internet service  No internet service  No internet service   \n",
              "5104  No internet service  No internet service  No internet service   \n",
              "5719  No internet service  No internet service  No internet service   \n",
              "6772                  Yes                  Yes                  Yes   \n",
              "6840                   No                  Yes                   No   \n",
              "\n",
              "         Streaming_Movies  Contract Paperless_Billing  \\\n",
              "2234                   No  Two year               Yes   \n",
              "2438  No internet service  Two year                No   \n",
              "2568                  Yes  Two year                No   \n",
              "2667  No internet service  Two year                No   \n",
              "2856                   No  Two year                No   \n",
              "4331  No internet service  Two year                No   \n",
              "4687  No internet service  Two year                No   \n",
              "5104  No internet service  Two year                No   \n",
              "5719  No internet service  One year               Yes   \n",
              "6772                   No  Two year                No   \n",
              "6840                   No  Two year               Yes   \n",
              "\n",
              "                 Payment_Method Monthly_Charges Total_Charges Churn_Value  \n",
              "2234  Bank transfer (automatic)           52.55                         0  \n",
              "2438               Mailed check           20.25                         0  \n",
              "2568               Mailed check           80.85                         0  \n",
              "2667               Mailed check           25.75                         0  \n",
              "2856    Credit card (automatic)           56.05                         0  \n",
              "4331               Mailed check           19.85                         0  \n",
              "4687               Mailed check           25.35                         0  \n",
              "5104               Mailed check           20.00                         0  \n",
              "5719               Mailed check           19.70                         0  \n",
              "6772               Mailed check           73.35                         0  \n",
              "6840  Bank transfer (automatic)           61.90                         0  \n",
              "\n",
              "[11 rows x 24 columns]"
            ],
            "text/html": [
              "\n",
              "  <div id=\"df-42bee336-8bdc-48f9-8032-49cc7bd3708c\">\n",
              "    <div class=\"colab-df-container\">\n",
              "      <div>\n",
              "<style scoped>\n",
              "    .dataframe tbody tr th:only-of-type {\n",
              "        vertical-align: middle;\n",
              "    }\n",
              "\n",
              "    .dataframe tbody tr th {\n",
              "        vertical-align: top;\n",
              "    }\n",
              "\n",
              "    .dataframe thead th {\n",
              "        text-align: right;\n",
              "    }\n",
              "</style>\n",
              "<table border=\"1\" class=\"dataframe\">\n",
              "  <thead>\n",
              "    <tr style=\"text-align: right;\">\n",
              "      <th></th>\n",
              "      <th>City</th>\n",
              "      <th>Zip_Code</th>\n",
              "      <th>Latitude</th>\n",
              "      <th>Longitude</th>\n",
              "      <th>Gender</th>\n",
              "      <th>Senior_Citizen</th>\n",
              "      <th>Partner</th>\n",
              "      <th>Dependents</th>\n",
              "      <th>Tenure_Months</th>\n",
              "      <th>Phone_Service</th>\n",
              "      <th>...</th>\n",
              "      <th>Device_Protection</th>\n",
              "      <th>Tech_Support</th>\n",
              "      <th>Streaming_TV</th>\n",
              "      <th>Streaming_Movies</th>\n",
              "      <th>Contract</th>\n",
              "      <th>Paperless_Billing</th>\n",
              "      <th>Payment_Method</th>\n",
              "      <th>Monthly_Charges</th>\n",
              "      <th>Total_Charges</th>\n",
              "      <th>Churn_Value</th>\n",
              "    </tr>\n",
              "  </thead>\n",
              "  <tbody>\n",
              "    <tr>\n",
              "      <th>2234</th>\n",
              "      <td>San_Bernardino</td>\n",
              "      <td>92408</td>\n",
              "      <td>34.084909</td>\n",
              "      <td>-117.258107</td>\n",
              "      <td>Female</td>\n",
              "      <td>No</td>\n",
              "      <td>Yes</td>\n",
              "      <td>No</td>\n",
              "      <td>0</td>\n",
              "      <td>No</td>\n",
              "      <td>...</td>\n",
              "      <td>Yes</td>\n",
              "      <td>Yes</td>\n",
              "      <td>Yes</td>\n",
              "      <td>No</td>\n",
              "      <td>Two year</td>\n",
              "      <td>Yes</td>\n",
              "      <td>Bank transfer (automatic)</td>\n",
              "      <td>52.55</td>\n",
              "      <td></td>\n",
              "      <td>0</td>\n",
              "    </tr>\n",
              "    <tr>\n",
              "      <th>2438</th>\n",
              "      <td>Independence</td>\n",
              "      <td>93526</td>\n",
              "      <td>36.869584</td>\n",
              "      <td>-118.189241</td>\n",
              "      <td>Male</td>\n",
              "      <td>No</td>\n",
              "      <td>No</td>\n",
              "      <td>No</td>\n",
              "      <td>0</td>\n",
              "      <td>Yes</td>\n",
              "      <td>...</td>\n",
              "      <td>No internet service</td>\n",
              "      <td>No internet service</td>\n",
              "      <td>No internet service</td>\n",
              "      <td>No internet service</td>\n",
              "      <td>Two year</td>\n",
              "      <td>No</td>\n",
              "      <td>Mailed check</td>\n",
              "      <td>20.25</td>\n",
              "      <td></td>\n",
              "      <td>0</td>\n",
              "    </tr>\n",
              "    <tr>\n",
              "      <th>2568</th>\n",
              "      <td>San_Mateo</td>\n",
              "      <td>94401</td>\n",
              "      <td>37.590421</td>\n",
              "      <td>-122.306467</td>\n",
              "      <td>Female</td>\n",
              "      <td>No</td>\n",
              "      <td>Yes</td>\n",
              "      <td>No</td>\n",
              "      <td>0</td>\n",
              "      <td>Yes</td>\n",
              "      <td>...</td>\n",
              "      <td>Yes</td>\n",
              "      <td>No</td>\n",
              "      <td>Yes</td>\n",
              "      <td>Yes</td>\n",
              "      <td>Two year</td>\n",
              "      <td>No</td>\n",
              "      <td>Mailed check</td>\n",
              "      <td>80.85</td>\n",
              "      <td></td>\n",
              "      <td>0</td>\n",
              "    </tr>\n",
              "    <tr>\n",
              "      <th>2667</th>\n",
              "      <td>Cupertino</td>\n",
              "      <td>95014</td>\n",
              "      <td>37.306612</td>\n",
              "      <td>-122.080621</td>\n",
              "      <td>Male</td>\n",
              "      <td>No</td>\n",
              "      <td>Yes</td>\n",
              "      <td>Yes</td>\n",
              "      <td>0</td>\n",
              "      <td>Yes</td>\n",
              "      <td>...</td>\n",
              "      <td>No internet service</td>\n",
              "      <td>No internet service</td>\n",
              "      <td>No internet service</td>\n",
              "      <td>No internet service</td>\n",
              "      <td>Two year</td>\n",
              "      <td>No</td>\n",
              "      <td>Mailed check</td>\n",
              "      <td>25.75</td>\n",
              "      <td></td>\n",
              "      <td>0</td>\n",
              "    </tr>\n",
              "    <tr>\n",
              "      <th>2856</th>\n",
              "      <td>Redcrest</td>\n",
              "      <td>95569</td>\n",
              "      <td>40.363446</td>\n",
              "      <td>-123.835041</td>\n",
              "      <td>Female</td>\n",
              "      <td>No</td>\n",
              "      <td>Yes</td>\n",
              "      <td>No</td>\n",
              "      <td>0</td>\n",
              "      <td>No</td>\n",
              "      <td>...</td>\n",
              "      <td>Yes</td>\n",
              "      <td>Yes</td>\n",
              "      <td>Yes</td>\n",
              "      <td>No</td>\n",
              "      <td>Two year</td>\n",
              "      <td>No</td>\n",
              "      <td>Credit card (automatic)</td>\n",
              "      <td>56.05</td>\n",
              "      <td></td>\n",
              "      <td>0</td>\n",
              "    </tr>\n",
              "    <tr>\n",
              "      <th>4331</th>\n",
              "      <td>Los_Angeles</td>\n",
              "      <td>90029</td>\n",
              "      <td>34.089953</td>\n",
              "      <td>-118.294824</td>\n",
              "      <td>Male</td>\n",
              "      <td>No</td>\n",
              "      <td>Yes</td>\n",
              "      <td>Yes</td>\n",
              "      <td>0</td>\n",
              "      <td>Yes</td>\n",
              "      <td>...</td>\n",
              "      <td>No internet service</td>\n",
              "      <td>No internet service</td>\n",
              "      <td>No internet service</td>\n",
              "      <td>No internet service</td>\n",
              "      <td>Two year</td>\n",
              "      <td>No</td>\n",
              "      <td>Mailed check</td>\n",
              "      <td>19.85</td>\n",
              "      <td></td>\n",
              "      <td>0</td>\n",
              "    </tr>\n",
              "    <tr>\n",
              "      <th>4687</th>\n",
              "      <td>Sun_City</td>\n",
              "      <td>92585</td>\n",
              "      <td>33.739412</td>\n",
              "      <td>-117.173334</td>\n",
              "      <td>Male</td>\n",
              "      <td>No</td>\n",
              "      <td>Yes</td>\n",
              "      <td>Yes</td>\n",
              "      <td>0</td>\n",
              "      <td>Yes</td>\n",
              "      <td>...</td>\n",
              "      <td>No internet service</td>\n",
              "      <td>No internet service</td>\n",
              "      <td>No internet service</td>\n",
              "      <td>No internet service</td>\n",
              "      <td>Two year</td>\n",
              "      <td>No</td>\n",
              "      <td>Mailed check</td>\n",
              "      <td>25.35</td>\n",
              "      <td></td>\n",
              "      <td>0</td>\n",
              "    </tr>\n",
              "    <tr>\n",
              "      <th>5104</th>\n",
              "      <td>Ben_Lomond</td>\n",
              "      <td>95005</td>\n",
              "      <td>37.078873</td>\n",
              "      <td>-122.090386</td>\n",
              "      <td>Female</td>\n",
              "      <td>No</td>\n",
              "      <td>Yes</td>\n",
              "      <td>Yes</td>\n",
              "      <td>0</td>\n",
              "      <td>Yes</td>\n",
              "      <td>...</td>\n",
              "      <td>No internet service</td>\n",
              "      <td>No internet service</td>\n",
              "      <td>No internet service</td>\n",
              "      <td>No internet service</td>\n",
              "      <td>Two year</td>\n",
              "      <td>No</td>\n",
              "      <td>Mailed check</td>\n",
              "      <td>20.00</td>\n",
              "      <td></td>\n",
              "      <td>0</td>\n",
              "    </tr>\n",
              "    <tr>\n",
              "      <th>5719</th>\n",
              "      <td>La_Verne</td>\n",
              "      <td>91750</td>\n",
              "      <td>34.144703</td>\n",
              "      <td>-117.770299</td>\n",
              "      <td>Male</td>\n",
              "      <td>No</td>\n",
              "      <td>Yes</td>\n",
              "      <td>Yes</td>\n",
              "      <td>0</td>\n",
              "      <td>Yes</td>\n",
              "      <td>...</td>\n",
              "      <td>No internet service</td>\n",
              "      <td>No internet service</td>\n",
              "      <td>No internet service</td>\n",
              "      <td>No internet service</td>\n",
              "      <td>One year</td>\n",
              "      <td>Yes</td>\n",
              "      <td>Mailed check</td>\n",
              "      <td>19.70</td>\n",
              "      <td></td>\n",
              "      <td>0</td>\n",
              "    </tr>\n",
              "    <tr>\n",
              "      <th>6772</th>\n",
              "      <td>Bell</td>\n",
              "      <td>90201</td>\n",
              "      <td>33.970343</td>\n",
              "      <td>-118.171368</td>\n",
              "      <td>Female</td>\n",
              "      <td>No</td>\n",
              "      <td>Yes</td>\n",
              "      <td>Yes</td>\n",
              "      <td>0</td>\n",
              "      <td>Yes</td>\n",
              "      <td>...</td>\n",
              "      <td>Yes</td>\n",
              "      <td>Yes</td>\n",
              "      <td>Yes</td>\n",
              "      <td>No</td>\n",
              "      <td>Two year</td>\n",
              "      <td>No</td>\n",
              "      <td>Mailed check</td>\n",
              "      <td>73.35</td>\n",
              "      <td></td>\n",
              "      <td>0</td>\n",
              "    </tr>\n",
              "    <tr>\n",
              "      <th>6840</th>\n",
              "      <td>Wilmington</td>\n",
              "      <td>90744</td>\n",
              "      <td>33.782068</td>\n",
              "      <td>-118.262263</td>\n",
              "      <td>Male</td>\n",
              "      <td>No</td>\n",
              "      <td>No</td>\n",
              "      <td>Yes</td>\n",
              "      <td>0</td>\n",
              "      <td>Yes</td>\n",
              "      <td>...</td>\n",
              "      <td>No</td>\n",
              "      <td>Yes</td>\n",
              "      <td>No</td>\n",
              "      <td>No</td>\n",
              "      <td>Two year</td>\n",
              "      <td>Yes</td>\n",
              "      <td>Bank transfer (automatic)</td>\n",
              "      <td>61.90</td>\n",
              "      <td></td>\n",
              "      <td>0</td>\n",
              "    </tr>\n",
              "  </tbody>\n",
              "</table>\n",
              "<p>11 rows × 24 columns</p>\n",
              "</div>\n",
              "      <button class=\"colab-df-convert\" onclick=\"convertToInteractive('df-42bee336-8bdc-48f9-8032-49cc7bd3708c')\"\n",
              "              title=\"Convert this dataframe to an interactive table.\"\n",
              "              style=\"display:none;\">\n",
              "        \n",
              "  <svg xmlns=\"http://www.w3.org/2000/svg\" height=\"24px\"viewBox=\"0 0 24 24\"\n",
              "       width=\"24px\">\n",
              "    <path d=\"M0 0h24v24H0V0z\" fill=\"none\"/>\n",
              "    <path d=\"M18.56 5.44l.94 2.06.94-2.06 2.06-.94-2.06-.94-.94-2.06-.94 2.06-2.06.94zm-11 1L8.5 8.5l.94-2.06 2.06-.94-2.06-.94L8.5 2.5l-.94 2.06-2.06.94zm10 10l.94 2.06.94-2.06 2.06-.94-2.06-.94-.94-2.06-.94 2.06-2.06.94z\"/><path d=\"M17.41 7.96l-1.37-1.37c-.4-.4-.92-.59-1.43-.59-.52 0-1.04.2-1.43.59L10.3 9.45l-7.72 7.72c-.78.78-.78 2.05 0 2.83L4 21.41c.39.39.9.59 1.41.59.51 0 1.02-.2 1.41-.59l7.78-7.78 2.81-2.81c.8-.78.8-2.07 0-2.86zM5.41 20L4 18.59l7.72-7.72 1.47 1.35L5.41 20z\"/>\n",
              "  </svg>\n",
              "      </button>\n",
              "      \n",
              "  <style>\n",
              "    .colab-df-container {\n",
              "      display:flex;\n",
              "      flex-wrap:wrap;\n",
              "      gap: 12px;\n",
              "    }\n",
              "\n",
              "    .colab-df-convert {\n",
              "      background-color: #E8F0FE;\n",
              "      border: none;\n",
              "      border-radius: 50%;\n",
              "      cursor: pointer;\n",
              "      display: none;\n",
              "      fill: #1967D2;\n",
              "      height: 32px;\n",
              "      padding: 0 0 0 0;\n",
              "      width: 32px;\n",
              "    }\n",
              "\n",
              "    .colab-df-convert:hover {\n",
              "      background-color: #E2EBFA;\n",
              "      box-shadow: 0px 1px 2px rgba(60, 64, 67, 0.3), 0px 1px 3px 1px rgba(60, 64, 67, 0.15);\n",
              "      fill: #174EA6;\n",
              "    }\n",
              "\n",
              "    [theme=dark] .colab-df-convert {\n",
              "      background-color: #3B4455;\n",
              "      fill: #D2E3FC;\n",
              "    }\n",
              "\n",
              "    [theme=dark] .colab-df-convert:hover {\n",
              "      background-color: #434B5C;\n",
              "      box-shadow: 0px 1px 3px 1px rgba(0, 0, 0, 0.15);\n",
              "      filter: drop-shadow(0px 1px 2px rgba(0, 0, 0, 0.3));\n",
              "      fill: #FFFFFF;\n",
              "    }\n",
              "  </style>\n",
              "\n",
              "      <script>\n",
              "        const buttonEl =\n",
              "          document.querySelector('#df-42bee336-8bdc-48f9-8032-49cc7bd3708c button.colab-df-convert');\n",
              "        buttonEl.style.display =\n",
              "          google.colab.kernel.accessAllowed ? 'block' : 'none';\n",
              "\n",
              "        async function convertToInteractive(key) {\n",
              "          const element = document.querySelector('#df-42bee336-8bdc-48f9-8032-49cc7bd3708c');\n",
              "          const dataTable =\n",
              "            await google.colab.kernel.invokeFunction('convertToInteractive',\n",
              "                                                     [key], {});\n",
              "          if (!dataTable) return;\n",
              "\n",
              "          const docLinkHtml = 'Like what you see? Visit the ' +\n",
              "            '<a target=\"_blank\" href=https://colab.research.google.com/notebooks/data_table.ipynb>data table notebook</a>'\n",
              "            + ' to learn more about interactive tables.';\n",
              "          element.innerHTML = '';\n",
              "          dataTable['output_type'] = 'display_data';\n",
              "          await google.colab.output.renderOutput(dataTable, element);\n",
              "          const docLink = document.createElement('div');\n",
              "          docLink.innerHTML = docLinkHtml;\n",
              "          element.appendChild(docLink);\n",
              "        }\n",
              "      </script>\n",
              "    </div>\n",
              "  </div>\n",
              "  "
            ]
          },
          "metadata": {},
          "execution_count": 51
        }
      ]
    },
    {
      "cell_type": "markdown",
      "source": [
        "See all 11 with \" \" have just signed up, b/c Tenure_Months is 0. THese people also all have Churn_Value = 0 b/c they just signed up. \n",
        "- have few choices, can set Total_Charges = 0 for these 11 people or can remove them.\n",
        "- in this example, we set to 0"
      ],
      "metadata": {
        "id": "Cqrmyo0w8XAq"
      }
    },
    {
      "cell_type": "code",
      "source": [
        "# rows = ' ' and column = Total_charges set values = 0\n",
        "df.loc[(df['Total_Charges'] == ' '), 'Total_Charges'] = 0"
      ],
      "metadata": {
        "id": "J7cLi0Lk8VlG"
      },
      "execution_count": null,
      "outputs": []
    },
    {
      "cell_type": "code",
      "source": [
        "df.loc[df['Tenure_Months'] == 0]"
      ],
      "metadata": {
        "colab": {
          "base_uri": "https://localhost:8080/",
          "height": 644
        },
        "id": "QZMs2Xvz8qhM",
        "outputId": "15dd2f57-cff8-4c9e-e88f-407bc1d25d2a"
      },
      "execution_count": null,
      "outputs": [
        {
          "output_type": "execute_result",
          "data": {
            "text/plain": [
              "                City  Zip_Code   Latitude   Longitude  Gender Senior_Citizen  \\\n",
              "2234  San_Bernardino     92408  34.084909 -117.258107  Female             No   \n",
              "2438    Independence     93526  36.869584 -118.189241    Male             No   \n",
              "2568       San_Mateo     94401  37.590421 -122.306467  Female             No   \n",
              "2667       Cupertino     95014  37.306612 -122.080621    Male             No   \n",
              "2856        Redcrest     95569  40.363446 -123.835041  Female             No   \n",
              "4331     Los_Angeles     90029  34.089953 -118.294824    Male             No   \n",
              "4687        Sun_City     92585  33.739412 -117.173334    Male             No   \n",
              "5104      Ben_Lomond     95005  37.078873 -122.090386  Female             No   \n",
              "5719        La_Verne     91750  34.144703 -117.770299    Male             No   \n",
              "6772            Bell     90201  33.970343 -118.171368  Female             No   \n",
              "6840      Wilmington     90744  33.782068 -118.262263    Male             No   \n",
              "\n",
              "     Partner Dependents  Tenure_Months Phone_Service  ...  \\\n",
              "2234     Yes         No              0            No  ...   \n",
              "2438      No         No              0           Yes  ...   \n",
              "2568     Yes         No              0           Yes  ...   \n",
              "2667     Yes        Yes              0           Yes  ...   \n",
              "2856     Yes         No              0            No  ...   \n",
              "4331     Yes        Yes              0           Yes  ...   \n",
              "4687     Yes        Yes              0           Yes  ...   \n",
              "5104     Yes        Yes              0           Yes  ...   \n",
              "5719     Yes        Yes              0           Yes  ...   \n",
              "6772     Yes        Yes              0           Yes  ...   \n",
              "6840      No        Yes              0           Yes  ...   \n",
              "\n",
              "        Device_Protection         Tech_Support         Streaming_TV  \\\n",
              "2234                  Yes                  Yes                  Yes   \n",
              "2438  No internet service  No internet service  No internet service   \n",
              "2568                  Yes                   No                  Yes   \n",
              "2667  No internet service  No internet service  No internet service   \n",
              "2856                  Yes                  Yes                  Yes   \n",
              "4331  No internet service  No internet service  No internet service   \n",
              "4687  No internet service  No internet service  No internet service   \n",
              "5104  No internet service  No internet service  No internet service   \n",
              "5719  No internet service  No internet service  No internet service   \n",
              "6772                  Yes                  Yes                  Yes   \n",
              "6840                   No                  Yes                   No   \n",
              "\n",
              "         Streaming_Movies  Contract Paperless_Billing  \\\n",
              "2234                   No  Two year               Yes   \n",
              "2438  No internet service  Two year                No   \n",
              "2568                  Yes  Two year                No   \n",
              "2667  No internet service  Two year                No   \n",
              "2856                   No  Two year                No   \n",
              "4331  No internet service  Two year                No   \n",
              "4687  No internet service  Two year                No   \n",
              "5104  No internet service  Two year                No   \n",
              "5719  No internet service  One year               Yes   \n",
              "6772                   No  Two year                No   \n",
              "6840                   No  Two year               Yes   \n",
              "\n",
              "                 Payment_Method Monthly_Charges Total_Charges Churn_Value  \n",
              "2234  Bank transfer (automatic)           52.55             0           0  \n",
              "2438               Mailed check           20.25             0           0  \n",
              "2568               Mailed check           80.85             0           0  \n",
              "2667               Mailed check           25.75             0           0  \n",
              "2856    Credit card (automatic)           56.05             0           0  \n",
              "4331               Mailed check           19.85             0           0  \n",
              "4687               Mailed check           25.35             0           0  \n",
              "5104               Mailed check           20.00             0           0  \n",
              "5719               Mailed check           19.70             0           0  \n",
              "6772               Mailed check           73.35             0           0  \n",
              "6840  Bank transfer (automatic)           61.90             0           0  \n",
              "\n",
              "[11 rows x 24 columns]"
            ],
            "text/html": [
              "\n",
              "  <div id=\"df-650e6e32-a173-4a10-a9a8-685d90cbff0b\">\n",
              "    <div class=\"colab-df-container\">\n",
              "      <div>\n",
              "<style scoped>\n",
              "    .dataframe tbody tr th:only-of-type {\n",
              "        vertical-align: middle;\n",
              "    }\n",
              "\n",
              "    .dataframe tbody tr th {\n",
              "        vertical-align: top;\n",
              "    }\n",
              "\n",
              "    .dataframe thead th {\n",
              "        text-align: right;\n",
              "    }\n",
              "</style>\n",
              "<table border=\"1\" class=\"dataframe\">\n",
              "  <thead>\n",
              "    <tr style=\"text-align: right;\">\n",
              "      <th></th>\n",
              "      <th>City</th>\n",
              "      <th>Zip_Code</th>\n",
              "      <th>Latitude</th>\n",
              "      <th>Longitude</th>\n",
              "      <th>Gender</th>\n",
              "      <th>Senior_Citizen</th>\n",
              "      <th>Partner</th>\n",
              "      <th>Dependents</th>\n",
              "      <th>Tenure_Months</th>\n",
              "      <th>Phone_Service</th>\n",
              "      <th>...</th>\n",
              "      <th>Device_Protection</th>\n",
              "      <th>Tech_Support</th>\n",
              "      <th>Streaming_TV</th>\n",
              "      <th>Streaming_Movies</th>\n",
              "      <th>Contract</th>\n",
              "      <th>Paperless_Billing</th>\n",
              "      <th>Payment_Method</th>\n",
              "      <th>Monthly_Charges</th>\n",
              "      <th>Total_Charges</th>\n",
              "      <th>Churn_Value</th>\n",
              "    </tr>\n",
              "  </thead>\n",
              "  <tbody>\n",
              "    <tr>\n",
              "      <th>2234</th>\n",
              "      <td>San_Bernardino</td>\n",
              "      <td>92408</td>\n",
              "      <td>34.084909</td>\n",
              "      <td>-117.258107</td>\n",
              "      <td>Female</td>\n",
              "      <td>No</td>\n",
              "      <td>Yes</td>\n",
              "      <td>No</td>\n",
              "      <td>0</td>\n",
              "      <td>No</td>\n",
              "      <td>...</td>\n",
              "      <td>Yes</td>\n",
              "      <td>Yes</td>\n",
              "      <td>Yes</td>\n",
              "      <td>No</td>\n",
              "      <td>Two year</td>\n",
              "      <td>Yes</td>\n",
              "      <td>Bank transfer (automatic)</td>\n",
              "      <td>52.55</td>\n",
              "      <td>0</td>\n",
              "      <td>0</td>\n",
              "    </tr>\n",
              "    <tr>\n",
              "      <th>2438</th>\n",
              "      <td>Independence</td>\n",
              "      <td>93526</td>\n",
              "      <td>36.869584</td>\n",
              "      <td>-118.189241</td>\n",
              "      <td>Male</td>\n",
              "      <td>No</td>\n",
              "      <td>No</td>\n",
              "      <td>No</td>\n",
              "      <td>0</td>\n",
              "      <td>Yes</td>\n",
              "      <td>...</td>\n",
              "      <td>No internet service</td>\n",
              "      <td>No internet service</td>\n",
              "      <td>No internet service</td>\n",
              "      <td>No internet service</td>\n",
              "      <td>Two year</td>\n",
              "      <td>No</td>\n",
              "      <td>Mailed check</td>\n",
              "      <td>20.25</td>\n",
              "      <td>0</td>\n",
              "      <td>0</td>\n",
              "    </tr>\n",
              "    <tr>\n",
              "      <th>2568</th>\n",
              "      <td>San_Mateo</td>\n",
              "      <td>94401</td>\n",
              "      <td>37.590421</td>\n",
              "      <td>-122.306467</td>\n",
              "      <td>Female</td>\n",
              "      <td>No</td>\n",
              "      <td>Yes</td>\n",
              "      <td>No</td>\n",
              "      <td>0</td>\n",
              "      <td>Yes</td>\n",
              "      <td>...</td>\n",
              "      <td>Yes</td>\n",
              "      <td>No</td>\n",
              "      <td>Yes</td>\n",
              "      <td>Yes</td>\n",
              "      <td>Two year</td>\n",
              "      <td>No</td>\n",
              "      <td>Mailed check</td>\n",
              "      <td>80.85</td>\n",
              "      <td>0</td>\n",
              "      <td>0</td>\n",
              "    </tr>\n",
              "    <tr>\n",
              "      <th>2667</th>\n",
              "      <td>Cupertino</td>\n",
              "      <td>95014</td>\n",
              "      <td>37.306612</td>\n",
              "      <td>-122.080621</td>\n",
              "      <td>Male</td>\n",
              "      <td>No</td>\n",
              "      <td>Yes</td>\n",
              "      <td>Yes</td>\n",
              "      <td>0</td>\n",
              "      <td>Yes</td>\n",
              "      <td>...</td>\n",
              "      <td>No internet service</td>\n",
              "      <td>No internet service</td>\n",
              "      <td>No internet service</td>\n",
              "      <td>No internet service</td>\n",
              "      <td>Two year</td>\n",
              "      <td>No</td>\n",
              "      <td>Mailed check</td>\n",
              "      <td>25.75</td>\n",
              "      <td>0</td>\n",
              "      <td>0</td>\n",
              "    </tr>\n",
              "    <tr>\n",
              "      <th>2856</th>\n",
              "      <td>Redcrest</td>\n",
              "      <td>95569</td>\n",
              "      <td>40.363446</td>\n",
              "      <td>-123.835041</td>\n",
              "      <td>Female</td>\n",
              "      <td>No</td>\n",
              "      <td>Yes</td>\n",
              "      <td>No</td>\n",
              "      <td>0</td>\n",
              "      <td>No</td>\n",
              "      <td>...</td>\n",
              "      <td>Yes</td>\n",
              "      <td>Yes</td>\n",
              "      <td>Yes</td>\n",
              "      <td>No</td>\n",
              "      <td>Two year</td>\n",
              "      <td>No</td>\n",
              "      <td>Credit card (automatic)</td>\n",
              "      <td>56.05</td>\n",
              "      <td>0</td>\n",
              "      <td>0</td>\n",
              "    </tr>\n",
              "    <tr>\n",
              "      <th>4331</th>\n",
              "      <td>Los_Angeles</td>\n",
              "      <td>90029</td>\n",
              "      <td>34.089953</td>\n",
              "      <td>-118.294824</td>\n",
              "      <td>Male</td>\n",
              "      <td>No</td>\n",
              "      <td>Yes</td>\n",
              "      <td>Yes</td>\n",
              "      <td>0</td>\n",
              "      <td>Yes</td>\n",
              "      <td>...</td>\n",
              "      <td>No internet service</td>\n",
              "      <td>No internet service</td>\n",
              "      <td>No internet service</td>\n",
              "      <td>No internet service</td>\n",
              "      <td>Two year</td>\n",
              "      <td>No</td>\n",
              "      <td>Mailed check</td>\n",
              "      <td>19.85</td>\n",
              "      <td>0</td>\n",
              "      <td>0</td>\n",
              "    </tr>\n",
              "    <tr>\n",
              "      <th>4687</th>\n",
              "      <td>Sun_City</td>\n",
              "      <td>92585</td>\n",
              "      <td>33.739412</td>\n",
              "      <td>-117.173334</td>\n",
              "      <td>Male</td>\n",
              "      <td>No</td>\n",
              "      <td>Yes</td>\n",
              "      <td>Yes</td>\n",
              "      <td>0</td>\n",
              "      <td>Yes</td>\n",
              "      <td>...</td>\n",
              "      <td>No internet service</td>\n",
              "      <td>No internet service</td>\n",
              "      <td>No internet service</td>\n",
              "      <td>No internet service</td>\n",
              "      <td>Two year</td>\n",
              "      <td>No</td>\n",
              "      <td>Mailed check</td>\n",
              "      <td>25.35</td>\n",
              "      <td>0</td>\n",
              "      <td>0</td>\n",
              "    </tr>\n",
              "    <tr>\n",
              "      <th>5104</th>\n",
              "      <td>Ben_Lomond</td>\n",
              "      <td>95005</td>\n",
              "      <td>37.078873</td>\n",
              "      <td>-122.090386</td>\n",
              "      <td>Female</td>\n",
              "      <td>No</td>\n",
              "      <td>Yes</td>\n",
              "      <td>Yes</td>\n",
              "      <td>0</td>\n",
              "      <td>Yes</td>\n",
              "      <td>...</td>\n",
              "      <td>No internet service</td>\n",
              "      <td>No internet service</td>\n",
              "      <td>No internet service</td>\n",
              "      <td>No internet service</td>\n",
              "      <td>Two year</td>\n",
              "      <td>No</td>\n",
              "      <td>Mailed check</td>\n",
              "      <td>20.00</td>\n",
              "      <td>0</td>\n",
              "      <td>0</td>\n",
              "    </tr>\n",
              "    <tr>\n",
              "      <th>5719</th>\n",
              "      <td>La_Verne</td>\n",
              "      <td>91750</td>\n",
              "      <td>34.144703</td>\n",
              "      <td>-117.770299</td>\n",
              "      <td>Male</td>\n",
              "      <td>No</td>\n",
              "      <td>Yes</td>\n",
              "      <td>Yes</td>\n",
              "      <td>0</td>\n",
              "      <td>Yes</td>\n",
              "      <td>...</td>\n",
              "      <td>No internet service</td>\n",
              "      <td>No internet service</td>\n",
              "      <td>No internet service</td>\n",
              "      <td>No internet service</td>\n",
              "      <td>One year</td>\n",
              "      <td>Yes</td>\n",
              "      <td>Mailed check</td>\n",
              "      <td>19.70</td>\n",
              "      <td>0</td>\n",
              "      <td>0</td>\n",
              "    </tr>\n",
              "    <tr>\n",
              "      <th>6772</th>\n",
              "      <td>Bell</td>\n",
              "      <td>90201</td>\n",
              "      <td>33.970343</td>\n",
              "      <td>-118.171368</td>\n",
              "      <td>Female</td>\n",
              "      <td>No</td>\n",
              "      <td>Yes</td>\n",
              "      <td>Yes</td>\n",
              "      <td>0</td>\n",
              "      <td>Yes</td>\n",
              "      <td>...</td>\n",
              "      <td>Yes</td>\n",
              "      <td>Yes</td>\n",
              "      <td>Yes</td>\n",
              "      <td>No</td>\n",
              "      <td>Two year</td>\n",
              "      <td>No</td>\n",
              "      <td>Mailed check</td>\n",
              "      <td>73.35</td>\n",
              "      <td>0</td>\n",
              "      <td>0</td>\n",
              "    </tr>\n",
              "    <tr>\n",
              "      <th>6840</th>\n",
              "      <td>Wilmington</td>\n",
              "      <td>90744</td>\n",
              "      <td>33.782068</td>\n",
              "      <td>-118.262263</td>\n",
              "      <td>Male</td>\n",
              "      <td>No</td>\n",
              "      <td>No</td>\n",
              "      <td>Yes</td>\n",
              "      <td>0</td>\n",
              "      <td>Yes</td>\n",
              "      <td>...</td>\n",
              "      <td>No</td>\n",
              "      <td>Yes</td>\n",
              "      <td>No</td>\n",
              "      <td>No</td>\n",
              "      <td>Two year</td>\n",
              "      <td>Yes</td>\n",
              "      <td>Bank transfer (automatic)</td>\n",
              "      <td>61.90</td>\n",
              "      <td>0</td>\n",
              "      <td>0</td>\n",
              "    </tr>\n",
              "  </tbody>\n",
              "</table>\n",
              "<p>11 rows × 24 columns</p>\n",
              "</div>\n",
              "      <button class=\"colab-df-convert\" onclick=\"convertToInteractive('df-650e6e32-a173-4a10-a9a8-685d90cbff0b')\"\n",
              "              title=\"Convert this dataframe to an interactive table.\"\n",
              "              style=\"display:none;\">\n",
              "        \n",
              "  <svg xmlns=\"http://www.w3.org/2000/svg\" height=\"24px\"viewBox=\"0 0 24 24\"\n",
              "       width=\"24px\">\n",
              "    <path d=\"M0 0h24v24H0V0z\" fill=\"none\"/>\n",
              "    <path d=\"M18.56 5.44l.94 2.06.94-2.06 2.06-.94-2.06-.94-.94-2.06-.94 2.06-2.06.94zm-11 1L8.5 8.5l.94-2.06 2.06-.94-2.06-.94L8.5 2.5l-.94 2.06-2.06.94zm10 10l.94 2.06.94-2.06 2.06-.94-2.06-.94-.94-2.06-.94 2.06-2.06.94z\"/><path d=\"M17.41 7.96l-1.37-1.37c-.4-.4-.92-.59-1.43-.59-.52 0-1.04.2-1.43.59L10.3 9.45l-7.72 7.72c-.78.78-.78 2.05 0 2.83L4 21.41c.39.39.9.59 1.41.59.51 0 1.02-.2 1.41-.59l7.78-7.78 2.81-2.81c.8-.78.8-2.07 0-2.86zM5.41 20L4 18.59l7.72-7.72 1.47 1.35L5.41 20z\"/>\n",
              "  </svg>\n",
              "      </button>\n",
              "      \n",
              "  <style>\n",
              "    .colab-df-container {\n",
              "      display:flex;\n",
              "      flex-wrap:wrap;\n",
              "      gap: 12px;\n",
              "    }\n",
              "\n",
              "    .colab-df-convert {\n",
              "      background-color: #E8F0FE;\n",
              "      border: none;\n",
              "      border-radius: 50%;\n",
              "      cursor: pointer;\n",
              "      display: none;\n",
              "      fill: #1967D2;\n",
              "      height: 32px;\n",
              "      padding: 0 0 0 0;\n",
              "      width: 32px;\n",
              "    }\n",
              "\n",
              "    .colab-df-convert:hover {\n",
              "      background-color: #E2EBFA;\n",
              "      box-shadow: 0px 1px 2px rgba(60, 64, 67, 0.3), 0px 1px 3px 1px rgba(60, 64, 67, 0.15);\n",
              "      fill: #174EA6;\n",
              "    }\n",
              "\n",
              "    [theme=dark] .colab-df-convert {\n",
              "      background-color: #3B4455;\n",
              "      fill: #D2E3FC;\n",
              "    }\n",
              "\n",
              "    [theme=dark] .colab-df-convert:hover {\n",
              "      background-color: #434B5C;\n",
              "      box-shadow: 0px 1px 3px 1px rgba(0, 0, 0, 0.15);\n",
              "      filter: drop-shadow(0px 1px 2px rgba(0, 0, 0, 0.3));\n",
              "      fill: #FFFFFF;\n",
              "    }\n",
              "  </style>\n",
              "\n",
              "      <script>\n",
              "        const buttonEl =\n",
              "          document.querySelector('#df-650e6e32-a173-4a10-a9a8-685d90cbff0b button.colab-df-convert');\n",
              "        buttonEl.style.display =\n",
              "          google.colab.kernel.accessAllowed ? 'block' : 'none';\n",
              "\n",
              "        async function convertToInteractive(key) {\n",
              "          const element = document.querySelector('#df-650e6e32-a173-4a10-a9a8-685d90cbff0b');\n",
              "          const dataTable =\n",
              "            await google.colab.kernel.invokeFunction('convertToInteractive',\n",
              "                                                     [key], {});\n",
              "          if (!dataTable) return;\n",
              "\n",
              "          const docLinkHtml = 'Like what you see? Visit the ' +\n",
              "            '<a target=\"_blank\" href=https://colab.research.google.com/notebooks/data_table.ipynb>data table notebook</a>'\n",
              "            + ' to learn more about interactive tables.';\n",
              "          element.innerHTML = '';\n",
              "          dataTable['output_type'] = 'display_data';\n",
              "          await google.colab.output.renderOutput(dataTable, element);\n",
              "          const docLink = document.createElement('div');\n",
              "          docLink.innerHTML = docLinkHtml;\n",
              "          element.appendChild(docLink);\n",
              "        }\n",
              "      </script>\n",
              "    </div>\n",
              "  </div>\n",
              "  "
            ]
          },
          "metadata": {},
          "execution_count": 54
        }
      ]
    },
    {
      "cell_type": "markdown",
      "source": [
        "Verified df contains 0s instead of ' ' for missing values. **NOTE: Total_Charges** still has the `object` data type. No good because XGBoost only allows `int`, `float`, or `boolean` data types. Can fix this by converting it with `to_numeric()`"
      ],
      "metadata": {
        "id": "pMqIrwKg-OBS"
      }
    },
    {
      "cell_type": "code",
      "source": [
        "df['Total_Charges'] = pd.to_numeric(df['Total_Charges'])\n",
        "df.dtypes"
      ],
      "metadata": {
        "colab": {
          "base_uri": "https://localhost:8080/"
        },
        "id": "JDvQ5yCN81Cc",
        "outputId": "eed906d2-2358-44a4-dacf-a9b6c44a9c16"
      },
      "execution_count": null,
      "outputs": [
        {
          "output_type": "execute_result",
          "data": {
            "text/plain": [
              "City                  object\n",
              "Zip_Code               int64\n",
              "Latitude             float64\n",
              "Longitude            float64\n",
              "Gender                object\n",
              "Senior_Citizen        object\n",
              "Partner               object\n",
              "Dependents            object\n",
              "Tenure_Months          int64\n",
              "Phone_Service         object\n",
              "Multiple_Lines        object\n",
              "Internet_Service      object\n",
              "Online_Security       object\n",
              "Online_Backup         object\n",
              "Device_Protection     object\n",
              "Tech_Support          object\n",
              "Streaming_TV          object\n",
              "Streaming_Movies      object\n",
              "Contract              object\n",
              "Paperless_Billing     object\n",
              "Payment_Method        object\n",
              "Monthly_Charges      float64\n",
              "Total_Charges        float64\n",
              "Churn_Value            int64\n",
              "dtype: object"
            ]
          },
          "metadata": {},
          "execution_count": 55
        }
      ]
    },
    {
      "cell_type": "markdown",
      "source": [
        "Now that we've dealt with missing data, can replace all other whitespaces in all of the columns with underscores. **NOTE**: only doing this so we can draw picture of one of the XGBoost Trees"
      ],
      "metadata": {
        "id": "6lZq1Hdr-etg"
      }
    },
    {
      "cell_type": "code",
      "source": [
        "# doing it data frame wide\n",
        "df.replace(' ', '_', regex = True, inplace = True)\n",
        "df.head()"
      ],
      "metadata": {
        "colab": {
          "base_uri": "https://localhost:8080/",
          "height": 386
        },
        "id": "Cr_U04nq-r-W",
        "outputId": "54ba69d6-1f64-4ef5-e3b3-8f6e3874896a"
      },
      "execution_count": null,
      "outputs": [
        {
          "output_type": "execute_result",
          "data": {
            "text/plain": [
              "          City  Zip_Code   Latitude   Longitude  Gender Senior_Citizen  \\\n",
              "0  Los_Angeles     90003  33.964131 -118.272783    Male             No   \n",
              "1  Los_Angeles     90005  34.059281 -118.307420  Female             No   \n",
              "2  Los_Angeles     90006  34.048013 -118.293953  Female             No   \n",
              "3  Los_Angeles     90010  34.062125 -118.315709  Female             No   \n",
              "4  Los_Angeles     90015  34.039224 -118.266293    Male             No   \n",
              "\n",
              "  Partner Dependents  Tenure_Months Phone_Service  ... Device_Protection  \\\n",
              "0      No         No              2           Yes  ...                No   \n",
              "1      No        Yes              2           Yes  ...                No   \n",
              "2      No        Yes              8           Yes  ...               Yes   \n",
              "3     Yes        Yes             28           Yes  ...               Yes   \n",
              "4      No        Yes             49           Yes  ...               Yes   \n",
              "\n",
              "  Tech_Support Streaming_TV Streaming_Movies        Contract  \\\n",
              "0           No           No               No  Month-to-month   \n",
              "1           No           No               No  Month-to-month   \n",
              "2           No          Yes              Yes  Month-to-month   \n",
              "3          Yes          Yes              Yes  Month-to-month   \n",
              "4           No          Yes              Yes  Month-to-month   \n",
              "\n",
              "  Paperless_Billing             Payment_Method Monthly_Charges Total_Charges  \\\n",
              "0               Yes               Mailed_check           53.85        108.15   \n",
              "1               Yes           Electronic_check           70.70        151.65   \n",
              "2               Yes           Electronic_check           99.65        820.50   \n",
              "3               Yes           Electronic_check          104.80       3046.05   \n",
              "4               Yes  Bank_transfer_(automatic)          103.70       5036.30   \n",
              "\n",
              "  Churn_Value  \n",
              "0           1  \n",
              "1           1  \n",
              "2           1  \n",
              "3           1  \n",
              "4           1  \n",
              "\n",
              "[5 rows x 24 columns]"
            ],
            "text/html": [
              "\n",
              "  <div id=\"df-30885071-4e33-4de8-9a1e-8de08db1857f\">\n",
              "    <div class=\"colab-df-container\">\n",
              "      <div>\n",
              "<style scoped>\n",
              "    .dataframe tbody tr th:only-of-type {\n",
              "        vertical-align: middle;\n",
              "    }\n",
              "\n",
              "    .dataframe tbody tr th {\n",
              "        vertical-align: top;\n",
              "    }\n",
              "\n",
              "    .dataframe thead th {\n",
              "        text-align: right;\n",
              "    }\n",
              "</style>\n",
              "<table border=\"1\" class=\"dataframe\">\n",
              "  <thead>\n",
              "    <tr style=\"text-align: right;\">\n",
              "      <th></th>\n",
              "      <th>City</th>\n",
              "      <th>Zip_Code</th>\n",
              "      <th>Latitude</th>\n",
              "      <th>Longitude</th>\n",
              "      <th>Gender</th>\n",
              "      <th>Senior_Citizen</th>\n",
              "      <th>Partner</th>\n",
              "      <th>Dependents</th>\n",
              "      <th>Tenure_Months</th>\n",
              "      <th>Phone_Service</th>\n",
              "      <th>...</th>\n",
              "      <th>Device_Protection</th>\n",
              "      <th>Tech_Support</th>\n",
              "      <th>Streaming_TV</th>\n",
              "      <th>Streaming_Movies</th>\n",
              "      <th>Contract</th>\n",
              "      <th>Paperless_Billing</th>\n",
              "      <th>Payment_Method</th>\n",
              "      <th>Monthly_Charges</th>\n",
              "      <th>Total_Charges</th>\n",
              "      <th>Churn_Value</th>\n",
              "    </tr>\n",
              "  </thead>\n",
              "  <tbody>\n",
              "    <tr>\n",
              "      <th>0</th>\n",
              "      <td>Los_Angeles</td>\n",
              "      <td>90003</td>\n",
              "      <td>33.964131</td>\n",
              "      <td>-118.272783</td>\n",
              "      <td>Male</td>\n",
              "      <td>No</td>\n",
              "      <td>No</td>\n",
              "      <td>No</td>\n",
              "      <td>2</td>\n",
              "      <td>Yes</td>\n",
              "      <td>...</td>\n",
              "      <td>No</td>\n",
              "      <td>No</td>\n",
              "      <td>No</td>\n",
              "      <td>No</td>\n",
              "      <td>Month-to-month</td>\n",
              "      <td>Yes</td>\n",
              "      <td>Mailed_check</td>\n",
              "      <td>53.85</td>\n",
              "      <td>108.15</td>\n",
              "      <td>1</td>\n",
              "    </tr>\n",
              "    <tr>\n",
              "      <th>1</th>\n",
              "      <td>Los_Angeles</td>\n",
              "      <td>90005</td>\n",
              "      <td>34.059281</td>\n",
              "      <td>-118.307420</td>\n",
              "      <td>Female</td>\n",
              "      <td>No</td>\n",
              "      <td>No</td>\n",
              "      <td>Yes</td>\n",
              "      <td>2</td>\n",
              "      <td>Yes</td>\n",
              "      <td>...</td>\n",
              "      <td>No</td>\n",
              "      <td>No</td>\n",
              "      <td>No</td>\n",
              "      <td>No</td>\n",
              "      <td>Month-to-month</td>\n",
              "      <td>Yes</td>\n",
              "      <td>Electronic_check</td>\n",
              "      <td>70.70</td>\n",
              "      <td>151.65</td>\n",
              "      <td>1</td>\n",
              "    </tr>\n",
              "    <tr>\n",
              "      <th>2</th>\n",
              "      <td>Los_Angeles</td>\n",
              "      <td>90006</td>\n",
              "      <td>34.048013</td>\n",
              "      <td>-118.293953</td>\n",
              "      <td>Female</td>\n",
              "      <td>No</td>\n",
              "      <td>No</td>\n",
              "      <td>Yes</td>\n",
              "      <td>8</td>\n",
              "      <td>Yes</td>\n",
              "      <td>...</td>\n",
              "      <td>Yes</td>\n",
              "      <td>No</td>\n",
              "      <td>Yes</td>\n",
              "      <td>Yes</td>\n",
              "      <td>Month-to-month</td>\n",
              "      <td>Yes</td>\n",
              "      <td>Electronic_check</td>\n",
              "      <td>99.65</td>\n",
              "      <td>820.50</td>\n",
              "      <td>1</td>\n",
              "    </tr>\n",
              "    <tr>\n",
              "      <th>3</th>\n",
              "      <td>Los_Angeles</td>\n",
              "      <td>90010</td>\n",
              "      <td>34.062125</td>\n",
              "      <td>-118.315709</td>\n",
              "      <td>Female</td>\n",
              "      <td>No</td>\n",
              "      <td>Yes</td>\n",
              "      <td>Yes</td>\n",
              "      <td>28</td>\n",
              "      <td>Yes</td>\n",
              "      <td>...</td>\n",
              "      <td>Yes</td>\n",
              "      <td>Yes</td>\n",
              "      <td>Yes</td>\n",
              "      <td>Yes</td>\n",
              "      <td>Month-to-month</td>\n",
              "      <td>Yes</td>\n",
              "      <td>Electronic_check</td>\n",
              "      <td>104.80</td>\n",
              "      <td>3046.05</td>\n",
              "      <td>1</td>\n",
              "    </tr>\n",
              "    <tr>\n",
              "      <th>4</th>\n",
              "      <td>Los_Angeles</td>\n",
              "      <td>90015</td>\n",
              "      <td>34.039224</td>\n",
              "      <td>-118.266293</td>\n",
              "      <td>Male</td>\n",
              "      <td>No</td>\n",
              "      <td>No</td>\n",
              "      <td>Yes</td>\n",
              "      <td>49</td>\n",
              "      <td>Yes</td>\n",
              "      <td>...</td>\n",
              "      <td>Yes</td>\n",
              "      <td>No</td>\n",
              "      <td>Yes</td>\n",
              "      <td>Yes</td>\n",
              "      <td>Month-to-month</td>\n",
              "      <td>Yes</td>\n",
              "      <td>Bank_transfer_(automatic)</td>\n",
              "      <td>103.70</td>\n",
              "      <td>5036.30</td>\n",
              "      <td>1</td>\n",
              "    </tr>\n",
              "  </tbody>\n",
              "</table>\n",
              "<p>5 rows × 24 columns</p>\n",
              "</div>\n",
              "      <button class=\"colab-df-convert\" onclick=\"convertToInteractive('df-30885071-4e33-4de8-9a1e-8de08db1857f')\"\n",
              "              title=\"Convert this dataframe to an interactive table.\"\n",
              "              style=\"display:none;\">\n",
              "        \n",
              "  <svg xmlns=\"http://www.w3.org/2000/svg\" height=\"24px\"viewBox=\"0 0 24 24\"\n",
              "       width=\"24px\">\n",
              "    <path d=\"M0 0h24v24H0V0z\" fill=\"none\"/>\n",
              "    <path d=\"M18.56 5.44l.94 2.06.94-2.06 2.06-.94-2.06-.94-.94-2.06-.94 2.06-2.06.94zm-11 1L8.5 8.5l.94-2.06 2.06-.94-2.06-.94L8.5 2.5l-.94 2.06-2.06.94zm10 10l.94 2.06.94-2.06 2.06-.94-2.06-.94-.94-2.06-.94 2.06-2.06.94z\"/><path d=\"M17.41 7.96l-1.37-1.37c-.4-.4-.92-.59-1.43-.59-.52 0-1.04.2-1.43.59L10.3 9.45l-7.72 7.72c-.78.78-.78 2.05 0 2.83L4 21.41c.39.39.9.59 1.41.59.51 0 1.02-.2 1.41-.59l7.78-7.78 2.81-2.81c.8-.78.8-2.07 0-2.86zM5.41 20L4 18.59l7.72-7.72 1.47 1.35L5.41 20z\"/>\n",
              "  </svg>\n",
              "      </button>\n",
              "      \n",
              "  <style>\n",
              "    .colab-df-container {\n",
              "      display:flex;\n",
              "      flex-wrap:wrap;\n",
              "      gap: 12px;\n",
              "    }\n",
              "\n",
              "    .colab-df-convert {\n",
              "      background-color: #E8F0FE;\n",
              "      border: none;\n",
              "      border-radius: 50%;\n",
              "      cursor: pointer;\n",
              "      display: none;\n",
              "      fill: #1967D2;\n",
              "      height: 32px;\n",
              "      padding: 0 0 0 0;\n",
              "      width: 32px;\n",
              "    }\n",
              "\n",
              "    .colab-df-convert:hover {\n",
              "      background-color: #E2EBFA;\n",
              "      box-shadow: 0px 1px 2px rgba(60, 64, 67, 0.3), 0px 1px 3px 1px rgba(60, 64, 67, 0.15);\n",
              "      fill: #174EA6;\n",
              "    }\n",
              "\n",
              "    [theme=dark] .colab-df-convert {\n",
              "      background-color: #3B4455;\n",
              "      fill: #D2E3FC;\n",
              "    }\n",
              "\n",
              "    [theme=dark] .colab-df-convert:hover {\n",
              "      background-color: #434B5C;\n",
              "      box-shadow: 0px 1px 3px 1px rgba(0, 0, 0, 0.15);\n",
              "      filter: drop-shadow(0px 1px 2px rgba(0, 0, 0, 0.3));\n",
              "      fill: #FFFFFF;\n",
              "    }\n",
              "  </style>\n",
              "\n",
              "      <script>\n",
              "        const buttonEl =\n",
              "          document.querySelector('#df-30885071-4e33-4de8-9a1e-8de08db1857f button.colab-df-convert');\n",
              "        buttonEl.style.display =\n",
              "          google.colab.kernel.accessAllowed ? 'block' : 'none';\n",
              "\n",
              "        async function convertToInteractive(key) {\n",
              "          const element = document.querySelector('#df-30885071-4e33-4de8-9a1e-8de08db1857f');\n",
              "          const dataTable =\n",
              "            await google.colab.kernel.invokeFunction('convertToInteractive',\n",
              "                                                     [key], {});\n",
              "          if (!dataTable) return;\n",
              "\n",
              "          const docLinkHtml = 'Like what you see? Visit the ' +\n",
              "            '<a target=\"_blank\" href=https://colab.research.google.com/notebooks/data_table.ipynb>data table notebook</a>'\n",
              "            + ' to learn more about interactive tables.';\n",
              "          element.innerHTML = '';\n",
              "          dataTable['output_type'] = 'display_data';\n",
              "          await google.colab.output.renderOutput(dataTable, element);\n",
              "          const docLink = document.createElement('div');\n",
              "          docLink.innerHTML = docLinkHtml;\n",
              "          element.appendChild(docLink);\n",
              "        }\n",
              "      </script>\n",
              "    </div>\n",
              "  </div>\n",
              "  "
            ]
          },
          "metadata": {},
          "execution_count": 56
        }
      ]
    },
    {
      "cell_type": "markdown",
      "source": [
        "# Format Data Part 1: Split Data into dependent and independent variables\n",
        "two parts:\n",
        "1. columns of data that we will use to make classifications\n",
        "2. column of data we want to predict (Churn value)\n",
        "\n",
        "use conventional notation of X to represent columns of data that we will use to make classifications and y to represent thing we want to predict. \n",
        "\n",
        "reason we deal with missing data before splitting into X and y is that if we remove rows splitting after ensures that each row in X correctly corresponds with the appropriate value in y.\n",
        "\n",
        "**NOTE:** using `copy()` to copy the data by value. By default, pandas uses copy by reference. Using `copy()` ensures that the original data `df_no_missing` is not modified when we modify X or y. In other words, if we make a mistake when we are formatting the columns for classification trees, we can just re-copy `df_no_missing`, rather than having to reload the original data and remove the missing values etc."
      ],
      "metadata": {
        "id": "i_vC8EBn-4Fn"
      }
    },
    {
      "cell_type": "code",
      "source": [
        "X = df.drop('Churn_Value', axis = 1).copy()\n",
        "X.head()"
      ],
      "metadata": {
        "colab": {
          "base_uri": "https://localhost:8080/",
          "height": 386
        },
        "id": "15jOoY0E-wNt",
        "outputId": "3519c432-7563-4eb1-ef03-cc7bc9b474e0"
      },
      "execution_count": null,
      "outputs": [
        {
          "output_type": "execute_result",
          "data": {
            "text/plain": [
              "          City  Zip_Code   Latitude   Longitude  Gender Senior_Citizen  \\\n",
              "0  Los_Angeles     90003  33.964131 -118.272783    Male             No   \n",
              "1  Los_Angeles     90005  34.059281 -118.307420  Female             No   \n",
              "2  Los_Angeles     90006  34.048013 -118.293953  Female             No   \n",
              "3  Los_Angeles     90010  34.062125 -118.315709  Female             No   \n",
              "4  Los_Angeles     90015  34.039224 -118.266293    Male             No   \n",
              "\n",
              "  Partner Dependents  Tenure_Months Phone_Service  ... Online_Backup  \\\n",
              "0      No         No              2           Yes  ...           Yes   \n",
              "1      No        Yes              2           Yes  ...            No   \n",
              "2      No        Yes              8           Yes  ...            No   \n",
              "3     Yes        Yes             28           Yes  ...            No   \n",
              "4      No        Yes             49           Yes  ...           Yes   \n",
              "\n",
              "  Device_Protection Tech_Support Streaming_TV Streaming_Movies  \\\n",
              "0                No           No           No               No   \n",
              "1                No           No           No               No   \n",
              "2               Yes           No          Yes              Yes   \n",
              "3               Yes          Yes          Yes              Yes   \n",
              "4               Yes           No          Yes              Yes   \n",
              "\n",
              "         Contract Paperless_Billing             Payment_Method  \\\n",
              "0  Month-to-month               Yes               Mailed_check   \n",
              "1  Month-to-month               Yes           Electronic_check   \n",
              "2  Month-to-month               Yes           Electronic_check   \n",
              "3  Month-to-month               Yes           Electronic_check   \n",
              "4  Month-to-month               Yes  Bank_transfer_(automatic)   \n",
              "\n",
              "  Monthly_Charges Total_Charges  \n",
              "0           53.85        108.15  \n",
              "1           70.70        151.65  \n",
              "2           99.65        820.50  \n",
              "3          104.80       3046.05  \n",
              "4          103.70       5036.30  \n",
              "\n",
              "[5 rows x 23 columns]"
            ],
            "text/html": [
              "\n",
              "  <div id=\"df-d2c4a27c-7080-453b-8d1c-ffe68e640b67\">\n",
              "    <div class=\"colab-df-container\">\n",
              "      <div>\n",
              "<style scoped>\n",
              "    .dataframe tbody tr th:only-of-type {\n",
              "        vertical-align: middle;\n",
              "    }\n",
              "\n",
              "    .dataframe tbody tr th {\n",
              "        vertical-align: top;\n",
              "    }\n",
              "\n",
              "    .dataframe thead th {\n",
              "        text-align: right;\n",
              "    }\n",
              "</style>\n",
              "<table border=\"1\" class=\"dataframe\">\n",
              "  <thead>\n",
              "    <tr style=\"text-align: right;\">\n",
              "      <th></th>\n",
              "      <th>City</th>\n",
              "      <th>Zip_Code</th>\n",
              "      <th>Latitude</th>\n",
              "      <th>Longitude</th>\n",
              "      <th>Gender</th>\n",
              "      <th>Senior_Citizen</th>\n",
              "      <th>Partner</th>\n",
              "      <th>Dependents</th>\n",
              "      <th>Tenure_Months</th>\n",
              "      <th>Phone_Service</th>\n",
              "      <th>...</th>\n",
              "      <th>Online_Backup</th>\n",
              "      <th>Device_Protection</th>\n",
              "      <th>Tech_Support</th>\n",
              "      <th>Streaming_TV</th>\n",
              "      <th>Streaming_Movies</th>\n",
              "      <th>Contract</th>\n",
              "      <th>Paperless_Billing</th>\n",
              "      <th>Payment_Method</th>\n",
              "      <th>Monthly_Charges</th>\n",
              "      <th>Total_Charges</th>\n",
              "    </tr>\n",
              "  </thead>\n",
              "  <tbody>\n",
              "    <tr>\n",
              "      <th>0</th>\n",
              "      <td>Los_Angeles</td>\n",
              "      <td>90003</td>\n",
              "      <td>33.964131</td>\n",
              "      <td>-118.272783</td>\n",
              "      <td>Male</td>\n",
              "      <td>No</td>\n",
              "      <td>No</td>\n",
              "      <td>No</td>\n",
              "      <td>2</td>\n",
              "      <td>Yes</td>\n",
              "      <td>...</td>\n",
              "      <td>Yes</td>\n",
              "      <td>No</td>\n",
              "      <td>No</td>\n",
              "      <td>No</td>\n",
              "      <td>No</td>\n",
              "      <td>Month-to-month</td>\n",
              "      <td>Yes</td>\n",
              "      <td>Mailed_check</td>\n",
              "      <td>53.85</td>\n",
              "      <td>108.15</td>\n",
              "    </tr>\n",
              "    <tr>\n",
              "      <th>1</th>\n",
              "      <td>Los_Angeles</td>\n",
              "      <td>90005</td>\n",
              "      <td>34.059281</td>\n",
              "      <td>-118.307420</td>\n",
              "      <td>Female</td>\n",
              "      <td>No</td>\n",
              "      <td>No</td>\n",
              "      <td>Yes</td>\n",
              "      <td>2</td>\n",
              "      <td>Yes</td>\n",
              "      <td>...</td>\n",
              "      <td>No</td>\n",
              "      <td>No</td>\n",
              "      <td>No</td>\n",
              "      <td>No</td>\n",
              "      <td>No</td>\n",
              "      <td>Month-to-month</td>\n",
              "      <td>Yes</td>\n",
              "      <td>Electronic_check</td>\n",
              "      <td>70.70</td>\n",
              "      <td>151.65</td>\n",
              "    </tr>\n",
              "    <tr>\n",
              "      <th>2</th>\n",
              "      <td>Los_Angeles</td>\n",
              "      <td>90006</td>\n",
              "      <td>34.048013</td>\n",
              "      <td>-118.293953</td>\n",
              "      <td>Female</td>\n",
              "      <td>No</td>\n",
              "      <td>No</td>\n",
              "      <td>Yes</td>\n",
              "      <td>8</td>\n",
              "      <td>Yes</td>\n",
              "      <td>...</td>\n",
              "      <td>No</td>\n",
              "      <td>Yes</td>\n",
              "      <td>No</td>\n",
              "      <td>Yes</td>\n",
              "      <td>Yes</td>\n",
              "      <td>Month-to-month</td>\n",
              "      <td>Yes</td>\n",
              "      <td>Electronic_check</td>\n",
              "      <td>99.65</td>\n",
              "      <td>820.50</td>\n",
              "    </tr>\n",
              "    <tr>\n",
              "      <th>3</th>\n",
              "      <td>Los_Angeles</td>\n",
              "      <td>90010</td>\n",
              "      <td>34.062125</td>\n",
              "      <td>-118.315709</td>\n",
              "      <td>Female</td>\n",
              "      <td>No</td>\n",
              "      <td>Yes</td>\n",
              "      <td>Yes</td>\n",
              "      <td>28</td>\n",
              "      <td>Yes</td>\n",
              "      <td>...</td>\n",
              "      <td>No</td>\n",
              "      <td>Yes</td>\n",
              "      <td>Yes</td>\n",
              "      <td>Yes</td>\n",
              "      <td>Yes</td>\n",
              "      <td>Month-to-month</td>\n",
              "      <td>Yes</td>\n",
              "      <td>Electronic_check</td>\n",
              "      <td>104.80</td>\n",
              "      <td>3046.05</td>\n",
              "    </tr>\n",
              "    <tr>\n",
              "      <th>4</th>\n",
              "      <td>Los_Angeles</td>\n",
              "      <td>90015</td>\n",
              "      <td>34.039224</td>\n",
              "      <td>-118.266293</td>\n",
              "      <td>Male</td>\n",
              "      <td>No</td>\n",
              "      <td>No</td>\n",
              "      <td>Yes</td>\n",
              "      <td>49</td>\n",
              "      <td>Yes</td>\n",
              "      <td>...</td>\n",
              "      <td>Yes</td>\n",
              "      <td>Yes</td>\n",
              "      <td>No</td>\n",
              "      <td>Yes</td>\n",
              "      <td>Yes</td>\n",
              "      <td>Month-to-month</td>\n",
              "      <td>Yes</td>\n",
              "      <td>Bank_transfer_(automatic)</td>\n",
              "      <td>103.70</td>\n",
              "      <td>5036.30</td>\n",
              "    </tr>\n",
              "  </tbody>\n",
              "</table>\n",
              "<p>5 rows × 23 columns</p>\n",
              "</div>\n",
              "      <button class=\"colab-df-convert\" onclick=\"convertToInteractive('df-d2c4a27c-7080-453b-8d1c-ffe68e640b67')\"\n",
              "              title=\"Convert this dataframe to an interactive table.\"\n",
              "              style=\"display:none;\">\n",
              "        \n",
              "  <svg xmlns=\"http://www.w3.org/2000/svg\" height=\"24px\"viewBox=\"0 0 24 24\"\n",
              "       width=\"24px\">\n",
              "    <path d=\"M0 0h24v24H0V0z\" fill=\"none\"/>\n",
              "    <path d=\"M18.56 5.44l.94 2.06.94-2.06 2.06-.94-2.06-.94-.94-2.06-.94 2.06-2.06.94zm-11 1L8.5 8.5l.94-2.06 2.06-.94-2.06-.94L8.5 2.5l-.94 2.06-2.06.94zm10 10l.94 2.06.94-2.06 2.06-.94-2.06-.94-.94-2.06-.94 2.06-2.06.94z\"/><path d=\"M17.41 7.96l-1.37-1.37c-.4-.4-.92-.59-1.43-.59-.52 0-1.04.2-1.43.59L10.3 9.45l-7.72 7.72c-.78.78-.78 2.05 0 2.83L4 21.41c.39.39.9.59 1.41.59.51 0 1.02-.2 1.41-.59l7.78-7.78 2.81-2.81c.8-.78.8-2.07 0-2.86zM5.41 20L4 18.59l7.72-7.72 1.47 1.35L5.41 20z\"/>\n",
              "  </svg>\n",
              "      </button>\n",
              "      \n",
              "  <style>\n",
              "    .colab-df-container {\n",
              "      display:flex;\n",
              "      flex-wrap:wrap;\n",
              "      gap: 12px;\n",
              "    }\n",
              "\n",
              "    .colab-df-convert {\n",
              "      background-color: #E8F0FE;\n",
              "      border: none;\n",
              "      border-radius: 50%;\n",
              "      cursor: pointer;\n",
              "      display: none;\n",
              "      fill: #1967D2;\n",
              "      height: 32px;\n",
              "      padding: 0 0 0 0;\n",
              "      width: 32px;\n",
              "    }\n",
              "\n",
              "    .colab-df-convert:hover {\n",
              "      background-color: #E2EBFA;\n",
              "      box-shadow: 0px 1px 2px rgba(60, 64, 67, 0.3), 0px 1px 3px 1px rgba(60, 64, 67, 0.15);\n",
              "      fill: #174EA6;\n",
              "    }\n",
              "\n",
              "    [theme=dark] .colab-df-convert {\n",
              "      background-color: #3B4455;\n",
              "      fill: #D2E3FC;\n",
              "    }\n",
              "\n",
              "    [theme=dark] .colab-df-convert:hover {\n",
              "      background-color: #434B5C;\n",
              "      box-shadow: 0px 1px 3px 1px rgba(0, 0, 0, 0.15);\n",
              "      filter: drop-shadow(0px 1px 2px rgba(0, 0, 0, 0.3));\n",
              "      fill: #FFFFFF;\n",
              "    }\n",
              "  </style>\n",
              "\n",
              "      <script>\n",
              "        const buttonEl =\n",
              "          document.querySelector('#df-d2c4a27c-7080-453b-8d1c-ffe68e640b67 button.colab-df-convert');\n",
              "        buttonEl.style.display =\n",
              "          google.colab.kernel.accessAllowed ? 'block' : 'none';\n",
              "\n",
              "        async function convertToInteractive(key) {\n",
              "          const element = document.querySelector('#df-d2c4a27c-7080-453b-8d1c-ffe68e640b67');\n",
              "          const dataTable =\n",
              "            await google.colab.kernel.invokeFunction('convertToInteractive',\n",
              "                                                     [key], {});\n",
              "          if (!dataTable) return;\n",
              "\n",
              "          const docLinkHtml = 'Like what you see? Visit the ' +\n",
              "            '<a target=\"_blank\" href=https://colab.research.google.com/notebooks/data_table.ipynb>data table notebook</a>'\n",
              "            + ' to learn more about interactive tables.';\n",
              "          element.innerHTML = '';\n",
              "          dataTable['output_type'] = 'display_data';\n",
              "          await google.colab.output.renderOutput(dataTable, element);\n",
              "          const docLink = document.createElement('div');\n",
              "          docLink.innerHTML = docLinkHtml;\n",
              "          element.appendChild(docLink);\n",
              "        }\n",
              "      </script>\n",
              "    </div>\n",
              "  </div>\n",
              "  "
            ]
          },
          "metadata": {},
          "execution_count": 57
        }
      ]
    },
    {
      "cell_type": "code",
      "source": [
        "y = df['Churn_Value'].copy()\n",
        "y.head()"
      ],
      "metadata": {
        "colab": {
          "base_uri": "https://localhost:8080/"
        },
        "id": "75142RdD_owa",
        "outputId": "bc55458e-3046-4606-e2be-a5c767b1009c"
      },
      "execution_count": null,
      "outputs": [
        {
          "output_type": "execute_result",
          "data": {
            "text/plain": [
              "0    1\n",
              "1    1\n",
              "2    1\n",
              "3    1\n",
              "4    1\n",
              "Name: Churn_Value, dtype: int64"
            ]
          },
          "metadata": {},
          "execution_count": 59
        }
      ]
    },
    {
      "cell_type": "markdown",
      "source": [
        "Now to format X so it's suitable for XGBoost\n",
        "\n",
        "#Format the Data Part 2: One-Hot Encoding\n",
        "Now split into X and y, take closer look at variables in X."
      ],
      "metadata": {
        "id": "y1iRqxmT_wdV"
      }
    },
    {
      "cell_type": "code",
      "source": [
        "X.dtypes"
      ],
      "metadata": {
        "colab": {
          "base_uri": "https://localhost:8080/"
        },
        "id": "3QmU-8zP_sxB",
        "outputId": "e35be8fb-2a7e-4cc8-96e3-86d57a4decca"
      },
      "execution_count": null,
      "outputs": [
        {
          "output_type": "execute_result",
          "data": {
            "text/plain": [
              "City                  object\n",
              "Zip_Code               int64\n",
              "Latitude             float64\n",
              "Longitude            float64\n",
              "Gender                object\n",
              "Senior_Citizen        object\n",
              "Partner               object\n",
              "Dependents            object\n",
              "Tenure_Months          int64\n",
              "Phone_Service         object\n",
              "Multiple_Lines        object\n",
              "Internet_Service      object\n",
              "Online_Security       object\n",
              "Online_Backup         object\n",
              "Device_Protection     object\n",
              "Tech_Support          object\n",
              "Streaming_TV          object\n",
              "Streaming_Movies      object\n",
              "Contract              object\n",
              "Paperless_Billing     object\n",
              "Payment_Method        object\n",
              "Monthly_Charges      float64\n",
              "Total_Charges        float64\n",
              "dtype: object"
            ]
          },
          "metadata": {},
          "execution_count": 60
        }
      ]
    },
    {
      "cell_type": "markdown",
      "source": [
        "All object type columns need to be inspected to make sure they only contain reasonable values, and most, if not all of them, will need to change. B/c, while XGBoost natively supports continuous data, like Monthly_Charges and Total_Charges, it doesn't natively support categorical data like Phone_Service, which contains 2 different categories. Thus in order to use categorical data with XGBoost, have to use trick that converts column of categorical data into multiple columns of binary values. **One-Hot Encoding**\n",
        "\n",
        "Treating like continuous data: 1, 2, 3, 4\n",
        "- would assume 4 is more similar to 3 than it is to 1 or 2. XGBoost Tree more likely to cluster people with 4s and 3s than with 1s.\n",
        "\n",
        "Treat like categorical data: each one as separate category\n",
        "\n",
        "Many different ways to do One-Hot Encoding. Two more popular ways: `ColumnTransformer()` (from scikit-learn) and `get_dummies()` (from pandas) and both have pros and cons.\n",
        "- `ColumnTransformer()` has a very cool feature where it creates persistent function that can validate data that you can get in the future. \n",
        "- Downside is that it turns yoru data into an array and loses all of the column names, making it harder to verify that your usage of `ColumnTransformer()`\n",
        "- In contrast `get_dummies()` leaves your data in a dataframe and retains column names, making it much easier to verify that it worked as intended.\n",
        "- however doesnt have the persistent behavior that `ColumnTransformer()` has. \n",
        "- We use `get_dummies()` for the sake of learning, but once comfortable with OHE, encourage you to use `ColumnTransformer()`"
      ],
      "metadata": {
        "id": "clEST6kiACo-"
      }
    },
    {
      "cell_type": "code",
      "source": [
        "pd.get_dummies(X, columns = ['Payment_Method']).head()"
      ],
      "metadata": {
        "colab": {
          "base_uri": "https://localhost:8080/",
          "height": 386
        },
        "id": "UL2UUT2H_9nz",
        "outputId": "e5360522-1572-4429-af67-848fa2bffb20"
      },
      "execution_count": null,
      "outputs": [
        {
          "output_type": "execute_result",
          "data": {
            "text/plain": [
              "          City  Zip_Code   Latitude   Longitude  Gender Senior_Citizen  \\\n",
              "0  Los_Angeles     90003  33.964131 -118.272783    Male             No   \n",
              "1  Los_Angeles     90005  34.059281 -118.307420  Female             No   \n",
              "2  Los_Angeles     90006  34.048013 -118.293953  Female             No   \n",
              "3  Los_Angeles     90010  34.062125 -118.315709  Female             No   \n",
              "4  Los_Angeles     90015  34.039224 -118.266293    Male             No   \n",
              "\n",
              "  Partner Dependents  Tenure_Months Phone_Service  ... Streaming_TV  \\\n",
              "0      No         No              2           Yes  ...           No   \n",
              "1      No        Yes              2           Yes  ...           No   \n",
              "2      No        Yes              8           Yes  ...          Yes   \n",
              "3     Yes        Yes             28           Yes  ...          Yes   \n",
              "4      No        Yes             49           Yes  ...          Yes   \n",
              "\n",
              "  Streaming_Movies        Contract Paperless_Billing Monthly_Charges  \\\n",
              "0               No  Month-to-month               Yes           53.85   \n",
              "1               No  Month-to-month               Yes           70.70   \n",
              "2              Yes  Month-to-month               Yes           99.65   \n",
              "3              Yes  Month-to-month               Yes          104.80   \n",
              "4              Yes  Month-to-month               Yes          103.70   \n",
              "\n",
              "  Total_Charges Payment_Method_Bank_transfer_(automatic)  \\\n",
              "0        108.15                                        0   \n",
              "1        151.65                                        0   \n",
              "2        820.50                                        0   \n",
              "3       3046.05                                        0   \n",
              "4       5036.30                                        1   \n",
              "\n",
              "  Payment_Method_Credit_card_(automatic) Payment_Method_Electronic_check  \\\n",
              "0                                      0                               0   \n",
              "1                                      0                               1   \n",
              "2                                      0                               1   \n",
              "3                                      0                               1   \n",
              "4                                      0                               0   \n",
              "\n",
              "  Payment_Method_Mailed_check  \n",
              "0                           1  \n",
              "1                           0  \n",
              "2                           0  \n",
              "3                           0  \n",
              "4                           0  \n",
              "\n",
              "[5 rows x 26 columns]"
            ],
            "text/html": [
              "\n",
              "  <div id=\"df-7f5a9456-b09b-4993-be20-1e72353fdb7a\">\n",
              "    <div class=\"colab-df-container\">\n",
              "      <div>\n",
              "<style scoped>\n",
              "    .dataframe tbody tr th:only-of-type {\n",
              "        vertical-align: middle;\n",
              "    }\n",
              "\n",
              "    .dataframe tbody tr th {\n",
              "        vertical-align: top;\n",
              "    }\n",
              "\n",
              "    .dataframe thead th {\n",
              "        text-align: right;\n",
              "    }\n",
              "</style>\n",
              "<table border=\"1\" class=\"dataframe\">\n",
              "  <thead>\n",
              "    <tr style=\"text-align: right;\">\n",
              "      <th></th>\n",
              "      <th>City</th>\n",
              "      <th>Zip_Code</th>\n",
              "      <th>Latitude</th>\n",
              "      <th>Longitude</th>\n",
              "      <th>Gender</th>\n",
              "      <th>Senior_Citizen</th>\n",
              "      <th>Partner</th>\n",
              "      <th>Dependents</th>\n",
              "      <th>Tenure_Months</th>\n",
              "      <th>Phone_Service</th>\n",
              "      <th>...</th>\n",
              "      <th>Streaming_TV</th>\n",
              "      <th>Streaming_Movies</th>\n",
              "      <th>Contract</th>\n",
              "      <th>Paperless_Billing</th>\n",
              "      <th>Monthly_Charges</th>\n",
              "      <th>Total_Charges</th>\n",
              "      <th>Payment_Method_Bank_transfer_(automatic)</th>\n",
              "      <th>Payment_Method_Credit_card_(automatic)</th>\n",
              "      <th>Payment_Method_Electronic_check</th>\n",
              "      <th>Payment_Method_Mailed_check</th>\n",
              "    </tr>\n",
              "  </thead>\n",
              "  <tbody>\n",
              "    <tr>\n",
              "      <th>0</th>\n",
              "      <td>Los_Angeles</td>\n",
              "      <td>90003</td>\n",
              "      <td>33.964131</td>\n",
              "      <td>-118.272783</td>\n",
              "      <td>Male</td>\n",
              "      <td>No</td>\n",
              "      <td>No</td>\n",
              "      <td>No</td>\n",
              "      <td>2</td>\n",
              "      <td>Yes</td>\n",
              "      <td>...</td>\n",
              "      <td>No</td>\n",
              "      <td>No</td>\n",
              "      <td>Month-to-month</td>\n",
              "      <td>Yes</td>\n",
              "      <td>53.85</td>\n",
              "      <td>108.15</td>\n",
              "      <td>0</td>\n",
              "      <td>0</td>\n",
              "      <td>0</td>\n",
              "      <td>1</td>\n",
              "    </tr>\n",
              "    <tr>\n",
              "      <th>1</th>\n",
              "      <td>Los_Angeles</td>\n",
              "      <td>90005</td>\n",
              "      <td>34.059281</td>\n",
              "      <td>-118.307420</td>\n",
              "      <td>Female</td>\n",
              "      <td>No</td>\n",
              "      <td>No</td>\n",
              "      <td>Yes</td>\n",
              "      <td>2</td>\n",
              "      <td>Yes</td>\n",
              "      <td>...</td>\n",
              "      <td>No</td>\n",
              "      <td>No</td>\n",
              "      <td>Month-to-month</td>\n",
              "      <td>Yes</td>\n",
              "      <td>70.70</td>\n",
              "      <td>151.65</td>\n",
              "      <td>0</td>\n",
              "      <td>0</td>\n",
              "      <td>1</td>\n",
              "      <td>0</td>\n",
              "    </tr>\n",
              "    <tr>\n",
              "      <th>2</th>\n",
              "      <td>Los_Angeles</td>\n",
              "      <td>90006</td>\n",
              "      <td>34.048013</td>\n",
              "      <td>-118.293953</td>\n",
              "      <td>Female</td>\n",
              "      <td>No</td>\n",
              "      <td>No</td>\n",
              "      <td>Yes</td>\n",
              "      <td>8</td>\n",
              "      <td>Yes</td>\n",
              "      <td>...</td>\n",
              "      <td>Yes</td>\n",
              "      <td>Yes</td>\n",
              "      <td>Month-to-month</td>\n",
              "      <td>Yes</td>\n",
              "      <td>99.65</td>\n",
              "      <td>820.50</td>\n",
              "      <td>0</td>\n",
              "      <td>0</td>\n",
              "      <td>1</td>\n",
              "      <td>0</td>\n",
              "    </tr>\n",
              "    <tr>\n",
              "      <th>3</th>\n",
              "      <td>Los_Angeles</td>\n",
              "      <td>90010</td>\n",
              "      <td>34.062125</td>\n",
              "      <td>-118.315709</td>\n",
              "      <td>Female</td>\n",
              "      <td>No</td>\n",
              "      <td>Yes</td>\n",
              "      <td>Yes</td>\n",
              "      <td>28</td>\n",
              "      <td>Yes</td>\n",
              "      <td>...</td>\n",
              "      <td>Yes</td>\n",
              "      <td>Yes</td>\n",
              "      <td>Month-to-month</td>\n",
              "      <td>Yes</td>\n",
              "      <td>104.80</td>\n",
              "      <td>3046.05</td>\n",
              "      <td>0</td>\n",
              "      <td>0</td>\n",
              "      <td>1</td>\n",
              "      <td>0</td>\n",
              "    </tr>\n",
              "    <tr>\n",
              "      <th>4</th>\n",
              "      <td>Los_Angeles</td>\n",
              "      <td>90015</td>\n",
              "      <td>34.039224</td>\n",
              "      <td>-118.266293</td>\n",
              "      <td>Male</td>\n",
              "      <td>No</td>\n",
              "      <td>No</td>\n",
              "      <td>Yes</td>\n",
              "      <td>49</td>\n",
              "      <td>Yes</td>\n",
              "      <td>...</td>\n",
              "      <td>Yes</td>\n",
              "      <td>Yes</td>\n",
              "      <td>Month-to-month</td>\n",
              "      <td>Yes</td>\n",
              "      <td>103.70</td>\n",
              "      <td>5036.30</td>\n",
              "      <td>1</td>\n",
              "      <td>0</td>\n",
              "      <td>0</td>\n",
              "      <td>0</td>\n",
              "    </tr>\n",
              "  </tbody>\n",
              "</table>\n",
              "<p>5 rows × 26 columns</p>\n",
              "</div>\n",
              "      <button class=\"colab-df-convert\" onclick=\"convertToInteractive('df-7f5a9456-b09b-4993-be20-1e72353fdb7a')\"\n",
              "              title=\"Convert this dataframe to an interactive table.\"\n",
              "              style=\"display:none;\">\n",
              "        \n",
              "  <svg xmlns=\"http://www.w3.org/2000/svg\" height=\"24px\"viewBox=\"0 0 24 24\"\n",
              "       width=\"24px\">\n",
              "    <path d=\"M0 0h24v24H0V0z\" fill=\"none\"/>\n",
              "    <path d=\"M18.56 5.44l.94 2.06.94-2.06 2.06-.94-2.06-.94-.94-2.06-.94 2.06-2.06.94zm-11 1L8.5 8.5l.94-2.06 2.06-.94-2.06-.94L8.5 2.5l-.94 2.06-2.06.94zm10 10l.94 2.06.94-2.06 2.06-.94-2.06-.94-.94-2.06-.94 2.06-2.06.94z\"/><path d=\"M17.41 7.96l-1.37-1.37c-.4-.4-.92-.59-1.43-.59-.52 0-1.04.2-1.43.59L10.3 9.45l-7.72 7.72c-.78.78-.78 2.05 0 2.83L4 21.41c.39.39.9.59 1.41.59.51 0 1.02-.2 1.41-.59l7.78-7.78 2.81-2.81c.8-.78.8-2.07 0-2.86zM5.41 20L4 18.59l7.72-7.72 1.47 1.35L5.41 20z\"/>\n",
              "  </svg>\n",
              "      </button>\n",
              "      \n",
              "  <style>\n",
              "    .colab-df-container {\n",
              "      display:flex;\n",
              "      flex-wrap:wrap;\n",
              "      gap: 12px;\n",
              "    }\n",
              "\n",
              "    .colab-df-convert {\n",
              "      background-color: #E8F0FE;\n",
              "      border: none;\n",
              "      border-radius: 50%;\n",
              "      cursor: pointer;\n",
              "      display: none;\n",
              "      fill: #1967D2;\n",
              "      height: 32px;\n",
              "      padding: 0 0 0 0;\n",
              "      width: 32px;\n",
              "    }\n",
              "\n",
              "    .colab-df-convert:hover {\n",
              "      background-color: #E2EBFA;\n",
              "      box-shadow: 0px 1px 2px rgba(60, 64, 67, 0.3), 0px 1px 3px 1px rgba(60, 64, 67, 0.15);\n",
              "      fill: #174EA6;\n",
              "    }\n",
              "\n",
              "    [theme=dark] .colab-df-convert {\n",
              "      background-color: #3B4455;\n",
              "      fill: #D2E3FC;\n",
              "    }\n",
              "\n",
              "    [theme=dark] .colab-df-convert:hover {\n",
              "      background-color: #434B5C;\n",
              "      box-shadow: 0px 1px 3px 1px rgba(0, 0, 0, 0.15);\n",
              "      filter: drop-shadow(0px 1px 2px rgba(0, 0, 0, 0.3));\n",
              "      fill: #FFFFFF;\n",
              "    }\n",
              "  </style>\n",
              "\n",
              "      <script>\n",
              "        const buttonEl =\n",
              "          document.querySelector('#df-7f5a9456-b09b-4993-be20-1e72353fdb7a button.colab-df-convert');\n",
              "        buttonEl.style.display =\n",
              "          google.colab.kernel.accessAllowed ? 'block' : 'none';\n",
              "\n",
              "        async function convertToInteractive(key) {\n",
              "          const element = document.querySelector('#df-7f5a9456-b09b-4993-be20-1e72353fdb7a');\n",
              "          const dataTable =\n",
              "            await google.colab.kernel.invokeFunction('convertToInteractive',\n",
              "                                                     [key], {});\n",
              "          if (!dataTable) return;\n",
              "\n",
              "          const docLinkHtml = 'Like what you see? Visit the ' +\n",
              "            '<a target=\"_blank\" href=https://colab.research.google.com/notebooks/data_table.ipynb>data table notebook</a>'\n",
              "            + ' to learn more about interactive tables.';\n",
              "          element.innerHTML = '';\n",
              "          dataTable['output_type'] = 'display_data';\n",
              "          await google.colab.output.renderOutput(dataTable, element);\n",
              "          const docLink = document.createElement('div');\n",
              "          docLink.innerHTML = docLinkHtml;\n",
              "          element.appendChild(docLink);\n",
              "        }\n",
              "      </script>\n",
              "    </div>\n",
              "  </div>\n",
              "  "
            ]
          },
          "metadata": {},
          "execution_count": 61
        }
      ]
    },
    {
      "cell_type": "markdown",
      "source": [
        "**NOTE**: in a real situation, should verify all of these columns contain accepted categories. "
      ],
      "metadata": {
        "id": "jNkWxYYgClPF"
      }
    },
    {
      "cell_type": "code",
      "source": [
        "X_encoded = pd.get_dummies(X, columns = ['City', \n",
        "                                         'Gender', \n",
        "                                         'Senior_Citizen', \n",
        "                                         'Partner', \n",
        "                                         'Dependents', \n",
        "                                         'Phone_Service',\n",
        "                                         'Multiple_Lines',\n",
        "                                         'Internet_Service',\n",
        "                                         'Online_Security',\n",
        "                                         'Online_Backup',\n",
        "                                         'Device_Protection',\n",
        "                                         'Tech_Support',\n",
        "                                         'Streaming_TV',\n",
        "                                         'Streaming_Movies',\n",
        "                                         'Contract',\n",
        "                                         'Paperless_Billing',\n",
        "                                         'Payment_Method'])\n",
        "X_encoded.head()"
      ],
      "metadata": {
        "colab": {
          "base_uri": "https://localhost:8080/",
          "height": 317
        },
        "id": "3u8mYrQtCa7T",
        "outputId": "de2a8c22-1027-4f04-8937-e7a5e692250b"
      },
      "execution_count": null,
      "outputs": [
        {
          "output_type": "execute_result",
          "data": {
            "text/plain": [
              "   Zip_Code   Latitude   Longitude  Tenure_Months  Monthly_Charges  \\\n",
              "0     90003  33.964131 -118.272783              2            53.85   \n",
              "1     90005  34.059281 -118.307420              2            70.70   \n",
              "2     90006  34.048013 -118.293953              8            99.65   \n",
              "3     90010  34.062125 -118.315709             28           104.80   \n",
              "4     90015  34.039224 -118.266293             49           103.70   \n",
              "\n",
              "   Total_Charges  City_Acampo  City_Acton  City_Adelanto  City_Adin  ...  \\\n",
              "0         108.15            0           0              0          0  ...   \n",
              "1         151.65            0           0              0          0  ...   \n",
              "2         820.50            0           0              0          0  ...   \n",
              "3        3046.05            0           0              0          0  ...   \n",
              "4        5036.30            0           0              0          0  ...   \n",
              "\n",
              "   Streaming_Movies_Yes  Contract_Month-to-month  Contract_One_year  \\\n",
              "0                     0                        1                  0   \n",
              "1                     0                        1                  0   \n",
              "2                     1                        1                  0   \n",
              "3                     1                        1                  0   \n",
              "4                     1                        1                  0   \n",
              "\n",
              "   Contract_Two_year  Paperless_Billing_No  Paperless_Billing_Yes  \\\n",
              "0                  0                     0                      1   \n",
              "1                  0                     0                      1   \n",
              "2                  0                     0                      1   \n",
              "3                  0                     0                      1   \n",
              "4                  0                     0                      1   \n",
              "\n",
              "   Payment_Method_Bank_transfer_(automatic)  \\\n",
              "0                                         0   \n",
              "1                                         0   \n",
              "2                                         0   \n",
              "3                                         0   \n",
              "4                                         1   \n",
              "\n",
              "   Payment_Method_Credit_card_(automatic)  Payment_Method_Electronic_check  \\\n",
              "0                                       0                                0   \n",
              "1                                       0                                1   \n",
              "2                                       0                                1   \n",
              "3                                       0                                1   \n",
              "4                                       0                                0   \n",
              "\n",
              "   Payment_Method_Mailed_check  \n",
              "0                            1  \n",
              "1                            0  \n",
              "2                            0  \n",
              "3                            0  \n",
              "4                            0  \n",
              "\n",
              "[5 rows x 1178 columns]"
            ],
            "text/html": [
              "\n",
              "  <div id=\"df-de0b0ce1-9d24-4fa2-8779-7d7f09ab0634\">\n",
              "    <div class=\"colab-df-container\">\n",
              "      <div>\n",
              "<style scoped>\n",
              "    .dataframe tbody tr th:only-of-type {\n",
              "        vertical-align: middle;\n",
              "    }\n",
              "\n",
              "    .dataframe tbody tr th {\n",
              "        vertical-align: top;\n",
              "    }\n",
              "\n",
              "    .dataframe thead th {\n",
              "        text-align: right;\n",
              "    }\n",
              "</style>\n",
              "<table border=\"1\" class=\"dataframe\">\n",
              "  <thead>\n",
              "    <tr style=\"text-align: right;\">\n",
              "      <th></th>\n",
              "      <th>Zip_Code</th>\n",
              "      <th>Latitude</th>\n",
              "      <th>Longitude</th>\n",
              "      <th>Tenure_Months</th>\n",
              "      <th>Monthly_Charges</th>\n",
              "      <th>Total_Charges</th>\n",
              "      <th>City_Acampo</th>\n",
              "      <th>City_Acton</th>\n",
              "      <th>City_Adelanto</th>\n",
              "      <th>City_Adin</th>\n",
              "      <th>...</th>\n",
              "      <th>Streaming_Movies_Yes</th>\n",
              "      <th>Contract_Month-to-month</th>\n",
              "      <th>Contract_One_year</th>\n",
              "      <th>Contract_Two_year</th>\n",
              "      <th>Paperless_Billing_No</th>\n",
              "      <th>Paperless_Billing_Yes</th>\n",
              "      <th>Payment_Method_Bank_transfer_(automatic)</th>\n",
              "      <th>Payment_Method_Credit_card_(automatic)</th>\n",
              "      <th>Payment_Method_Electronic_check</th>\n",
              "      <th>Payment_Method_Mailed_check</th>\n",
              "    </tr>\n",
              "  </thead>\n",
              "  <tbody>\n",
              "    <tr>\n",
              "      <th>0</th>\n",
              "      <td>90003</td>\n",
              "      <td>33.964131</td>\n",
              "      <td>-118.272783</td>\n",
              "      <td>2</td>\n",
              "      <td>53.85</td>\n",
              "      <td>108.15</td>\n",
              "      <td>0</td>\n",
              "      <td>0</td>\n",
              "      <td>0</td>\n",
              "      <td>0</td>\n",
              "      <td>...</td>\n",
              "      <td>0</td>\n",
              "      <td>1</td>\n",
              "      <td>0</td>\n",
              "      <td>0</td>\n",
              "      <td>0</td>\n",
              "      <td>1</td>\n",
              "      <td>0</td>\n",
              "      <td>0</td>\n",
              "      <td>0</td>\n",
              "      <td>1</td>\n",
              "    </tr>\n",
              "    <tr>\n",
              "      <th>1</th>\n",
              "      <td>90005</td>\n",
              "      <td>34.059281</td>\n",
              "      <td>-118.307420</td>\n",
              "      <td>2</td>\n",
              "      <td>70.70</td>\n",
              "      <td>151.65</td>\n",
              "      <td>0</td>\n",
              "      <td>0</td>\n",
              "      <td>0</td>\n",
              "      <td>0</td>\n",
              "      <td>...</td>\n",
              "      <td>0</td>\n",
              "      <td>1</td>\n",
              "      <td>0</td>\n",
              "      <td>0</td>\n",
              "      <td>0</td>\n",
              "      <td>1</td>\n",
              "      <td>0</td>\n",
              "      <td>0</td>\n",
              "      <td>1</td>\n",
              "      <td>0</td>\n",
              "    </tr>\n",
              "    <tr>\n",
              "      <th>2</th>\n",
              "      <td>90006</td>\n",
              "      <td>34.048013</td>\n",
              "      <td>-118.293953</td>\n",
              "      <td>8</td>\n",
              "      <td>99.65</td>\n",
              "      <td>820.50</td>\n",
              "      <td>0</td>\n",
              "      <td>0</td>\n",
              "      <td>0</td>\n",
              "      <td>0</td>\n",
              "      <td>...</td>\n",
              "      <td>1</td>\n",
              "      <td>1</td>\n",
              "      <td>0</td>\n",
              "      <td>0</td>\n",
              "      <td>0</td>\n",
              "      <td>1</td>\n",
              "      <td>0</td>\n",
              "      <td>0</td>\n",
              "      <td>1</td>\n",
              "      <td>0</td>\n",
              "    </tr>\n",
              "    <tr>\n",
              "      <th>3</th>\n",
              "      <td>90010</td>\n",
              "      <td>34.062125</td>\n",
              "      <td>-118.315709</td>\n",
              "      <td>28</td>\n",
              "      <td>104.80</td>\n",
              "      <td>3046.05</td>\n",
              "      <td>0</td>\n",
              "      <td>0</td>\n",
              "      <td>0</td>\n",
              "      <td>0</td>\n",
              "      <td>...</td>\n",
              "      <td>1</td>\n",
              "      <td>1</td>\n",
              "      <td>0</td>\n",
              "      <td>0</td>\n",
              "      <td>0</td>\n",
              "      <td>1</td>\n",
              "      <td>0</td>\n",
              "      <td>0</td>\n",
              "      <td>1</td>\n",
              "      <td>0</td>\n",
              "    </tr>\n",
              "    <tr>\n",
              "      <th>4</th>\n",
              "      <td>90015</td>\n",
              "      <td>34.039224</td>\n",
              "      <td>-118.266293</td>\n",
              "      <td>49</td>\n",
              "      <td>103.70</td>\n",
              "      <td>5036.30</td>\n",
              "      <td>0</td>\n",
              "      <td>0</td>\n",
              "      <td>0</td>\n",
              "      <td>0</td>\n",
              "      <td>...</td>\n",
              "      <td>1</td>\n",
              "      <td>1</td>\n",
              "      <td>0</td>\n",
              "      <td>0</td>\n",
              "      <td>0</td>\n",
              "      <td>1</td>\n",
              "      <td>1</td>\n",
              "      <td>0</td>\n",
              "      <td>0</td>\n",
              "      <td>0</td>\n",
              "    </tr>\n",
              "  </tbody>\n",
              "</table>\n",
              "<p>5 rows × 1178 columns</p>\n",
              "</div>\n",
              "      <button class=\"colab-df-convert\" onclick=\"convertToInteractive('df-de0b0ce1-9d24-4fa2-8779-7d7f09ab0634')\"\n",
              "              title=\"Convert this dataframe to an interactive table.\"\n",
              "              style=\"display:none;\">\n",
              "        \n",
              "  <svg xmlns=\"http://www.w3.org/2000/svg\" height=\"24px\"viewBox=\"0 0 24 24\"\n",
              "       width=\"24px\">\n",
              "    <path d=\"M0 0h24v24H0V0z\" fill=\"none\"/>\n",
              "    <path d=\"M18.56 5.44l.94 2.06.94-2.06 2.06-.94-2.06-.94-.94-2.06-.94 2.06-2.06.94zm-11 1L8.5 8.5l.94-2.06 2.06-.94-2.06-.94L8.5 2.5l-.94 2.06-2.06.94zm10 10l.94 2.06.94-2.06 2.06-.94-2.06-.94-.94-2.06-.94 2.06-2.06.94z\"/><path d=\"M17.41 7.96l-1.37-1.37c-.4-.4-.92-.59-1.43-.59-.52 0-1.04.2-1.43.59L10.3 9.45l-7.72 7.72c-.78.78-.78 2.05 0 2.83L4 21.41c.39.39.9.59 1.41.59.51 0 1.02-.2 1.41-.59l7.78-7.78 2.81-2.81c.8-.78.8-2.07 0-2.86zM5.41 20L4 18.59l7.72-7.72 1.47 1.35L5.41 20z\"/>\n",
              "  </svg>\n",
              "      </button>\n",
              "      \n",
              "  <style>\n",
              "    .colab-df-container {\n",
              "      display:flex;\n",
              "      flex-wrap:wrap;\n",
              "      gap: 12px;\n",
              "    }\n",
              "\n",
              "    .colab-df-convert {\n",
              "      background-color: #E8F0FE;\n",
              "      border: none;\n",
              "      border-radius: 50%;\n",
              "      cursor: pointer;\n",
              "      display: none;\n",
              "      fill: #1967D2;\n",
              "      height: 32px;\n",
              "      padding: 0 0 0 0;\n",
              "      width: 32px;\n",
              "    }\n",
              "\n",
              "    .colab-df-convert:hover {\n",
              "      background-color: #E2EBFA;\n",
              "      box-shadow: 0px 1px 2px rgba(60, 64, 67, 0.3), 0px 1px 3px 1px rgba(60, 64, 67, 0.15);\n",
              "      fill: #174EA6;\n",
              "    }\n",
              "\n",
              "    [theme=dark] .colab-df-convert {\n",
              "      background-color: #3B4455;\n",
              "      fill: #D2E3FC;\n",
              "    }\n",
              "\n",
              "    [theme=dark] .colab-df-convert:hover {\n",
              "      background-color: #434B5C;\n",
              "      box-shadow: 0px 1px 3px 1px rgba(0, 0, 0, 0.15);\n",
              "      filter: drop-shadow(0px 1px 2px rgba(0, 0, 0, 0.3));\n",
              "      fill: #FFFFFF;\n",
              "    }\n",
              "  </style>\n",
              "\n",
              "      <script>\n",
              "        const buttonEl =\n",
              "          document.querySelector('#df-de0b0ce1-9d24-4fa2-8779-7d7f09ab0634 button.colab-df-convert');\n",
              "        buttonEl.style.display =\n",
              "          google.colab.kernel.accessAllowed ? 'block' : 'none';\n",
              "\n",
              "        async function convertToInteractive(key) {\n",
              "          const element = document.querySelector('#df-de0b0ce1-9d24-4fa2-8779-7d7f09ab0634');\n",
              "          const dataTable =\n",
              "            await google.colab.kernel.invokeFunction('convertToInteractive',\n",
              "                                                     [key], {});\n",
              "          if (!dataTable) return;\n",
              "\n",
              "          const docLinkHtml = 'Like what you see? Visit the ' +\n",
              "            '<a target=\"_blank\" href=https://colab.research.google.com/notebooks/data_table.ipynb>data table notebook</a>'\n",
              "            + ' to learn more about interactive tables.';\n",
              "          element.innerHTML = '';\n",
              "          dataTable['output_type'] = 'display_data';\n",
              "          await google.colab.output.renderOutput(dataTable, element);\n",
              "          const docLink = document.createElement('div');\n",
              "          docLink.innerHTML = docLinkHtml;\n",
              "          element.appendChild(docLink);\n",
              "        }\n",
              "      </script>\n",
              "    </div>\n",
              "  </div>\n",
              "  "
            ]
          },
          "metadata": {},
          "execution_count": 63
        }
      ]
    },
    {
      "cell_type": "markdown",
      "source": [
        "Verify y only contains 1s and 0s with unique()"
      ],
      "metadata": {
        "id": "CVjXz25ODGwq"
      }
    },
    {
      "cell_type": "code",
      "source": [
        "y.unique()"
      ],
      "metadata": {
        "colab": {
          "base_uri": "https://localhost:8080/"
        },
        "id": "89GBXipJDAr0",
        "outputId": "edab7ac9-9f6b-468b-f955-12b9c4a81364"
      },
      "execution_count": null,
      "outputs": [
        {
          "output_type": "execute_result",
          "data": {
            "text/plain": [
              "array([1, 0])"
            ]
          },
          "metadata": {},
          "execution_count": 64
        }
      ]
    },
    {
      "cell_type": "markdown",
      "source": [
        "Done formatting\n",
        "\n",
        "XGBoost uses sparse matrices, only keeps track of the 1s, doesn't allocate memory for the 0s (memory efficient)\n",
        "\n",
        "#Build a Preliminary XGBoost Model\n",
        "\n",
        "split into train and test. observe data is imbalanced by dividing the number of people who left the company, where y =1 by total number of people in the dataset"
      ],
      "metadata": {
        "id": "O8GrSH07DKfC"
      }
    },
    {
      "cell_type": "code",
      "source": [
        "sum(y) / len(y)"
      ],
      "metadata": {
        "colab": {
          "base_uri": "https://localhost:8080/"
        },
        "id": "qbAPNWwRDJvo",
        "outputId": "84b205dd-24da-4340-a4ad-d7788e582167"
      },
      "execution_count": null,
      "outputs": [
        {
          "output_type": "execute_result",
          "data": {
            "text/plain": [
              "0.2653698707936959"
            ]
          },
          "metadata": {},
          "execution_count": 65
        }
      ]
    },
    {
      "cell_type": "markdown",
      "source": [
        "Only 26.5% of people in dataset left company. B/C of this when we split the data into training and testing, will split using stratification in order to maintain same % of people who left the company in both the training & testing set."
      ],
      "metadata": {
        "id": "GulbRl23Pr9m"
      }
    },
    {
      "cell_type": "code",
      "source": [
        "X_train, X_test, y_train, y_test = train_test_split(X_encoded, y, random_state = 42, stratify = y)"
      ],
      "metadata": {
        "id": "JzjIpgQxEATj"
      },
      "execution_count": null,
      "outputs": []
    },
    {
      "cell_type": "code",
      "source": [
        "# see if stratify worked as expected\n",
        "sum(y_train)/len(y_train)"
      ],
      "metadata": {
        "colab": {
          "base_uri": "https://localhost:8080/"
        },
        "id": "8lM-L_LZP5hQ",
        "outputId": "ccde6f1d-9330-4c46-85bb-f36d39c7c679"
      },
      "execution_count": null,
      "outputs": [
        {
          "output_type": "execute_result",
          "data": {
            "text/plain": [
              "0.2654297614539947"
            ]
          },
          "metadata": {},
          "execution_count": 67
        }
      ]
    },
    {
      "cell_type": "code",
      "source": [
        "sum(y_test)/len(y_test)"
      ],
      "metadata": {
        "colab": {
          "base_uri": "https://localhost:8080/"
        },
        "id": "23CGFjb-P9UF",
        "outputId": "7e6287f6-4920-4dab-a433-8413856f0cea"
      },
      "execution_count": null,
      "outputs": [
        {
          "output_type": "execute_result",
          "data": {
            "text/plain": [
              "0.26519023282226006"
            ]
          },
          "metadata": {},
          "execution_count": 68
        }
      ]
    },
    {
      "cell_type": "markdown",
      "source": [
        "same % of people in both y_train and y_test\n",
        "\n",
        "**Note:** instead of determining the optimal number of trees with CV, we will use **early stopping** to stop building trees when they no longer improve the situation\n",
        "\n",
        "Specify binary:logistic -> for classification (logistic regression approach to evaluate how good the XGBoost is at classifying the observations)\n",
        "- missing = none, default is none. -> telling XGBoost what character we're using to represent missing values.\n",
        "-  seed = 42, in order to hopefully replicate same result\n",
        "- XGBClassifier creates the shell in which we're going to create a forest of extreme gradient boosted trees, stored in clf_xgb\n",
        "- create those trees by using fit\n",
        "- early_stopping_rounds = 10, build 10 more trees, if none improve predictions, then it'll stop\n",
        "- using aucpr to evaluate how well predictions are being made"
      ],
      "metadata": {
        "id": "vxxM62nkP_zT"
      }
    },
    {
      "cell_type": "code",
      "source": [
        "clf_xgb = xgb.XGBClassifier(objective = 'binary:logistic', missing = None, seed = 42)\n",
        "clf_xgb.fit(X_train, y_train, verbose = True, early_stopping_rounds = 10, eval_metric = 'aucpr', eval_set = [(X_test, y_test)])"
      ],
      "metadata": {
        "colab": {
          "base_uri": "https://localhost:8080/"
        },
        "id": "JgBCD2jYP-tj",
        "outputId": "5a0513e0-a0af-471c-8567-df42e9ce6fe5"
      },
      "execution_count": null,
      "outputs": [
        {
          "output_type": "stream",
          "name": "stdout",
          "text": [
            "[0]\tvalidation_0-aucpr:0.578392\n",
            "Will train until validation_0-aucpr hasn't improved in 10 rounds.\n",
            "[1]\tvalidation_0-aucpr:0.580597\n",
            "[2]\tvalidation_0-aucpr:0.590099\n",
            "[3]\tvalidation_0-aucpr:0.601636\n",
            "[4]\tvalidation_0-aucpr:0.608932\n",
            "[5]\tvalidation_0-aucpr:0.603821\n",
            "[6]\tvalidation_0-aucpr:0.618314\n",
            "[7]\tvalidation_0-aucpr:0.610906\n",
            "[8]\tvalidation_0-aucpr:0.620122\n",
            "[9]\tvalidation_0-aucpr:0.62495\n",
            "[10]\tvalidation_0-aucpr:0.629252\n",
            "[11]\tvalidation_0-aucpr:0.628517\n",
            "[12]\tvalidation_0-aucpr:0.650051\n",
            "[13]\tvalidation_0-aucpr:0.649035\n",
            "[14]\tvalidation_0-aucpr:0.650546\n",
            "[15]\tvalidation_0-aucpr:0.652876\n",
            "[16]\tvalidation_0-aucpr:0.654922\n",
            "[17]\tvalidation_0-aucpr:0.655347\n",
            "[18]\tvalidation_0-aucpr:0.655818\n",
            "[19]\tvalidation_0-aucpr:0.655958\n",
            "[20]\tvalidation_0-aucpr:0.656236\n",
            "[21]\tvalidation_0-aucpr:0.655564\n",
            "[22]\tvalidation_0-aucpr:0.656688\n",
            "[23]\tvalidation_0-aucpr:0.657409\n",
            "[24]\tvalidation_0-aucpr:0.656236\n",
            "[25]\tvalidation_0-aucpr:0.655347\n",
            "[26]\tvalidation_0-aucpr:0.656541\n",
            "[27]\tvalidation_0-aucpr:0.657225\n",
            "[28]\tvalidation_0-aucpr:0.656978\n",
            "[29]\tvalidation_0-aucpr:0.657309\n",
            "[30]\tvalidation_0-aucpr:0.65767\n",
            "[31]\tvalidation_0-aucpr:0.658044\n",
            "[32]\tvalidation_0-aucpr:0.659631\n",
            "[33]\tvalidation_0-aucpr:0.660315\n",
            "[34]\tvalidation_0-aucpr:0.659643\n",
            "[35]\tvalidation_0-aucpr:0.660104\n",
            "[36]\tvalidation_0-aucpr:0.659014\n",
            "[37]\tvalidation_0-aucpr:0.659666\n",
            "[38]\tvalidation_0-aucpr:0.661717\n",
            "[39]\tvalidation_0-aucpr:0.662989\n",
            "[40]\tvalidation_0-aucpr:0.663667\n",
            "[41]\tvalidation_0-aucpr:0.662927\n",
            "[42]\tvalidation_0-aucpr:0.663886\n",
            "[43]\tvalidation_0-aucpr:0.664187\n",
            "[44]\tvalidation_0-aucpr:0.6642\n",
            "[45]\tvalidation_0-aucpr:0.665552\n",
            "[46]\tvalidation_0-aucpr:0.665049\n",
            "[47]\tvalidation_0-aucpr:0.664782\n",
            "[48]\tvalidation_0-aucpr:0.66522\n",
            "[49]\tvalidation_0-aucpr:0.665371\n",
            "[50]\tvalidation_0-aucpr:0.664722\n",
            "[51]\tvalidation_0-aucpr:0.664562\n",
            "[52]\tvalidation_0-aucpr:0.665216\n",
            "[53]\tvalidation_0-aucpr:0.665086\n",
            "[54]\tvalidation_0-aucpr:0.664534\n",
            "[55]\tvalidation_0-aucpr:0.664162\n",
            "Stopping. Best iteration:\n",
            "[45]\tvalidation_0-aucpr:0.665552\n",
            "\n"
          ]
        },
        {
          "output_type": "execute_result",
          "data": {
            "text/plain": [
              "XGBClassifier(seed=42)"
            ]
          },
          "metadata": {},
          "execution_count": 71
        }
      ]
    },
    {
      "cell_type": "markdown",
      "source": [
        "Only created 45 trees. Now let's see how it performs on testing dataset by running the testing dataset down the model and drawing a confusion matrix"
      ],
      "metadata": {
        "id": "ShnxaMQIeIFx"
      }
    },
    {
      "cell_type": "code",
      "source": [
        "plot_confusion_matrix(clf_xgb, X_test, y_test, \n",
        "                      values_format = 'd', display_labels = [\"Did not leave\", \"Left\"])"
      ],
      "metadata": {
        "colab": {
          "base_uri": "https://localhost:8080/",
          "height": 351
        },
        "id": "Eq7HI4pMd28i",
        "outputId": "ab02be16-1749-441c-f655-95477c987c41"
      },
      "execution_count": null,
      "outputs": [
        {
          "output_type": "stream",
          "name": "stderr",
          "text": [
            "/usr/local/lib/python3.7/dist-packages/sklearn/utils/deprecation.py:87: FutureWarning: Function plot_confusion_matrix is deprecated; Function `plot_confusion_matrix` is deprecated in 1.0 and will be removed in 1.2. Use one of the class methods: ConfusionMatrixDisplay.from_predictions or ConfusionMatrixDisplay.from_estimator.\n",
            "  warnings.warn(msg, category=FutureWarning)\n"
          ]
        },
        {
          "output_type": "execute_result",
          "data": {
            "text/plain": [
              "<sklearn.metrics._plot.confusion_matrix.ConfusionMatrixDisplay at 0x7fc027392950>"
            ]
          },
          "metadata": {},
          "execution_count": 72
        },
        {
          "output_type": "display_data",
          "data": {
            "text/plain": [
              "<Figure size 432x288 with 2 Axes>"
            ],
            "image/png": "[encoded data removed]"
          },
          "metadata": {
            "needs_background": "light"
          }
        }
      ]
    },
    {
      "cell_type": "markdown",
      "source": [
        "- 1294 didn't leave, 1178 (91%) correctly classified.\n",
        "- 467 left, 239 (51%) were correctly classified.\n",
        "- XGBoost model was not awesome. \n",
        "- part of the problem is that our data is imbalanced, which we saw earlier and we see this in the confusion matrix with the top row showing 1262 people didn't default \n",
        "- bottom row showing 467 people who did.\n",
        "- because people leaving costs the money a lot of money, we would like to capture more ofthe people that left. \n",
        "- the good news is that XGBoost has a parameter, `scale_pos_weight`, that helps with imbalanced data. \n",
        "- let's try to improve predictions using **Cross Validation** to optimize the parameters"
      ],
      "metadata": {
        "id": "J4Yj6O9zefZV"
      }
    },
    {
      "cell_type": "markdown",
      "source": [
        "# Optimize Parameters using Cross Validation and GridSearch()\n",
        "XGBoost has a lot of *hyperparameters*, parameters that we have to manually configure and are not determned by XGBoost itself, including `max_depth`, the maximum tree depth, `learning_rate`, the learning rate, or \"eta\", `gamma`, the parameter that encourages pruning, and `reg_lambda`, the regularization parameter lambda. So let's try to find the optimal values for these hyperparameters in hopes that we can improve the accuracy with the Testing dataset.\n",
        "\n",
        "**NOTE:** since we have many hyperparameters to optimize, use `GridSearchCV()`. Specify a bunch of potential values for the hyperparameters and `GridSearchCV()` tests all possible combos of the parameters for us.\n",
        "\n",
        "when data are imbalanced, XGBoost manual says if you care only about overall performance metric (AUC) of your prediction\n",
        "-  Balance the positive and negative weights via `scale_pos_weight`\n",
        "- Use AUC for evaluation\n",
        "**NOTE:** ran GridSearchCV sequentially on subsets of parameter options, rather than all at once in order to optimize parameters in a short period of time."
      ],
      "metadata": {
        "id": "HiSULA_Ae5JC"
      }
    },
    {
      "cell_type": "code",
      "source": [
        "# ## Round 1\n",
        "param_grid = {\n",
        "    'max_depth': [3, 4, 5],\n",
        "    'learning_rate': [0.1, 0.01, 0.05],\n",
        "    'gamma': [0, 0.25, 1.0],\n",
        "    'reg_lambda': [0, 1.0, 10.0],\n",
        "    'scale_pos_weight': [1, 3, 5] # XG Boost recommends sum(negative instances) / sum(positive instances)\n",
        "}\n",
        "# # output: max_depth: 4, learning: 0.1, gamma: 0.25, reg_lambda: 10, scale_pos_weight: 3\n",
        "# # b/c learning_rate and reg_lambda at the ends of their range, we will continue to explore\n",
        "# ## Round 2\n",
        "# # got middle for max_depth so chose it.\n",
        "# # learning rate got edge, so went in that direction\n",
        "# # gamma got mid value\n",
        "# # reg_lambda got right side edge, so explore\n",
        "# # weight got mid\n",
        "# param_grid = {\n",
        "#     'max_depth': [4],\n",
        "#     'learning_rate': [0.1, 0.5, 1],\n",
        "#     'gamma': [0.25],\n",
        "#     'reg_lambda': [10.0, 20, 100],\n",
        "#     'scale_pos_weight': [3]\n",
        "# }\n",
        "# # output: max_depth: 4, learning_rate: 0.1, reg_lambda: 10\n",
        "\n",
        "# NOTE: to speed up CV, and to further prevent overfitting, only using random subset\n",
        "# of data (90%) and are only using a random subset of the features (columns) (50%) per tree.\n",
        "optimal_params = GridSearchCV(\n",
        "    estimator = xgb.XGBClassifier(objective = 'binary:logistic',\n",
        "                                  seed = 42,\n",
        "                                  subsample = 0.9,\n",
        "                                  colsample_bytree = 0.5),\n",
        "                              param_grid = param_grid,\n",
        "                              scoring = 'roc_auc',\n",
        "                              verbose = 0,\n",
        "                              n_jobs = 10,\n",
        "                              cv = 3)\n",
        "optimal_params.fit(X_train, y_train)\n",
        "# # only doing 3 fold cv, not a lot\n",
        "\n"
      ],
      "metadata": {
        "colab": {
          "base_uri": "https://localhost:8080/"
        },
        "id": "qheAsIzneUqI",
        "outputId": "c82c6948-0310-42e1-b42e-7b6b1c357b3b"
      },
      "execution_count": null,
      "outputs": [
        {
          "output_type": "execute_result",
          "data": {
            "text/plain": [
              "GridSearchCV(cv=3,\n",
              "             estimator=XGBClassifier(colsample_bytree=0.5, seed=42,\n",
              "                                     subsample=0.9),\n",
              "             n_jobs=10,\n",
              "             param_grid={'gamma': [0, 0.25, 1.0],\n",
              "                         'learning_rate': [0.1, 0.01, 0.05],\n",
              "                         'max_depth': [3, 4, 5], 'reg_lambda': [0, 1.0, 10.0],\n",
              "                         'scale_pos_weight': [1, 3, 5]},\n",
              "             scoring='roc_auc')"
            ]
          },
          "metadata": {},
          "execution_count": 89
        }
      ]
    },
    {
      "cell_type": "code",
      "source": [
        "optimal_params"
      ],
      "metadata": {
        "colab": {
          "base_uri": "https://localhost:8080/"
        },
        "id": "aEQ8kJFxmp3l",
        "outputId": "c29f0c56-1da0-44d7-840f-8a0c775a4b7b"
      },
      "execution_count": null,
      "outputs": [
        {
          "output_type": "execute_result",
          "data": {
            "text/plain": [
              "GridSearchCV(cv=3,\n",
              "             estimator=XGBClassifier(colsample_bytree=0.5, seed=42,\n",
              "                                     subsample=0.9),\n",
              "             n_jobs=10,\n",
              "             param_grid={'gamma': [0, 0.25, 1.0],\n",
              "                         'learning_rate': [0.1, 0.01, 0.05],\n",
              "                         'max_depth': [3, 4, 5], 'reg_lambda': [0, 1.0, 10.0],\n",
              "                         'scale_pos_weight': [1, 3, 5]},\n",
              "             scoring='roc_auc')"
            ]
          },
          "metadata": {},
          "execution_count": 83
        }
      ]
    },
    {
      "cell_type": "markdown",
      "source": [
        "after testing all possible combinations of the potential parameter values with CV, see that we should set `gamma` = 0.25, `learn_rate` = 0.1, `max_depth` = 4, `reg_lambda` = 10\n",
        "\n",
        "# Building, Evaluating, Drawing, and interpreting the Optimized XGBoost Model"
      ],
      "metadata": {
        "id": "1R9LkpSBlpDS"
      }
    },
    {
      "cell_type": "code",
      "source": [
        "clf_xgb = xgb.XGBClassifier(seed = 42,\n",
        "                            objective = 'binary:logistic',\n",
        "                            gamma = 0.25,\n",
        "                            learn_rate = 0.1,\n",
        "                            max_depth = 4,\n",
        "                            reg_lambda = 10,\n",
        "                            scale_pos_weight = 3,\n",
        "                            subsample = 0.9,\n",
        "                            colsample_bytree = 0.5)\n",
        "\n",
        "clf_xgb.fit(X_train,\n",
        "            y_train,\n",
        "            verbose = True,\n",
        "            early_stopping_rounds = 10,\n",
        "            eval_metric = 'aucpr',\n",
        "            eval_set = [(X_test, y_test)])"
      ],
      "metadata": {
        "colab": {
          "base_uri": "https://localhost:8080/"
        },
        "id": "-rnd_MeKlhed",
        "outputId": "85dd944a-3140-40ac-86ee-7ca24b78d0c2"
      },
      "execution_count": null,
      "outputs": [
        {
          "output_type": "stream",
          "name": "stdout",
          "text": [
            "[0]\tvalidation_0-aucpr:0.53278\n",
            "Will train until validation_0-aucpr hasn't improved in 10 rounds.\n",
            "[1]\tvalidation_0-aucpr:0.614654\n",
            "[2]\tvalidation_0-aucpr:0.62623\n",
            "[3]\tvalidation_0-aucpr:0.632985\n",
            "[4]\tvalidation_0-aucpr:0.630432\n",
            "[5]\tvalidation_0-aucpr:0.630932\n",
            "[6]\tvalidation_0-aucpr:0.63177\n",
            "[7]\tvalidation_0-aucpr:0.634766\n",
            "[8]\tvalidation_0-aucpr:0.634402\n",
            "[9]\tvalidation_0-aucpr:0.635058\n",
            "[10]\tvalidation_0-aucpr:0.635457\n",
            "[11]\tvalidation_0-aucpr:0.635323\n",
            "[12]\tvalidation_0-aucpr:0.635502\n",
            "[13]\tvalidation_0-aucpr:0.640483\n",
            "[14]\tvalidation_0-aucpr:0.639526\n",
            "[15]\tvalidation_0-aucpr:0.639647\n",
            "[16]\tvalidation_0-aucpr:0.653324\n",
            "[17]\tvalidation_0-aucpr:0.655414\n",
            "[18]\tvalidation_0-aucpr:0.654974\n",
            "[19]\tvalidation_0-aucpr:0.651737\n",
            "[20]\tvalidation_0-aucpr:0.651866\n",
            "[21]\tvalidation_0-aucpr:0.656086\n",
            "[22]\tvalidation_0-aucpr:0.65352\n",
            "[23]\tvalidation_0-aucpr:0.653576\n",
            "[24]\tvalidation_0-aucpr:0.651395\n",
            "[25]\tvalidation_0-aucpr:0.650606\n",
            "[26]\tvalidation_0-aucpr:0.649366\n",
            "[27]\tvalidation_0-aucpr:0.645388\n",
            "[28]\tvalidation_0-aucpr:0.650234\n",
            "[29]\tvalidation_0-aucpr:0.650764\n",
            "[30]\tvalidation_0-aucpr:0.650682\n",
            "[31]\tvalidation_0-aucpr:0.655777\n",
            "Stopping. Best iteration:\n",
            "[21]\tvalidation_0-aucpr:0.656086\n",
            "\n"
          ]
        },
        {
          "output_type": "execute_result",
          "data": {
            "text/plain": [
              "XGBClassifier(colsample_bytree=0.5, gamma=0.25, learn_rate=0.1, max_depth=4,\n",
              "              reg_lambda=10, scale_pos_weight=3, seed=42, subsample=0.9)"
            ]
          },
          "metadata": {},
          "execution_count": 79
        }
      ]
    },
    {
      "cell_type": "code",
      "source": [
        "plot_confusion_matrix(clf_xgb,\n",
        "                      X_test,\n",
        "                      y_test,\n",
        "                      values_format = 'd',\n",
        "                      display_labels = ['Did not leave', 'Left'])"
      ],
      "metadata": {
        "colab": {
          "base_uri": "https://localhost:8080/",
          "height": 351
        },
        "id": "t000616VmHaA",
        "outputId": "606e2464-c3a7-4532-e34b-a45360476bc9"
      },
      "execution_count": null,
      "outputs": [
        {
          "output_type": "stream",
          "name": "stderr",
          "text": [
            "/usr/local/lib/python3.7/dist-packages/sklearn/utils/deprecation.py:87: FutureWarning: Function plot_confusion_matrix is deprecated; Function `plot_confusion_matrix` is deprecated in 1.0 and will be removed in 1.2. Use one of the class methods: ConfusionMatrixDisplay.from_predictions or ConfusionMatrixDisplay.from_estimator.\n",
            "  warnings.warn(msg, category=FutureWarning)\n"
          ]
        },
        {
          "output_type": "execute_result",
          "data": {
            "text/plain": [
              "<sklearn.metrics._plot.confusion_matrix.ConfusionMatrixDisplay at 0x7fc02677bed0>"
            ]
          },
          "metadata": {},
          "execution_count": 84
        },
        {
          "output_type": "display_data",
          "data": {
            "text/plain": [
              "<Figure size 432x288 with 2 Axes>"
            ],
            "image/png": "[encoded data removed]"
          },
          "metadata": {
            "needs_background": "light"
          }
        }
      ]
    },
    {
      "cell_type": "markdown",
      "source": [
        "See optimized XGBoost model is al ot better at identifying people that left the company. Of 467, 388 (83%) were correctly identified. Before optimization only 239 (51%). However, this improvement was at expense of not beign able to correctly classify as many people that didn't leave. Before optimization, correctly identified 1178 (91%) people that didn't leave. Now we only correctly classify 923 (71.3%). That said this trade off may beb etter for the company because now it can focus resources on the people that leave if that will help them retain them.\n",
        "\n",
        "Now draw the tree and discuss how to interpret."
      ],
      "metadata": {
        "id": "XL4OIJ8VnEuy"
      }
    },
    {
      "cell_type": "code",
      "source": [
        "# if want to get info, like gain and cover etc, at each node in first tree,\n",
        "# just build first tree, otherwise we'll get average over all the trees\n",
        "clf_xgb = xgb.XGBClassifier(seed = 42,\n",
        "                            objective = 'binary:logistic',\n",
        "                            gamma = 0.25,\n",
        "                            learn_rate = 0.1,\n",
        "                            max_depth = 4,\n",
        "                            reg_lambda = 10,\n",
        "                            scale_pos_weight = 3,\n",
        "                            subsample = 0.9,\n",
        "                            colsample_bytree = 0.5,\n",
        "                            n_estimators = 1) ## set to 1 so can get gain, cover etc)\n",
        "clf_xgb.fit(X_train, y_train)"
      ],
      "metadata": {
        "colab": {
          "base_uri": "https://localhost:8080/"
        },
        "id": "-msRFFlNnCoI",
        "outputId": "945c8eda-8950-4459-e4e9-71a05d2a72a4"
      },
      "execution_count": null,
      "outputs": [
        {
          "output_type": "execute_result",
          "data": {
            "text/plain": [
              "XGBClassifier(colsample_bytree=0.5, gamma=0.25, learn_rate=0.1, max_depth=4,\n",
              "              n_estimators=1, reg_lambda=10, scale_pos_weight=3, seed=42,\n",
              "              subsample=0.9)"
            ]
          },
          "metadata": {},
          "execution_count": 85
        }
      ]
    },
    {
      "cell_type": "code",
      "source": [
        "## now print out weight, gain, cover, etc. for tree\n",
        "# weight = number of times a feature is used in a branch or root across all trees\n",
        "# gain = avg gain across all splits that the feature is used in\n",
        "# cover = avg coverage across all splits a feature is used in\n",
        "# total_gain = total gain across all splits the feature is used in\n",
        "# total_cover = total coverage across all splits the feature is used in\n",
        "# NOTE: since only built 1 tree, gain = total gain and cover = total_cover\n",
        "bst = clf_xgb.get_booster()\n",
        "for importance_type in ('weight', 'gain', 'cover', 'total_gain', 'total_cover'):\n",
        "  print('%s: ' % importance_type, bst.get_score(importance_type = importance_type))\n",
        "\n",
        "node_params = {'shape': 'box', ## makes nodes fancy\n",
        "               'style': 'filled, rounded',\n",
        "               'fillcolor': '#78cbe'}\n",
        "leaf_params = {'shape': 'box', \n",
        "               'style': 'filled',\n",
        "               'fillcolor': '#e48038'}\n",
        "\n",
        "# NOTE: num_trees is NOT the number of trees to plot, but specific tree you want to plot\n",
        "# default value = 0, but getting it just to show it in action since it's counterintuitive\n",
        "# xgb.to_graph(clf_xgb, num_trees = 0, size = \"10,10\")\n",
        "xgb.to_graphviz(clf_xgb, num_trees = 0, size = \"10,10\",\n",
        "                condition_node_params = node_params,\n",
        "                leaf_node_params = leaf_params)\n",
        "\n",
        "# if you want to save the figure\n",
        "# graph_data = xgb.to_graphviz(clf_xgb, num_trees = 0, size = \"10,10\",\n",
        "#                              condition_node_params = node_params,\n",
        "#                              leaf_node_params = leaf_params)\n",
        "# graph_data.view(filename = 'xgboost_tree_customer_churn') ## save as pdf"
      ],
      "metadata": {
        "colab": {
          "base_uri": "https://localhost:8080/",
          "height": 285
        },
        "id": "NKFfNbeAn6Cn",
        "outputId": "3be9428a-131c-4f0c-b649-4bb752765c41"
      },
      "execution_count": null,
      "outputs": [
        {
          "output_type": "stream",
          "name": "stdout",
          "text": [
            "weight:  {'Contract_Month-to-month': 1, 'Streaming_Movies_Yes': 1, 'Payment_Method_Electronic_check': 2, 'Zip_Code': 2, 'Tech_Support_Yes': 3, 'Paperless_Billing_No': 1, 'Longitude': 3, 'Online_Security_No_internet_service': 1, 'Gender_Female': 1}\n",
            "gain:  {'Contract_Month-to-month': 1631.77637, 'Streaming_Movies_Yes': 67.3808594, 'Payment_Method_Electronic_check': 50.922088650000006, 'Zip_Code': 5.201111790000001, 'Tech_Support_Yes': 23.726112366666666, 'Paperless_Billing_No': 9.83537102, 'Longitude': 6.548796336666666, 'Online_Security_No_internet_service': 213.820374, 'Gender_Female': 1.0939008}\n",
            "cover:  {'Contract_Month-to-month': 1820.25, 'Streaming_Movies_Yes': 609.5, 'Payment_Method_Electronic_check': 701.25, 'Zip_Code': 153.5, 'Tech_Support_Yes': 466.0, 'Paperless_Billing_No': 111.5, 'Longitude': 138.5, 'Online_Security_No_internet_service': 1210.75, 'Gender_Female': 6.0}\n",
            "total_gain:  {'Contract_Month-to-month': 1631.77637, 'Streaming_Movies_Yes': 67.3808594, 'Payment_Method_Electronic_check': 101.84417730000001, 'Zip_Code': 10.402223580000001, 'Tech_Support_Yes': 71.1783371, 'Paperless_Billing_No': 9.83537102, 'Longitude': 19.64638901, 'Online_Security_No_internet_service': 213.820374, 'Gender_Female': 1.0939008}\n",
            "total_cover:  {'Contract_Month-to-month': 1820.25, 'Streaming_Movies_Yes': 609.5, 'Payment_Method_Electronic_check': 1402.5, 'Zip_Code': 307.0, 'Tech_Support_Yes': 1398.0, 'Paperless_Billing_No': 111.5, 'Longitude': 415.5, 'Online_Security_No_internet_service': 1210.75, 'Gender_Female': 6.0}\n"
          ]
        },
        {
          "output_type": "execute_result",
          "data": {
            "text/plain": [
              "<graphviz.dot.Digraph at 0x7fc026d3f890>"
            ],
            "image/svg+xml": "<?xml version=\"1.0\" encoding=\"UTF-8\" standalone=\"no\"?>\n<!DOCTYPE svg PUBLIC \"-//W3C//DTD SVG 1.1//EN\"\n \"http://www.w3.org/Graphics/SVG/1.1/DTD/svg11.dtd\">\n<!-- Generated by graphviz version 2.40.1 (20161225.0304)\n -->\n<!-- Title: %3 Pages: 1 -->\n<svg width=\"720pt\" height=\"118pt\"\n viewBox=\"0.00 0.00 720.00 118.09\" xmlns=\"http://www.w3.org/2000/svg\" xmlns:xlink=\"http://www.w3.org/1999/xlink\">\n<g id=\"graph0\" class=\"graph\" transform=\"scale(.3013 .3013) rotate(0) translate(4 388)\">\n<title>%3</title>\n<polygon fill=\"#ffffff\" stroke=\"transparent\" points=\"-4,4 -4,-388 2386,-388 2386,4 -4,4\"/>\n<!-- 0 -->\n<g id=\"node1\" class=\"node\">\n<title>0</title>\n<path fill=\"#78cb0e\" stroke=\"#000000\" d=\"M1181,-384C1181,-384 1020,-384 1020,-384 1014,-384 1008,-378 1008,-372 1008,-372 1008,-360 1008,-360 1008,-354 1014,-348 1020,-348 1020,-348 1181,-348 1181,-348 1187,-348 1193,-354 1193,-360 1193,-360 1193,-372 1193,-372 1193,-378 1187,-384 1181,-384\"/>\n<text text-anchor=\"middle\" x=\"1100.5\" y=\"-362.3\" font-family=\"Times,serif\" font-size=\"14.00\" fill=\"#000000\">Contract_Month&#45;to&#45;month&lt;1</text>\n</g>\n<!-- 1 -->\n<g id=\"node2\" class=\"node\">\n<title>1</title>\n<path fill=\"#78cb0e\" stroke=\"#000000\" d=\"M971,-297C971,-297 826,-297 826,-297 820,-297 814,-291 814,-285 814,-285 814,-273 814,-273 814,-267 820,-261 826,-261 826,-261 971,-261 971,-261 977,-261 983,-267 983,-273 983,-273 983,-285 983,-285 983,-291 977,-297 971,-297\"/>\n<text text-anchor=\"middle\" x=\"898.5\" y=\"-275.3\" font-family=\"Times,serif\" font-size=\"14.00\" fill=\"#000000\">Streaming_Movies_Yes&lt;1</text>\n</g>\n<!-- 0&#45;&gt;1 -->\n<g id=\"edge1\" class=\"edge\">\n<title>0&#45;&gt;1</title>\n<path fill=\"none\" stroke=\"#0000ff\" d=\"M1058.6455,-347.9735C1026.9566,-334.3254 983.2741,-315.5116 949.5351,-300.9805\"/>\n<polygon fill=\"#0000ff\" stroke=\"#0000ff\" points=\"950.8698,-297.7445 940.3009,-297.0034 948.1008,-304.1736 950.8698,-297.7445\"/>\n<text text-anchor=\"middle\" x=\"1048\" y=\"-318.8\" font-family=\"Times,serif\" font-size=\"14.00\" fill=\"#000000\">yes, missing</text>\n</g>\n<!-- 2 -->\n<g id=\"node3\" class=\"node\">\n<title>2</title>\n<path fill=\"#78cb0e\" stroke=\"#000000\" d=\"M1619.5,-297C1619.5,-297 1395.5,-297 1395.5,-297 1389.5,-297 1383.5,-291 1383.5,-285 1383.5,-285 1383.5,-273 1383.5,-273 1383.5,-267 1389.5,-261 1395.5,-261 1395.5,-261 1619.5,-261 1619.5,-261 1625.5,-261 1631.5,-267 1631.5,-273 1631.5,-273 1631.5,-285 1631.5,-285 1631.5,-291 1625.5,-297 1619.5,-297\"/>\n<text text-anchor=\"middle\" x=\"1507.5\" y=\"-275.3\" font-family=\"Times,serif\" font-size=\"14.00\" fill=\"#000000\">Online_Security_No_internet_service&lt;1</text>\n</g>\n<!-- 0&#45;&gt;2 -->\n<g id=\"edge2\" class=\"edge\">\n<title>0&#45;&gt;2</title>\n<path fill=\"none\" stroke=\"#ff0000\" d=\"M1184.8307,-347.9735C1251.4076,-333.7421 1344.2594,-313.8942 1413.2738,-299.1417\"/>\n<polygon fill=\"#ff0000\" stroke=\"#ff0000\" points=\"1414.2299,-302.5165 1423.2774,-297.0034 1412.7666,-295.6711 1414.2299,-302.5165\"/>\n<text text-anchor=\"middle\" x=\"1336.5\" y=\"-318.8\" font-family=\"Times,serif\" font-size=\"14.00\" fill=\"#000000\">no</text>\n</g>\n<!-- 3 -->\n<g id=\"node4\" class=\"node\">\n<title>3</title>\n<path fill=\"#78cb0e\" stroke=\"#000000\" d=\"M579,-210C579,-210 362,-210 362,-210 356,-210 350,-204 350,-198 350,-198 350,-186 350,-186 350,-180 356,-174 362,-174 362,-174 579,-174 579,-174 585,-174 591,-180 591,-186 591,-186 591,-198 591,-198 591,-204 585,-210 579,-210\"/>\n<text text-anchor=\"middle\" x=\"470.5\" y=\"-188.3\" font-family=\"Times,serif\" font-size=\"14.00\" fill=\"#000000\">Payment_Method_Electronic_check&lt;1</text>\n</g>\n<!-- 1&#45;&gt;3 -->\n<g id=\"edge3\" class=\"edge\">\n<title>1&#45;&gt;3</title>\n<path fill=\"none\" stroke=\"#0000ff\" d=\"M813.941,-261.8116C743.5297,-247.499 643.1721,-227.0992 569.1146,-212.0455\"/>\n<polygon fill=\"#0000ff\" stroke=\"#0000ff\" points=\"569.8005,-208.6134 559.3037,-210.0512 568.406,-215.4731 569.8005,-208.6134\"/>\n<text text-anchor=\"middle\" x=\"746\" y=\"-231.8\" font-family=\"Times,serif\" font-size=\"14.00\" fill=\"#000000\">yes, missing</text>\n</g>\n<!-- 4 -->\n<g id=\"node5\" class=\"node\">\n<title>4</title>\n<path fill=\"#78cb0e\" stroke=\"#000000\" d=\"M957.5,-210C957.5,-210 839.5,-210 839.5,-210 833.5,-210 827.5,-204 827.5,-198 827.5,-198 827.5,-186 827.5,-186 827.5,-180 833.5,-174 839.5,-174 839.5,-174 957.5,-174 957.5,-174 963.5,-174 969.5,-180 969.5,-186 969.5,-186 969.5,-198 969.5,-198 969.5,-204 963.5,-210 957.5,-210\"/>\n<text text-anchor=\"middle\" x=\"898.5\" y=\"-188.3\" font-family=\"Times,serif\" font-size=\"14.00\" fill=\"#000000\">Tech_Support_Yes&lt;1</text>\n</g>\n<!-- 1&#45;&gt;4 -->\n<g id=\"edge4\" class=\"edge\">\n<title>1&#45;&gt;4</title>\n<path fill=\"none\" stroke=\"#ff0000\" d=\"M898.5,-260.9735C898.5,-249.1918 898.5,-233.5607 898.5,-220.1581\"/>\n<polygon fill=\"#ff0000\" stroke=\"#ff0000\" points=\"902.0001,-220.0033 898.5,-210.0034 895.0001,-220.0034 902.0001,-220.0033\"/>\n<text text-anchor=\"middle\" x=\"906.5\" y=\"-231.8\" font-family=\"Times,serif\" font-size=\"14.00\" fill=\"#000000\">no</text>\n</g>\n<!-- 5 -->\n<g id=\"node18\" class=\"node\">\n<title>5</title>\n<path fill=\"#78cb0e\" stroke=\"#000000\" d=\"M1616,-210C1616,-210 1399,-210 1399,-210 1393,-210 1387,-204 1387,-198 1387,-198 1387,-186 1387,-186 1387,-180 1393,-174 1399,-174 1399,-174 1616,-174 1616,-174 1622,-174 1628,-180 1628,-186 1628,-186 1628,-198 1628,-198 1628,-204 1622,-210 1616,-210\"/>\n<text text-anchor=\"middle\" x=\"1507.5\" y=\"-188.3\" font-family=\"Times,serif\" font-size=\"14.00\" fill=\"#000000\">Payment_Method_Electronic_check&lt;1</text>\n</g>\n<!-- 2&#45;&gt;5 -->\n<g id=\"edge17\" class=\"edge\">\n<title>2&#45;&gt;5</title>\n<path fill=\"none\" stroke=\"#0000ff\" d=\"M1507.5,-260.9735C1507.5,-249.1918 1507.5,-233.5607 1507.5,-220.1581\"/>\n<polygon fill=\"#0000ff\" stroke=\"#0000ff\" points=\"1511.0001,-220.0033 1507.5,-210.0034 1504.0001,-220.0034 1511.0001,-220.0033\"/>\n<text text-anchor=\"middle\" x=\"1543\" y=\"-231.8\" font-family=\"Times,serif\" font-size=\"14.00\" fill=\"#000000\">yes, missing</text>\n</g>\n<!-- 6 -->\n<g id=\"node19\" class=\"node\">\n<title>6</title>\n<path fill=\"#78cb0e\" stroke=\"#000000\" d=\"M1980,-210C1980,-210 1843,-210 1843,-210 1837,-210 1831,-204 1831,-198 1831,-198 1831,-186 1831,-186 1831,-180 1837,-174 1843,-174 1843,-174 1980,-174 1980,-174 1986,-174 1992,-180 1992,-186 1992,-186 1992,-198 1992,-198 1992,-204 1986,-210 1980,-210\"/>\n<text text-anchor=\"middle\" x=\"1911.5\" y=\"-188.3\" font-family=\"Times,serif\" font-size=\"14.00\" fill=\"#000000\">Longitude&lt;&#45;123.596039</text>\n</g>\n<!-- 2&#45;&gt;6 -->\n<g id=\"edge18\" class=\"edge\">\n<title>2&#45;&gt;6</title>\n<path fill=\"none\" stroke=\"#ff0000\" d=\"M1591.2091,-260.9735C1658.2866,-246.5286 1752.2336,-226.2975 1821.035,-211.4813\"/>\n<polygon fill=\"#ff0000\" stroke=\"#ff0000\" points=\"1821.9583,-214.8628 1830.9974,-209.336 1820.4846,-208.0197 1821.9583,-214.8628\"/>\n<text text-anchor=\"middle\" x=\"1742.5\" y=\"-231.8\" font-family=\"Times,serif\" font-size=\"14.00\" fill=\"#000000\">no</text>\n</g>\n<!-- 7 -->\n<g id=\"node6\" class=\"node\">\n<title>7</title>\n<path fill=\"#78cb0e\" stroke=\"#000000\" d=\"M270,-123C270,-123 173,-123 173,-123 167,-123 161,-117 161,-111 161,-111 161,-99 161,-99 161,-93 167,-87 173,-87 173,-87 270,-87 270,-87 276,-87 282,-93 282,-99 282,-99 282,-111 282,-111 282,-117 276,-123 270,-123\"/>\n<text text-anchor=\"middle\" x=\"221.5\" y=\"-101.3\" font-family=\"Times,serif\" font-size=\"14.00\" fill=\"#000000\">Zip_Code&lt;90003</text>\n</g>\n<!-- 3&#45;&gt;7 -->\n<g id=\"edge5\" class=\"edge\">\n<title>3&#45;&gt;7</title>\n<path fill=\"none\" stroke=\"#0000ff\" d=\"M418.907,-173.9735C379.2607,-160.1212 324.3847,-140.9477 282.5518,-126.3313\"/>\n<polygon fill=\"#0000ff\" stroke=\"#0000ff\" points=\"283.6217,-122.9977 273.0269,-123.0034 281.3128,-129.606 283.6217,-122.9977\"/>\n<text text-anchor=\"middle\" x=\"397\" y=\"-144.8\" font-family=\"Times,serif\" font-size=\"14.00\" fill=\"#000000\">yes, missing</text>\n</g>\n<!-- 8 -->\n<g id=\"node7\" class=\"node\">\n<title>8</title>\n<path fill=\"#78cb0e\" stroke=\"#000000\" d=\"M519,-123C519,-123 422,-123 422,-123 416,-123 410,-117 410,-111 410,-111 410,-99 410,-99 410,-93 416,-87 422,-87 422,-87 519,-87 519,-87 525,-87 531,-93 531,-99 531,-99 531,-111 531,-111 531,-117 525,-123 519,-123\"/>\n<text text-anchor=\"middle\" x=\"470.5\" y=\"-101.3\" font-family=\"Times,serif\" font-size=\"14.00\" fill=\"#000000\">Zip_Code&lt;91254</text>\n</g>\n<!-- 3&#45;&gt;8 -->\n<g id=\"edge6\" class=\"edge\">\n<title>3&#45;&gt;8</title>\n<path fill=\"none\" stroke=\"#ff0000\" d=\"M470.5,-173.9735C470.5,-162.1918 470.5,-146.5607 470.5,-133.1581\"/>\n<polygon fill=\"#ff0000\" stroke=\"#ff0000\" points=\"474.0001,-133.0033 470.5,-123.0034 467.0001,-133.0034 474.0001,-133.0033\"/>\n<text text-anchor=\"middle\" x=\"478.5\" y=\"-144.8\" font-family=\"Times,serif\" font-size=\"14.00\" fill=\"#000000\">no</text>\n</g>\n<!-- 9 -->\n<g id=\"node12\" class=\"node\">\n<title>9</title>\n<path fill=\"#78cb0e\" stroke=\"#000000\" d=\"M876.5,-123C876.5,-123 742.5,-123 742.5,-123 736.5,-123 730.5,-117 730.5,-111 730.5,-111 730.5,-99 730.5,-99 730.5,-93 736.5,-87 742.5,-87 742.5,-87 876.5,-87 876.5,-87 882.5,-87 888.5,-93 888.5,-99 888.5,-99 888.5,-111 888.5,-111 888.5,-117 882.5,-123 876.5,-123\"/>\n<text text-anchor=\"middle\" x=\"809.5\" y=\"-101.3\" font-family=\"Times,serif\" font-size=\"14.00\" fill=\"#000000\">Paperless_Billing_No&lt;1</text>\n</g>\n<!-- 4&#45;&gt;9 -->\n<g id=\"edge11\" class=\"edge\">\n<title>4&#45;&gt;9</title>\n<path fill=\"none\" stroke=\"#0000ff\" d=\"M880.0591,-173.9735C867.0519,-161.2586 849.4582,-144.0603 835.0934,-130.0183\"/>\n<polygon fill=\"#0000ff\" stroke=\"#0000ff\" points=\"837.5148,-127.4908 827.9172,-123.0034 832.6216,-132.4965 837.5148,-127.4908\"/>\n<text text-anchor=\"middle\" x=\"895\" y=\"-144.8\" font-family=\"Times,serif\" font-size=\"14.00\" fill=\"#000000\">yes, missing</text>\n</g>\n<!-- 10 -->\n<g id=\"node13\" class=\"node\">\n<title>10</title>\n<path fill=\"#78cb0e\" stroke=\"#000000\" d=\"M1056,-123C1056,-123 919,-123 919,-123 913,-123 907,-117 907,-111 907,-111 907,-99 907,-99 907,-93 913,-87 919,-87 919,-87 1056,-87 1056,-87 1062,-87 1068,-93 1068,-99 1068,-99 1068,-111 1068,-111 1068,-117 1062,-123 1056,-123\"/>\n<text text-anchor=\"middle\" x=\"987.5\" y=\"-101.3\" font-family=\"Times,serif\" font-size=\"14.00\" fill=\"#000000\">Longitude&lt;&#45;123.818764</text>\n</g>\n<!-- 4&#45;&gt;10 -->\n<g id=\"edge12\" class=\"edge\">\n<title>4&#45;&gt;10</title>\n<path fill=\"none\" stroke=\"#ff0000\" d=\"M916.9409,-173.9735C929.9481,-161.2586 947.5418,-144.0603 961.9066,-130.0183\"/>\n<polygon fill=\"#ff0000\" stroke=\"#ff0000\" points=\"964.3784,-132.4965 969.0828,-123.0034 959.4852,-127.4908 964.3784,-132.4965\"/>\n<text text-anchor=\"middle\" x=\"956.5\" y=\"-144.8\" font-family=\"Times,serif\" font-size=\"14.00\" fill=\"#000000\">no</text>\n</g>\n<!-- 15 -->\n<g id=\"node8\" class=\"node\">\n<title>15</title>\n<polygon fill=\"#e48038\" stroke=\"#000000\" points=\"139,-36 0,-36 0,0 139,0 139,-36\"/>\n<text text-anchor=\"middle\" x=\"69.5\" y=\"-14.3\" font-family=\"Times,serif\" font-size=\"14.00\" fill=\"#000000\">leaf=0.00909090973</text>\n</g>\n<!-- 7&#45;&gt;15 -->\n<g id=\"edge7\" class=\"edge\">\n<title>7&#45;&gt;15</title>\n<path fill=\"none\" stroke=\"#0000ff\" d=\"M181.2751,-86.9432C169.87,-81.4886 157.5535,-75.274 146.5,-69 131.9725,-60.7541 116.5171,-50.7735 103.2948,-41.8356\"/>\n<polygon fill=\"#0000ff\" stroke=\"#0000ff\" points=\"105.1919,-38.8929 94.9605,-36.1415 101.243,-44.6727 105.1919,-38.8929\"/>\n<text text-anchor=\"middle\" x=\"182\" y=\"-57.8\" font-family=\"Times,serif\" font-size=\"14.00\" fill=\"#000000\">yes, missing</text>\n</g>\n<!-- 16 -->\n<g id=\"node9\" class=\"node\">\n<title>16</title>\n<polygon fill=\"#e48038\" stroke=\"#000000\" points=\"285.5,-36 157.5,-36 157.5,0 285.5,0 285.5,-36\"/>\n<text text-anchor=\"middle\" x=\"221.5\" y=\"-14.3\" font-family=\"Times,serif\" font-size=\"14.00\" fill=\"#000000\">leaf=&#45;0.169340476</text>\n</g>\n<!-- 7&#45;&gt;16 -->\n<g id=\"edge8\" class=\"edge\">\n<title>7&#45;&gt;16</title>\n<path fill=\"none\" stroke=\"#ff0000\" d=\"M221.5,-86.9735C221.5,-75.1918 221.5,-59.5607 221.5,-46.1581\"/>\n<polygon fill=\"#ff0000\" stroke=\"#ff0000\" points=\"225.0001,-46.0033 221.5,-36.0034 218.0001,-46.0034 225.0001,-46.0033\"/>\n<text text-anchor=\"middle\" x=\"229.5\" y=\"-57.8\" font-family=\"Times,serif\" font-size=\"14.00\" fill=\"#000000\">no</text>\n</g>\n<!-- 17 -->\n<g id=\"node10\" class=\"node\">\n<title>17</title>\n<polygon fill=\"#e48038\" stroke=\"#000000\" points=\"443,-36 304,-36 304,0 443,0 443,-36\"/>\n<text text-anchor=\"middle\" x=\"373.5\" y=\"-14.3\" font-family=\"Times,serif\" font-size=\"14.00\" fill=\"#000000\">leaf=0.00317460345</text>\n</g>\n<!-- 8&#45;&gt;17 -->\n<g id=\"edge9\" class=\"edge\">\n<title>8&#45;&gt;17</title>\n<path fill=\"none\" stroke=\"#0000ff\" d=\"M441.7694,-86.9452C433.9321,-81.5375 425.6395,-75.3468 418.5,-69 410.0733,-61.509 401.6724,-52.5111 394.4503,-44.1724\"/>\n<polygon fill=\"#0000ff\" stroke=\"#0000ff\" points=\"397.0527,-41.8294 387.9248,-36.4504 391.706,-46.3475 397.0527,-41.8294\"/>\n<text text-anchor=\"middle\" x=\"454\" y=\"-57.8\" font-family=\"Times,serif\" font-size=\"14.00\" fill=\"#000000\">yes, missing</text>\n</g>\n<!-- 18 -->\n<g id=\"node11\" class=\"node\">\n<title>18</title>\n<polygon fill=\"#e48038\" stroke=\"#000000\" points=\"582,-36 461,-36 461,0 582,0 582,-36\"/>\n<text text-anchor=\"middle\" x=\"521.5\" y=\"-14.3\" font-family=\"Times,serif\" font-size=\"14.00\" fill=\"#000000\">leaf=&#45;0.08176101</text>\n</g>\n<!-- 8&#45;&gt;18 -->\n<g id=\"edge10\" class=\"edge\">\n<title>8&#45;&gt;18</title>\n<path fill=\"none\" stroke=\"#ff0000\" d=\"M481.0672,-86.9735C488.1789,-74.8418 497.6832,-58.6287 505.6901,-44.9698\"/>\n<polygon fill=\"#ff0000\" stroke=\"#ff0000\" points=\"508.9085,-46.4004 510.9463,-36.0034 502.8696,-42.8603 508.9085,-46.4004\"/>\n<text text-anchor=\"middle\" x=\"507.5\" y=\"-57.8\" font-family=\"Times,serif\" font-size=\"14.00\" fill=\"#000000\">no</text>\n</g>\n<!-- 19 -->\n<g id=\"node14\" class=\"node\">\n<title>19</title>\n<polygon fill=\"#e48038\" stroke=\"#000000\" points=\"736.5,-36 600.5,-36 600.5,0 736.5,0 736.5,-36\"/>\n<text text-anchor=\"middle\" x=\"668.5\" y=\"-14.3\" font-family=\"Times,serif\" font-size=\"14.00\" fill=\"#000000\">leaf=&#45;0.0234636869</text>\n</g>\n<!-- 9&#45;&gt;19 -->\n<g id=\"edge13\" class=\"edge\">\n<title>9&#45;&gt;19</title>\n<path fill=\"none\" stroke=\"#0000ff\" d=\"M772.4624,-86.8483C761.9692,-81.3922 750.6454,-75.2006 740.5,-69 727.013,-60.7572 712.7007,-50.8733 700.4197,-42.0106\"/>\n<polygon fill=\"#0000ff\" stroke=\"#0000ff\" points=\"702.4186,-39.1365 692.2771,-36.0707 698.2932,-44.7917 702.4186,-39.1365\"/>\n<text text-anchor=\"middle\" x=\"776\" y=\"-57.8\" font-family=\"Times,serif\" font-size=\"14.00\" fill=\"#000000\">yes, missing</text>\n</g>\n<!-- 20 -->\n<g id=\"node15\" class=\"node\">\n<title>20</title>\n<polygon fill=\"#e48038\" stroke=\"#000000\" points=\"890.5,-36 754.5,-36 754.5,0 890.5,0 890.5,-36\"/>\n<text text-anchor=\"middle\" x=\"822.5\" y=\"-14.3\" font-family=\"Times,serif\" font-size=\"14.00\" fill=\"#000000\">leaf=&#45;0.0880952403</text>\n</g>\n<!-- 9&#45;&gt;20 -->\n<g id=\"edge14\" class=\"edge\">\n<title>9&#45;&gt;20</title>\n<path fill=\"none\" stroke=\"#ff0000\" d=\"M812.1936,-86.9735C813.9541,-75.1918 816.2898,-59.5607 818.2925,-46.1581\"/>\n<polygon fill=\"#ff0000\" stroke=\"#ff0000\" points=\"821.7935,-46.4108 819.8098,-36.0034 814.8703,-45.3763 821.7935,-46.4108\"/>\n<text text-anchor=\"middle\" x=\"825.5\" y=\"-57.8\" font-family=\"Times,serif\" font-size=\"14.00\" fill=\"#000000\">no</text>\n</g>\n<!-- 21 -->\n<g id=\"node16\" class=\"node\">\n<title>21</title>\n<polygon fill=\"#e48038\" stroke=\"#000000\" points=\"1040,-36 909,-36 909,0 1040,0 1040,-36\"/>\n<text text-anchor=\"middle\" x=\"974.5\" y=\"-14.3\" font-family=\"Times,serif\" font-size=\"14.00\" fill=\"#000000\">leaf=0.0064516128</text>\n</g>\n<!-- 10&#45;&gt;21 -->\n<g id=\"edge15\" class=\"edge\">\n<title>10&#45;&gt;21</title>\n<path fill=\"none\" stroke=\"#0000ff\" d=\"M984.8064,-86.9735C983.0459,-75.1918 980.7102,-59.5607 978.7075,-46.1581\"/>\n<polygon fill=\"#0000ff\" stroke=\"#0000ff\" points=\"982.1297,-45.3763 977.1902,-36.0034 975.2065,-46.4108 982.1297,-45.3763\"/>\n<text text-anchor=\"middle\" x=\"1018\" y=\"-57.8\" font-family=\"Times,serif\" font-size=\"14.00\" fill=\"#000000\">yes, missing</text>\n</g>\n<!-- 22 -->\n<g id=\"node17\" class=\"node\">\n<title>22</title>\n<polygon fill=\"#e48038\" stroke=\"#000000\" points=\"1186.5,-36 1058.5,-36 1058.5,0 1186.5,0 1186.5,-36\"/>\n<text text-anchor=\"middle\" x=\"1122.5\" y=\"-14.3\" font-family=\"Times,serif\" font-size=\"14.00\" fill=\"#000000\">leaf=&#45;0.109974422</text>\n</g>\n<!-- 10&#45;&gt;22 -->\n<g id=\"edge16\" class=\"edge\">\n<title>10&#45;&gt;22</title>\n<path fill=\"none\" stroke=\"#ff0000\" d=\"M1026.0198,-86.8507C1036.4604,-81.4877 1047.6065,-75.3435 1057.5,-69 1069.8163,-61.103 1082.637,-51.4026 1093.6048,-42.5895\"/>\n<polygon fill=\"#ff0000\" stroke=\"#ff0000\" points=\"1096.0598,-45.1035 1101.5918,-36.0676 1091.6324,-39.6815 1096.0598,-45.1035\"/>\n<text text-anchor=\"middle\" x=\"1086.5\" y=\"-57.8\" font-family=\"Times,serif\" font-size=\"14.00\" fill=\"#000000\">no</text>\n</g>\n<!-- 11 -->\n<g id=\"node20\" class=\"node\">\n<title>11</title>\n<path fill=\"#78cb0e\" stroke=\"#000000\" d=\"M1470.5,-123C1470.5,-123 1352.5,-123 1352.5,-123 1346.5,-123 1340.5,-117 1340.5,-111 1340.5,-111 1340.5,-99 1340.5,-99 1340.5,-93 1346.5,-87 1352.5,-87 1352.5,-87 1470.5,-87 1470.5,-87 1476.5,-87 1482.5,-93 1482.5,-99 1482.5,-99 1482.5,-111 1482.5,-111 1482.5,-117 1476.5,-123 1470.5,-123\"/>\n<text text-anchor=\"middle\" x=\"1411.5\" y=\"-101.3\" font-family=\"Times,serif\" font-size=\"14.00\" fill=\"#000000\">Tech_Support_Yes&lt;1</text>\n</g>\n<!-- 5&#45;&gt;11 -->\n<g id=\"edge19\" class=\"edge\">\n<title>5&#45;&gt;11</title>\n<path fill=\"none\" stroke=\"#0000ff\" d=\"M1483.1403,-173.8946C1476.0083,-168.34 1468.3031,-162.0842 1461.5,-156 1452.5839,-148.026 1443.2874,-138.8197 1435.1633,-130.442\"/>\n<polygon fill=\"#0000ff\" stroke=\"#0000ff\" points=\"1437.5205,-127.843 1428.0766,-123.0404 1432.4643,-132.684 1437.5205,-127.843\"/>\n<text text-anchor=\"middle\" x=\"1497\" y=\"-144.8\" font-family=\"Times,serif\" font-size=\"14.00\" fill=\"#000000\">yes, missing</text>\n</g>\n<!-- 12 -->\n<g id=\"node21\" class=\"node\">\n<title>12</title>\n<path fill=\"#78cb0e\" stroke=\"#000000\" d=\"M1630.5,-123C1630.5,-123 1512.5,-123 1512.5,-123 1506.5,-123 1500.5,-117 1500.5,-111 1500.5,-111 1500.5,-99 1500.5,-99 1500.5,-93 1506.5,-87 1512.5,-87 1512.5,-87 1630.5,-87 1630.5,-87 1636.5,-87 1642.5,-93 1642.5,-99 1642.5,-99 1642.5,-111 1642.5,-111 1642.5,-117 1636.5,-123 1630.5,-123\"/>\n<text text-anchor=\"middle\" x=\"1571.5\" y=\"-101.3\" font-family=\"Times,serif\" font-size=\"14.00\" fill=\"#000000\">Tech_Support_Yes&lt;1</text>\n</g>\n<!-- 5&#45;&gt;12 -->\n<g id=\"edge20\" class=\"edge\">\n<title>5&#45;&gt;12</title>\n<path fill=\"none\" stroke=\"#ff0000\" d=\"M1520.7608,-173.9735C1529.857,-161.6085 1542.0721,-145.0036 1552.2377,-131.1847\"/>\n<polygon fill=\"#ff0000\" stroke=\"#ff0000\" points=\"1555.1498,-133.1326 1558.2561,-123.0034 1549.5111,-128.9846 1555.1498,-133.1326\"/>\n<text text-anchor=\"middle\" x=\"1551.5\" y=\"-144.8\" font-family=\"Times,serif\" font-size=\"14.00\" fill=\"#000000\">no</text>\n</g>\n<!-- 13 -->\n<g id=\"node26\" class=\"node\">\n<title>13</title>\n<path fill=\"#78cb0e\" stroke=\"#000000\" d=\"M1961,-123C1961,-123 1862,-123 1862,-123 1856,-123 1850,-117 1850,-111 1850,-111 1850,-99 1850,-99 1850,-93 1856,-87 1862,-87 1862,-87 1961,-87 1961,-87 1967,-87 1973,-93 1973,-99 1973,-99 1973,-111 1973,-111 1973,-117 1967,-123 1961,-123\"/>\n<text text-anchor=\"middle\" x=\"1911.5\" y=\"-101.3\" font-family=\"Times,serif\" font-size=\"14.00\" fill=\"#000000\">Gender_Female&lt;1</text>\n</g>\n<!-- 6&#45;&gt;13 -->\n<g id=\"edge25\" class=\"edge\">\n<title>6&#45;&gt;13</title>\n<path fill=\"none\" stroke=\"#0000ff\" d=\"M1911.5,-173.9735C1911.5,-162.1918 1911.5,-146.5607 1911.5,-133.1581\"/>\n<polygon fill=\"#0000ff\" stroke=\"#0000ff\" points=\"1915.0001,-133.0033 1911.5,-123.0034 1908.0001,-133.0034 1915.0001,-133.0033\"/>\n<text text-anchor=\"middle\" x=\"1947\" y=\"-144.8\" font-family=\"Times,serif\" font-size=\"14.00\" fill=\"#000000\">yes, missing</text>\n</g>\n<!-- 14 -->\n<g id=\"node27\" class=\"node\">\n<title>14</title>\n<path fill=\"#78cb0e\" stroke=\"#000000\" d=\"M2232.5,-123C2232.5,-123 2096.5,-123 2096.5,-123 2090.5,-123 2084.5,-117 2084.5,-111 2084.5,-111 2084.5,-99 2084.5,-99 2084.5,-93 2090.5,-87 2096.5,-87 2096.5,-87 2232.5,-87 2232.5,-87 2238.5,-87 2244.5,-93 2244.5,-99 2244.5,-99 2244.5,-111 2244.5,-111 2244.5,-117 2238.5,-123 2232.5,-123\"/>\n<text text-anchor=\"middle\" x=\"2164.5\" y=\"-101.3\" font-family=\"Times,serif\" font-size=\"14.00\" fill=\"#000000\">Longitude&lt;&#45;116.598206</text>\n</g>\n<!-- 6&#45;&gt;14 -->\n<g id=\"edge26\" class=\"edge\">\n<title>6&#45;&gt;14</title>\n<path fill=\"none\" stroke=\"#ff0000\" d=\"M1963.9218,-173.9735C2004.205,-160.1212 2059.9626,-140.9477 2102.4675,-126.3313\"/>\n<polygon fill=\"#ff0000\" stroke=\"#ff0000\" points=\"2103.827,-129.5651 2112.1454,-123.0034 2101.5507,-122.9455 2103.827,-129.5651\"/>\n<text text-anchor=\"middle\" x=\"2061.5\" y=\"-144.8\" font-family=\"Times,serif\" font-size=\"14.00\" fill=\"#000000\">no</text>\n</g>\n<!-- 23 -->\n<g id=\"node22\" class=\"node\">\n<title>23</title>\n<polygon fill=\"#e48038\" stroke=\"#000000\" points=\"1336,-36 1205,-36 1205,0 1336,0 1336,-36\"/>\n<text text-anchor=\"middle\" x=\"1270.5\" y=\"-14.3\" font-family=\"Times,serif\" font-size=\"14.00\" fill=\"#000000\">leaf=0.0651872382</text>\n</g>\n<!-- 11&#45;&gt;23 -->\n<g id=\"edge21\" class=\"edge\">\n<title>11&#45;&gt;23</title>\n<path fill=\"none\" stroke=\"#0000ff\" d=\"M1372.9329,-86.8567C1362.2385,-81.4481 1350.7539,-75.2791 1340.5,-69 1327.3955,-60.9754 1313.5984,-51.2302 1301.75,-42.417\"/>\n<polygon fill=\"#0000ff\" stroke=\"#0000ff\" points=\"1303.597,-39.4264 1293.5047,-36.2023 1299.3837,-45.0163 1303.597,-39.4264\"/>\n<text text-anchor=\"middle\" x=\"1376\" y=\"-57.8\" font-family=\"Times,serif\" font-size=\"14.00\" fill=\"#000000\">yes, missing</text>\n</g>\n<!-- 24 -->\n<g id=\"node23\" class=\"node\">\n<title>24</title>\n<polygon fill=\"#e48038\" stroke=\"#000000\" points=\"1485,-36 1354,-36 1354,0 1485,0 1485,-36\"/>\n<text text-anchor=\"middle\" x=\"1419.5\" y=\"-14.3\" font-family=\"Times,serif\" font-size=\"14.00\" fill=\"#000000\">leaf=0.0022573364</text>\n</g>\n<!-- 11&#45;&gt;24 -->\n<g id=\"edge22\" class=\"edge\">\n<title>11&#45;&gt;24</title>\n<path fill=\"none\" stroke=\"#ff0000\" d=\"M1413.1576,-86.9735C1414.241,-75.1918 1415.6783,-59.5607 1416.9108,-46.1581\"/>\n<polygon fill=\"#ff0000\" stroke=\"#ff0000\" points=\"1420.414,-46.2819 1417.8445,-36.0034 1413.4435,-45.6408 1420.414,-46.2819\"/>\n<text text-anchor=\"middle\" x=\"1424.5\" y=\"-57.8\" font-family=\"Times,serif\" font-size=\"14.00\" fill=\"#000000\">no</text>\n</g>\n<!-- 25 -->\n<g id=\"node24\" class=\"node\">\n<title>25</title>\n<polygon fill=\"#e48038\" stroke=\"#000000\" points=\"1626,-36 1503,-36 1503,0 1626,0 1626,-36\"/>\n<text text-anchor=\"middle\" x=\"1564.5\" y=\"-14.3\" font-family=\"Times,serif\" font-size=\"14.00\" fill=\"#000000\">leaf=0.118599556</text>\n</g>\n<!-- 12&#45;&gt;25 -->\n<g id=\"edge23\" class=\"edge\">\n<title>12&#45;&gt;25</title>\n<path fill=\"none\" stroke=\"#0000ff\" d=\"M1570.0496,-86.9735C1569.1016,-75.1918 1567.844,-59.5607 1566.7656,-46.1581\"/>\n<polygon fill=\"#0000ff\" stroke=\"#0000ff\" points=\"1570.2394,-45.6904 1565.9485,-36.0034 1563.2619,-46.2519 1570.2394,-45.6904\"/>\n<text text-anchor=\"middle\" x=\"1604\" y=\"-57.8\" font-family=\"Times,serif\" font-size=\"14.00\" fill=\"#000000\">yes, missing</text>\n</g>\n<!-- 26 -->\n<g id=\"node25\" class=\"node\">\n<title>26</title>\n<polygon fill=\"#e48038\" stroke=\"#000000\" points=\"1775,-36 1644,-36 1644,0 1775,0 1775,-36\"/>\n<text text-anchor=\"middle\" x=\"1709.5\" y=\"-14.3\" font-family=\"Times,serif\" font-size=\"14.00\" fill=\"#000000\">leaf=0.0537634455</text>\n</g>\n<!-- 12&#45;&gt;26 -->\n<g id=\"edge24\" class=\"edge\">\n<title>12&#45;&gt;26</title>\n<path fill=\"none\" stroke=\"#ff0000\" d=\"M1611.1178,-86.9149C1621.8567,-81.5522 1633.3219,-75.3921 1643.5,-69 1656.0082,-61.1446 1669.0265,-51.4526 1680.1629,-42.6346\"/>\n<polygon fill=\"#ff0000\" stroke=\"#ff0000\" points=\"1682.6773,-45.1037 1688.2724,-36.1067 1678.2879,-39.6508 1682.6773,-45.1037\"/>\n<text text-anchor=\"middle\" x=\"1672.5\" y=\"-57.8\" font-family=\"Times,serif\" font-size=\"14.00\" fill=\"#000000\">no</text>\n</g>\n<!-- 27 -->\n<g id=\"node28\" class=\"node\">\n<title>27</title>\n<polygon fill=\"#e48038\" stroke=\"#000000\" points=\"1924,-36 1793,-36 1793,0 1924,0 1924,-36\"/>\n<text text-anchor=\"middle\" x=\"1858.5\" y=\"-14.3\" font-family=\"Times,serif\" font-size=\"14.00\" fill=\"#000000\">leaf=0.0327272713</text>\n</g>\n<!-- 13&#45;&gt;27 -->\n<g id=\"edge27\" class=\"edge\">\n<title>13&#45;&gt;27</title>\n<path fill=\"none\" stroke=\"#0000ff\" d=\"M1900.5184,-86.9735C1893.0567,-74.7252 1883.0606,-58.3165 1874.6903,-44.5766\"/>\n<polygon fill=\"#0000ff\" stroke=\"#0000ff\" points=\"1877.6592,-42.7225 1869.4676,-36.0034 1871.6812,-46.3644 1877.6592,-42.7225\"/>\n<text text-anchor=\"middle\" x=\"1924\" y=\"-57.8\" font-family=\"Times,serif\" font-size=\"14.00\" fill=\"#000000\">yes, missing</text>\n</g>\n<!-- 28 -->\n<g id=\"node29\" class=\"node\">\n<title>28</title>\n<polygon fill=\"#e48038\" stroke=\"#000000\" points=\"2078.5,-36 1942.5,-36 1942.5,0 2078.5,0 2078.5,-36\"/>\n<text text-anchor=\"middle\" x=\"2010.5\" y=\"-14.3\" font-family=\"Times,serif\" font-size=\"14.00\" fill=\"#000000\">leaf=&#45;0.0122448979</text>\n</g>\n<!-- 13&#45;&gt;28 -->\n<g id=\"edge28\" class=\"edge\">\n<title>13&#45;&gt;28</title>\n<path fill=\"none\" stroke=\"#ff0000\" d=\"M1940.1414,-86.8438C1947.9778,-81.4351 1956.2923,-75.2692 1963.5,-69 1972.1747,-61.4549 1980.9169,-52.4432 1988.4694,-44.1085\"/>\n<polygon fill=\"#ff0000\" stroke=\"#ff0000\" points=\"1991.2921,-46.2006 1995.3049,-36.3951 1986.0531,-41.5579 1991.2921,-46.2006\"/>\n<text text-anchor=\"middle\" x=\"1987.5\" y=\"-57.8\" font-family=\"Times,serif\" font-size=\"14.00\" fill=\"#000000\">no</text>\n</g>\n<!-- 29 -->\n<g id=\"node30\" class=\"node\">\n<title>29</title>\n<polygon fill=\"#e48038\" stroke=\"#000000\" points=\"2232.5,-36 2096.5,-36 2096.5,0 2232.5,0 2232.5,-36\"/>\n<text text-anchor=\"middle\" x=\"2164.5\" y=\"-14.3\" font-family=\"Times,serif\" font-size=\"14.00\" fill=\"#000000\">leaf=&#45;0.0615053773</text>\n</g>\n<!-- 14&#45;&gt;29 -->\n<g id=\"edge29\" class=\"edge\">\n<title>14&#45;&gt;29</title>\n<path fill=\"none\" stroke=\"#0000ff\" d=\"M2164.5,-86.9735C2164.5,-75.1918 2164.5,-59.5607 2164.5,-46.1581\"/>\n<polygon fill=\"#0000ff\" stroke=\"#0000ff\" points=\"2168.0001,-46.0033 2164.5,-36.0034 2161.0001,-46.0034 2168.0001,-46.0033\"/>\n<text text-anchor=\"middle\" x=\"2200\" y=\"-57.8\" font-family=\"Times,serif\" font-size=\"14.00\" fill=\"#000000\">yes, missing</text>\n</g>\n<!-- 30 -->\n<g id=\"node31\" class=\"node\">\n<title>30</title>\n<polygon fill=\"#e48038\" stroke=\"#000000\" points=\"2382,-36 2251,-36 2251,0 2382,0 2382,-36\"/>\n<text text-anchor=\"middle\" x=\"2316.5\" y=\"-14.3\" font-family=\"Times,serif\" font-size=\"14.00\" fill=\"#000000\">leaf=0.0230769236</text>\n</g>\n<!-- 14&#45;&gt;30 -->\n<g id=\"edge30\" class=\"edge\">\n<title>14&#45;&gt;30</title>\n<path fill=\"none\" stroke=\"#ff0000\" d=\"M2204.7249,-86.9432C2216.13,-81.4886 2228.4465,-75.274 2239.5,-69 2254.0275,-60.7541 2269.4829,-50.7735 2282.7052,-41.8356\"/>\n<polygon fill=\"#ff0000\" stroke=\"#ff0000\" points=\"2284.757,-44.6727 2291.0395,-36.1415 2280.8081,-38.8929 2284.757,-44.6727\"/>\n<text text-anchor=\"middle\" x=\"2270.5\" y=\"-57.8\" font-family=\"Times,serif\" font-size=\"14.00\" fill=\"#000000\">no</text>\n</g>\n</g>\n</svg>\n"
          },
          "metadata": {},
          "execution_count": 87
        }
      ]
    },
    {
      "cell_type": "markdown",
      "source": [
        "How to interpret the XGBoost Tree. In each node we have:\n",
        "- variable (column name) and threshold for splitting the observations. E.g. in tree's root, use Contract_Month-to-month to split observations\n",
        "  - Contract_Month-to-month < 1 go to left, everything else go to right\n",
        "- each branch either says yes or no and some also say missing\n",
        "  - yes and no refer to whether the threshold in the node above it is true or not. If not, then no.\n",
        "  - missing is the default outpion if there is missing data\n",
        "- leaf tells us the output value for each leaf."
      ],
      "metadata": {
        "id": "XQcPTwASpMBo"
      }
    },
    {
      "cell_type": "markdown",
      "source": [
        "# Conclusion\n",
        "- loaded data from file\n",
        "- identified and dealth with missing data\n",
        "- formatted data for XGBoost using One Hot Encoding\n",
        "- built XGBoost Model for Classification\n",
        "- Optimize the XGBoost parameters with CV and GridSearch()\n",
        "- Built, Drew, interpreted and Evaluated the Optimized XGBoost Model"
      ],
      "metadata": {
        "id": "Mbp3_HrKpoZw"
      }
    },
    {
      "cell_type": "code",
      "source": [
        ""
      ],
      "metadata": {
        "id": "qxJJzlRcozRG"
      },
      "execution_count": null,
      "outputs": []
    }
  ]
}